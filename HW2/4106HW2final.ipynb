{
  "nbformat": 4,
  "nbformat_minor": 0,
  "metadata": {
    "colab": {
      "provenance": []
    },
    "kernelspec": {
      "name": "python3",
      "display_name": "Python 3"
    },
    "language_info": {
      "name": "python"
    },
    "gpuClass": "premium",
    "widgets": {
      "application/vnd.jupyter.widget-state+json": {
        "00931075d3c3414d87a43c27635aca79": {
          "model_module": "@jupyter-widgets/controls",
          "model_name": "HBoxModel",
          "model_module_version": "1.5.0",
          "state": {
            "_dom_classes": [],
            "_model_module": "@jupyter-widgets/controls",
            "_model_module_version": "1.5.0",
            "_model_name": "HBoxModel",
            "_view_count": null,
            "_view_module": "@jupyter-widgets/controls",
            "_view_module_version": "1.5.0",
            "_view_name": "HBoxView",
            "box_style": "",
            "children": [
              "IPY_MODEL_0cc5075b2f37466c9c05833d06af9471",
              "IPY_MODEL_9e8bc7a5743a45059b36929537bfde23",
              "IPY_MODEL_a10a8fced60e40658aac3cc35550f4e0"
            ],
            "layout": "IPY_MODEL_2feb66e423dc43298870207ceadaa409"
          }
        },
        "0cc5075b2f37466c9c05833d06af9471": {
          "model_module": "@jupyter-widgets/controls",
          "model_name": "HTMLModel",
          "model_module_version": "1.5.0",
          "state": {
            "_dom_classes": [],
            "_model_module": "@jupyter-widgets/controls",
            "_model_module_version": "1.5.0",
            "_model_name": "HTMLModel",
            "_view_count": null,
            "_view_module": "@jupyter-widgets/controls",
            "_view_module_version": "1.5.0",
            "_view_name": "HTMLView",
            "description": "",
            "description_tooltip": null,
            "layout": "IPY_MODEL_2ee5d9599f5743549918b51720b89ccc",
            "placeholder": "​",
            "style": "IPY_MODEL_7ea208b7e49649228f397d7ff540cc48",
            "value": "100%"
          }
        },
        "9e8bc7a5743a45059b36929537bfde23": {
          "model_module": "@jupyter-widgets/controls",
          "model_name": "FloatProgressModel",
          "model_module_version": "1.5.0",
          "state": {
            "_dom_classes": [],
            "_model_module": "@jupyter-widgets/controls",
            "_model_module_version": "1.5.0",
            "_model_name": "FloatProgressModel",
            "_view_count": null,
            "_view_module": "@jupyter-widgets/controls",
            "_view_module_version": "1.5.0",
            "_view_name": "ProgressView",
            "bar_style": "success",
            "description": "",
            "description_tooltip": null,
            "layout": "IPY_MODEL_8ee424f32b6f405585ced935c418c9e0",
            "max": 26421880,
            "min": 0,
            "orientation": "horizontal",
            "style": "IPY_MODEL_6d0eb9f4dd014fecb85e6c805680c7ed",
            "value": 26421880
          }
        },
        "a10a8fced60e40658aac3cc35550f4e0": {
          "model_module": "@jupyter-widgets/controls",
          "model_name": "HTMLModel",
          "model_module_version": "1.5.0",
          "state": {
            "_dom_classes": [],
            "_model_module": "@jupyter-widgets/controls",
            "_model_module_version": "1.5.0",
            "_model_name": "HTMLModel",
            "_view_count": null,
            "_view_module": "@jupyter-widgets/controls",
            "_view_module_version": "1.5.0",
            "_view_name": "HTMLView",
            "description": "",
            "description_tooltip": null,
            "layout": "IPY_MODEL_7e7045bf691f4b34a826d89070ce4321",
            "placeholder": "​",
            "style": "IPY_MODEL_f86102c49f9b4a2dbef5136ad8936a2b",
            "value": " 26421880/26421880 [00:01&lt;00:00, 26287683.24it/s]"
          }
        },
        "2feb66e423dc43298870207ceadaa409": {
          "model_module": "@jupyter-widgets/base",
          "model_name": "LayoutModel",
          "model_module_version": "1.2.0",
          "state": {
            "_model_module": "@jupyter-widgets/base",
            "_model_module_version": "1.2.0",
            "_model_name": "LayoutModel",
            "_view_count": null,
            "_view_module": "@jupyter-widgets/base",
            "_view_module_version": "1.2.0",
            "_view_name": "LayoutView",
            "align_content": null,
            "align_items": null,
            "align_self": null,
            "border": null,
            "bottom": null,
            "display": null,
            "flex": null,
            "flex_flow": null,
            "grid_area": null,
            "grid_auto_columns": null,
            "grid_auto_flow": null,
            "grid_auto_rows": null,
            "grid_column": null,
            "grid_gap": null,
            "grid_row": null,
            "grid_template_areas": null,
            "grid_template_columns": null,
            "grid_template_rows": null,
            "height": null,
            "justify_content": null,
            "justify_items": null,
            "left": null,
            "margin": null,
            "max_height": null,
            "max_width": null,
            "min_height": null,
            "min_width": null,
            "object_fit": null,
            "object_position": null,
            "order": null,
            "overflow": null,
            "overflow_x": null,
            "overflow_y": null,
            "padding": null,
            "right": null,
            "top": null,
            "visibility": null,
            "width": null
          }
        },
        "2ee5d9599f5743549918b51720b89ccc": {
          "model_module": "@jupyter-widgets/base",
          "model_name": "LayoutModel",
          "model_module_version": "1.2.0",
          "state": {
            "_model_module": "@jupyter-widgets/base",
            "_model_module_version": "1.2.0",
            "_model_name": "LayoutModel",
            "_view_count": null,
            "_view_module": "@jupyter-widgets/base",
            "_view_module_version": "1.2.0",
            "_view_name": "LayoutView",
            "align_content": null,
            "align_items": null,
            "align_self": null,
            "border": null,
            "bottom": null,
            "display": null,
            "flex": null,
            "flex_flow": null,
            "grid_area": null,
            "grid_auto_columns": null,
            "grid_auto_flow": null,
            "grid_auto_rows": null,
            "grid_column": null,
            "grid_gap": null,
            "grid_row": null,
            "grid_template_areas": null,
            "grid_template_columns": null,
            "grid_template_rows": null,
            "height": null,
            "justify_content": null,
            "justify_items": null,
            "left": null,
            "margin": null,
            "max_height": null,
            "max_width": null,
            "min_height": null,
            "min_width": null,
            "object_fit": null,
            "object_position": null,
            "order": null,
            "overflow": null,
            "overflow_x": null,
            "overflow_y": null,
            "padding": null,
            "right": null,
            "top": null,
            "visibility": null,
            "width": null
          }
        },
        "7ea208b7e49649228f397d7ff540cc48": {
          "model_module": "@jupyter-widgets/controls",
          "model_name": "DescriptionStyleModel",
          "model_module_version": "1.5.0",
          "state": {
            "_model_module": "@jupyter-widgets/controls",
            "_model_module_version": "1.5.0",
            "_model_name": "DescriptionStyleModel",
            "_view_count": null,
            "_view_module": "@jupyter-widgets/base",
            "_view_module_version": "1.2.0",
            "_view_name": "StyleView",
            "description_width": ""
          }
        },
        "8ee424f32b6f405585ced935c418c9e0": {
          "model_module": "@jupyter-widgets/base",
          "model_name": "LayoutModel",
          "model_module_version": "1.2.0",
          "state": {
            "_model_module": "@jupyter-widgets/base",
            "_model_module_version": "1.2.0",
            "_model_name": "LayoutModel",
            "_view_count": null,
            "_view_module": "@jupyter-widgets/base",
            "_view_module_version": "1.2.0",
            "_view_name": "LayoutView",
            "align_content": null,
            "align_items": null,
            "align_self": null,
            "border": null,
            "bottom": null,
            "display": null,
            "flex": null,
            "flex_flow": null,
            "grid_area": null,
            "grid_auto_columns": null,
            "grid_auto_flow": null,
            "grid_auto_rows": null,
            "grid_column": null,
            "grid_gap": null,
            "grid_row": null,
            "grid_template_areas": null,
            "grid_template_columns": null,
            "grid_template_rows": null,
            "height": null,
            "justify_content": null,
            "justify_items": null,
            "left": null,
            "margin": null,
            "max_height": null,
            "max_width": null,
            "min_height": null,
            "min_width": null,
            "object_fit": null,
            "object_position": null,
            "order": null,
            "overflow": null,
            "overflow_x": null,
            "overflow_y": null,
            "padding": null,
            "right": null,
            "top": null,
            "visibility": null,
            "width": null
          }
        },
        "6d0eb9f4dd014fecb85e6c805680c7ed": {
          "model_module": "@jupyter-widgets/controls",
          "model_name": "ProgressStyleModel",
          "model_module_version": "1.5.0",
          "state": {
            "_model_module": "@jupyter-widgets/controls",
            "_model_module_version": "1.5.0",
            "_model_name": "ProgressStyleModel",
            "_view_count": null,
            "_view_module": "@jupyter-widgets/base",
            "_view_module_version": "1.2.0",
            "_view_name": "StyleView",
            "bar_color": null,
            "description_width": ""
          }
        },
        "7e7045bf691f4b34a826d89070ce4321": {
          "model_module": "@jupyter-widgets/base",
          "model_name": "LayoutModel",
          "model_module_version": "1.2.0",
          "state": {
            "_model_module": "@jupyter-widgets/base",
            "_model_module_version": "1.2.0",
            "_model_name": "LayoutModel",
            "_view_count": null,
            "_view_module": "@jupyter-widgets/base",
            "_view_module_version": "1.2.0",
            "_view_name": "LayoutView",
            "align_content": null,
            "align_items": null,
            "align_self": null,
            "border": null,
            "bottom": null,
            "display": null,
            "flex": null,
            "flex_flow": null,
            "grid_area": null,
            "grid_auto_columns": null,
            "grid_auto_flow": null,
            "grid_auto_rows": null,
            "grid_column": null,
            "grid_gap": null,
            "grid_row": null,
            "grid_template_areas": null,
            "grid_template_columns": null,
            "grid_template_rows": null,
            "height": null,
            "justify_content": null,
            "justify_items": null,
            "left": null,
            "margin": null,
            "max_height": null,
            "max_width": null,
            "min_height": null,
            "min_width": null,
            "object_fit": null,
            "object_position": null,
            "order": null,
            "overflow": null,
            "overflow_x": null,
            "overflow_y": null,
            "padding": null,
            "right": null,
            "top": null,
            "visibility": null,
            "width": null
          }
        },
        "f86102c49f9b4a2dbef5136ad8936a2b": {
          "model_module": "@jupyter-widgets/controls",
          "model_name": "DescriptionStyleModel",
          "model_module_version": "1.5.0",
          "state": {
            "_model_module": "@jupyter-widgets/controls",
            "_model_module_version": "1.5.0",
            "_model_name": "DescriptionStyleModel",
            "_view_count": null,
            "_view_module": "@jupyter-widgets/base",
            "_view_module_version": "1.2.0",
            "_view_name": "StyleView",
            "description_width": ""
          }
        },
        "048ff720701e4842b7a459872c927784": {
          "model_module": "@jupyter-widgets/controls",
          "model_name": "HBoxModel",
          "model_module_version": "1.5.0",
          "state": {
            "_dom_classes": [],
            "_model_module": "@jupyter-widgets/controls",
            "_model_module_version": "1.5.0",
            "_model_name": "HBoxModel",
            "_view_count": null,
            "_view_module": "@jupyter-widgets/controls",
            "_view_module_version": "1.5.0",
            "_view_name": "HBoxView",
            "box_style": "",
            "children": [
              "IPY_MODEL_68e92bcf9f954469b9d20c5b42ad9d83",
              "IPY_MODEL_fd7d3edaae4e455cb8882f44cc3a15e5",
              "IPY_MODEL_1a707b113450445d8c62535f2ed7c3e2"
            ],
            "layout": "IPY_MODEL_aa63a8cbb17047f4ab56e128e24bedbb"
          }
        },
        "68e92bcf9f954469b9d20c5b42ad9d83": {
          "model_module": "@jupyter-widgets/controls",
          "model_name": "HTMLModel",
          "model_module_version": "1.5.0",
          "state": {
            "_dom_classes": [],
            "_model_module": "@jupyter-widgets/controls",
            "_model_module_version": "1.5.0",
            "_model_name": "HTMLModel",
            "_view_count": null,
            "_view_module": "@jupyter-widgets/controls",
            "_view_module_version": "1.5.0",
            "_view_name": "HTMLView",
            "description": "",
            "description_tooltip": null,
            "layout": "IPY_MODEL_4aa4f4a3482540a69b11f7c32e796dd9",
            "placeholder": "​",
            "style": "IPY_MODEL_71ae07d7e0b74ea298bf3f411900ca63",
            "value": "100%"
          }
        },
        "fd7d3edaae4e455cb8882f44cc3a15e5": {
          "model_module": "@jupyter-widgets/controls",
          "model_name": "FloatProgressModel",
          "model_module_version": "1.5.0",
          "state": {
            "_dom_classes": [],
            "_model_module": "@jupyter-widgets/controls",
            "_model_module_version": "1.5.0",
            "_model_name": "FloatProgressModel",
            "_view_count": null,
            "_view_module": "@jupyter-widgets/controls",
            "_view_module_version": "1.5.0",
            "_view_name": "ProgressView",
            "bar_style": "success",
            "description": "",
            "description_tooltip": null,
            "layout": "IPY_MODEL_415d91c6cb764398b6e161f9870bbea6",
            "max": 29515,
            "min": 0,
            "orientation": "horizontal",
            "style": "IPY_MODEL_aecd79daa76e4134a668ce95929532c4",
            "value": 29515
          }
        },
        "1a707b113450445d8c62535f2ed7c3e2": {
          "model_module": "@jupyter-widgets/controls",
          "model_name": "HTMLModel",
          "model_module_version": "1.5.0",
          "state": {
            "_dom_classes": [],
            "_model_module": "@jupyter-widgets/controls",
            "_model_module_version": "1.5.0",
            "_model_name": "HTMLModel",
            "_view_count": null,
            "_view_module": "@jupyter-widgets/controls",
            "_view_module_version": "1.5.0",
            "_view_name": "HTMLView",
            "description": "",
            "description_tooltip": null,
            "layout": "IPY_MODEL_9ece1a15c3c841e792c15108dc549718",
            "placeholder": "​",
            "style": "IPY_MODEL_d4a5d52e25494de9a5182a7d163b9b35",
            "value": " 29515/29515 [00:00&lt;00:00, 298289.42it/s]"
          }
        },
        "aa63a8cbb17047f4ab56e128e24bedbb": {
          "model_module": "@jupyter-widgets/base",
          "model_name": "LayoutModel",
          "model_module_version": "1.2.0",
          "state": {
            "_model_module": "@jupyter-widgets/base",
            "_model_module_version": "1.2.0",
            "_model_name": "LayoutModel",
            "_view_count": null,
            "_view_module": "@jupyter-widgets/base",
            "_view_module_version": "1.2.0",
            "_view_name": "LayoutView",
            "align_content": null,
            "align_items": null,
            "align_self": null,
            "border": null,
            "bottom": null,
            "display": null,
            "flex": null,
            "flex_flow": null,
            "grid_area": null,
            "grid_auto_columns": null,
            "grid_auto_flow": null,
            "grid_auto_rows": null,
            "grid_column": null,
            "grid_gap": null,
            "grid_row": null,
            "grid_template_areas": null,
            "grid_template_columns": null,
            "grid_template_rows": null,
            "height": null,
            "justify_content": null,
            "justify_items": null,
            "left": null,
            "margin": null,
            "max_height": null,
            "max_width": null,
            "min_height": null,
            "min_width": null,
            "object_fit": null,
            "object_position": null,
            "order": null,
            "overflow": null,
            "overflow_x": null,
            "overflow_y": null,
            "padding": null,
            "right": null,
            "top": null,
            "visibility": null,
            "width": null
          }
        },
        "4aa4f4a3482540a69b11f7c32e796dd9": {
          "model_module": "@jupyter-widgets/base",
          "model_name": "LayoutModel",
          "model_module_version": "1.2.0",
          "state": {
            "_model_module": "@jupyter-widgets/base",
            "_model_module_version": "1.2.0",
            "_model_name": "LayoutModel",
            "_view_count": null,
            "_view_module": "@jupyter-widgets/base",
            "_view_module_version": "1.2.0",
            "_view_name": "LayoutView",
            "align_content": null,
            "align_items": null,
            "align_self": null,
            "border": null,
            "bottom": null,
            "display": null,
            "flex": null,
            "flex_flow": null,
            "grid_area": null,
            "grid_auto_columns": null,
            "grid_auto_flow": null,
            "grid_auto_rows": null,
            "grid_column": null,
            "grid_gap": null,
            "grid_row": null,
            "grid_template_areas": null,
            "grid_template_columns": null,
            "grid_template_rows": null,
            "height": null,
            "justify_content": null,
            "justify_items": null,
            "left": null,
            "margin": null,
            "max_height": null,
            "max_width": null,
            "min_height": null,
            "min_width": null,
            "object_fit": null,
            "object_position": null,
            "order": null,
            "overflow": null,
            "overflow_x": null,
            "overflow_y": null,
            "padding": null,
            "right": null,
            "top": null,
            "visibility": null,
            "width": null
          }
        },
        "71ae07d7e0b74ea298bf3f411900ca63": {
          "model_module": "@jupyter-widgets/controls",
          "model_name": "DescriptionStyleModel",
          "model_module_version": "1.5.0",
          "state": {
            "_model_module": "@jupyter-widgets/controls",
            "_model_module_version": "1.5.0",
            "_model_name": "DescriptionStyleModel",
            "_view_count": null,
            "_view_module": "@jupyter-widgets/base",
            "_view_module_version": "1.2.0",
            "_view_name": "StyleView",
            "description_width": ""
          }
        },
        "415d91c6cb764398b6e161f9870bbea6": {
          "model_module": "@jupyter-widgets/base",
          "model_name": "LayoutModel",
          "model_module_version": "1.2.0",
          "state": {
            "_model_module": "@jupyter-widgets/base",
            "_model_module_version": "1.2.0",
            "_model_name": "LayoutModel",
            "_view_count": null,
            "_view_module": "@jupyter-widgets/base",
            "_view_module_version": "1.2.0",
            "_view_name": "LayoutView",
            "align_content": null,
            "align_items": null,
            "align_self": null,
            "border": null,
            "bottom": null,
            "display": null,
            "flex": null,
            "flex_flow": null,
            "grid_area": null,
            "grid_auto_columns": null,
            "grid_auto_flow": null,
            "grid_auto_rows": null,
            "grid_column": null,
            "grid_gap": null,
            "grid_row": null,
            "grid_template_areas": null,
            "grid_template_columns": null,
            "grid_template_rows": null,
            "height": null,
            "justify_content": null,
            "justify_items": null,
            "left": null,
            "margin": null,
            "max_height": null,
            "max_width": null,
            "min_height": null,
            "min_width": null,
            "object_fit": null,
            "object_position": null,
            "order": null,
            "overflow": null,
            "overflow_x": null,
            "overflow_y": null,
            "padding": null,
            "right": null,
            "top": null,
            "visibility": null,
            "width": null
          }
        },
        "aecd79daa76e4134a668ce95929532c4": {
          "model_module": "@jupyter-widgets/controls",
          "model_name": "ProgressStyleModel",
          "model_module_version": "1.5.0",
          "state": {
            "_model_module": "@jupyter-widgets/controls",
            "_model_module_version": "1.5.0",
            "_model_name": "ProgressStyleModel",
            "_view_count": null,
            "_view_module": "@jupyter-widgets/base",
            "_view_module_version": "1.2.0",
            "_view_name": "StyleView",
            "bar_color": null,
            "description_width": ""
          }
        },
        "9ece1a15c3c841e792c15108dc549718": {
          "model_module": "@jupyter-widgets/base",
          "model_name": "LayoutModel",
          "model_module_version": "1.2.0",
          "state": {
            "_model_module": "@jupyter-widgets/base",
            "_model_module_version": "1.2.0",
            "_model_name": "LayoutModel",
            "_view_count": null,
            "_view_module": "@jupyter-widgets/base",
            "_view_module_version": "1.2.0",
            "_view_name": "LayoutView",
            "align_content": null,
            "align_items": null,
            "align_self": null,
            "border": null,
            "bottom": null,
            "display": null,
            "flex": null,
            "flex_flow": null,
            "grid_area": null,
            "grid_auto_columns": null,
            "grid_auto_flow": null,
            "grid_auto_rows": null,
            "grid_column": null,
            "grid_gap": null,
            "grid_row": null,
            "grid_template_areas": null,
            "grid_template_columns": null,
            "grid_template_rows": null,
            "height": null,
            "justify_content": null,
            "justify_items": null,
            "left": null,
            "margin": null,
            "max_height": null,
            "max_width": null,
            "min_height": null,
            "min_width": null,
            "object_fit": null,
            "object_position": null,
            "order": null,
            "overflow": null,
            "overflow_x": null,
            "overflow_y": null,
            "padding": null,
            "right": null,
            "top": null,
            "visibility": null,
            "width": null
          }
        },
        "d4a5d52e25494de9a5182a7d163b9b35": {
          "model_module": "@jupyter-widgets/controls",
          "model_name": "DescriptionStyleModel",
          "model_module_version": "1.5.0",
          "state": {
            "_model_module": "@jupyter-widgets/controls",
            "_model_module_version": "1.5.0",
            "_model_name": "DescriptionStyleModel",
            "_view_count": null,
            "_view_module": "@jupyter-widgets/base",
            "_view_module_version": "1.2.0",
            "_view_name": "StyleView",
            "description_width": ""
          }
        },
        "ffaabfd885734b1aa8e3defb87140923": {
          "model_module": "@jupyter-widgets/controls",
          "model_name": "HBoxModel",
          "model_module_version": "1.5.0",
          "state": {
            "_dom_classes": [],
            "_model_module": "@jupyter-widgets/controls",
            "_model_module_version": "1.5.0",
            "_model_name": "HBoxModel",
            "_view_count": null,
            "_view_module": "@jupyter-widgets/controls",
            "_view_module_version": "1.5.0",
            "_view_name": "HBoxView",
            "box_style": "",
            "children": [
              "IPY_MODEL_c83610e5454e4c5dac493b9ab128a6bb",
              "IPY_MODEL_77e94c3852764e1d81b5f1b5755facb4",
              "IPY_MODEL_00619abd815a4990860b7cbdab5e44b5"
            ],
            "layout": "IPY_MODEL_6bd69c3b99e747d1b1b2eaec396b841a"
          }
        },
        "c83610e5454e4c5dac493b9ab128a6bb": {
          "model_module": "@jupyter-widgets/controls",
          "model_name": "HTMLModel",
          "model_module_version": "1.5.0",
          "state": {
            "_dom_classes": [],
            "_model_module": "@jupyter-widgets/controls",
            "_model_module_version": "1.5.0",
            "_model_name": "HTMLModel",
            "_view_count": null,
            "_view_module": "@jupyter-widgets/controls",
            "_view_module_version": "1.5.0",
            "_view_name": "HTMLView",
            "description": "",
            "description_tooltip": null,
            "layout": "IPY_MODEL_bfe2a629149a4716a7f7142f617d2511",
            "placeholder": "​",
            "style": "IPY_MODEL_4f30bb7d7219499681fab0a00f0cfc67",
            "value": "100%"
          }
        },
        "77e94c3852764e1d81b5f1b5755facb4": {
          "model_module": "@jupyter-widgets/controls",
          "model_name": "FloatProgressModel",
          "model_module_version": "1.5.0",
          "state": {
            "_dom_classes": [],
            "_model_module": "@jupyter-widgets/controls",
            "_model_module_version": "1.5.0",
            "_model_name": "FloatProgressModel",
            "_view_count": null,
            "_view_module": "@jupyter-widgets/controls",
            "_view_module_version": "1.5.0",
            "_view_name": "ProgressView",
            "bar_style": "success",
            "description": "",
            "description_tooltip": null,
            "layout": "IPY_MODEL_c08fcd9b02474be8acf1e59e413f9edd",
            "max": 4422102,
            "min": 0,
            "orientation": "horizontal",
            "style": "IPY_MODEL_32664e827d514b63a556b746c6d6f539",
            "value": 4422102
          }
        },
        "00619abd815a4990860b7cbdab5e44b5": {
          "model_module": "@jupyter-widgets/controls",
          "model_name": "HTMLModel",
          "model_module_version": "1.5.0",
          "state": {
            "_dom_classes": [],
            "_model_module": "@jupyter-widgets/controls",
            "_model_module_version": "1.5.0",
            "_model_name": "HTMLModel",
            "_view_count": null,
            "_view_module": "@jupyter-widgets/controls",
            "_view_module_version": "1.5.0",
            "_view_name": "HTMLView",
            "description": "",
            "description_tooltip": null,
            "layout": "IPY_MODEL_9dda5710f3e84c1195fbb16422826b45",
            "placeholder": "​",
            "style": "IPY_MODEL_dec3104e5e4342fcb91cbe57afc319c3",
            "value": " 4422102/4422102 [00:00&lt;00:00, 7200833.18it/s]"
          }
        },
        "6bd69c3b99e747d1b1b2eaec396b841a": {
          "model_module": "@jupyter-widgets/base",
          "model_name": "LayoutModel",
          "model_module_version": "1.2.0",
          "state": {
            "_model_module": "@jupyter-widgets/base",
            "_model_module_version": "1.2.0",
            "_model_name": "LayoutModel",
            "_view_count": null,
            "_view_module": "@jupyter-widgets/base",
            "_view_module_version": "1.2.0",
            "_view_name": "LayoutView",
            "align_content": null,
            "align_items": null,
            "align_self": null,
            "border": null,
            "bottom": null,
            "display": null,
            "flex": null,
            "flex_flow": null,
            "grid_area": null,
            "grid_auto_columns": null,
            "grid_auto_flow": null,
            "grid_auto_rows": null,
            "grid_column": null,
            "grid_gap": null,
            "grid_row": null,
            "grid_template_areas": null,
            "grid_template_columns": null,
            "grid_template_rows": null,
            "height": null,
            "justify_content": null,
            "justify_items": null,
            "left": null,
            "margin": null,
            "max_height": null,
            "max_width": null,
            "min_height": null,
            "min_width": null,
            "object_fit": null,
            "object_position": null,
            "order": null,
            "overflow": null,
            "overflow_x": null,
            "overflow_y": null,
            "padding": null,
            "right": null,
            "top": null,
            "visibility": null,
            "width": null
          }
        },
        "bfe2a629149a4716a7f7142f617d2511": {
          "model_module": "@jupyter-widgets/base",
          "model_name": "LayoutModel",
          "model_module_version": "1.2.0",
          "state": {
            "_model_module": "@jupyter-widgets/base",
            "_model_module_version": "1.2.0",
            "_model_name": "LayoutModel",
            "_view_count": null,
            "_view_module": "@jupyter-widgets/base",
            "_view_module_version": "1.2.0",
            "_view_name": "LayoutView",
            "align_content": null,
            "align_items": null,
            "align_self": null,
            "border": null,
            "bottom": null,
            "display": null,
            "flex": null,
            "flex_flow": null,
            "grid_area": null,
            "grid_auto_columns": null,
            "grid_auto_flow": null,
            "grid_auto_rows": null,
            "grid_column": null,
            "grid_gap": null,
            "grid_row": null,
            "grid_template_areas": null,
            "grid_template_columns": null,
            "grid_template_rows": null,
            "height": null,
            "justify_content": null,
            "justify_items": null,
            "left": null,
            "margin": null,
            "max_height": null,
            "max_width": null,
            "min_height": null,
            "min_width": null,
            "object_fit": null,
            "object_position": null,
            "order": null,
            "overflow": null,
            "overflow_x": null,
            "overflow_y": null,
            "padding": null,
            "right": null,
            "top": null,
            "visibility": null,
            "width": null
          }
        },
        "4f30bb7d7219499681fab0a00f0cfc67": {
          "model_module": "@jupyter-widgets/controls",
          "model_name": "DescriptionStyleModel",
          "model_module_version": "1.5.0",
          "state": {
            "_model_module": "@jupyter-widgets/controls",
            "_model_module_version": "1.5.0",
            "_model_name": "DescriptionStyleModel",
            "_view_count": null,
            "_view_module": "@jupyter-widgets/base",
            "_view_module_version": "1.2.0",
            "_view_name": "StyleView",
            "description_width": ""
          }
        },
        "c08fcd9b02474be8acf1e59e413f9edd": {
          "model_module": "@jupyter-widgets/base",
          "model_name": "LayoutModel",
          "model_module_version": "1.2.0",
          "state": {
            "_model_module": "@jupyter-widgets/base",
            "_model_module_version": "1.2.0",
            "_model_name": "LayoutModel",
            "_view_count": null,
            "_view_module": "@jupyter-widgets/base",
            "_view_module_version": "1.2.0",
            "_view_name": "LayoutView",
            "align_content": null,
            "align_items": null,
            "align_self": null,
            "border": null,
            "bottom": null,
            "display": null,
            "flex": null,
            "flex_flow": null,
            "grid_area": null,
            "grid_auto_columns": null,
            "grid_auto_flow": null,
            "grid_auto_rows": null,
            "grid_column": null,
            "grid_gap": null,
            "grid_row": null,
            "grid_template_areas": null,
            "grid_template_columns": null,
            "grid_template_rows": null,
            "height": null,
            "justify_content": null,
            "justify_items": null,
            "left": null,
            "margin": null,
            "max_height": null,
            "max_width": null,
            "min_height": null,
            "min_width": null,
            "object_fit": null,
            "object_position": null,
            "order": null,
            "overflow": null,
            "overflow_x": null,
            "overflow_y": null,
            "padding": null,
            "right": null,
            "top": null,
            "visibility": null,
            "width": null
          }
        },
        "32664e827d514b63a556b746c6d6f539": {
          "model_module": "@jupyter-widgets/controls",
          "model_name": "ProgressStyleModel",
          "model_module_version": "1.5.0",
          "state": {
            "_model_module": "@jupyter-widgets/controls",
            "_model_module_version": "1.5.0",
            "_model_name": "ProgressStyleModel",
            "_view_count": null,
            "_view_module": "@jupyter-widgets/base",
            "_view_module_version": "1.2.0",
            "_view_name": "StyleView",
            "bar_color": null,
            "description_width": ""
          }
        },
        "9dda5710f3e84c1195fbb16422826b45": {
          "model_module": "@jupyter-widgets/base",
          "model_name": "LayoutModel",
          "model_module_version": "1.2.0",
          "state": {
            "_model_module": "@jupyter-widgets/base",
            "_model_module_version": "1.2.0",
            "_model_name": "LayoutModel",
            "_view_count": null,
            "_view_module": "@jupyter-widgets/base",
            "_view_module_version": "1.2.0",
            "_view_name": "LayoutView",
            "align_content": null,
            "align_items": null,
            "align_self": null,
            "border": null,
            "bottom": null,
            "display": null,
            "flex": null,
            "flex_flow": null,
            "grid_area": null,
            "grid_auto_columns": null,
            "grid_auto_flow": null,
            "grid_auto_rows": null,
            "grid_column": null,
            "grid_gap": null,
            "grid_row": null,
            "grid_template_areas": null,
            "grid_template_columns": null,
            "grid_template_rows": null,
            "height": null,
            "justify_content": null,
            "justify_items": null,
            "left": null,
            "margin": null,
            "max_height": null,
            "max_width": null,
            "min_height": null,
            "min_width": null,
            "object_fit": null,
            "object_position": null,
            "order": null,
            "overflow": null,
            "overflow_x": null,
            "overflow_y": null,
            "padding": null,
            "right": null,
            "top": null,
            "visibility": null,
            "width": null
          }
        },
        "dec3104e5e4342fcb91cbe57afc319c3": {
          "model_module": "@jupyter-widgets/controls",
          "model_name": "DescriptionStyleModel",
          "model_module_version": "1.5.0",
          "state": {
            "_model_module": "@jupyter-widgets/controls",
            "_model_module_version": "1.5.0",
            "_model_name": "DescriptionStyleModel",
            "_view_count": null,
            "_view_module": "@jupyter-widgets/base",
            "_view_module_version": "1.2.0",
            "_view_name": "StyleView",
            "description_width": ""
          }
        },
        "06ee53b65c904ed8aede73d2cae74c4d": {
          "model_module": "@jupyter-widgets/controls",
          "model_name": "HBoxModel",
          "model_module_version": "1.5.0",
          "state": {
            "_dom_classes": [],
            "_model_module": "@jupyter-widgets/controls",
            "_model_module_version": "1.5.0",
            "_model_name": "HBoxModel",
            "_view_count": null,
            "_view_module": "@jupyter-widgets/controls",
            "_view_module_version": "1.5.0",
            "_view_name": "HBoxView",
            "box_style": "",
            "children": [
              "IPY_MODEL_62ea3b56d5cf4455ab1109d955ad6577",
              "IPY_MODEL_a0202884994640eb96d49c73f8d16e95",
              "IPY_MODEL_ac86aadd6ded45c8b63860acd7644e95"
            ],
            "layout": "IPY_MODEL_84fafe33f9524e18ab2f54933224faff"
          }
        },
        "62ea3b56d5cf4455ab1109d955ad6577": {
          "model_module": "@jupyter-widgets/controls",
          "model_name": "HTMLModel",
          "model_module_version": "1.5.0",
          "state": {
            "_dom_classes": [],
            "_model_module": "@jupyter-widgets/controls",
            "_model_module_version": "1.5.0",
            "_model_name": "HTMLModel",
            "_view_count": null,
            "_view_module": "@jupyter-widgets/controls",
            "_view_module_version": "1.5.0",
            "_view_name": "HTMLView",
            "description": "",
            "description_tooltip": null,
            "layout": "IPY_MODEL_a2b3e91c3b564cef8b4ee0816694109d",
            "placeholder": "​",
            "style": "IPY_MODEL_54903be850994217953db03179dc5665",
            "value": "100%"
          }
        },
        "a0202884994640eb96d49c73f8d16e95": {
          "model_module": "@jupyter-widgets/controls",
          "model_name": "FloatProgressModel",
          "model_module_version": "1.5.0",
          "state": {
            "_dom_classes": [],
            "_model_module": "@jupyter-widgets/controls",
            "_model_module_version": "1.5.0",
            "_model_name": "FloatProgressModel",
            "_view_count": null,
            "_view_module": "@jupyter-widgets/controls",
            "_view_module_version": "1.5.0",
            "_view_name": "ProgressView",
            "bar_style": "success",
            "description": "",
            "description_tooltip": null,
            "layout": "IPY_MODEL_f2a7e96e20e74c938269ff31d85856f3",
            "max": 5148,
            "min": 0,
            "orientation": "horizontal",
            "style": "IPY_MODEL_35d79544d11848d18ee1bd5cfc2ff340",
            "value": 5148
          }
        },
        "ac86aadd6ded45c8b63860acd7644e95": {
          "model_module": "@jupyter-widgets/controls",
          "model_name": "HTMLModel",
          "model_module_version": "1.5.0",
          "state": {
            "_dom_classes": [],
            "_model_module": "@jupyter-widgets/controls",
            "_model_module_version": "1.5.0",
            "_model_name": "HTMLModel",
            "_view_count": null,
            "_view_module": "@jupyter-widgets/controls",
            "_view_module_version": "1.5.0",
            "_view_name": "HTMLView",
            "description": "",
            "description_tooltip": null,
            "layout": "IPY_MODEL_b9c35cb5d3f44a49aac120396243ef81",
            "placeholder": "​",
            "style": "IPY_MODEL_355c2d1751714f95b1d6352ce68f234e",
            "value": " 5148/5148 [00:00&lt;00:00, 84372.85it/s]"
          }
        },
        "84fafe33f9524e18ab2f54933224faff": {
          "model_module": "@jupyter-widgets/base",
          "model_name": "LayoutModel",
          "model_module_version": "1.2.0",
          "state": {
            "_model_module": "@jupyter-widgets/base",
            "_model_module_version": "1.2.0",
            "_model_name": "LayoutModel",
            "_view_count": null,
            "_view_module": "@jupyter-widgets/base",
            "_view_module_version": "1.2.0",
            "_view_name": "LayoutView",
            "align_content": null,
            "align_items": null,
            "align_self": null,
            "border": null,
            "bottom": null,
            "display": null,
            "flex": null,
            "flex_flow": null,
            "grid_area": null,
            "grid_auto_columns": null,
            "grid_auto_flow": null,
            "grid_auto_rows": null,
            "grid_column": null,
            "grid_gap": null,
            "grid_row": null,
            "grid_template_areas": null,
            "grid_template_columns": null,
            "grid_template_rows": null,
            "height": null,
            "justify_content": null,
            "justify_items": null,
            "left": null,
            "margin": null,
            "max_height": null,
            "max_width": null,
            "min_height": null,
            "min_width": null,
            "object_fit": null,
            "object_position": null,
            "order": null,
            "overflow": null,
            "overflow_x": null,
            "overflow_y": null,
            "padding": null,
            "right": null,
            "top": null,
            "visibility": null,
            "width": null
          }
        },
        "a2b3e91c3b564cef8b4ee0816694109d": {
          "model_module": "@jupyter-widgets/base",
          "model_name": "LayoutModel",
          "model_module_version": "1.2.0",
          "state": {
            "_model_module": "@jupyter-widgets/base",
            "_model_module_version": "1.2.0",
            "_model_name": "LayoutModel",
            "_view_count": null,
            "_view_module": "@jupyter-widgets/base",
            "_view_module_version": "1.2.0",
            "_view_name": "LayoutView",
            "align_content": null,
            "align_items": null,
            "align_self": null,
            "border": null,
            "bottom": null,
            "display": null,
            "flex": null,
            "flex_flow": null,
            "grid_area": null,
            "grid_auto_columns": null,
            "grid_auto_flow": null,
            "grid_auto_rows": null,
            "grid_column": null,
            "grid_gap": null,
            "grid_row": null,
            "grid_template_areas": null,
            "grid_template_columns": null,
            "grid_template_rows": null,
            "height": null,
            "justify_content": null,
            "justify_items": null,
            "left": null,
            "margin": null,
            "max_height": null,
            "max_width": null,
            "min_height": null,
            "min_width": null,
            "object_fit": null,
            "object_position": null,
            "order": null,
            "overflow": null,
            "overflow_x": null,
            "overflow_y": null,
            "padding": null,
            "right": null,
            "top": null,
            "visibility": null,
            "width": null
          }
        },
        "54903be850994217953db03179dc5665": {
          "model_module": "@jupyter-widgets/controls",
          "model_name": "DescriptionStyleModel",
          "model_module_version": "1.5.0",
          "state": {
            "_model_module": "@jupyter-widgets/controls",
            "_model_module_version": "1.5.0",
            "_model_name": "DescriptionStyleModel",
            "_view_count": null,
            "_view_module": "@jupyter-widgets/base",
            "_view_module_version": "1.2.0",
            "_view_name": "StyleView",
            "description_width": ""
          }
        },
        "f2a7e96e20e74c938269ff31d85856f3": {
          "model_module": "@jupyter-widgets/base",
          "model_name": "LayoutModel",
          "model_module_version": "1.2.0",
          "state": {
            "_model_module": "@jupyter-widgets/base",
            "_model_module_version": "1.2.0",
            "_model_name": "LayoutModel",
            "_view_count": null,
            "_view_module": "@jupyter-widgets/base",
            "_view_module_version": "1.2.0",
            "_view_name": "LayoutView",
            "align_content": null,
            "align_items": null,
            "align_self": null,
            "border": null,
            "bottom": null,
            "display": null,
            "flex": null,
            "flex_flow": null,
            "grid_area": null,
            "grid_auto_columns": null,
            "grid_auto_flow": null,
            "grid_auto_rows": null,
            "grid_column": null,
            "grid_gap": null,
            "grid_row": null,
            "grid_template_areas": null,
            "grid_template_columns": null,
            "grid_template_rows": null,
            "height": null,
            "justify_content": null,
            "justify_items": null,
            "left": null,
            "margin": null,
            "max_height": null,
            "max_width": null,
            "min_height": null,
            "min_width": null,
            "object_fit": null,
            "object_position": null,
            "order": null,
            "overflow": null,
            "overflow_x": null,
            "overflow_y": null,
            "padding": null,
            "right": null,
            "top": null,
            "visibility": null,
            "width": null
          }
        },
        "35d79544d11848d18ee1bd5cfc2ff340": {
          "model_module": "@jupyter-widgets/controls",
          "model_name": "ProgressStyleModel",
          "model_module_version": "1.5.0",
          "state": {
            "_model_module": "@jupyter-widgets/controls",
            "_model_module_version": "1.5.0",
            "_model_name": "ProgressStyleModel",
            "_view_count": null,
            "_view_module": "@jupyter-widgets/base",
            "_view_module_version": "1.2.0",
            "_view_name": "StyleView",
            "bar_color": null,
            "description_width": ""
          }
        },
        "b9c35cb5d3f44a49aac120396243ef81": {
          "model_module": "@jupyter-widgets/base",
          "model_name": "LayoutModel",
          "model_module_version": "1.2.0",
          "state": {
            "_model_module": "@jupyter-widgets/base",
            "_model_module_version": "1.2.0",
            "_model_name": "LayoutModel",
            "_view_count": null,
            "_view_module": "@jupyter-widgets/base",
            "_view_module_version": "1.2.0",
            "_view_name": "LayoutView",
            "align_content": null,
            "align_items": null,
            "align_self": null,
            "border": null,
            "bottom": null,
            "display": null,
            "flex": null,
            "flex_flow": null,
            "grid_area": null,
            "grid_auto_columns": null,
            "grid_auto_flow": null,
            "grid_auto_rows": null,
            "grid_column": null,
            "grid_gap": null,
            "grid_row": null,
            "grid_template_areas": null,
            "grid_template_columns": null,
            "grid_template_rows": null,
            "height": null,
            "justify_content": null,
            "justify_items": null,
            "left": null,
            "margin": null,
            "max_height": null,
            "max_width": null,
            "min_height": null,
            "min_width": null,
            "object_fit": null,
            "object_position": null,
            "order": null,
            "overflow": null,
            "overflow_x": null,
            "overflow_y": null,
            "padding": null,
            "right": null,
            "top": null,
            "visibility": null,
            "width": null
          }
        },
        "355c2d1751714f95b1d6352ce68f234e": {
          "model_module": "@jupyter-widgets/controls",
          "model_name": "DescriptionStyleModel",
          "model_module_version": "1.5.0",
          "state": {
            "_model_module": "@jupyter-widgets/controls",
            "_model_module_version": "1.5.0",
            "_model_name": "DescriptionStyleModel",
            "_view_count": null,
            "_view_module": "@jupyter-widgets/base",
            "_view_module_version": "1.2.0",
            "_view_name": "StyleView",
            "description_width": ""
          }
        }
      }
    }
  },
  "cells": [
    {
      "cell_type": "code",
      "source": [
        "! pip install ptflops"
      ],
      "metadata": {
        "colab": {
          "base_uri": "https://localhost:8080/",
          "height": 0
        },
        "id": "h0OQVB_7e3If",
        "outputId": "a732fe45-7a51-4490-810a-f818de584a5c"
      },
      "execution_count": 1,
      "outputs": [
        {
          "output_type": "stream",
          "name": "stdout",
          "text": [
            "Looking in indexes: https://pypi.org/simple, https://us-python.pkg.dev/colab-wheels/public/simple/\n",
            "Collecting ptflops\n",
            "  Downloading ptflops-0.6.9.tar.gz (12 kB)\n",
            "  Preparing metadata (setup.py) ... \u001b[?25l\u001b[?25hdone\n",
            "Requirement already satisfied: torch in /usr/local/lib/python3.8/dist-packages (from ptflops) (1.13.1+cu116)\n",
            "Requirement already satisfied: typing-extensions in /usr/local/lib/python3.8/dist-packages (from torch->ptflops) (4.5.0)\n",
            "Building wheels for collected packages: ptflops\n",
            "  Building wheel for ptflops (setup.py) ... \u001b[?25l\u001b[?25hdone\n",
            "  Created wheel for ptflops: filename=ptflops-0.6.9-py3-none-any.whl size=11712 sha256=573aa52379379f15b60def1503efad9c768691422b979d93eb9cc6745516a053\n",
            "  Stored in directory: /root/.cache/pip/wheels/b6/86/d5/cf62a3571b005f91cd9accefc5e10f40214538be997198afad\n",
            "Successfully built ptflops\n",
            "Installing collected packages: ptflops\n",
            "Successfully installed ptflops-0.6.9\n"
          ]
        }
      ]
    },
    {
      "cell_type": "code",
      "execution_count": 2,
      "metadata": {
        "id": "uvU8GEUzItk3"
      },
      "outputs": [],
      "source": [
        "import torch\n",
        "import torchvision\n",
        "from torch import nn\n",
        "from torchvision import transforms\n",
        "import torch.optim as optim\n",
        "from torchsummary import summary\n",
        "from ptflops import get_model_complexity_info\n",
        "import matplotlib.pyplot as plt\n",
        "import numpy as np"
      ]
    },
    {
      "cell_type": "code",
      "source": [
        "# Define how we want images transformed\n",
        "resize = (28, 28)\n",
        "trans = transforms.Compose([transforms.Resize(resize),\n",
        "                            transforms.ToTensor()])\n",
        "\n",
        "# Create training and validation sets\n",
        "training_set = torchvision.datasets.FashionMNIST('./data', train=True, \n",
        "                                                 transform=trans, download=True)\n",
        "validation_set = torchvision.datasets.FashionMNIST('./data', train=False, \n",
        "                                                   transform=trans, download=True)\n",
        "\n",
        "# Create dataloaders for each set\n",
        "training_loader = torch.utils.data.DataLoader(training_set, batch_size=32, \n",
        "                                              shuffle=True, num_workers=2)\n",
        "validation_loader = torch.utils.data.DataLoader(validation_set, batch_size=32, \n",
        "                                                shuffle=False, num_workers=2)\n",
        "\n",
        "classes = ('T-shirt/top', 'Trouser', 'Pullover', 'Dress', 'Coat',\n",
        "        'Sandal', 'Shirt', 'Sneaker', 'Bag', 'Ankle Boot')\n",
        "\n",
        "print(\"Training set size:\", len(training_set))\n",
        "print(\"Validation set size:\", len(validation_set))"
      ],
      "metadata": {
        "colab": {
          "base_uri": "https://localhost:8080/",
          "height": 486,
          "referenced_widgets": [
            "00931075d3c3414d87a43c27635aca79",
            "0cc5075b2f37466c9c05833d06af9471",
            "9e8bc7a5743a45059b36929537bfde23",
            "a10a8fced60e40658aac3cc35550f4e0",
            "2feb66e423dc43298870207ceadaa409",
            "2ee5d9599f5743549918b51720b89ccc",
            "7ea208b7e49649228f397d7ff540cc48",
            "8ee424f32b6f405585ced935c418c9e0",
            "6d0eb9f4dd014fecb85e6c805680c7ed",
            "7e7045bf691f4b34a826d89070ce4321",
            "f86102c49f9b4a2dbef5136ad8936a2b",
            "048ff720701e4842b7a459872c927784",
            "68e92bcf9f954469b9d20c5b42ad9d83",
            "fd7d3edaae4e455cb8882f44cc3a15e5",
            "1a707b113450445d8c62535f2ed7c3e2",
            "aa63a8cbb17047f4ab56e128e24bedbb",
            "4aa4f4a3482540a69b11f7c32e796dd9",
            "71ae07d7e0b74ea298bf3f411900ca63",
            "415d91c6cb764398b6e161f9870bbea6",
            "aecd79daa76e4134a668ce95929532c4",
            "9ece1a15c3c841e792c15108dc549718",
            "d4a5d52e25494de9a5182a7d163b9b35",
            "ffaabfd885734b1aa8e3defb87140923",
            "c83610e5454e4c5dac493b9ab128a6bb",
            "77e94c3852764e1d81b5f1b5755facb4",
            "00619abd815a4990860b7cbdab5e44b5",
            "6bd69c3b99e747d1b1b2eaec396b841a",
            "bfe2a629149a4716a7f7142f617d2511",
            "4f30bb7d7219499681fab0a00f0cfc67",
            "c08fcd9b02474be8acf1e59e413f9edd",
            "32664e827d514b63a556b746c6d6f539",
            "9dda5710f3e84c1195fbb16422826b45",
            "dec3104e5e4342fcb91cbe57afc319c3",
            "06ee53b65c904ed8aede73d2cae74c4d",
            "62ea3b56d5cf4455ab1109d955ad6577",
            "a0202884994640eb96d49c73f8d16e95",
            "ac86aadd6ded45c8b63860acd7644e95",
            "84fafe33f9524e18ab2f54933224faff",
            "a2b3e91c3b564cef8b4ee0816694109d",
            "54903be850994217953db03179dc5665",
            "f2a7e96e20e74c938269ff31d85856f3",
            "35d79544d11848d18ee1bd5cfc2ff340",
            "b9c35cb5d3f44a49aac120396243ef81",
            "355c2d1751714f95b1d6352ce68f234e"
          ]
        },
        "id": "-wrqQQl6JS6g",
        "outputId": "7a2375e6-87df-441c-8f8d-37c6e62e02e2"
      },
      "execution_count": 3,
      "outputs": [
        {
          "output_type": "stream",
          "name": "stdout",
          "text": [
            "Downloading http://fashion-mnist.s3-website.eu-central-1.amazonaws.com/train-images-idx3-ubyte.gz\n",
            "Downloading http://fashion-mnist.s3-website.eu-central-1.amazonaws.com/train-images-idx3-ubyte.gz to ./data/FashionMNIST/raw/train-images-idx3-ubyte.gz\n"
          ]
        },
        {
          "output_type": "display_data",
          "data": {
            "text/plain": [
              "  0%|          | 0/26421880 [00:00<?, ?it/s]"
            ],
            "application/vnd.jupyter.widget-view+json": {
              "version_major": 2,
              "version_minor": 0,
              "model_id": "00931075d3c3414d87a43c27635aca79"
            }
          },
          "metadata": {}
        },
        {
          "output_type": "stream",
          "name": "stdout",
          "text": [
            "Extracting ./data/FashionMNIST/raw/train-images-idx3-ubyte.gz to ./data/FashionMNIST/raw\n",
            "\n",
            "Downloading http://fashion-mnist.s3-website.eu-central-1.amazonaws.com/train-labels-idx1-ubyte.gz\n",
            "Downloading http://fashion-mnist.s3-website.eu-central-1.amazonaws.com/train-labels-idx1-ubyte.gz to ./data/FashionMNIST/raw/train-labels-idx1-ubyte.gz\n"
          ]
        },
        {
          "output_type": "display_data",
          "data": {
            "text/plain": [
              "  0%|          | 0/29515 [00:00<?, ?it/s]"
            ],
            "application/vnd.jupyter.widget-view+json": {
              "version_major": 2,
              "version_minor": 0,
              "model_id": "048ff720701e4842b7a459872c927784"
            }
          },
          "metadata": {}
        },
        {
          "output_type": "stream",
          "name": "stdout",
          "text": [
            "Extracting ./data/FashionMNIST/raw/train-labels-idx1-ubyte.gz to ./data/FashionMNIST/raw\n",
            "\n",
            "Downloading http://fashion-mnist.s3-website.eu-central-1.amazonaws.com/t10k-images-idx3-ubyte.gz\n",
            "Downloading http://fashion-mnist.s3-website.eu-central-1.amazonaws.com/t10k-images-idx3-ubyte.gz to ./data/FashionMNIST/raw/t10k-images-idx3-ubyte.gz\n"
          ]
        },
        {
          "output_type": "display_data",
          "data": {
            "text/plain": [
              "  0%|          | 0/4422102 [00:00<?, ?it/s]"
            ],
            "application/vnd.jupyter.widget-view+json": {
              "version_major": 2,
              "version_minor": 0,
              "model_id": "ffaabfd885734b1aa8e3defb87140923"
            }
          },
          "metadata": {}
        },
        {
          "output_type": "stream",
          "name": "stdout",
          "text": [
            "Extracting ./data/FashionMNIST/raw/t10k-images-idx3-ubyte.gz to ./data/FashionMNIST/raw\n",
            "\n",
            "Downloading http://fashion-mnist.s3-website.eu-central-1.amazonaws.com/t10k-labels-idx1-ubyte.gz\n",
            "Downloading http://fashion-mnist.s3-website.eu-central-1.amazonaws.com/t10k-labels-idx1-ubyte.gz to ./data/FashionMNIST/raw/t10k-labels-idx1-ubyte.gz\n"
          ]
        },
        {
          "output_type": "display_data",
          "data": {
            "text/plain": [
              "  0%|          | 0/5148 [00:00<?, ?it/s]"
            ],
            "application/vnd.jupyter.widget-view+json": {
              "version_major": 2,
              "version_minor": 0,
              "model_id": "06ee53b65c904ed8aede73d2cae74c4d"
            }
          },
          "metadata": {}
        },
        {
          "output_type": "stream",
          "name": "stdout",
          "text": [
            "Extracting ./data/FashionMNIST/raw/t10k-labels-idx1-ubyte.gz to ./data/FashionMNIST/raw\n",
            "\n",
            "Training set size: 60000\n",
            "Validation set size: 10000\n"
          ]
        }
      ]
    },
    {
      "cell_type": "markdown",
      "source": [
        "# 1) MaxNet w/ ReLU"
      ],
      "metadata": {
        "id": "xCnK5N2uKddp"
      }
    },
    {
      "cell_type": "code",
      "source": [
        "MaxLeNet = nn.Sequential(\n",
        "\n",
        "    nn.Conv2d(1, 6, kernel_size=5, padding=2), nn.ReLU(),     #LazyConv2d(6, kernel_size=5, padding=2), nn.Sigmoid(),\n",
        "    nn.MaxPool2d(2),                                          #nn.AvgPool2d(kernel_size=2, stride=2),\n",
        "    nn.Conv2d(6, 16, kernel_size=5), nn.ReLU(),               #LazyConv2d(16, kernel_size=5), nn.Sigmoid(),\n",
        "    nn.MaxPool2d(2),                                          #nn.AvgPool2d(kernel_size=2, stride=2),\n",
        "    nn.Flatten(),\n",
        "    nn.Linear(400, 120), nn.ReLU(),                           #LazyLinear(120), nn.Sigmoid(),\n",
        "    nn.Linear(120, 84), nn.ReLU(),                            #LazyLinear(84), nn.Sigmoid(),\n",
        "    nn.Linear(84, 10)                                         #LazyLinear(num_classes))\n",
        ")"
      ],
      "metadata": {
        "id": "U0I0nsIDJv46"
      },
      "execution_count": 4,
      "outputs": []
    },
    {
      "cell_type": "code",
      "source": [
        "summary(MaxLeNet, input_size = (1, 28, 28), batch_size = 32)"
      ],
      "metadata": {
        "colab": {
          "base_uri": "https://localhost:8080/",
          "height": 0
        },
        "id": "ux8CHcasLUVb",
        "outputId": "bb3a83c6-088d-45c4-edec-eeb1edea8742"
      },
      "execution_count": 5,
      "outputs": [
        {
          "output_type": "stream",
          "name": "stdout",
          "text": [
            "----------------------------------------------------------------\n",
            "        Layer (type)               Output Shape         Param #\n",
            "================================================================\n",
            "            Conv2d-1            [32, 6, 28, 28]             156\n",
            "              ReLU-2            [32, 6, 28, 28]               0\n",
            "         MaxPool2d-3            [32, 6, 14, 14]               0\n",
            "            Conv2d-4           [32, 16, 10, 10]           2,416\n",
            "              ReLU-5           [32, 16, 10, 10]               0\n",
            "         MaxPool2d-6             [32, 16, 5, 5]               0\n",
            "           Flatten-7                  [32, 400]               0\n",
            "            Linear-8                  [32, 120]          48,120\n",
            "              ReLU-9                  [32, 120]               0\n",
            "           Linear-10                   [32, 84]          10,164\n",
            "             ReLU-11                   [32, 84]               0\n",
            "           Linear-12                   [32, 10]             850\n",
            "================================================================\n",
            "Total params: 61,706\n",
            "Trainable params: 61,706\n",
            "Non-trainable params: 0\n",
            "----------------------------------------------------------------\n",
            "Input size (MB): 0.10\n",
            "Forward/backward pass size (MB): 3.66\n",
            "Params size (MB): 0.24\n",
            "Estimated Total Size (MB): 3.99\n",
            "----------------------------------------------------------------\n"
          ]
        }
      ]
    },
    {
      "cell_type": "code",
      "source": [
        "# --- APPLY TO ALL EXPERIMENTS ---\n",
        "macs, params = get_model_complexity_info(MaxLeNet, (1, 28, 28), as_strings=True,\n",
        "                                           print_per_layer_stat=True, verbose=True)\n",
        "print('Computational complexity: ', macs)\n",
        "print('Number of parameters: ', params)"
      ],
      "metadata": {
        "colab": {
          "base_uri": "https://localhost:8080/",
          "height": 0
        },
        "id": "T7ULul7JTITK",
        "outputId": "3abb777b-6c15-4f14-d9f2-a077c51ea0b2"
      },
      "execution_count": 46,
      "outputs": [
        {
          "output_type": "stream",
          "name": "stdout",
          "text": [
            "Warning: module Flatten is treated as a zero-op.\n",
            "Sequential(\n",
            "  61.71 k, 100.000% Params, 435.85 KMac, 100.000% MACs, \n",
            "  (0): Conv2d(156, 0.253% Params, 122.3 KMac, 28.061% MACs, 1, 6, kernel_size=(5, 5), stride=(1, 1), padding=(2, 2))\n",
            "  (1): ReLU(0, 0.000% Params, 4.7 KMac, 1.079% MACs, )\n",
            "  (2): MaxPool2d(0, 0.000% Params, 4.7 KMac, 1.079% MACs, kernel_size=2, stride=2, padding=0, dilation=1, ceil_mode=False)\n",
            "  (3): Conv2d(2.42 k, 3.915% Params, 241.6 KMac, 55.432% MACs, 6, 16, kernel_size=(5, 5), stride=(1, 1))\n",
            "  (4): ReLU(0, 0.000% Params, 1.6 KMac, 0.367% MACs, )\n",
            "  (5): MaxPool2d(0, 0.000% Params, 1.6 KMac, 0.367% MACs, kernel_size=2, stride=2, padding=0, dilation=1, ceil_mode=False)\n",
            "  (6): Flatten(0, 0.000% Params, 0.0 Mac, 0.000% MACs, start_dim=1, end_dim=-1)\n",
            "  (7): Linear(48.12 k, 77.983% Params, 48.12 KMac, 11.040% MACs, in_features=400, out_features=120, bias=True)\n",
            "  (8): ReLU(0, 0.000% Params, 120.0 Mac, 0.028% MACs, )\n",
            "  (9): Linear(10.16 k, 16.472% Params, 10.16 KMac, 2.332% MACs, in_features=120, out_features=84, bias=True)\n",
            "  (10): ReLU(0, 0.000% Params, 84.0 Mac, 0.019% MACs, )\n",
            "  (11): Linear(850, 1.377% Params, 850.0 Mac, 0.195% MACs, in_features=84, out_features=10, bias=True)\n",
            ")\n",
            "Computational complexity:  435.85 KMac\n",
            "Number of parameters:  61.71 k\n"
          ]
        }
      ]
    },
    {
      "cell_type": "code",
      "source": [
        "# Define the training loop for each epoch\n",
        "def trainLoop(dataloader, model, loss_fn, optimizer):\n",
        "\n",
        "    numBatches = len(dataloader)\n",
        "    dataSize = len(dataloader.dataset)\n",
        "    totalLoss = 0\n",
        "    numCorrect = 0\n",
        "\n",
        "    for batch, (X, y) in enumerate(dataloader):\n",
        "    \n",
        "        pred = model(X)\n",
        "        loss = loss_fn(pred, y)\n",
        "\n",
        "        optimizer.zero_grad()\n",
        "        loss.backward()\n",
        "        optimizer.step()\n",
        "\n",
        "        totalLoss = totalLoss + loss.item()\n",
        "\n",
        "        if batch % 1000 == 0:\n",
        "            loss = loss.item()\n",
        "            interLosses.append(loss)\n",
        "            avgLoss = totalLoss / (batch + 1)\n",
        "            avgLosses.append(avgLoss) \n",
        "            print(\"loss:\", loss)\n",
        "\n",
        "        pred = model(X)\n",
        "        numCorrect = numCorrect + (pred.argmax(1) == y).type(torch.float).sum().item()\n",
        "    \n",
        "    trainAcc = numCorrect / dataSize\n",
        "    trainHist.append(trainAcc)\n",
        "    \n",
        "    epochLoss = totalLoss / len(dataloader)\n",
        "    trainLosses.append(epochLoss)\n",
        "    "
      ],
      "metadata": {
        "id": "IYwLZJy9LhUq"
      },
      "execution_count": 9,
      "outputs": []
    },
    {
      "cell_type": "code",
      "source": [
        "# Define the validation loop for each epoch\n",
        "def valLoop(dataloader, model, loss_fn):\n",
        "    \n",
        "    numBatches = len(dataloader)\n",
        "    dataSize = len(dataloader.dataset)\n",
        "    valLoss = 0\n",
        "    numCorrect = 0\n",
        "\n",
        "    with torch.no_grad():\n",
        "        for X, y in dataloader:\n",
        "            pred = model(X)\n",
        "            valLoss = valLoss + loss_fn(pred, y).item() \n",
        "            numCorrect = numCorrect + (pred.argmax(1) == y).type(torch.float).sum().item()\n",
        "\n",
        "    \n",
        "    valAcc = numCorrect / dataSize\n",
        "    valHist.append(valAcc)\n",
        "    valAccPercent = valAcc * 100\n",
        "\n",
        "    avgLoss = valLoss / numBatches\n",
        "    valLosses.append(avgLoss)\n",
        "    \n",
        "    print(\"Validation Accuracy:\", valAccPercent, \"    Validation Loss: \", avgLoss)\n",
        "    print(\" \")"
      ],
      "metadata": {
        "id": "iKD_FeaDpqDd"
      },
      "execution_count": 10,
      "outputs": []
    },
    {
      "cell_type": "code",
      "source": [
        "criterion = nn.CrossEntropyLoss()\n",
        "optimizer = optim.Adam(MaxLeNet.parameters(), lr=0.001)"
      ],
      "metadata": {
        "id": "rwL0qm53qw6_"
      },
      "execution_count": 49,
      "outputs": []
    },
    {
      "cell_type": "code",
      "source": [
        "# Begin training over 20 epochs\n",
        "epochs = 20\n",
        "valHist = []\n",
        "valLosses = []\n",
        "trainHist = []\n",
        "trainLosses = []\n",
        "interLosses = []\n",
        "avgLosses = []\n",
        "\n",
        "for t in range(epochs):\n",
        "    actualEpoch = t+1\n",
        "    print(\"Epoch\", actualEpoch)\n",
        "    trainLoop(training_loader, MaxLeNet, criterion, optimizer)\n",
        "    valLoop(validation_loader, MaxLeNet, criterion)"
      ],
      "metadata": {
        "colab": {
          "base_uri": "https://localhost:8080/",
          "height": 0
        },
        "id": "jK-y859eqT0d",
        "outputId": "514e63d1-f72f-484f-850c-163d287a7950"
      },
      "execution_count": 50,
      "outputs": [
        {
          "output_type": "stream",
          "name": "stdout",
          "text": [
            "Epoch 1\n",
            "loss: 2.3134043216705322\n",
            "loss: 0.6757701635360718\n",
            "Validation Accuracy: 84.13000000000001     Validation Loss:  0.43790007870608627\n",
            " \n",
            "Epoch 2\n",
            "loss: 0.41486045718193054\n",
            "loss: 0.4384094476699829\n",
            "Validation Accuracy: 86.92999999999999     Validation Loss:  0.35712734657449846\n",
            " \n",
            "Epoch 3\n",
            "loss: 0.4464617967605591\n",
            "loss: 0.2864934802055359\n",
            "Validation Accuracy: 88.03     Validation Loss:  0.3221763943473752\n",
            " \n",
            "Epoch 4\n",
            "loss: 0.2431272715330124\n",
            "loss: 0.12090793251991272\n",
            "Validation Accuracy: 88.71     Validation Loss:  0.3092451600578075\n",
            " \n",
            "Epoch 5\n",
            "loss: 0.20190638303756714\n",
            "loss: 0.3588416576385498\n",
            "Validation Accuracy: 88.97     Validation Loss:  0.2941969331151571\n",
            " \n",
            "Epoch 6\n",
            "loss: 0.24750033020973206\n",
            "loss: 0.42382800579071045\n",
            "Validation Accuracy: 89.31     Validation Loss:  0.2778368965862468\n",
            " \n",
            "Epoch 7\n",
            "loss: 0.1967860907316208\n",
            "loss: 0.21337199211120605\n",
            "Validation Accuracy: 89.74     Validation Loss:  0.2830885210023901\n",
            " \n",
            "Epoch 8\n",
            "loss: 0.260871559381485\n",
            "loss: 0.3327593505382538\n",
            "Validation Accuracy: 89.62     Validation Loss:  0.27716053295106935\n",
            " \n",
            "Epoch 9\n",
            "loss: 0.21593940258026123\n",
            "loss: 0.3438555598258972\n",
            "Validation Accuracy: 89.74     Validation Loss:  0.29269843495572906\n",
            " \n",
            "Epoch 10\n",
            "loss: 0.26472964882850647\n",
            "loss: 0.058733873069286346\n",
            "Validation Accuracy: 90.14999999999999     Validation Loss:  0.27200968651630625\n",
            " \n",
            "Epoch 11\n",
            "loss: 0.059090666472911835\n",
            "loss: 0.15066036581993103\n",
            "Validation Accuracy: 90.22     Validation Loss:  0.26984099586741234\n",
            " \n",
            "Epoch 12\n",
            "loss: 0.175387904047966\n",
            "loss: 0.14507068693637848\n",
            "Validation Accuracy: 90.46     Validation Loss:  0.27179381690514737\n",
            " \n",
            "Epoch 13\n",
            "loss: 0.17627651989459991\n",
            "loss: 0.21958458423614502\n",
            "Validation Accuracy: 90.55     Validation Loss:  0.27978623022857946\n",
            " \n",
            "Epoch 14\n",
            "loss: 0.13553816080093384\n",
            "loss: 0.17807172238826752\n",
            "Validation Accuracy: 90.07     Validation Loss:  0.2844237531550205\n",
            " \n",
            "Epoch 15\n",
            "loss: 0.07433485239744186\n",
            "loss: 0.03841002658009529\n",
            "Validation Accuracy: 90.62     Validation Loss:  0.28944059723791793\n",
            " \n",
            "Epoch 16\n",
            "loss: 0.025794582441449165\n",
            "loss: 0.03645904362201691\n",
            "Validation Accuracy: 90.38000000000001     Validation Loss:  0.2970541306494619\n",
            " \n",
            "Epoch 17\n",
            "loss: 0.09444670379161835\n",
            "loss: 0.2125445306301117\n",
            "Validation Accuracy: 90.28     Validation Loss:  0.3068658906442765\n",
            " \n",
            "Epoch 18\n",
            "loss: 0.3425464332103729\n",
            "loss: 0.22572341561317444\n",
            "Validation Accuracy: 90.3     Validation Loss:  0.3051984432799081\n",
            " \n",
            "Epoch 19\n",
            "loss: 0.10637159645557404\n",
            "loss: 0.1293027549982071\n",
            "Validation Accuracy: 90.18     Validation Loss:  0.31781230903804875\n",
            " \n",
            "Epoch 20\n",
            "loss: 0.18390409648418427\n",
            "loss: 0.14328217506408691\n",
            "Validation Accuracy: 90.33     Validation Loss:  0.31958482676325517\n",
            " \n"
          ]
        }
      ]
    },
    {
      "cell_type": "code",
      "source": [
        "#trainLosses, valHist, interLosses, avgLosses"
      ],
      "metadata": {
        "id": "rtLvuDAAsFRv"
      },
      "execution_count": 51,
      "outputs": []
    },
    {
      "cell_type": "code",
      "source": [
        "# Plot results\n",
        "x = np.linspace(1, epochs, epochs)     \n",
        "plt.figure(figsize=(7,5))\n",
        "plt.title(\"MaxLeNet: Train Loss and Val Accuracy\")\n",
        "plt.plot(x, trainLosses, label=\"Train Loss\")\n",
        "plt.plot(x, valHist, label=\"Val Accuracy\")\n",
        "plt.plot(x, trainHist, label=\"Train Accuracy\")\n",
        "plt.xlabel(\"Epoch\")\n",
        "plt.ylabel(\"Value\")\n",
        "plt.legend()\n",
        "plt.xlim(0, epochs)\n",
        "plt.ylim(0, 1.5)\n",
        "plt.show()\n"
      ],
      "metadata": {
        "colab": {
          "base_uri": "https://localhost:8080/",
          "height": 350
        },
        "id": "eKRa7VJUrNI2",
        "outputId": "33e3886c-2a49-4a26-9630-ea6e8f9b63ca"
      },
      "execution_count": 52,
      "outputs": [
        {
          "output_type": "display_data",
          "data": {
            "text/plain": [
              "<Figure size 504x360 with 1 Axes>"
            ],
            "image/png": "[encoded data removed]"
          },
          "metadata": {
            "needs_background": "light"
          }
        }
      ]
    },
    {
      "cell_type": "markdown",
      "source": [
        "# 2a) Experimental LeNet - Window/Kernel Size\n"
      ],
      "metadata": {
        "id": "GVglkt89TlSH"
      }
    },
    {
      "cell_type": "code",
      "source": [
        "ExpLeNetWind = nn.Sequential(\n",
        "    \n",
        "            nn.Conv2d(1, 6, kernel_size=3, padding=2), nn.ReLU(),     \n",
        "            nn.MaxPool2d(2),                                         \n",
        "            nn.Conv2d(6, 16, kernel_size=3), nn.ReLU(),           \n",
        "            nn.MaxPool2d(2),                                          \n",
        "            nn.Flatten(),                                         \n",
        "            nn.Linear(576, 120), nn.ReLU(),                          \n",
        "            nn.Linear(120, 84), nn.ReLU(),                       \n",
        "            nn.Linear(84, 10)                                       \n",
        ")"
      ],
      "metadata": {
        "id": "L2zQlS4Wr0_q"
      },
      "execution_count": 6,
      "outputs": []
    },
    {
      "cell_type": "code",
      "source": [
        "summary(ExpLeNetWind, input_size = (1, 28, 28), batch_size =32)"
      ],
      "metadata": {
        "colab": {
          "base_uri": "https://localhost:8080/",
          "height": 0
        },
        "id": "xPsBvMsqUREj",
        "outputId": "a8d01143-c0bb-4502-805c-d663bc97318f"
      },
      "execution_count": 7,
      "outputs": [
        {
          "output_type": "stream",
          "name": "stdout",
          "text": [
            "----------------------------------------------------------------\n",
            "        Layer (type)               Output Shape         Param #\n",
            "================================================================\n",
            "            Conv2d-1            [32, 6, 30, 30]              60\n",
            "              ReLU-2            [32, 6, 30, 30]               0\n",
            "         MaxPool2d-3            [32, 6, 15, 15]               0\n",
            "            Conv2d-4           [32, 16, 13, 13]             880\n",
            "              ReLU-5           [32, 16, 13, 13]               0\n",
            "         MaxPool2d-6             [32, 16, 6, 6]               0\n",
            "           Flatten-7                  [32, 576]               0\n",
            "            Linear-8                  [32, 120]          69,240\n",
            "              ReLU-9                  [32, 120]               0\n",
            "           Linear-10                   [32, 84]          10,164\n",
            "             ReLU-11                   [32, 84]               0\n",
            "           Linear-12                   [32, 10]             850\n",
            "================================================================\n",
            "Total params: 81,194\n",
            "Trainable params: 81,194\n",
            "Non-trainable params: 0\n",
            "----------------------------------------------------------------\n",
            "Input size (MB): 0.10\n",
            "Forward/backward pass size (MB): 4.67\n",
            "Params size (MB): 0.31\n",
            "Estimated Total Size (MB): 5.08\n",
            "----------------------------------------------------------------\n"
          ]
        }
      ]
    },
    {
      "cell_type": "code",
      "source": [
        "macs, params = get_model_complexity_info(ExpLeNetWind, (1, 28, 28), as_strings=True,\n",
        "                                           print_per_layer_stat=True, verbose=True)\n",
        "print('Computational complexity: ', macs)\n",
        "print('Number of parameters: ', params)"
      ],
      "metadata": {
        "colab": {
          "base_uri": "https://localhost:8080/",
          "height": 0
        },
        "id": "m3z9fIDLUZ7k",
        "outputId": "ae32682c-4977-4d47-b49c-cb2aabfcb6fe"
      },
      "execution_count": 54,
      "outputs": [
        {
          "output_type": "stream",
          "name": "stdout",
          "text": [
            "Warning: module Flatten is treated as a zero-op.\n",
            "Sequential(\n",
            "  81.19 k, 100.000% Params, 299.39 KMac, 100.000% MACs, \n",
            "  (0): Conv2d(60, 0.074% Params, 54.0 KMac, 18.037% MACs, 1, 6, kernel_size=(3, 3), stride=(1, 1), padding=(2, 2))\n",
            "  (1): ReLU(0, 0.000% Params, 5.4 KMac, 1.804% MACs, )\n",
            "  (2): MaxPool2d(0, 0.000% Params, 5.4 KMac, 1.804% MACs, kernel_size=2, stride=2, padding=0, dilation=1, ceil_mode=False)\n",
            "  (3): Conv2d(880, 1.084% Params, 148.72 KMac, 49.675% MACs, 6, 16, kernel_size=(3, 3), stride=(1, 1))\n",
            "  (4): ReLU(0, 0.000% Params, 2.7 KMac, 0.903% MACs, )\n",
            "  (5): MaxPool2d(0, 0.000% Params, 2.7 KMac, 0.903% MACs, kernel_size=2, stride=2, padding=0, dilation=1, ceil_mode=False)\n",
            "  (6): Flatten(0, 0.000% Params, 0.0 Mac, 0.000% MACs, start_dim=1, end_dim=-1)\n",
            "  (7): Linear(69.24 k, 85.277% Params, 69.24 KMac, 23.127% MACs, in_features=576, out_features=120, bias=True)\n",
            "  (8): ReLU(0, 0.000% Params, 120.0 Mac, 0.040% MACs, )\n",
            "  (9): Linear(10.16 k, 12.518% Params, 10.16 KMac, 3.395% MACs, in_features=120, out_features=84, bias=True)\n",
            "  (10): ReLU(0, 0.000% Params, 84.0 Mac, 0.028% MACs, )\n",
            "  (11): Linear(850, 1.047% Params, 850.0 Mac, 0.284% MACs, in_features=84, out_features=10, bias=True)\n",
            ")\n",
            "Computational complexity:  299.39 KMac\n",
            "Number of parameters:  81.19 k\n"
          ]
        }
      ]
    },
    {
      "cell_type": "code",
      "source": [
        "criterion = nn.CrossEntropyLoss()\n",
        "optimizer = optim.Adam(ExpLeNetWind.parameters(), lr=0.001)"
      ],
      "metadata": {
        "id": "-30cKJ_rUlzd"
      },
      "execution_count": 55,
      "outputs": []
    },
    {
      "cell_type": "code",
      "source": [
        "# Begin training over 20 epochs\n",
        "epochs = 20\n",
        "valHist = []\n",
        "valLosses = []\n",
        "trainHist = []\n",
        "trainLosses = []\n",
        "interLosses = []\n",
        "avgLosses = []\n",
        "\n",
        "for t in range(epochs):\n",
        "    actualEpoch = t+1\n",
        "    print(\"Epoch\", actualEpoch)\n",
        "    trainLoop(training_loader, ExpLeNetWind, criterion, optimizer)\n",
        "    valLoop(validation_loader, ExpLeNetWind, criterion)"
      ],
      "metadata": {
        "colab": {
          "base_uri": "https://localhost:8080/",
          "height": 0
        },
        "id": "i0nurV2wVBGq",
        "outputId": "949f9909-cacf-470d-87d6-5b1b16f0044b"
      },
      "execution_count": 56,
      "outputs": [
        {
          "output_type": "stream",
          "name": "stdout",
          "text": [
            "Epoch 1\n",
            "loss: 2.2999041080474854\n",
            "loss: 0.49144572019577026\n",
            "Validation Accuracy: 84.3     Validation Loss:  0.43582490757821846\n",
            " \n",
            "Epoch 2\n",
            "loss: 0.2018158882856369\n",
            "loss: 0.5049094557762146\n",
            "Validation Accuracy: 86.52     Validation Loss:  0.36756171938329457\n",
            " \n",
            "Epoch 3\n",
            "loss: 0.2590183615684509\n",
            "loss: 0.3975144326686859\n",
            "Validation Accuracy: 87.82     Validation Loss:  0.3308207407212867\n",
            " \n",
            "Epoch 4\n",
            "loss: 0.36765968799591064\n",
            "loss: 0.5799499154090881\n",
            "Validation Accuracy: 88.03999999999999     Validation Loss:  0.3204267294452594\n",
            " \n",
            "Epoch 5\n",
            "loss: 0.12048450857400894\n",
            "loss: 0.19006671011447906\n",
            "Validation Accuracy: 89.07000000000001     Validation Loss:  0.30186004302324576\n",
            " \n",
            "Epoch 6\n",
            "loss: 0.2971160113811493\n",
            "loss: 0.19480818510055542\n",
            "Validation Accuracy: 89.89     Validation Loss:  0.28282983608234424\n",
            " \n",
            "Epoch 7\n",
            "loss: 0.20029640197753906\n",
            "loss: 0.3354361355304718\n",
            "Validation Accuracy: 88.71     Validation Loss:  0.2970353685581265\n",
            " \n",
            "Epoch 8\n",
            "loss: 0.16741430759429932\n",
            "loss: 0.5053218603134155\n",
            "Validation Accuracy: 90.19     Validation Loss:  0.27262835079631487\n",
            " \n",
            "Epoch 9\n",
            "loss: 0.3309369385242462\n",
            "loss: 0.2225884348154068\n",
            "Validation Accuracy: 88.85     Validation Loss:  0.2982958235358373\n",
            " \n",
            "Epoch 10\n",
            "loss: 0.28388839960098267\n",
            "loss: 0.14293548464775085\n",
            "Validation Accuracy: 90.16999999999999     Validation Loss:  0.267375189001663\n",
            " \n",
            "Epoch 11\n",
            "loss: 0.1129353865981102\n",
            "loss: 0.26229333877563477\n",
            "Validation Accuracy: 90.33     Validation Loss:  0.264691455861012\n",
            " \n",
            "Epoch 12\n",
            "loss: 0.14219126105308533\n",
            "loss: 0.2240721434354782\n",
            "Validation Accuracy: 89.97     Validation Loss:  0.28073896977086416\n",
            " \n",
            "Epoch 13\n",
            "loss: 0.2418632209300995\n",
            "loss: 0.17405880987644196\n",
            "Validation Accuracy: 90.51     Validation Loss:  0.2779467262970373\n",
            " \n",
            "Epoch 14\n",
            "loss: 0.11901608854532242\n",
            "loss: 0.04241831600666046\n",
            "Validation Accuracy: 90.16     Validation Loss:  0.2886403740678256\n",
            " \n",
            "Epoch 15\n",
            "loss: 0.21292787790298462\n",
            "loss: 0.08505263179540634\n",
            "Validation Accuracy: 90.4     Validation Loss:  0.27278012166412685\n",
            " \n",
            "Epoch 16\n",
            "loss: 0.0945063978433609\n",
            "loss: 0.24951516091823578\n",
            "Validation Accuracy: 90.47     Validation Loss:  0.2857096066799598\n",
            " \n",
            "Epoch 17\n",
            "loss: 0.18068593740463257\n",
            "loss: 0.049970388412475586\n",
            "Validation Accuracy: 90.49000000000001     Validation Loss:  0.2936227724325067\n",
            " \n",
            "Epoch 18\n",
            "loss: 0.18012750148773193\n",
            "loss: 0.180588960647583\n",
            "Validation Accuracy: 90.66     Validation Loss:  0.28525481897349747\n",
            " \n",
            "Epoch 19\n",
            "loss: 0.13082930445671082\n",
            "loss: 0.22957293689250946\n",
            "Validation Accuracy: 90.71000000000001     Validation Loss:  0.2929377834291789\n",
            " \n",
            "Epoch 20\n",
            "loss: 0.10809242725372314\n",
            "loss: 0.21371260285377502\n",
            "Validation Accuracy: 89.96     Validation Loss:  0.3274085383398083\n",
            " \n"
          ]
        }
      ]
    },
    {
      "cell_type": "code",
      "source": [
        "# Plot results  \n",
        "x = np.linspace(1, epochs, epochs)      \n",
        "plt.figure(figsize=(7,5))\n",
        "plt.title(\"Window LeNet: Train Loss and Val Accuracy\")\n",
        "plt.plot(x, trainLosses, label=\"Train Loss\")\n",
        "plt.plot(x, valHist, label=\"Val Accuracy\")\n",
        "plt.plot(x, trainHist, label=\"Train Accuracy\")\n",
        "plt.xlabel(\"Epoch\")\n",
        "plt.ylabel(\"Value\")\n",
        "plt.legend()\n",
        "plt.xlim(0, epochs)\n",
        "plt.ylim(0, 1.5)\n",
        "plt.show()\n"
      ],
      "metadata": {
        "colab": {
          "base_uri": "https://localhost:8080/",
          "height": 350
        },
        "id": "Rftguid8VKrh",
        "outputId": "4677221c-5241-42b1-c287-83c674be9bae"
      },
      "execution_count": 57,
      "outputs": [
        {
          "output_type": "display_data",
          "data": {
            "text/plain": [
              "<Figure size 504x360 with 1 Axes>"
            ],
            "image/png": "[encoded data removed]"
          },
          "metadata": {
            "needs_background": "light"
          }
        }
      ]
    },
    {
      "cell_type": "markdown",
      "source": [
        "# 2b) Experimental LeNet - Output Channels"
      ],
      "metadata": {
        "id": "uCPc9gcNWM1_"
      }
    },
    {
      "cell_type": "code",
      "source": [
        "ExpLeNetChan = nn.Sequential(   \n",
        "    \n",
        "            nn.Conv2d(1, 32, kernel_size=5, padding=2), nn.ReLU(),    \n",
        "            nn.MaxPool2d(2),                                          \n",
        "            nn.Conv2d(32, 32, kernel_size=5), nn.ReLU(),              \n",
        "            nn.MaxPool2d(2),                                         \n",
        "            nn.Flatten(),                                           \n",
        "            nn.Linear(800, 256), nn.ReLU(),                         \n",
        "            nn.Linear(256, 64), nn.ReLU(),                           \n",
        "            nn.Linear(64, 10)                                        \n",
        ")"
      ],
      "metadata": {
        "id": "spg-w3iNWWo5"
      },
      "execution_count": 8,
      "outputs": []
    },
    {
      "cell_type": "code",
      "source": [
        "summary(ExpLeNetChan, input_size = (1, 28, 28), batch_size =32)"
      ],
      "metadata": {
        "colab": {
          "base_uri": "https://localhost:8080/",
          "height": 0
        },
        "id": "TqFzKTMhWxVP",
        "outputId": "f36e1416-ea90-4d14-953c-b61a9b7c3ff2"
      },
      "execution_count": 9,
      "outputs": [
        {
          "output_type": "stream",
          "name": "stdout",
          "text": [
            "----------------------------------------------------------------\n",
            "        Layer (type)               Output Shape         Param #\n",
            "================================================================\n",
            "            Conv2d-1           [32, 32, 28, 28]             832\n",
            "              ReLU-2           [32, 32, 28, 28]               0\n",
            "         MaxPool2d-3           [32, 32, 14, 14]               0\n",
            "            Conv2d-4           [32, 32, 10, 10]          25,632\n",
            "              ReLU-5           [32, 32, 10, 10]               0\n",
            "         MaxPool2d-6             [32, 32, 5, 5]               0\n",
            "           Flatten-7                  [32, 800]               0\n",
            "            Linear-8                  [32, 256]         205,056\n",
            "              ReLU-9                  [32, 256]               0\n",
            "           Linear-10                   [32, 64]          16,448\n",
            "             ReLU-11                   [32, 64]               0\n",
            "           Linear-12                   [32, 10]             650\n",
            "================================================================\n",
            "Total params: 248,618\n",
            "Trainable params: 248,618\n",
            "Non-trainable params: 0\n",
            "----------------------------------------------------------------\n",
            "Input size (MB): 0.10\n",
            "Forward/backward pass size (MB): 15.89\n",
            "Params size (MB): 0.95\n",
            "Estimated Total Size (MB): 16.94\n",
            "----------------------------------------------------------------\n"
          ]
        }
      ]
    },
    {
      "cell_type": "code",
      "source": [
        "macs, params = get_model_complexity_info(ExpLeNetChan, (1, 28, 28), as_strings=True,\n",
        "                                           print_per_layer_stat=True, verbose=True)\n",
        "print('Computational complexity: ', macs)\n",
        "print('Number of parameters: ', params)"
      ],
      "metadata": {
        "colab": {
          "base_uri": "https://localhost:8080/",
          "height": 0
        },
        "id": "kC-wpRU0W2ht",
        "outputId": "c2e5b444-18ee-484e-cd4a-f4bbe7127095"
      },
      "execution_count": 59,
      "outputs": [
        {
          "output_type": "stream",
          "name": "stdout",
          "text": [
            "Warning: module Flatten is treated as a zero-op.\n",
            "Sequential(\n",
            "  248.62 k, 100.000% Params, 3.49 MMac, 100.000% MACs, \n",
            "  (0): Conv2d(832, 0.335% Params, 652.29 KMac, 18.666% MACs, 1, 32, kernel_size=(5, 5), stride=(1, 1), padding=(2, 2))\n",
            "  (1): ReLU(0, 0.000% Params, 25.09 KMac, 0.718% MACs, )\n",
            "  (2): MaxPool2d(0, 0.000% Params, 25.09 KMac, 0.718% MACs, kernel_size=2, stride=2, padding=0, dilation=1, ceil_mode=False)\n",
            "  (3): Conv2d(25.63 k, 10.310% Params, 2.56 MMac, 73.349% MACs, 32, 32, kernel_size=(5, 5), stride=(1, 1))\n",
            "  (4): ReLU(0, 0.000% Params, 3.2 KMac, 0.092% MACs, )\n",
            "  (5): MaxPool2d(0, 0.000% Params, 3.2 KMac, 0.092% MACs, kernel_size=2, stride=2, padding=0, dilation=1, ceil_mode=False)\n",
            "  (6): Flatten(0, 0.000% Params, 0.0 Mac, 0.000% MACs, start_dim=1, end_dim=-1)\n",
            "  (7): Linear(205.06 k, 82.478% Params, 205.06 KMac, 5.868% MACs, in_features=800, out_features=256, bias=True)\n",
            "  (8): ReLU(0, 0.000% Params, 256.0 Mac, 0.007% MACs, )\n",
            "  (9): Linear(16.45 k, 6.616% Params, 16.45 KMac, 0.471% MACs, in_features=256, out_features=64, bias=True)\n",
            "  (10): ReLU(0, 0.000% Params, 64.0 Mac, 0.002% MACs, )\n",
            "  (11): Linear(650, 0.261% Params, 650.0 Mac, 0.019% MACs, in_features=64, out_features=10, bias=True)\n",
            ")\n",
            "Computational complexity:  3.49 MMac\n",
            "Number of parameters:  248.62 k\n"
          ]
        }
      ]
    },
    {
      "cell_type": "code",
      "source": [
        "criterion = nn.CrossEntropyLoss()\n",
        "optimizer = optim.Adam(ExpLeNetChan.parameters(), lr=0.001)"
      ],
      "metadata": {
        "id": "5RjCj-a6W8x-"
      },
      "execution_count": 60,
      "outputs": []
    },
    {
      "cell_type": "code",
      "source": [
        "# Begin training over 20 epochs\n",
        "epochs = 20\n",
        "valHist = []\n",
        "valLosses = []\n",
        "trainHist = []\n",
        "trainLosses = []\n",
        "interLosses = []\n",
        "avgLosses = []\n",
        "\n",
        "for t in range(epochs):\n",
        "    actualEpoch = t+1\n",
        "    print(\"Epoch\", actualEpoch)\n",
        "    trainLoop(training_loader, ExpLeNetChan, criterion, optimizer)\n",
        "    valLoop(validation_loader, ExpLeNetChan, criterion)"
      ],
      "metadata": {
        "colab": {
          "base_uri": "https://localhost:8080/",
          "height": 0
        },
        "id": "Yh-NmiWAXFB9",
        "outputId": "2bbb6631-6094-4701-e6ad-8887dbe061ec"
      },
      "execution_count": 61,
      "outputs": [
        {
          "output_type": "stream",
          "name": "stdout",
          "text": [
            "Epoch 1\n",
            "loss: 2.3037941455841064\n",
            "loss: 0.2766866385936737\n",
            "Validation Accuracy: 87.1     Validation Loss:  0.3552575838475372\n",
            " \n",
            "Epoch 2\n",
            "loss: 0.32264092564582825\n",
            "loss: 0.2951042354106903\n",
            "Validation Accuracy: 89.33     Validation Loss:  0.2932131547516527\n",
            " \n",
            "Epoch 3\n",
            "loss: 0.272661030292511\n",
            "loss: 0.189487487077713\n",
            "Validation Accuracy: 89.88000000000001     Validation Loss:  0.2813172670551382\n",
            " \n",
            "Epoch 4\n",
            "loss: 0.13616299629211426\n",
            "loss: 0.1832038164138794\n",
            "Validation Accuracy: 90.78     Validation Loss:  0.2588734983231503\n",
            " \n",
            "Epoch 5\n",
            "loss: 0.14869895577430725\n",
            "loss: 0.27908703684806824\n",
            "Validation Accuracy: 90.85     Validation Loss:  0.2553373824317044\n",
            " \n",
            "Epoch 6\n",
            "loss: 0.1736561357975006\n",
            "loss: 0.14403805136680603\n",
            "Validation Accuracy: 91.45     Validation Loss:  0.24121077121875156\n",
            " \n",
            "Epoch 7\n",
            "loss: 0.07177985459566116\n",
            "loss: 0.18499243259429932\n",
            "Validation Accuracy: 91.2     Validation Loss:  0.25725723945865997\n",
            " \n",
            "Epoch 8\n",
            "loss: 0.14693999290466309\n",
            "loss: 0.13855208456516266\n",
            "Validation Accuracy: 90.86     Validation Loss:  0.2669846292960044\n",
            " \n",
            "Epoch 9\n",
            "loss: 0.08492924273014069\n",
            "loss: 0.10545231401920319\n",
            "Validation Accuracy: 91.77     Validation Loss:  0.2635595384544839\n",
            " \n",
            "Epoch 10\n",
            "loss: 0.13737992942333221\n",
            "loss: 0.10598868876695633\n",
            "Validation Accuracy: 91.14999999999999     Validation Loss:  0.2752029822704891\n",
            " \n",
            "Epoch 11\n",
            "loss: 0.05570889264345169\n",
            "loss: 0.01653691940009594\n",
            "Validation Accuracy: 91.34     Validation Loss:  0.3112751868026801\n",
            " \n",
            "Epoch 12\n",
            "loss: 0.0803329274058342\n",
            "loss: 0.12001214921474457\n",
            "Validation Accuracy: 91.23     Validation Loss:  0.30967554425338684\n",
            " \n",
            "Epoch 13\n",
            "loss: 0.06855528056621552\n",
            "loss: 0.03943931683897972\n",
            "Validation Accuracy: 91.73     Validation Loss:  0.3185548261760142\n",
            " \n",
            "Epoch 14\n",
            "loss: 0.1979738175868988\n",
            "loss: 0.037628620862960815\n",
            "Validation Accuracy: 91.47     Validation Loss:  0.325786305490298\n",
            " \n",
            "Epoch 15\n",
            "loss: 0.00550600653514266\n",
            "loss: 0.02556084655225277\n",
            "Validation Accuracy: 90.53     Validation Loss:  0.392708921642489\n",
            " \n",
            "Epoch 16\n",
            "loss: 0.0077915857546031475\n",
            "loss: 0.009563696570694447\n",
            "Validation Accuracy: 91.58     Validation Loss:  0.39452129550510273\n",
            " \n",
            "Epoch 17\n",
            "loss: 0.019824210554361343\n",
            "loss: 0.11915914714336395\n",
            "Validation Accuracy: 91.45     Validation Loss:  0.3854067757504043\n",
            " \n",
            "Epoch 18\n",
            "loss: 0.07205665856599808\n",
            "loss: 0.03600491210818291\n",
            "Validation Accuracy: 90.67     Validation Loss:  0.4403740083278059\n",
            " \n",
            "Epoch 19\n",
            "loss: 0.004822830203920603\n",
            "loss: 0.01705688238143921\n",
            "Validation Accuracy: 91.18     Validation Loss:  0.38978407756029704\n",
            " \n",
            "Epoch 20\n",
            "loss: 0.015321574173867702\n",
            "loss: 0.007182026281952858\n",
            "Validation Accuracy: 91.18     Validation Loss:  0.47341194060242797\n",
            " \n"
          ]
        }
      ]
    },
    {
      "cell_type": "code",
      "source": [
        "# Plot results\n",
        "x = np.linspace(1, epochs, epochs)      \n",
        "plt.figure(figsize=(7,5))\n",
        "plt.title(\"Channel LeNet: Train Loss and Val Accuracy\")\n",
        "plt.plot(x, trainLosses, label=\"Train Loss\")\n",
        "plt.plot(x, valHist, label=\"Val Accuracy\")\n",
        "plt.plot(x, trainHist, label=\"Train Accuracy\")\n",
        "plt.xlabel(\"Epoch\")\n",
        "plt.ylabel(\"Value\")\n",
        "plt.legend()\n",
        "plt.xlim(0, epochs)\n",
        "plt.ylim(0, 1.5)\n",
        "plt.show()\n"
      ],
      "metadata": {
        "colab": {
          "base_uri": "https://localhost:8080/",
          "height": 350
        },
        "id": "cfckYqkLXM8s",
        "outputId": "3f425974-743f-4c2a-9fca-63d7867ca4a2"
      },
      "execution_count": 62,
      "outputs": [
        {
          "output_type": "display_data",
          "data": {
            "text/plain": [
              "<Figure size 504x360 with 1 Axes>"
            ],
            "image/png": "[encoded data removed]"
          },
          "metadata": {
            "needs_background": "light"
          }
        }
      ]
    },
    {
      "cell_type": "markdown",
      "source": [
        "# 2c) Experimental LeNet - Conv Layers"
      ],
      "metadata": {
        "id": "t9vgm1RYYl1_"
      }
    },
    {
      "cell_type": "code",
      "source": [
        "ExpLeNetConv = nn.Sequential(\n",
        "    \n",
        "            nn.Conv2d(1, 6, kernel_size=5, padding=2), nn.ReLU(),    \n",
        "            nn.MaxPool2d(2),                                        \n",
        "            nn.Conv2d(6, 16, kernel_size=5, padding=2), nn.ReLU(),  \n",
        "            nn.MaxPool2d(2),                                          \n",
        "            nn.Conv2d(16, 32, kernel_size=5, padding=2), nn.ReLU(),\n",
        "            nn.MaxPool2d(2),\n",
        "            nn.Conv2d(32, 64, kernel_size=5, padding=2), nn.ReLU(),\n",
        "            nn.MaxPool2d(2),\n",
        "            nn.Flatten(),                                           \n",
        "            nn.Linear(64, 32), nn.ReLU(),                            \n",
        "            nn.Linear(32, 16), nn.ReLU(),                        \n",
        "            nn.Linear(16, 10)                                       \n",
        ")"
      ],
      "metadata": {
        "id": "2AwVsFUcYX-M"
      },
      "execution_count": 10,
      "outputs": []
    },
    {
      "cell_type": "code",
      "source": [
        "summary(ExpLeNetConv, input_size = (1, 28, 28), batch_size =32)"
      ],
      "metadata": {
        "colab": {
          "base_uri": "https://localhost:8080/",
          "height": 0
        },
        "id": "NkP-SkGDY8r6",
        "outputId": "ca1b3b09-98c7-41c6-c88b-221447b494d4"
      },
      "execution_count": 11,
      "outputs": [
        {
          "output_type": "stream",
          "name": "stdout",
          "text": [
            "----------------------------------------------------------------\n",
            "        Layer (type)               Output Shape         Param #\n",
            "================================================================\n",
            "            Conv2d-1            [32, 6, 28, 28]             156\n",
            "              ReLU-2            [32, 6, 28, 28]               0\n",
            "         MaxPool2d-3            [32, 6, 14, 14]               0\n",
            "            Conv2d-4           [32, 16, 14, 14]           2,416\n",
            "              ReLU-5           [32, 16, 14, 14]               0\n",
            "         MaxPool2d-6             [32, 16, 7, 7]               0\n",
            "            Conv2d-7             [32, 32, 7, 7]          12,832\n",
            "              ReLU-8             [32, 32, 7, 7]               0\n",
            "         MaxPool2d-9             [32, 32, 3, 3]               0\n",
            "           Conv2d-10             [32, 64, 3, 3]          51,264\n",
            "             ReLU-11             [32, 64, 3, 3]               0\n",
            "        MaxPool2d-12             [32, 64, 1, 1]               0\n",
            "          Flatten-13                   [32, 64]               0\n",
            "           Linear-14                   [32, 32]           2,080\n",
            "             ReLU-15                   [32, 32]               0\n",
            "           Linear-16                   [32, 16]             528\n",
            "             ReLU-17                   [32, 16]               0\n",
            "           Linear-18                   [32, 10]             170\n",
            "================================================================\n",
            "Total params: 69,446\n",
            "Trainable params: 69,446\n",
            "Non-trainable params: 0\n",
            "----------------------------------------------------------------\n",
            "Input size (MB): 0.10\n",
            "Forward/backward pass size (MB): 5.48\n",
            "Params size (MB): 0.26\n",
            "Estimated Total Size (MB): 5.84\n",
            "----------------------------------------------------------------\n"
          ]
        }
      ]
    },
    {
      "cell_type": "code",
      "source": [
        "macs, params = get_model_complexity_info(ExpLeNetConv, (1, 28, 28), as_strings=True,\n",
        "                                           print_per_layer_stat=True, verbose=True)\n",
        "print('Computational complexity: ', macs)\n",
        "print('Number of parameters: ', params)"
      ],
      "metadata": {
        "colab": {
          "base_uri": "https://localhost:8080/",
          "height": 0
        },
        "id": "ImuuW5p4ZCOY",
        "outputId": "94e75df7-8131-4c1b-c447-d47d8282b64f"
      },
      "execution_count": 64,
      "outputs": [
        {
          "output_type": "stream",
          "name": "stdout",
          "text": [
            "Warning: module Flatten is treated as a zero-op.\n",
            "Sequential(\n",
            "  69.45 k, 100.000% Params, 1.71 MMac, 100.000% MACs, \n",
            "  (0): Conv2d(156, 0.225% Params, 122.3 KMac, 7.157% MACs, 1, 6, kernel_size=(5, 5), stride=(1, 1), padding=(2, 2))\n",
            "  (1): ReLU(0, 0.000% Params, 4.7 KMac, 0.275% MACs, )\n",
            "  (2): MaxPool2d(0, 0.000% Params, 4.7 KMac, 0.275% MACs, kernel_size=2, stride=2, padding=0, dilation=1, ceil_mode=False)\n",
            "  (3): Conv2d(2.42 k, 3.479% Params, 473.54 KMac, 27.712% MACs, 6, 16, kernel_size=(5, 5), stride=(1, 1), padding=(2, 2))\n",
            "  (4): ReLU(0, 0.000% Params, 3.14 KMac, 0.184% MACs, )\n",
            "  (5): MaxPool2d(0, 0.000% Params, 3.14 KMac, 0.184% MACs, kernel_size=2, stride=2, padding=0, dilation=1, ceil_mode=False)\n",
            "  (6): Conv2d(12.83 k, 18.478% Params, 628.77 KMac, 36.796% MACs, 16, 32, kernel_size=(5, 5), stride=(1, 1), padding=(2, 2))\n",
            "  (7): ReLU(0, 0.000% Params, 1.57 KMac, 0.092% MACs, )\n",
            "  (8): MaxPool2d(0, 0.000% Params, 1.57 KMac, 0.092% MACs, kernel_size=2, stride=2, padding=0, dilation=1, ceil_mode=False)\n",
            "  (9): Conv2d(51.26 k, 73.819% Params, 461.38 KMac, 27.000% MACs, 32, 64, kernel_size=(5, 5), stride=(1, 1), padding=(2, 2))\n",
            "  (10): ReLU(0, 0.000% Params, 576.0 Mac, 0.034% MACs, )\n",
            "  (11): MaxPool2d(0, 0.000% Params, 576.0 Mac, 0.034% MACs, kernel_size=2, stride=2, padding=0, dilation=1, ceil_mode=False)\n",
            "  (12): Flatten(0, 0.000% Params, 0.0 Mac, 0.000% MACs, start_dim=1, end_dim=-1)\n",
            "  (13): Linear(2.08 k, 2.995% Params, 2.08 KMac, 0.122% MACs, in_features=64, out_features=32, bias=True)\n",
            "  (14): ReLU(0, 0.000% Params, 32.0 Mac, 0.002% MACs, )\n",
            "  (15): Linear(528, 0.760% Params, 528.0 Mac, 0.031% MACs, in_features=32, out_features=16, bias=True)\n",
            "  (16): ReLU(0, 0.000% Params, 16.0 Mac, 0.001% MACs, )\n",
            "  (17): Linear(170, 0.245% Params, 170.0 Mac, 0.010% MACs, in_features=16, out_features=10, bias=True)\n",
            ")\n",
            "Computational complexity:  1.71 MMac\n",
            "Number of parameters:  69.45 k\n"
          ]
        }
      ]
    },
    {
      "cell_type": "code",
      "source": [
        "criterion = nn.CrossEntropyLoss()\n",
        "optimizer = optim.Adam(ExpLeNetConv.parameters(), lr=0.001)"
      ],
      "metadata": {
        "id": "on_Y3aJMZZK_"
      },
      "execution_count": 65,
      "outputs": []
    },
    {
      "cell_type": "code",
      "source": [
        "# Begin training over 20 epochs\n",
        "epochs = 20\n",
        "valHist = []\n",
        "valLosses = []\n",
        "trainHist = []\n",
        "trainLosses = []\n",
        "interLosses = []\n",
        "avgLosses = []\n",
        "\n",
        "for t in range(epochs):\n",
        "    actualEpoch = t+1\n",
        "    print(\"Epoch\", actualEpoch)\n",
        "    trainLoop(training_loader, ExpLeNetConv, criterion, optimizer)\n",
        "    valLoop(validation_loader, ExpLeNetConv, criterion)"
      ],
      "metadata": {
        "colab": {
          "base_uri": "https://localhost:8080/",
          "height": 0
        },
        "id": "SnkUQYPtZj1C",
        "outputId": "08c8fe7e-4cd9-478d-d784-f78032e1aee0"
      },
      "execution_count": 66,
      "outputs": [
        {
          "output_type": "stream",
          "name": "stdout",
          "text": [
            "Epoch 1\n",
            "loss: 2.3094310760498047\n",
            "loss: 0.5004606246948242\n",
            "Validation Accuracy: 80.82000000000001     Validation Loss:  0.5019731899372305\n",
            " \n",
            "Epoch 2\n",
            "loss: 0.4853556156158447\n",
            "loss: 0.48286619782447815\n",
            "Validation Accuracy: 84.75     Validation Loss:  0.4182478524387454\n",
            " \n",
            "Epoch 3\n",
            "loss: 0.3276069760322571\n",
            "loss: 0.5626657605171204\n",
            "Validation Accuracy: 86.98     Validation Loss:  0.3581047420993971\n",
            " \n",
            "Epoch 4\n",
            "loss: 0.4358469843864441\n",
            "loss: 0.08447559177875519\n",
            "Validation Accuracy: 87.91     Validation Loss:  0.33084468829174773\n",
            " \n",
            "Epoch 5\n",
            "loss: 0.3394554853439331\n",
            "loss: 0.33838391304016113\n",
            "Validation Accuracy: 88.3     Validation Loss:  0.32189080520226554\n",
            " \n",
            "Epoch 6\n",
            "loss: 0.38371047377586365\n",
            "loss: 0.6309145092964172\n",
            "Validation Accuracy: 88.94     Validation Loss:  0.3001691410169243\n",
            " \n",
            "Epoch 7\n",
            "loss: 0.12248941510915756\n",
            "loss: 0.20557419955730438\n",
            "Validation Accuracy: 89.07000000000001     Validation Loss:  0.3107216743567881\n",
            " \n",
            "Epoch 8\n",
            "loss: 0.13619229197502136\n",
            "loss: 0.16387714445590973\n",
            "Validation Accuracy: 86.35000000000001     Validation Loss:  0.3724518760253256\n",
            " \n",
            "Epoch 9\n",
            "loss: 0.1485670804977417\n",
            "loss: 0.18912243843078613\n",
            "Validation Accuracy: 89.59     Validation Loss:  0.30505555555129205\n",
            " \n",
            "Epoch 10\n",
            "loss: 0.22251185774803162\n",
            "loss: 0.1909756362438202\n",
            "Validation Accuracy: 89.67     Validation Loss:  0.29852879498475277\n",
            " \n",
            "Epoch 11\n",
            "loss: 0.05390220135450363\n",
            "loss: 0.5136352181434631\n",
            "Validation Accuracy: 89.86     Validation Loss:  0.2922220514795651\n",
            " \n",
            "Epoch 12\n",
            "loss: 0.30488497018814087\n",
            "loss: 0.16639462113380432\n",
            "Validation Accuracy: 90.01     Validation Loss:  0.2882175712992018\n",
            " \n",
            "Epoch 13\n",
            "loss: 0.07017980515956879\n",
            "loss: 0.16630296409130096\n",
            "Validation Accuracy: 89.42999999999999     Validation Loss:  0.3089518357818119\n",
            " \n",
            "Epoch 14\n",
            "loss: 0.21424993872642517\n",
            "loss: 0.05710185319185257\n",
            "Validation Accuracy: 90.12     Validation Loss:  0.303217229138786\n",
            " \n",
            "Epoch 15\n",
            "loss: 0.512250542640686\n",
            "loss: 0.2508762776851654\n",
            "Validation Accuracy: 90.29     Validation Loss:  0.3028508698026212\n",
            " \n",
            "Epoch 16\n",
            "loss: 0.16260407865047455\n",
            "loss: 0.22891202569007874\n",
            "Validation Accuracy: 89.96     Validation Loss:  0.3137348194639332\n",
            " \n",
            "Epoch 17\n",
            "loss: 0.05506058782339096\n",
            "loss: 0.1931689828634262\n",
            "Validation Accuracy: 90.28     Validation Loss:  0.3300599384660157\n",
            " \n",
            "Epoch 18\n",
            "loss: 0.09002522379159927\n",
            "loss: 0.23958276212215424\n",
            "Validation Accuracy: 90.16     Validation Loss:  0.33050147842127864\n",
            " \n",
            "Epoch 19\n",
            "loss: 0.046834371984004974\n",
            "loss: 0.12266209721565247\n",
            "Validation Accuracy: 89.92     Validation Loss:  0.3062375673827843\n",
            " \n",
            "Epoch 20\n",
            "loss: 0.07435212284326553\n",
            "loss: 0.08859160542488098\n",
            "Validation Accuracy: 90.02     Validation Loss:  0.3225944591656375\n",
            " \n"
          ]
        }
      ]
    },
    {
      "cell_type": "code",
      "source": [
        "# Plot results   \n",
        "x = np.linspace(1, epochs, epochs)      \n",
        "plt.figure(figsize=(7,5))\n",
        "plt.title(\"Conv Layer LeNet: Train Loss and Val Accuracy\")\n",
        "plt.plot(x, trainLosses, label=\"Train Loss\")\n",
        "plt.plot(x, valHist, label=\"Val Accuracy\")\n",
        "plt.plot(x, trainHist, label=\"Train Accuracy\")\n",
        "plt.xlabel(\"Epoch\")\n",
        "plt.ylabel(\"Value\")\n",
        "plt.legend()\n",
        "plt.xlim(0, epochs)\n",
        "plt.ylim(0, 1.5)\n",
        "plt.show()\n"
      ],
      "metadata": {
        "colab": {
          "base_uri": "https://localhost:8080/",
          "height": 350
        },
        "id": "QlmflUtyZzzz",
        "outputId": "aa81117e-fb1c-4521-e02d-859e6e23e0e2"
      },
      "execution_count": 67,
      "outputs": [
        {
          "output_type": "display_data",
          "data": {
            "text/plain": [
              "<Figure size 504x360 with 1 Axes>"
            ],
            "image/png": "[encoded data removed]"
          },
          "metadata": {
            "needs_background": "light"
          }
        }
      ]
    },
    {
      "cell_type": "markdown",
      "source": [
        "# 2d) Experimental LeNet - FC Layers"
      ],
      "metadata": {
        "id": "ci0VW60sbMcd"
      }
    },
    {
      "cell_type": "code",
      "source": [
        "ExpLeNetFC = nn.Sequential(\n",
        "    \n",
        "            nn.Conv2d(1, 6, kernel_size=5, padding=2), nn.ReLU(),    \n",
        "            nn.MaxPool2d(2),                                          \n",
        "            nn.Conv2d(6, 16, kernel_size=5), nn.ReLU(),            \n",
        "            nn.MaxPool2d(2),                                          \n",
        "            nn.Flatten(),                                            \n",
        "            nn.Linear(400, 256), nn.ReLU(),                       \n",
        "            nn.Linear(256, 128), nn.ReLU(),\n",
        "            nn.Linear(128, 64), nn.ReLU(),\n",
        "            nn.Linear(64, 32), nn.ReLU(),                       \n",
        "            nn.Linear(32, 10)                                    \n",
        "\n",
        ")"
      ],
      "metadata": {
        "id": "j-4JD57paoIW"
      },
      "execution_count": 40,
      "outputs": []
    },
    {
      "cell_type": "code",
      "source": [
        "summary(ExpLeNetFC, input_size = (1, 28, 28), batch_size =32)"
      ],
      "metadata": {
        "colab": {
          "base_uri": "https://localhost:8080/"
        },
        "id": "aRqC_AvcfvVu",
        "outputId": "10b13d8f-1a57-4439-fe58-e06a19782000"
      },
      "execution_count": null,
      "outputs": [
        {
          "output_type": "stream",
          "name": "stdout",
          "text": [
            "----------------------------------------------------------------\n",
            "        Layer (type)               Output Shape         Param #\n",
            "================================================================\n",
            "            Conv2d-1            [32, 6, 28, 28]             156\n",
            "              ReLU-2            [32, 6, 28, 28]               0\n",
            "         MaxPool2d-3            [32, 6, 14, 14]               0\n",
            "            Conv2d-4           [32, 16, 10, 10]           2,416\n",
            "              ReLU-5           [32, 16, 10, 10]               0\n",
            "         MaxPool2d-6             [32, 16, 5, 5]               0\n",
            "           Flatten-7                  [32, 400]               0\n",
            "            Linear-8                  [32, 256]         102,656\n",
            "              ReLU-9                  [32, 256]               0\n",
            "           Linear-10                  [32, 128]          32,896\n",
            "             ReLU-11                  [32, 128]               0\n",
            "           Linear-12                   [32, 64]           8,256\n",
            "             ReLU-13                   [32, 64]               0\n",
            "           Linear-14                   [32, 32]           2,080\n",
            "             ReLU-15                   [32, 32]               0\n",
            "           Linear-16                   [32, 10]             330\n",
            "================================================================\n",
            "Total params: 148,790\n",
            "Trainable params: 148,790\n",
            "Non-trainable params: 0\n",
            "----------------------------------------------------------------\n",
            "Input size (MB): 0.10\n",
            "Forward/backward pass size (MB): 3.80\n",
            "Params size (MB): 0.57\n",
            "Estimated Total Size (MB): 4.46\n",
            "----------------------------------------------------------------\n"
          ]
        }
      ]
    },
    {
      "cell_type": "code",
      "source": [
        "macs, params = get_model_complexity_info(ExpLeNetFC, (1, 28, 28), as_strings=True,\n",
        "                                           print_per_layer_stat=True, verbose=True)\n",
        "print('Computational complexity: ', macs)\n",
        "print('Number of parameters: ', params)"
      ],
      "metadata": {
        "colab": {
          "base_uri": "https://localhost:8080/",
          "height": 0
        },
        "id": "6-BTdmzof5lD",
        "outputId": "60ed8d25-2a74-485f-8d83-925100a3db89"
      },
      "execution_count": 41,
      "outputs": [
        {
          "output_type": "stream",
          "name": "stdout",
          "text": [
            "Warning: module Flatten is treated as a zero-op.\n",
            "Sequential(\n",
            "  148.79 k, 100.000% Params, 523.21 KMac, 100.000% MACs, \n",
            "  (0): Conv2d(156, 0.105% Params, 122.3 KMac, 23.376% MACs, 1, 6, kernel_size=(5, 5), stride=(1, 1), padding=(2, 2))\n",
            "  (1): ReLU(0, 0.000% Params, 4.7 KMac, 0.899% MACs, )\n",
            "  (2): MaxPool2d(0, 0.000% Params, 4.7 KMac, 0.899% MACs, kernel_size=2, stride=2, padding=0, dilation=1, ceil_mode=False)\n",
            "  (3): Conv2d(2.42 k, 1.624% Params, 241.6 KMac, 46.176% MACs, 6, 16, kernel_size=(5, 5), stride=(1, 1))\n",
            "  (4): ReLU(0, 0.000% Params, 1.6 KMac, 0.306% MACs, )\n",
            "  (5): MaxPool2d(0, 0.000% Params, 1.6 KMac, 0.306% MACs, kernel_size=2, stride=2, padding=0, dilation=1, ceil_mode=False)\n",
            "  (6): Flatten(0, 0.000% Params, 0.0 Mac, 0.000% MACs, start_dim=1, end_dim=-1)\n",
            "  (7): Linear(102.66 k, 68.994% Params, 102.66 KMac, 19.620% MACs, in_features=400, out_features=256, bias=True)\n",
            "  (8): ReLU(0, 0.000% Params, 256.0 Mac, 0.049% MACs, )\n",
            "  (9): Linear(32.9 k, 22.109% Params, 32.9 KMac, 6.287% MACs, in_features=256, out_features=128, bias=True)\n",
            "  (10): ReLU(0, 0.000% Params, 128.0 Mac, 0.024% MACs, )\n",
            "  (11): Linear(8.26 k, 5.549% Params, 8.26 KMac, 1.578% MACs, in_features=128, out_features=64, bias=True)\n",
            "  (12): ReLU(0, 0.000% Params, 64.0 Mac, 0.012% MACs, )\n",
            "  (13): Linear(2.08 k, 1.398% Params, 2.08 KMac, 0.398% MACs, in_features=64, out_features=32, bias=True)\n",
            "  (14): ReLU(0, 0.000% Params, 32.0 Mac, 0.006% MACs, )\n",
            "  (15): Linear(330, 0.222% Params, 330.0 Mac, 0.063% MACs, in_features=32, out_features=10, bias=True)\n",
            ")\n",
            "Computational complexity:  523.21 KMac\n",
            "Number of parameters:  148.79 k\n"
          ]
        }
      ]
    },
    {
      "cell_type": "code",
      "source": [
        "criterion = nn.CrossEntropyLoss()\n",
        "optimizer = optim.Adam(ExpLeNetFC.parameters(), lr=0.001)"
      ],
      "metadata": {
        "id": "Myw1xFoBgNob"
      },
      "execution_count": 42,
      "outputs": []
    },
    {
      "cell_type": "code",
      "source": [
        "# Begin training over 20 epochs\n",
        "epochs = 20\n",
        "valHist = []\n",
        "valLosses = []\n",
        "trainHist = []\n",
        "trainLosses = []\n",
        "interLosses = []\n",
        "avgLosses = []\n",
        "\n",
        "for t in range(epochs):\n",
        "    actualEpoch = t+1\n",
        "    print(\"Epoch\", actualEpoch)\n",
        "    trainLoop(training_loader, ExpLeNetFC, criterion, optimizer)\n",
        "    valLoop(validation_loader, ExpLeNetFC, criterion)"
      ],
      "metadata": {
        "colab": {
          "base_uri": "https://localhost:8080/",
          "height": 0
        },
        "id": "0IgpcceJgv-a",
        "outputId": "4aefadf5-9e3a-49d7-d31b-1d5c55e1f8df"
      },
      "execution_count": 43,
      "outputs": [
        {
          "output_type": "stream",
          "name": "stdout",
          "text": [
            "Epoch 1\n",
            "loss: 2.290706157684326\n",
            "loss: 0.307341068983078\n",
            "Validation Accuracy: 82.17999999999999     Validation Loss:  0.48632207193884985\n",
            " \n",
            "Epoch 2\n",
            "loss: 0.4437580108642578\n",
            "loss: 0.35284027457237244\n",
            "Validation Accuracy: 86.22999999999999     Validation Loss:  0.38711444512247656\n",
            " \n",
            "Epoch 3\n",
            "loss: 0.37868165969848633\n",
            "loss: 0.2912781834602356\n",
            "Validation Accuracy: 85.41     Validation Loss:  0.397343154841909\n",
            " \n",
            "Epoch 4\n",
            "loss: 0.4657308757305145\n",
            "loss: 0.3759935200214386\n",
            "Validation Accuracy: 87.35000000000001     Validation Loss:  0.3495084028750563\n",
            " \n",
            "Epoch 5\n",
            "loss: 0.17693762481212616\n",
            "loss: 0.2395053654909134\n",
            "Validation Accuracy: 88.24     Validation Loss:  0.3206745018831457\n",
            " \n",
            "Epoch 6\n",
            "loss: 0.28645333647727966\n",
            "loss: 0.15221655368804932\n",
            "Validation Accuracy: 88.75     Validation Loss:  0.3223715439653054\n",
            " \n",
            "Epoch 7\n",
            "loss: 0.5499658584594727\n",
            "loss: 0.26621702313423157\n",
            "Validation Accuracy: 89.60000000000001     Validation Loss:  0.2914217749116615\n",
            " \n",
            "Epoch 8\n",
            "loss: 0.1569925844669342\n",
            "loss: 0.20477882027626038\n",
            "Validation Accuracy: 89.9     Validation Loss:  0.29118004319862056\n",
            " \n",
            "Epoch 9\n",
            "loss: 0.3153538107872009\n",
            "loss: 0.14894960820674896\n",
            "Validation Accuracy: 89.82     Validation Loss:  0.2950234032286623\n",
            " \n",
            "Epoch 10\n",
            "loss: 0.22837993502616882\n",
            "loss: 0.26834988594055176\n",
            "Validation Accuracy: 89.84     Validation Loss:  0.3026259756935671\n",
            " \n",
            "Epoch 11\n",
            "loss: 0.2310730218887329\n",
            "loss: 0.11507314443588257\n",
            "Validation Accuracy: 90.41     Validation Loss:  0.28189363941169393\n",
            " \n",
            "Epoch 12\n",
            "loss: 0.13440990447998047\n",
            "loss: 0.28459158539772034\n",
            "Validation Accuracy: 90.27     Validation Loss:  0.29605126841523394\n",
            " \n",
            "Epoch 13\n",
            "loss: 0.0951283723115921\n",
            "loss: 0.06337636709213257\n",
            "Validation Accuracy: 90.14999999999999     Validation Loss:  0.29936800822734644\n",
            " \n",
            "Epoch 14\n",
            "loss: 0.08569104969501495\n",
            "loss: 0.10935777425765991\n",
            "Validation Accuracy: 89.64     Validation Loss:  0.31783987550487436\n",
            " \n",
            "Epoch 15\n",
            "loss: 0.0524703748524189\n",
            "loss: 0.0757688507437706\n",
            "Validation Accuracy: 89.59     Validation Loss:  0.34934913983550697\n",
            " \n",
            "Epoch 16\n",
            "loss: 0.07670421898365021\n",
            "loss: 0.44105902314186096\n",
            "Validation Accuracy: 89.81     Validation Loss:  0.3355066216648958\n",
            " \n",
            "Epoch 17\n",
            "loss: 0.3046317398548126\n",
            "loss: 0.05711526796221733\n",
            "Validation Accuracy: 89.95     Validation Loss:  0.31446933381842634\n",
            " \n",
            "Epoch 18\n",
            "loss: 0.08318367600440979\n",
            "loss: 0.05493469536304474\n",
            "Validation Accuracy: 89.53999999999999     Validation Loss:  0.3434674945502236\n",
            " \n",
            "Epoch 19\n",
            "loss: 0.13648349046707153\n",
            "loss: 0.03826886788010597\n",
            "Validation Accuracy: 90.03     Validation Loss:  0.3666710299603379\n",
            " \n",
            "Epoch 20\n",
            "loss: 0.19884093105793\n",
            "loss: 0.11653818935155869\n",
            "Validation Accuracy: 90.56     Validation Loss:  0.37057298691437457\n",
            " \n"
          ]
        }
      ]
    },
    {
      "cell_type": "code",
      "source": [
        "# Plot results   \n",
        "x = np.linspace(1, epochs, epochs)      \n",
        "plt.figure(figsize=(7,5))\n",
        "plt.title(\"FC Layer LeNet: Train Loss and Val Accuracy\")\n",
        "plt.plot(x, trainLosses, label=\"Train Loss\")\n",
        "plt.plot(x, valHist, label=\"Val Accuracy\")\n",
        "plt.plot(x, trainHist, label=\"Train Accuracy\")\n",
        "plt.xlabel(\"Epoch\")\n",
        "plt.ylabel(\"Value\")\n",
        "plt.legend()\n",
        "plt.xlim(0, epochs)\n",
        "plt.ylim(0, 1.5)\n",
        "plt.show()\n"
      ],
      "metadata": {
        "colab": {
          "base_uri": "https://localhost:8080/",
          "height": 350
        },
        "id": "zehggBuBg3hv",
        "outputId": "965a1e10-71be-4327-f1b4-9a606f5840c9"
      },
      "execution_count": 44,
      "outputs": [
        {
          "output_type": "display_data",
          "data": {
            "text/plain": [
              "<Figure size 504x360 with 1 Axes>"
            ],
            "image/png": "[encoded data removed]"
          },
          "metadata": {
            "needs_background": "light"
          }
        }
      ]
    },
    {
      "cell_type": "markdown",
      "source": [
        "# 2e) Experimental LeNet - Learning Rate"
      ],
      "metadata": {
        "id": "mOUUmA9mnNzP"
      }
    },
    {
      "cell_type": "code",
      "source": [
        "ExpLeNetLearn = nn.Sequential(\n",
        "\n",
        "    nn.Conv2d(1, 6, kernel_size=5, padding=2), nn.ReLU(),     \n",
        "    nn.MaxPool2d(2),                                          \n",
        "    nn.Conv2d(6, 16, kernel_size=5), nn.ReLU(),          \n",
        "    nn.MaxPool2d(2),                                          \n",
        "    nn.Flatten(),\n",
        "    nn.Linear(400, 120), nn.ReLU(),                         \n",
        "    nn.Linear(120, 84), nn.ReLU(),                         \n",
        "    nn.Linear(84, 10)                                      \n",
        ")"
      ],
      "metadata": {
        "id": "ZrITfq0hnJxX"
      },
      "execution_count": 11,
      "outputs": []
    },
    {
      "cell_type": "code",
      "source": [
        "summary(ExpLeNetLearn, input_size = (1, 28, 28), batch_size =32)"
      ],
      "metadata": {
        "colab": {
          "base_uri": "https://localhost:8080/",
          "height": 0
        },
        "id": "9bAUCXQ8ndHG",
        "outputId": "cb327af5-785e-48b4-b494-89a8d8055ec4"
      },
      "execution_count": 12,
      "outputs": [
        {
          "output_type": "stream",
          "name": "stdout",
          "text": [
            "----------------------------------------------------------------\n",
            "        Layer (type)               Output Shape         Param #\n",
            "================================================================\n",
            "            Conv2d-1            [32, 6, 28, 28]             156\n",
            "              ReLU-2            [32, 6, 28, 28]               0\n",
            "         MaxPool2d-3            [32, 6, 14, 14]               0\n",
            "            Conv2d-4           [32, 16, 10, 10]           2,416\n",
            "              ReLU-5           [32, 16, 10, 10]               0\n",
            "         MaxPool2d-6             [32, 16, 5, 5]               0\n",
            "           Flatten-7                  [32, 400]               0\n",
            "            Linear-8                  [32, 120]          48,120\n",
            "              ReLU-9                  [32, 120]               0\n",
            "           Linear-10                   [32, 84]          10,164\n",
            "             ReLU-11                   [32, 84]               0\n",
            "           Linear-12                   [32, 10]             850\n",
            "================================================================\n",
            "Total params: 61,706\n",
            "Trainable params: 61,706\n",
            "Non-trainable params: 0\n",
            "----------------------------------------------------------------\n",
            "Input size (MB): 0.10\n",
            "Forward/backward pass size (MB): 3.66\n",
            "Params size (MB): 0.24\n",
            "Estimated Total Size (MB): 3.99\n",
            "----------------------------------------------------------------\n"
          ]
        }
      ]
    },
    {
      "cell_type": "code",
      "source": [
        "macs, params = get_model_complexity_info(ExpLeNetLearn, (1, 28, 28), as_strings=True,\n",
        "                                           print_per_layer_stat=True, verbose=True)\n",
        "print('Computational complexity: ', macs)\n",
        "print('Number of parameters: ', params)"
      ],
      "metadata": {
        "colab": {
          "base_uri": "https://localhost:8080/",
          "height": 0
        },
        "id": "7ekG5LuGnh8j",
        "outputId": "112aeab7-8f59-4def-f2a3-20ae345d3c80"
      },
      "execution_count": 13,
      "outputs": [
        {
          "output_type": "stream",
          "name": "stdout",
          "text": [
            "Warning: module Flatten is treated as a zero-op.\n",
            "Sequential(\n",
            "  61.71 k, 100.000% Params, 435.85 KMac, 100.000% MACs, \n",
            "  (0): Conv2d(156, 0.253% Params, 122.3 KMac, 28.061% MACs, 1, 6, kernel_size=(5, 5), stride=(1, 1), padding=(2, 2))\n",
            "  (1): ReLU(0, 0.000% Params, 4.7 KMac, 1.079% MACs, )\n",
            "  (2): MaxPool2d(0, 0.000% Params, 4.7 KMac, 1.079% MACs, kernel_size=2, stride=2, padding=0, dilation=1, ceil_mode=False)\n",
            "  (3): Conv2d(2.42 k, 3.915% Params, 241.6 KMac, 55.432% MACs, 6, 16, kernel_size=(5, 5), stride=(1, 1))\n",
            "  (4): ReLU(0, 0.000% Params, 1.6 KMac, 0.367% MACs, )\n",
            "  (5): MaxPool2d(0, 0.000% Params, 1.6 KMac, 0.367% MACs, kernel_size=2, stride=2, padding=0, dilation=1, ceil_mode=False)\n",
            "  (6): Flatten(0, 0.000% Params, 0.0 Mac, 0.000% MACs, start_dim=1, end_dim=-1)\n",
            "  (7): Linear(48.12 k, 77.983% Params, 48.12 KMac, 11.040% MACs, in_features=400, out_features=120, bias=True)\n",
            "  (8): ReLU(0, 0.000% Params, 120.0 Mac, 0.028% MACs, )\n",
            "  (9): Linear(10.16 k, 16.472% Params, 10.16 KMac, 2.332% MACs, in_features=120, out_features=84, bias=True)\n",
            "  (10): ReLU(0, 0.000% Params, 84.0 Mac, 0.019% MACs, )\n",
            "  (11): Linear(850, 1.377% Params, 850.0 Mac, 0.195% MACs, in_features=84, out_features=10, bias=True)\n",
            ")\n",
            "Computational complexity:  435.85 KMac\n",
            "Number of parameters:  61.71 k\n"
          ]
        }
      ]
    },
    {
      "cell_type": "code",
      "source": [
        "criterion = nn.CrossEntropyLoss()\n",
        "optimizer = optim.Adam(ExpLeNetLearn.parameters(), lr=0.0001)"
      ],
      "metadata": {
        "id": "1z-5UbqonmGO"
      },
      "execution_count": 14,
      "outputs": []
    },
    {
      "cell_type": "code",
      "source": [
        "# Begin training over 20 epochs\n",
        "epochs = 20\n",
        "valHist = []\n",
        "valLosses = []\n",
        "trainHist = []\n",
        "trainLosses = []\n",
        "interLosses = []\n",
        "avgLosses = []\n",
        "\n",
        "for t in range(epochs):\n",
        "    actualEpoch = t+1\n",
        "    print(\"Epoch\", actualEpoch)\n",
        "    trainLoop(training_loader, ExpLeNetLearn, criterion, optimizer)\n",
        "    valLoop(validation_loader, ExpLeNetLearn, criterion)"
      ],
      "metadata": {
        "colab": {
          "base_uri": "https://localhost:8080/",
          "height": 0
        },
        "id": "6paNAjzin-aA",
        "outputId": "d84891af-7c4a-4eb2-e6b8-c2cf4fe1c56f"
      },
      "execution_count": 15,
      "outputs": [
        {
          "output_type": "stream",
          "name": "stdout",
          "text": [
            "Epoch 1\n",
            "loss: 2.3152363300323486\n",
            "loss: 0.8267670273780823\n",
            "Validation Accuracy: 73.92     Validation Loss:  0.6747302528197011\n",
            " \n",
            "Epoch 2\n",
            "loss: 0.9893612265586853\n",
            "loss: 0.5346402525901794\n",
            "Validation Accuracy: 77.42     Validation Loss:  0.5961042833023559\n",
            " \n",
            "Epoch 3\n",
            "loss: 0.6567239165306091\n",
            "loss: 0.4096822142601013\n",
            "Validation Accuracy: 79.24     Validation Loss:  0.5617961569811208\n",
            " \n",
            "Epoch 4\n",
            "loss: 0.3768235146999359\n",
            "loss: 0.33396825194358826\n",
            "Validation Accuracy: 81.08999999999999     Validation Loss:  0.518824759097145\n",
            " \n",
            "Epoch 5\n",
            "loss: 0.3884927034378052\n",
            "loss: 0.5940000414848328\n",
            "Validation Accuracy: 82.84     Validation Loss:  0.48288729810676634\n",
            " \n",
            "Epoch 6\n",
            "loss: 0.4623178243637085\n",
            "loss: 0.2941366136074066\n",
            "Validation Accuracy: 82.71     Validation Loss:  0.4729425026871526\n",
            " \n",
            "Epoch 7\n",
            "loss: 0.20184540748596191\n",
            "loss: 0.2270846962928772\n",
            "Validation Accuracy: 83.54     Validation Loss:  0.4511499640802606\n",
            " \n",
            "Epoch 8\n",
            "loss: 0.5141557455062866\n",
            "loss: 0.2197611778974533\n",
            "Validation Accuracy: 84.89999999999999     Validation Loss:  0.427090405656126\n",
            " \n",
            "Epoch 9\n",
            "loss: 0.2510554790496826\n",
            "loss: 0.46455809473991394\n",
            "Validation Accuracy: 85.08     Validation Loss:  0.4200473606300811\n",
            " \n",
            "Epoch 10\n",
            "loss: 0.20845942199230194\n",
            "loss: 0.4548656940460205\n",
            "Validation Accuracy: 85.81     Validation Loss:  0.40200565555415596\n",
            " \n",
            "Epoch 11\n",
            "loss: 0.28233468532562256\n",
            "loss: 0.3258947432041168\n",
            "Validation Accuracy: 85.19     Validation Loss:  0.4096351430748408\n",
            " \n",
            "Epoch 12\n",
            "loss: 0.25641652941703796\n",
            "loss: 0.2643296718597412\n",
            "Validation Accuracy: 86.55000000000001     Validation Loss:  0.381915259915895\n",
            " \n",
            "Epoch 13\n",
            "loss: 0.29789093136787415\n",
            "loss: 0.37787431478500366\n",
            "Validation Accuracy: 85.92     Validation Loss:  0.39304941247541686\n",
            " \n",
            "Epoch 14\n",
            "loss: 0.3465706408023834\n",
            "loss: 0.4797326624393463\n",
            "Validation Accuracy: 86.5     Validation Loss:  0.37464668042362687\n",
            " \n",
            "Epoch 15\n",
            "loss: 0.4175805449485779\n",
            "loss: 0.44802987575531006\n",
            "Validation Accuracy: 86.76     Validation Loss:  0.3647009155001884\n",
            " \n",
            "Epoch 16\n",
            "loss: 0.43517136573791504\n",
            "loss: 0.36722302436828613\n",
            "Validation Accuracy: 87.12     Validation Loss:  0.35968529384214276\n",
            " \n",
            "Epoch 17\n",
            "loss: 0.15792155265808105\n",
            "loss: 0.1539457142353058\n",
            "Validation Accuracy: 87.59     Validation Loss:  0.3501290382025912\n",
            " \n",
            "Epoch 18\n",
            "loss: 0.387608140707016\n",
            "loss: 0.3448188602924347\n",
            "Validation Accuracy: 86.53     Validation Loss:  0.36654538631486816\n",
            " \n",
            "Epoch 19\n",
            "loss: 0.3941614329814911\n",
            "loss: 0.3907373547554016\n",
            "Validation Accuracy: 87.94     Validation Loss:  0.33603902344410413\n",
            " \n",
            "Epoch 20\n",
            "loss: 0.21067094802856445\n",
            "loss: 0.40098559856414795\n",
            "Validation Accuracy: 87.72999999999999     Validation Loss:  0.3397259250426064\n",
            " \n"
          ]
        }
      ]
    },
    {
      "cell_type": "code",
      "source": [
        "# Plot results   \n",
        "x = np.linspace(1, epochs, epochs)      \n",
        "plt.figure(figsize=(7,5))\n",
        "plt.title(\"Learn Rate LeNet: Train Loss and Val Accuracy\")\n",
        "plt.plot(x, trainLosses, label=\"Train Loss\")\n",
        "plt.plot(x, valHist, label=\"Val Accuracy\")\n",
        "plt.plot(x, trainHist, label=\"Train Accuracy\")\n",
        "plt.xlabel(\"Epoch\")\n",
        "plt.ylabel(\"Value\")\n",
        "plt.legend()\n",
        "plt.xlim(0, epochs)\n",
        "plt.ylim(0, 1.5)\n",
        "plt.show()\n"
      ],
      "metadata": {
        "colab": {
          "base_uri": "https://localhost:8080/",
          "height": 350
        },
        "id": "CRa9pt1Wpqy9",
        "outputId": "3a128a97-8cee-4dd0-a0dd-3bf1461f7dd4"
      },
      "execution_count": 16,
      "outputs": [
        {
          "output_type": "display_data",
          "data": {
            "text/plain": [
              "<Figure size 504x360 with 1 Axes>"
            ],
            "image/png": "[encoded data removed]"
          },
          "metadata": {
            "needs_background": "light"
          }
        }
      ]
    },
    {
      "cell_type": "code",
      "source": [
        "trainLosses, trainHist"
      ],
      "metadata": {
        "colab": {
          "base_uri": "https://localhost:8080/",
          "height": 0
        },
        "id": "G_uN5u06oFzh",
        "outputId": "5e49bcb1-3b39-44b8-b73e-9065f6c0d98b"
      },
      "execution_count": 17,
      "outputs": [
        {
          "output_type": "execute_result",
          "data": {
            "text/plain": [
              "([0.9013984229405722,\n",
              "  0.6214531558195749,\n",
              "  0.5549947891314825,\n",
              "  0.5094297926028569,\n",
              "  0.47651880617936454,\n",
              "  0.451864084148407,\n",
              "  0.4300498764872551,\n",
              "  0.41432707730134327,\n",
              "  0.3972409782886505,\n",
              "  0.38560177760918934,\n",
              "  0.3737924686113993,\n",
              "  0.3616999568462372,\n",
              "  0.3544420238931974,\n",
              "  0.34659421243866284,\n",
              "  0.3379843934893608,\n",
              "  0.3310685098648071,\n",
              "  0.3239920284807682,\n",
              "  0.3173277738412221,\n",
              "  0.31247236766616504,\n",
              "  0.30721893773476283],\n",
              " [0.6790833333333334,\n",
              "  0.76885,\n",
              "  0.7992166666666667,\n",
              "  0.81935,\n",
              "  0.8323833333333334,\n",
              "  0.8418666666666667,\n",
              "  0.8499,\n",
              "  0.8552333333333333,\n",
              "  0.8609666666666667,\n",
              "  0.8653833333333333,\n",
              "  0.8689333333333333,\n",
              "  0.8729,\n",
              "  0.8757166666666667,\n",
              "  0.8782,\n",
              "  0.8804666666666666,\n",
              "  0.8833833333333333,\n",
              "  0.88575,\n",
              "  0.8875333333333333,\n",
              "  0.8900333333333333,\n",
              "  0.8899833333333333])"
            ]
          },
          "metadata": {},
          "execution_count": 17
        }
      ]
    },
    {
      "cell_type": "markdown",
      "source": [
        "# 3) Best Model w/ Dropout"
      ],
      "metadata": {
        "id": "kW5UWZXWhy1p"
      }
    },
    {
      "cell_type": "code",
      "source": [
        "DropLeNetChan = nn.Sequential(   \n",
        "    \n",
        "            nn.Conv2d(1, 32, kernel_size=5, padding=2), nn.ReLU(),    \n",
        "            nn.MaxPool2d(2),                                         \n",
        "            nn.Dropout(0.3),\n",
        "            nn.Conv2d(32, 32, kernel_size=5), nn.ReLU(),             \n",
        "            nn.MaxPool2d(2),                                          \n",
        "            nn.Dropout(0.3),\n",
        "            nn.Flatten(),                                             \n",
        "            nn.Linear(800, 256), nn.ReLU(),                           \n",
        "            nn.Dropout(0.3),\n",
        "            nn.Linear(256, 64), nn.ReLU(),                            \n",
        "            nn.Dropout(0.3),\n",
        "            nn.Linear(64, 10)                                        \n",
        ")"
      ],
      "metadata": {
        "id": "ZQR_Li7bhfGr"
      },
      "execution_count": 12,
      "outputs": []
    },
    {
      "cell_type": "code",
      "source": [
        "summary(DropLeNetChan, input_size = (1, 28, 28), batch_size =32)"
      ],
      "metadata": {
        "colab": {
          "base_uri": "https://localhost:8080/",
          "height": 0
        },
        "id": "mKZwSPhxS69x",
        "outputId": "7f2d4026-4fb1-44d1-b0a0-054212506e19"
      },
      "execution_count": 13,
      "outputs": [
        {
          "output_type": "stream",
          "name": "stdout",
          "text": [
            "----------------------------------------------------------------\n",
            "        Layer (type)               Output Shape         Param #\n",
            "================================================================\n",
            "            Conv2d-1           [32, 32, 28, 28]             832\n",
            "              ReLU-2           [32, 32, 28, 28]               0\n",
            "         MaxPool2d-3           [32, 32, 14, 14]               0\n",
            "           Dropout-4           [32, 32, 14, 14]               0\n",
            "            Conv2d-5           [32, 32, 10, 10]          25,632\n",
            "              ReLU-6           [32, 32, 10, 10]               0\n",
            "         MaxPool2d-7             [32, 32, 5, 5]               0\n",
            "           Dropout-8             [32, 32, 5, 5]               0\n",
            "           Flatten-9                  [32, 800]               0\n",
            "           Linear-10                  [32, 256]         205,056\n",
            "             ReLU-11                  [32, 256]               0\n",
            "          Dropout-12                  [32, 256]               0\n",
            "           Linear-13                   [32, 64]          16,448\n",
            "             ReLU-14                   [32, 64]               0\n",
            "          Dropout-15                   [32, 64]               0\n",
            "           Linear-16                   [32, 10]             650\n",
            "================================================================\n",
            "Total params: 248,618\n",
            "Trainable params: 248,618\n",
            "Non-trainable params: 0\n",
            "----------------------------------------------------------------\n",
            "Input size (MB): 0.10\n",
            "Forward/backward pass size (MB): 17.70\n",
            "Params size (MB): 0.95\n",
            "Estimated Total Size (MB): 18.74\n",
            "----------------------------------------------------------------\n"
          ]
        }
      ]
    },
    {
      "cell_type": "code",
      "source": [
        "macs, params = get_model_complexity_info(DropLeNetChan, (1, 28, 28), as_strings=True,\n",
        "                                           print_per_layer_stat=True, verbose=True)\n",
        "print('Computational complexity: ', macs)\n",
        "print('Number of parameters: ', params)"
      ],
      "metadata": {
        "colab": {
          "base_uri": "https://localhost:8080/",
          "height": 0
        },
        "id": "h4gwnMAoS_ut",
        "outputId": "cefd2caa-f48b-4195-d9d3-8011ed52114f"
      },
      "execution_count": 69,
      "outputs": [
        {
          "output_type": "stream",
          "name": "stdout",
          "text": [
            "Warning: module Dropout is treated as a zero-op.\n",
            "Warning: module Flatten is treated as a zero-op.\n",
            "Sequential(\n",
            "  248.62 k, 100.000% Params, 3.49 MMac, 100.000% MACs, \n",
            "  (0): Conv2d(832, 0.335% Params, 652.29 KMac, 18.666% MACs, 1, 32, kernel_size=(5, 5), stride=(1, 1), padding=(2, 2))\n",
            "  (1): ReLU(0, 0.000% Params, 25.09 KMac, 0.718% MACs, )\n",
            "  (2): MaxPool2d(0, 0.000% Params, 25.09 KMac, 0.718% MACs, kernel_size=2, stride=2, padding=0, dilation=1, ceil_mode=False)\n",
            "  (3): Dropout(0, 0.000% Params, 0.0 Mac, 0.000% MACs, p=0.3, inplace=False)\n",
            "  (4): Conv2d(25.63 k, 10.310% Params, 2.56 MMac, 73.349% MACs, 32, 32, kernel_size=(5, 5), stride=(1, 1))\n",
            "  (5): ReLU(0, 0.000% Params, 3.2 KMac, 0.092% MACs, )\n",
            "  (6): MaxPool2d(0, 0.000% Params, 3.2 KMac, 0.092% MACs, kernel_size=2, stride=2, padding=0, dilation=1, ceil_mode=False)\n",
            "  (7): Dropout(0, 0.000% Params, 0.0 Mac, 0.000% MACs, p=0.3, inplace=False)\n",
            "  (8): Flatten(0, 0.000% Params, 0.0 Mac, 0.000% MACs, start_dim=1, end_dim=-1)\n",
            "  (9): Linear(205.06 k, 82.478% Params, 205.06 KMac, 5.868% MACs, in_features=800, out_features=256, bias=True)\n",
            "  (10): ReLU(0, 0.000% Params, 256.0 Mac, 0.007% MACs, )\n",
            "  (11): Dropout(0, 0.000% Params, 0.0 Mac, 0.000% MACs, p=0.3, inplace=False)\n",
            "  (12): Linear(16.45 k, 6.616% Params, 16.45 KMac, 0.471% MACs, in_features=256, out_features=64, bias=True)\n",
            "  (13): ReLU(0, 0.000% Params, 64.0 Mac, 0.002% MACs, )\n",
            "  (14): Dropout(0, 0.000% Params, 0.0 Mac, 0.000% MACs, p=0.3, inplace=False)\n",
            "  (15): Linear(650, 0.261% Params, 650.0 Mac, 0.019% MACs, in_features=64, out_features=10, bias=True)\n",
            ")\n",
            "Computational complexity:  3.49 MMac\n",
            "Number of parameters:  248.62 k\n"
          ]
        }
      ]
    },
    {
      "cell_type": "code",
      "source": [
        "criterion = nn.CrossEntropyLoss()\n",
        "optimizer = optim.Adam(DropLeNetChan.parameters(), lr=0.001)"
      ],
      "metadata": {
        "id": "uVwB_VB4TbGX"
      },
      "execution_count": 70,
      "outputs": []
    },
    {
      "cell_type": "code",
      "source": [
        "# Begin training over 20 epochs\n",
        "epochs = 20\n",
        "valHist = []\n",
        "valLosses = []\n",
        "trainHist = []\n",
        "trainLosses = []\n",
        "interLosses = []\n",
        "avgLosses = []\n",
        "\n",
        "for t in range(epochs):\n",
        "    actualEpoch = t+1\n",
        "    print(\"Epoch\", actualEpoch)\n",
        "    trainLoop(training_loader, DropLeNetChan, criterion, optimizer)\n",
        "    valLoop(validation_loader, DropLeNetChan, criterion)"
      ],
      "metadata": {
        "colab": {
          "base_uri": "https://localhost:8080/",
          "height": 0
        },
        "id": "MCoJJMDyTgTi",
        "outputId": "d19bcd20-3945-44cc-84c9-2d4569924721"
      },
      "execution_count": 71,
      "outputs": [
        {
          "output_type": "stream",
          "name": "stdout",
          "text": [
            "Epoch 1\n",
            "loss: 2.3087844848632812\n",
            "loss: 0.3085750639438629\n",
            "Validation Accuracy: 87.12     Validation Loss:  0.3551344999347251\n",
            " \n",
            "Epoch 2\n",
            "loss: 0.14488404989242554\n",
            "loss: 0.22255806624889374\n",
            "Validation Accuracy: 87.83     Validation Loss:  0.33459360478594663\n",
            " \n",
            "Epoch 3\n",
            "loss: 0.2839284837245941\n",
            "loss: 0.16640044748783112\n",
            "Validation Accuracy: 89.75     Validation Loss:  0.2802122470122366\n",
            " \n",
            "Epoch 4\n",
            "loss: 0.07673846930265427\n",
            "loss: 0.2671598494052887\n",
            "Validation Accuracy: 90.07     Validation Loss:  0.2679402864100739\n",
            " \n",
            "Epoch 5\n",
            "loss: 0.08118152618408203\n",
            "loss: 0.23236508667469025\n",
            "Validation Accuracy: 90.57     Validation Loss:  0.2593775345815923\n",
            " \n",
            "Epoch 6\n",
            "loss: 0.40632304549217224\n",
            "loss: 0.17657463252544403\n",
            "Validation Accuracy: 90.42999999999999     Validation Loss:  0.2714152595879266\n",
            " \n",
            "Epoch 7\n",
            "loss: 0.20439355075359344\n",
            "loss: 0.19893263280391693\n",
            "Validation Accuracy: 91.08000000000001     Validation Loss:  0.2783363019071591\n",
            " \n",
            "Epoch 8\n",
            "loss: 0.07800282537937164\n",
            "loss: 0.09530064463615417\n",
            "Validation Accuracy: 90.91     Validation Loss:  0.2834233138115166\n",
            " \n",
            "Epoch 9\n",
            "loss: 0.02888042852282524\n",
            "loss: 0.2781029939651489\n",
            "Validation Accuracy: 91.16     Validation Loss:  0.28653141904991275\n",
            " \n",
            "Epoch 10\n",
            "loss: 0.045927003026008606\n",
            "loss: 0.07794604450464249\n",
            "Validation Accuracy: 90.89     Validation Loss:  0.2941940748117888\n",
            " \n",
            "Epoch 11\n",
            "loss: 0.10345877707004547\n",
            "loss: 0.11044761538505554\n",
            "Validation Accuracy: 91.17     Validation Loss:  0.2977535161234367\n",
            " \n",
            "Epoch 12\n",
            "loss: 0.1692483127117157\n",
            "loss: 0.38319969177246094\n",
            "Validation Accuracy: 90.51     Validation Loss:  0.3777781583550282\n",
            " \n",
            "Epoch 13\n",
            "loss: 0.0576220266520977\n",
            "loss: 0.02092619426548481\n",
            "Validation Accuracy: 90.42     Validation Loss:  0.3792904548974821\n",
            " \n",
            "Epoch 14\n",
            "loss: 0.006482385098934174\n",
            "loss: 0.07958652079105377\n",
            "Validation Accuracy: 90.74     Validation Loss:  0.3468707030841384\n",
            " \n",
            "Epoch 15\n",
            "loss: 0.09907671809196472\n",
            "loss: 0.2174682468175888\n",
            "Validation Accuracy: 91.34     Validation Loss:  0.3576213141067174\n",
            " \n",
            "Epoch 16\n",
            "loss: 0.0863342434167862\n",
            "loss: 0.029391279444098473\n",
            "Validation Accuracy: 91.18     Validation Loss:  0.35718619907661653\n",
            " \n",
            "Epoch 17\n",
            "loss: 0.018787117674946785\n",
            "loss: 0.030273647978901863\n",
            "Validation Accuracy: 90.96     Validation Loss:  0.40946935341892815\n",
            " \n",
            "Epoch 18\n",
            "loss: 0.09341385960578918\n",
            "loss: 0.015946049243211746\n",
            "Validation Accuracy: 91.51     Validation Loss:  0.41649855165400157\n",
            " \n",
            "Epoch 19\n",
            "loss: 0.01702222228050232\n",
            "loss: 0.015503406524658203\n",
            "Validation Accuracy: 91.19     Validation Loss:  0.44161497947191614\n",
            " \n",
            "Epoch 20\n",
            "loss: 0.15391159057617188\n",
            "loss: 0.001051229308359325\n",
            "Validation Accuracy: 91.25999999999999     Validation Loss:  0.44329784055479976\n",
            " \n"
          ]
        }
      ]
    },
    {
      "cell_type": "code",
      "source": [
        "# Plot results   \n",
        "x = np.linspace(1, epochs, epochs)      \n",
        "plt.figure(figsize=(7,5))\n",
        "plt.title(\"Channel LeNet w/ Dropout: Train Loss and Val Accuracy\")\n",
        "plt.plot(x, trainLosses, label=\"Train Loss\")\n",
        "plt.plot(x, valHist, label=\"Val Accuracy\")\n",
        "plt.plot(x, trainHist, label=\"Train Accuracy\")\n",
        "plt.xlabel(\"Epoch\")\n",
        "plt.ylabel(\"Value\")\n",
        "plt.legend()\n",
        "plt.xlim(0, epochs)\n",
        "plt.ylim(0, 1.5)\n",
        "plt.show()\n"
      ],
      "metadata": {
        "colab": {
          "base_uri": "https://localhost:8080/",
          "height": 350
        },
        "id": "2wXJaJ36VfPp",
        "outputId": "a5355d3b-c053-4459-9ee9-eb72a4d33953"
      },
      "execution_count": 72,
      "outputs": [
        {
          "output_type": "display_data",
          "data": {
            "text/plain": [
              "<Figure size 504x360 with 1 Axes>"
            ],
            "image/png": "[encoded data removed]"
          },
          "metadata": {
            "needs_background": "light"
          }
        }
      ]
    },
    {
      "cell_type": "markdown",
      "source": [
        "# 4) AlexNet"
      ],
      "metadata": {
        "id": "hAx--Fnzh8VA"
      }
    },
    {
      "cell_type": "code",
      "source": [
        "# First analyze AlexNet's complexity\n",
        "AlexNet = nn.Sequential(\n",
        "    \n",
        "            nn.Conv2d(1, 96, kernel_size=11, stride=4, padding=1), nn.ReLU(),\n",
        "            nn.MaxPool2d(kernel_size=3, stride=2),\n",
        "            nn.Conv2d(96, 256, kernel_size=5, padding=2), nn.ReLU(),\n",
        "            nn.MaxPool2d(kernel_size=3, stride=2),\n",
        "            nn.Conv2d(256, 384, kernel_size=3, padding=1), nn.ReLU(),\n",
        "            nn.Conv2d(384, 384, kernel_size=3, padding=1), nn.ReLU(),\n",
        "            nn.Conv2d(384, 256, kernel_size=3, padding=1), nn.ReLU(),\n",
        "            nn.MaxPool2d(kernel_size=3, stride=2),\n",
        "            nn.Flatten(),\n",
        "            nn.Linear(6400, 4096), nn.ReLU(), \n",
        "            nn.Dropout(0.5),\n",
        "            nn.Linear(4096, 4096), nn.ReLU(), \n",
        "            nn.Dropout(0.5),\n",
        "            nn.Linear(4096, 10)\n",
        "\n",
        ")\n"
      ],
      "metadata": {
        "id": "9JSNF2MAiOdQ"
      },
      "execution_count": null,
      "outputs": []
    },
    {
      "cell_type": "code",
      "source": [
        "summary(AlexNet, input_size = (1, 224, 224), batch_size =32)"
      ],
      "metadata": {
        "colab": {
          "base_uri": "https://localhost:8080/"
        },
        "id": "kNR64OguB0Cl",
        "outputId": "51673adb-4d66-4cef-cb2f-851af5ba99cd"
      },
      "execution_count": null,
      "outputs": [
        {
          "output_type": "stream",
          "name": "stdout",
          "text": [
            "----------------------------------------------------------------\n",
            "        Layer (type)               Output Shape         Param #\n",
            "================================================================\n",
            "            Conv2d-1           [32, 96, 54, 54]          11,712\n",
            "              ReLU-2           [32, 96, 54, 54]               0\n",
            "         MaxPool2d-3           [32, 96, 26, 26]               0\n",
            "            Conv2d-4          [32, 256, 26, 26]         614,656\n",
            "              ReLU-5          [32, 256, 26, 26]               0\n",
            "         MaxPool2d-6          [32, 256, 12, 12]               0\n",
            "            Conv2d-7          [32, 384, 12, 12]         885,120\n",
            "              ReLU-8          [32, 384, 12, 12]               0\n",
            "            Conv2d-9          [32, 384, 12, 12]       1,327,488\n",
            "             ReLU-10          [32, 384, 12, 12]               0\n",
            "           Conv2d-11          [32, 256, 12, 12]         884,992\n",
            "             ReLU-12          [32, 256, 12, 12]               0\n",
            "        MaxPool2d-13            [32, 256, 5, 5]               0\n",
            "          Flatten-14                 [32, 6400]               0\n",
            "           Linear-15                 [32, 4096]      26,218,496\n",
            "             ReLU-16                 [32, 4096]               0\n",
            "          Dropout-17                 [32, 4096]               0\n",
            "           Linear-18                 [32, 4096]      16,781,312\n",
            "             ReLU-19                 [32, 4096]               0\n",
            "          Dropout-20                 [32, 4096]               0\n",
            "           Linear-21                   [32, 10]          40,970\n",
            "================================================================\n",
            "Total params: 46,764,746\n",
            "Trainable params: 46,764,746\n",
            "Non-trainable params: 0\n",
            "----------------------------------------------------------------\n",
            "Input size (MB): 6.12\n",
            "Forward/backward pass size (MB): 327.16\n",
            "Params size (MB): 178.39\n",
            "Estimated Total Size (MB): 511.68\n",
            "----------------------------------------------------------------\n"
          ]
        }
      ]
    },
    {
      "cell_type": "code",
      "source": [
        "macs, params = get_model_complexity_info(AlexNet, (1, 224, 224), as_strings=True,\n",
        "                                           print_per_layer_stat=True, verbose=True)\n",
        "print('Computational complexity: ', macs)\n",
        "print('Number of parameters: ', params)"
      ],
      "metadata": {
        "colab": {
          "base_uri": "https://localhost:8080/"
        },
        "id": "0diuYSJ-g9hn",
        "outputId": "7910c576-4294-4253-f960-41e50093afb5"
      },
      "execution_count": null,
      "outputs": [
        {
          "output_type": "stream",
          "name": "stdout",
          "text": [
            "Warning: variables __flops__ or __params__ are already defined for the moduleConv2d ptflops can affect your code!\n",
            "Warning: variables __flops__ or __params__ are already defined for the moduleReLU ptflops can affect your code!\n",
            "Warning: variables __flops__ or __params__ are already defined for the moduleMaxPool2d ptflops can affect your code!\n",
            "Warning: variables __flops__ or __params__ are already defined for the moduleConv2d ptflops can affect your code!\n",
            "Warning: variables __flops__ or __params__ are already defined for the moduleReLU ptflops can affect your code!\n",
            "Warning: variables __flops__ or __params__ are already defined for the moduleMaxPool2d ptflops can affect your code!\n",
            "Warning: variables __flops__ or __params__ are already defined for the moduleConv2d ptflops can affect your code!\n",
            "Warning: variables __flops__ or __params__ are already defined for the moduleReLU ptflops can affect your code!\n",
            "Warning: variables __flops__ or __params__ are already defined for the moduleConv2d ptflops can affect your code!\n",
            "Warning: variables __flops__ or __params__ are already defined for the moduleReLU ptflops can affect your code!\n",
            "Warning: variables __flops__ or __params__ are already defined for the moduleConv2d ptflops can affect your code!\n",
            "Warning: variables __flops__ or __params__ are already defined for the moduleReLU ptflops can affect your code!\n",
            "Warning: variables __flops__ or __params__ are already defined for the moduleMaxPool2d ptflops can affect your code!\n",
            "Warning: variables __flops__ or __params__ are already defined for the moduleLinear ptflops can affect your code!\n",
            "Warning: variables __flops__ or __params__ are already defined for the moduleReLU ptflops can affect your code!\n",
            "Warning: variables __flops__ or __params__ are already defined for the moduleLinear ptflops can affect your code!\n",
            "Warning: variables __flops__ or __params__ are already defined for the moduleReLU ptflops can affect your code!\n",
            "Warning: variables __flops__ or __params__ are already defined for the moduleLinear ptflops can affect your code!\n",
            "Warning: module Flatten is treated as a zero-op.\n",
            "Warning: module Dropout is treated as a zero-op.\n",
            "Sequential(\n",
            "  46.76 M, 100.000% Params, 939.85 MMac, 100.000% MACs, \n",
            "  (0): Conv2d(11.71 k, 0.025% Params, 34.15 MMac, 3.634% MACs, 1, 96, kernel_size=(11, 11), stride=(4, 4), padding=(1, 1))\n",
            "  (1): ReLU(0, 0.000% Params, 279.94 KMac, 0.030% MACs, )\n",
            "  (2): MaxPool2d(0, 0.000% Params, 279.94 KMac, 0.030% MACs, kernel_size=3, stride=2, padding=0, dilation=1, ceil_mode=False)\n",
            "  (3): Conv2d(614.66 k, 1.314% Params, 415.51 MMac, 44.210% MACs, 96, 256, kernel_size=(5, 5), stride=(1, 1), padding=(2, 2))\n",
            "  (4): ReLU(0, 0.000% Params, 173.06 KMac, 0.018% MACs, )\n",
            "  (5): MaxPool2d(0, 0.000% Params, 173.06 KMac, 0.018% MACs, kernel_size=3, stride=2, padding=0, dilation=1, ceil_mode=False)\n",
            "  (6): Conv2d(885.12 k, 1.893% Params, 127.46 MMac, 13.561% MACs, 256, 384, kernel_size=(3, 3), stride=(1, 1), padding=(1, 1))\n",
            "  (7): ReLU(0, 0.000% Params, 55.3 KMac, 0.006% MACs, )\n",
            "  (8): Conv2d(1.33 M, 2.839% Params, 191.16 MMac, 20.339% MACs, 384, 384, kernel_size=(3, 3), stride=(1, 1), padding=(1, 1))\n",
            "  (9): ReLU(0, 0.000% Params, 55.3 KMac, 0.006% MACs, )\n",
            "  (10): Conv2d(884.99 k, 1.892% Params, 127.44 MMac, 13.559% MACs, 384, 256, kernel_size=(3, 3), stride=(1, 1), padding=(1, 1))\n",
            "  (11): ReLU(0, 0.000% Params, 36.86 KMac, 0.004% MACs, )\n",
            "  (12): MaxPool2d(0, 0.000% Params, 36.86 KMac, 0.004% MACs, kernel_size=3, stride=2, padding=0, dilation=1, ceil_mode=False)\n",
            "  (13): Flatten(0, 0.000% Params, 0.0 Mac, 0.000% MACs, start_dim=1, end_dim=-1)\n",
            "  (14): Linear(26.22 M, 56.065% Params, 26.22 MMac, 2.790% MACs, in_features=6400, out_features=4096, bias=True)\n",
            "  (15): ReLU(0, 0.000% Params, 4.1 KMac, 0.000% MACs, )\n",
            "  (16): Dropout(0, 0.000% Params, 0.0 Mac, 0.000% MACs, p=0.5, inplace=False)\n",
            "  (17): Linear(16.78 M, 35.885% Params, 16.78 MMac, 1.786% MACs, in_features=4096, out_features=4096, bias=True)\n",
            "  (18): ReLU(0, 0.000% Params, 4.1 KMac, 0.000% MACs, )\n",
            "  (19): Dropout(0, 0.000% Params, 0.0 Mac, 0.000% MACs, p=0.5, inplace=False)\n",
            "  (20): Linear(40.97 k, 0.088% Params, 40.97 KMac, 0.004% MACs, in_features=4096, out_features=10, bias=True)\n",
            ")\n",
            "Computational complexity:  939.85 MMac\n",
            "Number of parameters:  46.76 M\n"
          ]
        }
      ]
    },
    {
      "cell_type": "markdown",
      "source": [
        "# Simplified AlexNet"
      ],
      "metadata": {
        "id": "A2FbjkM3gINO"
      }
    },
    {
      "cell_type": "code",
      "source": [
        "# Simplifying AlexNet\n",
        "SimpAlexNet = nn.Sequential(\n",
        "    \n",
        "            nn.Conv2d(1, 32, kernel_size=3, stride=2, padding=1), nn.ReLU(),\n",
        "            nn.MaxPool2d(kernel_size=3, stride=2),\n",
        "            nn.Conv2d(32, 64, kernel_size=5, padding=2), nn.ReLU(),\n",
        "            nn.MaxPool2d(kernel_size=3, stride=2),\n",
        "            nn.Conv2d(64, 128, kernel_size=3, padding=1), nn.ReLU(),\n",
        "            nn.Conv2d(128, 128, kernel_size=3, padding=1), nn.ReLU(),\n",
        "            nn.Conv2d(128, 96, kernel_size=3, padding=1), nn.ReLU(),\n",
        "            nn.MaxPool2d(kernel_size=2, stride=2),\n",
        "            nn.Flatten(),\n",
        "            nn.Linear(96, 64), nn.ReLU(), \n",
        "            nn.Dropout(0.5),\n",
        "            nn.Linear(64, 32), nn.ReLU(), \n",
        "            nn.Dropout(0.5),\n",
        "            nn.Linear(32, 10)\n",
        "\n",
        ")"
      ],
      "metadata": {
        "id": "b_AtnhNjH12N"
      },
      "execution_count": 73,
      "outputs": []
    },
    {
      "cell_type": "code",
      "source": [
        "summary(SimpAlexNet, input_size = (1, 28, 28), batch_size =32)"
      ],
      "metadata": {
        "colab": {
          "base_uri": "https://localhost:8080/"
        },
        "id": "L1ZH8_4PdrfU",
        "outputId": "6f7be33a-56cf-4169-8512-53e7fa57e253"
      },
      "execution_count": null,
      "outputs": [
        {
          "output_type": "stream",
          "name": "stdout",
          "text": [
            "----------------------------------------------------------------\n",
            "        Layer (type)               Output Shape         Param #\n",
            "================================================================\n",
            "            Conv2d-1           [32, 32, 14, 14]             320\n",
            "              ReLU-2           [32, 32, 14, 14]               0\n",
            "         MaxPool2d-3             [32, 32, 6, 6]               0\n",
            "            Conv2d-4             [32, 64, 6, 6]          51,264\n",
            "              ReLU-5             [32, 64, 6, 6]               0\n",
            "         MaxPool2d-6             [32, 64, 2, 2]               0\n",
            "            Conv2d-7            [32, 128, 2, 2]          73,856\n",
            "              ReLU-8            [32, 128, 2, 2]               0\n",
            "            Conv2d-9            [32, 128, 2, 2]         147,584\n",
            "             ReLU-10            [32, 128, 2, 2]               0\n",
            "           Conv2d-11             [32, 96, 2, 2]         110,688\n",
            "             ReLU-12             [32, 96, 2, 2]               0\n",
            "        MaxPool2d-13             [32, 96, 1, 1]               0\n",
            "          Flatten-14                   [32, 96]               0\n",
            "           Linear-15                   [32, 64]           6,208\n",
            "             ReLU-16                   [32, 64]               0\n",
            "          Dropout-17                   [32, 64]               0\n",
            "           Linear-18                   [32, 32]           2,080\n",
            "             ReLU-19                   [32, 32]               0\n",
            "          Dropout-20                   [32, 32]               0\n",
            "           Linear-21                   [32, 10]             330\n",
            "================================================================\n",
            "Total params: 392,330\n",
            "Trainable params: 392,330\n",
            "Non-trainable params: 0\n",
            "----------------------------------------------------------------\n",
            "Input size (MB): 0.10\n",
            "Forward/backward pass size (MB): 5.34\n",
            "Params size (MB): 1.50\n",
            "Estimated Total Size (MB): 6.93\n",
            "----------------------------------------------------------------\n"
          ]
        }
      ]
    },
    {
      "cell_type": "code",
      "source": [
        "macs, params = get_model_complexity_info(SimpAlexNet, (1, 28, 28), as_strings=True,\n",
        "                                           print_per_layer_stat=True, verbose=True)\n",
        "print('Computational complexity: ', macs)\n",
        "print('Number of parameters: ', params)"
      ],
      "metadata": {
        "colab": {
          "base_uri": "https://localhost:8080/",
          "height": 0
        },
        "id": "bIRn6qZoBn6-",
        "outputId": "ba3592f2-24c9-473e-d95d-dd4d6419d077"
      },
      "execution_count": 74,
      "outputs": [
        {
          "output_type": "stream",
          "name": "stdout",
          "text": [
            "Warning: module Flatten is treated as a zero-op.\n",
            "Warning: module Dropout is treated as a zero-op.\n",
            "Sequential(\n",
            "  392.33 k, 100.000% Params, 3.26 MMac, 100.000% MACs, \n",
            "  (0): Conv2d(320, 0.082% Params, 62.72 KMac, 1.921% MACs, 1, 32, kernel_size=(3, 3), stride=(2, 2), padding=(1, 1))\n",
            "  (1): ReLU(0, 0.000% Params, 6.27 KMac, 0.192% MACs, )\n",
            "  (2): MaxPool2d(0, 0.000% Params, 6.27 KMac, 0.192% MACs, kernel_size=3, stride=2, padding=0, dilation=1, ceil_mode=False)\n",
            "  (3): Conv2d(51.26 k, 13.067% Params, 1.85 MMac, 56.534% MACs, 32, 64, kernel_size=(5, 5), stride=(1, 1), padding=(2, 2))\n",
            "  (4): ReLU(0, 0.000% Params, 2.3 KMac, 0.071% MACs, )\n",
            "  (5): MaxPool2d(0, 0.000% Params, 2.3 KMac, 0.071% MACs, kernel_size=3, stride=2, padding=0, dilation=1, ceil_mode=False)\n",
            "  (6): Conv2d(73.86 k, 18.825% Params, 295.42 KMac, 9.050% MACs, 64, 128, kernel_size=(3, 3), stride=(1, 1), padding=(1, 1))\n",
            "  (7): ReLU(0, 0.000% Params, 512.0 Mac, 0.016% MACs, )\n",
            "  (8): Conv2d(147.58 k, 37.617% Params, 590.34 KMac, 18.084% MACs, 128, 128, kernel_size=(3, 3), stride=(1, 1), padding=(1, 1))\n",
            "  (9): ReLU(0, 0.000% Params, 512.0 Mac, 0.016% MACs, )\n",
            "  (10): Conv2d(110.69 k, 28.213% Params, 442.75 KMac, 13.563% MACs, 128, 96, kernel_size=(3, 3), stride=(1, 1), padding=(1, 1))\n",
            "  (11): ReLU(0, 0.000% Params, 384.0 Mac, 0.012% MACs, )\n",
            "  (12): MaxPool2d(0, 0.000% Params, 384.0 Mac, 0.012% MACs, kernel_size=2, stride=2, padding=0, dilation=1, ceil_mode=False)\n",
            "  (13): Flatten(0, 0.000% Params, 0.0 Mac, 0.000% MACs, start_dim=1, end_dim=-1)\n",
            "  (14): Linear(6.21 k, 1.582% Params, 6.21 KMac, 0.190% MACs, in_features=96, out_features=64, bias=True)\n",
            "  (15): ReLU(0, 0.000% Params, 64.0 Mac, 0.002% MACs, )\n",
            "  (16): Dropout(0, 0.000% Params, 0.0 Mac, 0.000% MACs, p=0.5, inplace=False)\n",
            "  (17): Linear(2.08 k, 0.530% Params, 2.08 KMac, 0.064% MACs, in_features=64, out_features=32, bias=True)\n",
            "  (18): ReLU(0, 0.000% Params, 32.0 Mac, 0.001% MACs, )\n",
            "  (19): Dropout(0, 0.000% Params, 0.0 Mac, 0.000% MACs, p=0.5, inplace=False)\n",
            "  (20): Linear(330, 0.084% Params, 330.0 Mac, 0.010% MACs, in_features=32, out_features=10, bias=True)\n",
            ")\n",
            "Computational complexity:  3.26 MMac\n",
            "Number of parameters:  392.33 k\n"
          ]
        }
      ]
    },
    {
      "cell_type": "code",
      "source": [
        "criterion = nn.CrossEntropyLoss()\n",
        "optimizer = optim.Adam(SimpAlexNet.parameters(), lr=0.001)"
      ],
      "metadata": {
        "id": "p1xK3s-ug6aF"
      },
      "execution_count": 75,
      "outputs": []
    },
    {
      "cell_type": "code",
      "source": [
        "# Begin training over 20 epochs\n",
        "epochs = 20\n",
        "valHist = []\n",
        "valLosses = []\n",
        "trainHist = []\n",
        "trainLosses = []\n",
        "interLosses = []\n",
        "avgLosses = []\n",
        "\n",
        "for t in range(epochs):\n",
        "    actualEpoch = t+1\n",
        "    print(\"Epoch\", actualEpoch)\n",
        "    trainLoop(training_loader, SimpAlexNet, criterion, optimizer)\n",
        "    valLoop(validation_loader, SimpAlexNet, criterion)"
      ],
      "metadata": {
        "colab": {
          "base_uri": "https://localhost:8080/",
          "height": 0
        },
        "id": "KWU3IHq3j53c",
        "outputId": "90ee65c1-2a16-4529-bd76-bfbfdfa5cc00"
      },
      "execution_count": 76,
      "outputs": [
        {
          "output_type": "stream",
          "name": "stdout",
          "text": [
            "Epoch 1\n",
            "loss: 2.346029281616211\n",
            "loss: 0.5338627099990845\n",
            "Validation Accuracy: 82.87     Validation Loss:  0.46050899211591045\n",
            " \n",
            "Epoch 2\n",
            "loss: 0.20558832585811615\n",
            "loss: 0.3028963804244995\n",
            "Validation Accuracy: 85.95     Validation Loss:  0.38720899509688533\n",
            " \n",
            "Epoch 3\n",
            "loss: 0.578361988067627\n",
            "loss: 0.392020583152771\n",
            "Validation Accuracy: 87.31     Validation Loss:  0.3672756849648282\n",
            " \n",
            "Epoch 4\n",
            "loss: 0.3150469958782196\n",
            "loss: 0.24454493820667267\n",
            "Validation Accuracy: 87.79     Validation Loss:  0.3349049648585411\n",
            " \n",
            "Epoch 5\n",
            "loss: 0.5843637585639954\n",
            "loss: 0.05830377712845802\n",
            "Validation Accuracy: 88.73     Validation Loss:  0.31484613533075245\n",
            " \n",
            "Epoch 6\n",
            "loss: 0.22445973753929138\n",
            "loss: 0.21710336208343506\n",
            "Validation Accuracy: 88.63     Validation Loss:  0.31690434322427635\n",
            " \n",
            "Epoch 7\n",
            "loss: 0.04634065926074982\n",
            "loss: 0.2774565517902374\n",
            "Validation Accuracy: 88.47     Validation Loss:  0.32791926010776634\n",
            " \n",
            "Epoch 8\n",
            "loss: 0.09389222413301468\n",
            "loss: 0.1891067624092102\n",
            "Validation Accuracy: 88.82     Validation Loss:  0.3356415582493471\n",
            " \n",
            "Epoch 9\n",
            "loss: 0.20857863128185272\n",
            "loss: 0.18720115721225739\n",
            "Validation Accuracy: 88.39     Validation Loss:  0.35834061316312693\n",
            " \n",
            "Epoch 10\n",
            "loss: 0.44304436445236206\n",
            "loss: 0.1485912948846817\n",
            "Validation Accuracy: 88.03     Validation Loss:  0.35558546795108065\n",
            " \n",
            "Epoch 11\n",
            "loss: 0.07590296864509583\n",
            "loss: 0.24297630786895752\n",
            "Validation Accuracy: 89.39     Validation Loss:  0.30821049189605654\n",
            " \n",
            "Epoch 12\n",
            "loss: 0.3486815392971039\n",
            "loss: 0.4212316870689392\n",
            "Validation Accuracy: 88.75999999999999     Validation Loss:  0.3630248645719248\n",
            " \n",
            "Epoch 13\n",
            "loss: 0.15323634445667267\n",
            "loss: 0.09813195466995239\n",
            "Validation Accuracy: 88.81     Validation Loss:  0.33460332328876174\n",
            " \n",
            "Epoch 14\n",
            "loss: 0.2781636714935303\n",
            "loss: 0.5736841559410095\n",
            "Validation Accuracy: 89.08     Validation Loss:  0.3559204632826983\n",
            " \n",
            "Epoch 15\n",
            "loss: 0.32782769203186035\n",
            "loss: 0.16226975619792938\n",
            "Validation Accuracy: 89.03     Validation Loss:  0.33801869034898074\n",
            " \n",
            "Epoch 16\n",
            "loss: 0.18509599566459656\n",
            "loss: 0.09188417345285416\n",
            "Validation Accuracy: 89.24     Validation Loss:  0.3793918632637388\n",
            " \n",
            "Epoch 17\n",
            "loss: 0.13456179201602936\n",
            "loss: 0.08670203387737274\n",
            "Validation Accuracy: 88.97     Validation Loss:  0.40783253519203716\n",
            " \n",
            "Epoch 18\n",
            "loss: 0.16297142207622528\n",
            "loss: 0.2289642095565796\n",
            "Validation Accuracy: 89.41     Validation Loss:  0.3860520369733294\n",
            " \n",
            "Epoch 19\n",
            "loss: 0.07365482300519943\n",
            "loss: 0.13822397589683533\n",
            "Validation Accuracy: 88.67     Validation Loss:  0.4406382368859677\n",
            " \n",
            "Epoch 20\n",
            "loss: 0.05559298396110535\n",
            "loss: 0.12641765177249908\n",
            "Validation Accuracy: 89.17     Validation Loss:  0.3869175660593536\n",
            " \n"
          ]
        }
      ]
    },
    {
      "cell_type": "code",
      "source": [
        "# Plot results    \n",
        "x = np.linspace(1, epochs, epochs)  \n",
        "plt.figure(figsize=(7,5))\n",
        "plt.title(\"Simplified AlexNet: Train Loss and Val Accuracy\")\n",
        "plt.plot(x, trainLosses, label=\"Train Loss\")\n",
        "plt.plot(x, valHist, label=\"Val Accuracy\")\n",
        "plt.plot(x, trainHist, label=\"Train Accuracy\")\n",
        "plt.xlabel(\"Epoch\")\n",
        "plt.ylabel(\"Value\")\n",
        "plt.legend()\n",
        "plt.xlim(0, epochs)\n",
        "plt.ylim(0, 1.5)\n",
        "plt.show()\n"
      ],
      "metadata": {
        "colab": {
          "base_uri": "https://localhost:8080/",
          "height": 350
        },
        "id": "M_cBoRv-kkp-",
        "outputId": "68159dfa-a515-4458-caf0-85d1fcba3bc3"
      },
      "execution_count": 77,
      "outputs": [
        {
          "output_type": "display_data",
          "data": {
            "text/plain": [
              "<Figure size 504x360 with 1 Axes>"
            ],
            "image/png": "[encoded data removed]"
          },
          "metadata": {
            "needs_background": "light"
          }
        }
      ]
    },
    {
      "cell_type": "code",
      "source": [],
      "metadata": {
        "id": "0S6f4WYJmL2e"
      },
      "execution_count": null,
      "outputs": []
    }
  ]
}