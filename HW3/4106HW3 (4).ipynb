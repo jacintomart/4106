{
  "nbformat": 4,
  "nbformat_minor": 0,
  "metadata": {
    "colab": {
      "provenance": []
    },
    "kernelspec": {
      "name": "python3",
      "display_name": "Python 3"
    },
    "language_info": {
      "name": "python"
    },
    "widgets": {
      "application/vnd.jupyter.widget-state+json": {
        "9bbf673cb1c242d2bd59ccb00d19e2cd": {
          "model_module": "@jupyter-widgets/controls",
          "model_name": "HBoxModel",
          "model_module_version": "1.5.0",
          "state": {
            "_dom_classes": [],
            "_model_module": "@jupyter-widgets/controls",
            "_model_module_version": "1.5.0",
            "_model_name": "HBoxModel",
            "_view_count": null,
            "_view_module": "@jupyter-widgets/controls",
            "_view_module_version": "1.5.0",
            "_view_name": "HBoxView",
            "box_style": "",
            "children": [
              "IPY_MODEL_532b9c4fc0434dfd80f5551eef52ded7",
              "IPY_MODEL_4aaebebf00274a098bea7a95f46cae96",
              "IPY_MODEL_8fcf387863e142ec89e19662c0c7fc21"
            ],
            "layout": "IPY_MODEL_bb3f151e9e79411fa3b2f20684c47646"
          }
        },
        "532b9c4fc0434dfd80f5551eef52ded7": {
          "model_module": "@jupyter-widgets/controls",
          "model_name": "HTMLModel",
          "model_module_version": "1.5.0",
          "state": {
            "_dom_classes": [],
            "_model_module": "@jupyter-widgets/controls",
            "_model_module_version": "1.5.0",
            "_model_name": "HTMLModel",
            "_view_count": null,
            "_view_module": "@jupyter-widgets/controls",
            "_view_module_version": "1.5.0",
            "_view_name": "HTMLView",
            "description": "",
            "description_tooltip": null,
            "layout": "IPY_MODEL_8c3d101d27a64a6bbdec93137173abd3",
            "placeholder": "​",
            "style": "IPY_MODEL_1ff8bc0a0dbf4559aedeac36f99db08b",
            "value": "100%"
          }
        },
        "4aaebebf00274a098bea7a95f46cae96": {
          "model_module": "@jupyter-widgets/controls",
          "model_name": "FloatProgressModel",
          "model_module_version": "1.5.0",
          "state": {
            "_dom_classes": [],
            "_model_module": "@jupyter-widgets/controls",
            "_model_module_version": "1.5.0",
            "_model_name": "FloatProgressModel",
            "_view_count": null,
            "_view_module": "@jupyter-widgets/controls",
            "_view_module_version": "1.5.0",
            "_view_name": "ProgressView",
            "bar_style": "success",
            "description": "",
            "description_tooltip": null,
            "layout": "IPY_MODEL_95f54db3bfd94076b743192074a4c394",
            "max": 170498071,
            "min": 0,
            "orientation": "horizontal",
            "style": "IPY_MODEL_7de5490e52904a9289cf0596e1a549e0",
            "value": 170498071
          }
        },
        "8fcf387863e142ec89e19662c0c7fc21": {
          "model_module": "@jupyter-widgets/controls",
          "model_name": "HTMLModel",
          "model_module_version": "1.5.0",
          "state": {
            "_dom_classes": [],
            "_model_module": "@jupyter-widgets/controls",
            "_model_module_version": "1.5.0",
            "_model_name": "HTMLModel",
            "_view_count": null,
            "_view_module": "@jupyter-widgets/controls",
            "_view_module_version": "1.5.0",
            "_view_name": "HTMLView",
            "description": "",
            "description_tooltip": null,
            "layout": "IPY_MODEL_647e33f088ba4b8aa551f390eb68b1f5",
            "placeholder": "​",
            "style": "IPY_MODEL_de4dc3ba4b5247cc824a12531caa14f4",
            "value": " 170498071/170498071 [00:05&lt;00:00, 42066728.18it/s]"
          }
        },
        "bb3f151e9e79411fa3b2f20684c47646": {
          "model_module": "@jupyter-widgets/base",
          "model_name": "LayoutModel",
          "model_module_version": "1.2.0",
          "state": {
            "_model_module": "@jupyter-widgets/base",
            "_model_module_version": "1.2.0",
            "_model_name": "LayoutModel",
            "_view_count": null,
            "_view_module": "@jupyter-widgets/base",
            "_view_module_version": "1.2.0",
            "_view_name": "LayoutView",
            "align_content": null,
            "align_items": null,
            "align_self": null,
            "border": null,
            "bottom": null,
            "display": null,
            "flex": null,
            "flex_flow": null,
            "grid_area": null,
            "grid_auto_columns": null,
            "grid_auto_flow": null,
            "grid_auto_rows": null,
            "grid_column": null,
            "grid_gap": null,
            "grid_row": null,
            "grid_template_areas": null,
            "grid_template_columns": null,
            "grid_template_rows": null,
            "height": null,
            "justify_content": null,
            "justify_items": null,
            "left": null,
            "margin": null,
            "max_height": null,
            "max_width": null,
            "min_height": null,
            "min_width": null,
            "object_fit": null,
            "object_position": null,
            "order": null,
            "overflow": null,
            "overflow_x": null,
            "overflow_y": null,
            "padding": null,
            "right": null,
            "top": null,
            "visibility": null,
            "width": null
          }
        },
        "8c3d101d27a64a6bbdec93137173abd3": {
          "model_module": "@jupyter-widgets/base",
          "model_name": "LayoutModel",
          "model_module_version": "1.2.0",
          "state": {
            "_model_module": "@jupyter-widgets/base",
            "_model_module_version": "1.2.0",
            "_model_name": "LayoutModel",
            "_view_count": null,
            "_view_module": "@jupyter-widgets/base",
            "_view_module_version": "1.2.0",
            "_view_name": "LayoutView",
            "align_content": null,
            "align_items": null,
            "align_self": null,
            "border": null,
            "bottom": null,
            "display": null,
            "flex": null,
            "flex_flow": null,
            "grid_area": null,
            "grid_auto_columns": null,
            "grid_auto_flow": null,
            "grid_auto_rows": null,
            "grid_column": null,
            "grid_gap": null,
            "grid_row": null,
            "grid_template_areas": null,
            "grid_template_columns": null,
            "grid_template_rows": null,
            "height": null,
            "justify_content": null,
            "justify_items": null,
            "left": null,
            "margin": null,
            "max_height": null,
            "max_width": null,
            "min_height": null,
            "min_width": null,
            "object_fit": null,
            "object_position": null,
            "order": null,
            "overflow": null,
            "overflow_x": null,
            "overflow_y": null,
            "padding": null,
            "right": null,
            "top": null,
            "visibility": null,
            "width": null
          }
        },
        "1ff8bc0a0dbf4559aedeac36f99db08b": {
          "model_module": "@jupyter-widgets/controls",
          "model_name": "DescriptionStyleModel",
          "model_module_version": "1.5.0",
          "state": {
            "_model_module": "@jupyter-widgets/controls",
            "_model_module_version": "1.5.0",
            "_model_name": "DescriptionStyleModel",
            "_view_count": null,
            "_view_module": "@jupyter-widgets/base",
            "_view_module_version": "1.2.0",
            "_view_name": "StyleView",
            "description_width": ""
          }
        },
        "95f54db3bfd94076b743192074a4c394": {
          "model_module": "@jupyter-widgets/base",
          "model_name": "LayoutModel",
          "model_module_version": "1.2.0",
          "state": {
            "_model_module": "@jupyter-widgets/base",
            "_model_module_version": "1.2.0",
            "_model_name": "LayoutModel",
            "_view_count": null,
            "_view_module": "@jupyter-widgets/base",
            "_view_module_version": "1.2.0",
            "_view_name": "LayoutView",
            "align_content": null,
            "align_items": null,
            "align_self": null,
            "border": null,
            "bottom": null,
            "display": null,
            "flex": null,
            "flex_flow": null,
            "grid_area": null,
            "grid_auto_columns": null,
            "grid_auto_flow": null,
            "grid_auto_rows": null,
            "grid_column": null,
            "grid_gap": null,
            "grid_row": null,
            "grid_template_areas": null,
            "grid_template_columns": null,
            "grid_template_rows": null,
            "height": null,
            "justify_content": null,
            "justify_items": null,
            "left": null,
            "margin": null,
            "max_height": null,
            "max_width": null,
            "min_height": null,
            "min_width": null,
            "object_fit": null,
            "object_position": null,
            "order": null,
            "overflow": null,
            "overflow_x": null,
            "overflow_y": null,
            "padding": null,
            "right": null,
            "top": null,
            "visibility": null,
            "width": null
          }
        },
        "7de5490e52904a9289cf0596e1a549e0": {
          "model_module": "@jupyter-widgets/controls",
          "model_name": "ProgressStyleModel",
          "model_module_version": "1.5.0",
          "state": {
            "_model_module": "@jupyter-widgets/controls",
            "_model_module_version": "1.5.0",
            "_model_name": "ProgressStyleModel",
            "_view_count": null,
            "_view_module": "@jupyter-widgets/base",
            "_view_module_version": "1.2.0",
            "_view_name": "StyleView",
            "bar_color": null,
            "description_width": ""
          }
        },
        "647e33f088ba4b8aa551f390eb68b1f5": {
          "model_module": "@jupyter-widgets/base",
          "model_name": "LayoutModel",
          "model_module_version": "1.2.0",
          "state": {
            "_model_module": "@jupyter-widgets/base",
            "_model_module_version": "1.2.0",
            "_model_name": "LayoutModel",
            "_view_count": null,
            "_view_module": "@jupyter-widgets/base",
            "_view_module_version": "1.2.0",
            "_view_name": "LayoutView",
            "align_content": null,
            "align_items": null,
            "align_self": null,
            "border": null,
            "bottom": null,
            "display": null,
            "flex": null,
            "flex_flow": null,
            "grid_area": null,
            "grid_auto_columns": null,
            "grid_auto_flow": null,
            "grid_auto_rows": null,
            "grid_column": null,
            "grid_gap": null,
            "grid_row": null,
            "grid_template_areas": null,
            "grid_template_columns": null,
            "grid_template_rows": null,
            "height": null,
            "justify_content": null,
            "justify_items": null,
            "left": null,
            "margin": null,
            "max_height": null,
            "max_width": null,
            "min_height": null,
            "min_width": null,
            "object_fit": null,
            "object_position": null,
            "order": null,
            "overflow": null,
            "overflow_x": null,
            "overflow_y": null,
            "padding": null,
            "right": null,
            "top": null,
            "visibility": null,
            "width": null
          }
        },
        "de4dc3ba4b5247cc824a12531caa14f4": {
          "model_module": "@jupyter-widgets/controls",
          "model_name": "DescriptionStyleModel",
          "model_module_version": "1.5.0",
          "state": {
            "_model_module": "@jupyter-widgets/controls",
            "_model_module_version": "1.5.0",
            "_model_name": "DescriptionStyleModel",
            "_view_count": null,
            "_view_module": "@jupyter-widgets/base",
            "_view_module_version": "1.2.0",
            "_view_name": "StyleView",
            "description_width": ""
          }
        }
      }
    },
    "accelerator": "GPU",
    "gpuClass": "premium"
  },
  "cells": [
    {
      "cell_type": "code",
      "source": [
        "!nvidia-smi"
      ],
      "metadata": {
        "colab": {
          "base_uri": "https://localhost:8080/"
        },
        "id": "g6jLdCy_UdYk",
        "outputId": "182e7928-7771-4382-d729-6d3272cdb62a"
      },
      "execution_count": 1,
      "outputs": [
        {
          "output_type": "stream",
          "name": "stdout",
          "text": [
            "Thu Mar  9 01:15:59 2023       \n",
            "+-----------------------------------------------------------------------------+\n",
            "| NVIDIA-SMI 525.85.12    Driver Version: 525.85.12    CUDA Version: 12.0     |\n",
            "|-------------------------------+----------------------+----------------------+\n",
            "| GPU  Name        Persistence-M| Bus-Id        Disp.A | Volatile Uncorr. ECC |\n",
            "| Fan  Temp  Perf  Pwr:Usage/Cap|         Memory-Usage | GPU-Util  Compute M. |\n",
            "|                               |                      |               MIG M. |\n",
            "|===============================+======================+======================|\n",
            "|   0  NVIDIA A100-SXM...  Off  | 00000000:00:04.0 Off |                    0 |\n",
            "| N/A   31C    P0    51W / 400W |      0MiB / 40960MiB |      0%      Default |\n",
            "|                               |                      |             Disabled |\n",
            "+-------------------------------+----------------------+----------------------+\n",
            "                                                                               \n",
            "+-----------------------------------------------------------------------------+\n",
            "| Processes:                                                                  |\n",
            "|  GPU   GI   CI        PID   Type   Process name                  GPU Memory |\n",
            "|        ID   ID                                                   Usage      |\n",
            "|=============================================================================|\n",
            "|  No running processes found                                                 |\n",
            "+-----------------------------------------------------------------------------+\n"
          ]
        }
      ]
    },
    {
      "cell_type": "code",
      "source": [
        "! pip install ptflops"
      ],
      "metadata": {
        "id": "MT-X_hPa9HNy",
        "colab": {
          "base_uri": "https://localhost:8080/"
        },
        "outputId": "f8aaa357-c682-4d67-ae8f-b7e0f1c626ca"
      },
      "execution_count": 2,
      "outputs": [
        {
          "output_type": "stream",
          "name": "stdout",
          "text": [
            "Looking in indexes: https://pypi.org/simple, https://us-python.pkg.dev/colab-wheels/public/simple/\n",
            "Collecting ptflops\n",
            "  Downloading ptflops-0.6.9.tar.gz (12 kB)\n",
            "  Preparing metadata (setup.py) ... \u001b[?25l\u001b[?25hdone\n",
            "Requirement already satisfied: torch in /usr/local/lib/python3.9/dist-packages (from ptflops) (1.13.1+cu116)\n",
            "Requirement already satisfied: typing-extensions in /usr/local/lib/python3.9/dist-packages (from torch->ptflops) (4.5.0)\n",
            "Building wheels for collected packages: ptflops\n",
            "  Building wheel for ptflops (setup.py) ... \u001b[?25l\u001b[?25hdone\n",
            "  Created wheel for ptflops: filename=ptflops-0.6.9-py3-none-any.whl size=11712 sha256=7e162d83a7afcbbecddec5c4536fe3be35cb0b1c275aff8d0311ed2d5fa28e49\n",
            "  Stored in directory: /root/.cache/pip/wheels/86/07/9f/879035d99d7b639bbc564d23fed862a679aee7d1a2dced8c2e\n",
            "Successfully built ptflops\n",
            "Installing collected packages: ptflops\n",
            "Successfully installed ptflops-0.6.9\n"
          ]
        }
      ]
    },
    {
      "cell_type": "code",
      "execution_count": 3,
      "metadata": {
        "id": "NBQPpLxp9B0V"
      },
      "outputs": [],
      "source": [
        "import torch\n",
        "import torchvision\n",
        "from torch import nn\n",
        "from torchvision import transforms\n",
        "import torch.optim as optim\n",
        "from torchsummary import summary\n",
        "from ptflops import get_model_complexity_info\n",
        "import matplotlib.pyplot as plt\n",
        "import numpy as np\n",
        "from torch.nn import functional as F"
      ]
    },
    {
      "cell_type": "code",
      "source": [
        "# Define how we want images transformed\n",
        "resize = (64, 64)\n",
        "trans = transforms.Compose([transforms.Resize(resize),\n",
        "                            transforms.ToTensor()])\n",
        "\n",
        "# Create training and validation sets\n",
        "training_set = torchvision.datasets.CIFAR10('./data', train=True, \n",
        "                                                 transform=trans, download=True)\n",
        "validation_set = torchvision.datasets.CIFAR10('./data', train=False, \n",
        "                                                   transform=trans, download=True)\n",
        "\n",
        "# Create dataloaders for each set\n",
        "training_loader = torch.utils.data.DataLoader(training_set, batch_size=128, \n",
        "                                              shuffle=True, num_workers=2)\n",
        "validation_loader = torch.utils.data.DataLoader(validation_set, batch_size=128, \n",
        "                                                shuffle=False, num_workers=2)\n",
        "\n",
        "\n",
        "print(\"Training set size:\", len(training_set))\n",
        "print(\"Validation set size:\", len(validation_set))"
      ],
      "metadata": {
        "colab": {
          "base_uri": "https://localhost:8080/",
          "height": 138,
          "referenced_widgets": [
            "9bbf673cb1c242d2bd59ccb00d19e2cd",
            "532b9c4fc0434dfd80f5551eef52ded7",
            "4aaebebf00274a098bea7a95f46cae96",
            "8fcf387863e142ec89e19662c0c7fc21",
            "bb3f151e9e79411fa3b2f20684c47646",
            "8c3d101d27a64a6bbdec93137173abd3",
            "1ff8bc0a0dbf4559aedeac36f99db08b",
            "95f54db3bfd94076b743192074a4c394",
            "7de5490e52904a9289cf0596e1a549e0",
            "647e33f088ba4b8aa551f390eb68b1f5",
            "de4dc3ba4b5247cc824a12531caa14f4"
          ]
        },
        "id": "gU8UPP0Rzqt_",
        "outputId": "bea5fe70-8ed4-4c8d-e68c-544c25a294f4"
      },
      "execution_count": 4,
      "outputs": [
        {
          "output_type": "stream",
          "name": "stdout",
          "text": [
            "Downloading https://www.cs.toronto.edu/~kriz/cifar-10-python.tar.gz to ./data/cifar-10-python.tar.gz\n"
          ]
        },
        {
          "output_type": "display_data",
          "data": {
            "text/plain": [
              "  0%|          | 0/170498071 [00:00<?, ?it/s]"
            ],
            "application/vnd.jupyter.widget-view+json": {
              "version_major": 2,
              "version_minor": 0,
              "model_id": "9bbf673cb1c242d2bd59ccb00d19e2cd"
            }
          },
          "metadata": {}
        },
        {
          "output_type": "stream",
          "name": "stdout",
          "text": [
            "Extracting ./data/cifar-10-python.tar.gz to ./data\n",
            "Files already downloaded and verified\n",
            "Training set size: 50000\n",
            "Validation set size: 10000\n"
          ]
        }
      ]
    },
    {
      "cell_type": "code",
      "source": [
        "# Define the training loop for each epoch\n",
        "def trainLoop(dataloader, model, loss_fn, optimizer):\n",
        "\n",
        "    numBatches = len(dataloader)\n",
        "    dataSize = len(dataloader.dataset)\n",
        "    totalLoss = 0\n",
        "    numCorrect = 0\n",
        "\n",
        "    for batch, (X, y) in enumerate(dataloader):\n",
        "    \n",
        "        pred = model(X)\n",
        "        loss = loss_fn(pred, y)\n",
        "\n",
        "        optimizer.zero_grad()\n",
        "        loss.backward()\n",
        "        optimizer.step()\n",
        "\n",
        "        totalLoss = totalLoss + loss.item()\n",
        "\n",
        "        if batch % 100 == 0:\n",
        "            loss = loss.item()\n",
        "            interLosses.append(loss)\n",
        "            avgLoss = totalLoss / (batch + 1)\n",
        "            avgLosses.append(avgLoss) \n",
        "            print(\"loss:\", loss)\n",
        "\n",
        "        pred = model(X)\n",
        "        numCorrect = numCorrect + (pred.argmax(1) == y).type(torch.float).sum().item()\n",
        "    \n",
        "    trainAcc = numCorrect / dataSize\n",
        "    trainHist.append(trainAcc)\n",
        "    trainAccPercent = trainAcc * 100\n",
        "    \n",
        "    epochLoss = totalLoss / len(dataloader)\n",
        "    trainLosses.append(epochLoss)\n",
        "\n",
        "    print(\"Training Accuracy: \", trainAccPercent,  \"    Training Loss: \", epochLoss)"
      ],
      "metadata": {
        "id": "D7igIKxNqJVT"
      },
      "execution_count": 5,
      "outputs": []
    },
    {
      "cell_type": "code",
      "source": [
        "# Define the validation loop for each epoch\n",
        "def valLoop(dataloader, model, loss_fn):\n",
        "    \n",
        "    numBatches = len(dataloader)\n",
        "    dataSize = len(dataloader.dataset)\n",
        "    valLoss = 0\n",
        "    numCorrect = 0\n",
        "\n",
        "    with torch.no_grad():\n",
        "        for X, y in dataloader:\n",
        "            pred = model(X)\n",
        "            valLoss = valLoss + loss_fn(pred, y).item() \n",
        "            numCorrect = numCorrect + (pred.argmax(1) == y).type(torch.float).sum().item()\n",
        "\n",
        "    \n",
        "    valAcc = numCorrect / dataSize\n",
        "    valHist.append(valAcc)\n",
        "    valAccPercent = valAcc * 100\n",
        "\n",
        "    avgLoss = valLoss / numBatches\n",
        "    valLosses.append(avgLoss)\n",
        "    \n",
        "    print(\"Validation Accuracy:\", valAccPercent, \"    Validation Loss: \", avgLoss)\n",
        "    print(\" \")"
      ],
      "metadata": {
        "id": "96vb5DHDqKQ5"
      },
      "execution_count": 6,
      "outputs": []
    },
    {
      "cell_type": "markdown",
      "source": [
        "# 1a) Baseline VGG-11"
      ],
      "metadata": {
        "id": "j-ltRb0W0aDJ"
      }
    },
    {
      "cell_type": "code",
      "source": [
        "def VGGBlock(numConv, outChannels): \n",
        "  layers = []\n",
        "  for _ in range(numConv):\n",
        "     layers.append(nn.LazyConv2d(outChannels, kernel_size=3, padding=1)) \n",
        "     layers.append(nn.LazyBatchNorm2d())\n",
        "     layers.append(nn.ReLU())\n",
        "\n",
        "  layers.append(nn.MaxPool2d(kernel_size=2, stride=2))\n",
        "  return nn.Sequential(*layers)"
      ],
      "metadata": {
        "id": "oGNmrNmV0X1L"
      },
      "execution_count": 7,
      "outputs": []
    },
    {
      "cell_type": "code",
      "source": [
        "def BaseVGG(arch):\n",
        "  convBlocks = []\n",
        "  for (numConv, outChannels) in arch:\n",
        "    convBlocks.append(VGGBlock(numConv, outChannels))\n",
        "  \n",
        "  VGGNet = nn.Sequential(\n",
        "            *convBlocks,\n",
        "            nn.Flatten(),\n",
        "            nn.LazyLinear(4096), nn.ReLU(), nn.Dropout(0.5),\n",
        "            nn.LazyLinear(512), nn.ReLU(), nn.Dropout(0.5),       # Adjusted from 4096 to better accomodate only 10 classes\n",
        "            nn.LazyLinear(10)\n",
        "        )\n",
        "  return VGGNet"
      ],
      "metadata": {
        "id": "fG4_jgZ62zVP"
      },
      "execution_count": 8,
      "outputs": []
    },
    {
      "cell_type": "code",
      "source": [
        "VGGEleven = BaseVGG(arch=((1, 64), (1, 128), (2, 256), (2, 512), (2, 512)))\n",
        "#summary(VGGEleven, input_size = (3, 64, 64), batch_size = 128)"
      ],
      "metadata": {
        "colab": {
          "base_uri": "https://localhost:8080/"
        },
        "id": "UxF-U9YDzYVA",
        "outputId": "987e4f2b-f925-4d1c-b999-5a1298c653df"
      },
      "execution_count": null,
      "outputs": [
        {
          "output_type": "stream",
          "name": "stderr",
          "text": [
            "/usr/local/lib/python3.8/dist-packages/torch/nn/modules/lazy.py:180: UserWarning: Lazy modules are a new feature under heavy development so changes to the API or functionality can happen at any moment.\n",
            "  warnings.warn('Lazy modules are a new feature under heavy development '\n"
          ]
        }
      ]
    },
    {
      "cell_type": "code",
      "source": [
        "#from torchvision import models\n",
        "#model = models.vgg11()\n",
        "#summary(model, input_size = (3, 64, 64), batch_size = 128)"
      ],
      "metadata": {
        "id": "ReOVS98b0dkf"
      },
      "execution_count": null,
      "outputs": []
    },
    {
      "cell_type": "code",
      "source": [
        "criterion = nn.CrossEntropyLoss()\n",
        "optimizer = optim.SGD(VGGEleven.parameters(), lr=0.01)"
      ],
      "metadata": {
        "id": "AdeJFd8B4sLk"
      },
      "execution_count": null,
      "outputs": []
    },
    {
      "cell_type": "code",
      "source": [
        "# Begin training over 10 epochs\n",
        "epochs = 10\n",
        "valHist = []\n",
        "valLosses = []\n",
        "trainHist = []\n",
        "trainLosses = []\n",
        "interLosses = []\n",
        "avgLosses = []\n",
        "\n",
        "for t in range(epochs):\n",
        "    actualEpoch = t+1\n",
        "    print(\"Epoch\", actualEpoch)\n",
        "    trainLoop(training_loader, VGGEleven, criterion, optimizer)\n",
        "    valLoop(validation_loader, VGGEleven, criterion)"
      ],
      "metadata": {
        "id": "RLPa44J1CKYo",
        "colab": {
          "base_uri": "https://localhost:8080/"
        },
        "outputId": "54125df7-1f19-48a6-f139-47272a3ba3db"
      },
      "execution_count": null,
      "outputs": [
        {
          "output_type": "stream",
          "name": "stdout",
          "text": [
            "Epoch 1\n",
            "loss: 2.322709798812866\n",
            "loss: 1.7706522941589355\n",
            "loss: 1.3530608415603638\n",
            "loss: 1.3835805654525757\n",
            "Training Accuracy:  49.206     Training Loss:  1.5973757987132158\n",
            "Validation Accuracy: 51.190000000000005     Validation Loss:  1.3320431256596046\n",
            " \n",
            "Epoch 2\n",
            "loss: 1.2362195253372192\n",
            "loss: 1.1561284065246582\n",
            "loss: 1.2826095819473267\n",
            "loss: 1.0891155004501343\n",
            "Training Accuracy:  73.636     Training Loss:  1.1106922954244687\n",
            "Validation Accuracy: 61.58     Validation Loss:  1.058244418494309\n",
            " \n",
            "Epoch 3\n",
            "loss: 0.9438884854316711\n",
            "loss: 1.0084092617034912\n",
            "loss: 0.854917049407959\n",
            "loss: 0.83794105052948\n",
            "Training Accuracy:  84.428     Training Loss:  0.8733290932367525\n",
            "Validation Accuracy: 68.10000000000001     Validation Loss:  0.9052490395835683\n",
            " \n",
            "Epoch 4\n",
            "loss: 0.8517128825187683\n",
            "loss: 0.8558422327041626\n",
            "loss: 0.5831639170646667\n",
            "loss: 0.8300999402999878\n",
            "Training Accuracy:  90.956     Training Loss:  0.6997149263501472\n",
            "Validation Accuracy: 70.89999999999999     Validation Loss:  0.8479296225535718\n",
            " \n",
            "Epoch 5\n",
            "loss: 0.6483731269836426\n",
            "loss: 0.5351250767707825\n",
            "loss: 0.7217350602149963\n",
            "loss: 0.401886522769928\n",
            "Training Accuracy:  95.15599999999999     Training Loss:  0.562122440856436\n",
            "Validation Accuracy: 72.69     Validation Loss:  0.8275535581987116\n",
            " \n",
            "Epoch 6\n",
            "loss: 0.5183454155921936\n",
            "loss: 0.3113739490509033\n",
            "loss: 0.4868917465209961\n",
            "loss: 0.3523615300655365\n",
            "Training Accuracy:  97.49     Training Loss:  0.446201415470494\n",
            "Validation Accuracy: 76.55999999999999     Validation Loss:  0.6968071970004069\n",
            " \n",
            "Epoch 7\n",
            "loss: 0.3252418637275696\n",
            "loss: 0.3342866897583008\n",
            "loss: 0.3068305253982544\n",
            "loss: 0.2835935652256012\n",
            "Training Accuracy:  98.74000000000001     Training Loss:  0.3446421988327485\n",
            "Validation Accuracy: 77.32     Validation Loss:  0.7261034318163425\n",
            " \n",
            "Epoch 8\n",
            "loss: 0.22867552936077118\n",
            "loss: 0.2970028519630432\n",
            "loss: 0.20768484473228455\n",
            "loss: 0.27622395753860474\n",
            "Training Accuracy:  99.32     Training Loss:  0.24649672507477538\n",
            "Validation Accuracy: 75.42     Validation Loss:  0.8427747205088411\n",
            " \n",
            "Epoch 9\n",
            "loss: 0.26739972829818726\n",
            "loss: 0.1905825287103653\n",
            "loss: 0.2787529528141022\n",
            "loss: 0.09876351803541183\n",
            "Training Accuracy:  99.532     Training Loss:  0.18137390120788607\n",
            "Validation Accuracy: 77.86999999999999     Validation Loss:  0.7751829186572304\n",
            " \n",
            "Epoch 10\n",
            "loss: 0.2703735828399658\n",
            "loss: 0.06612680107355118\n",
            "loss: 0.10197493433952332\n",
            "loss: 0.23051315546035767\n",
            "Training Accuracy:  99.664     Training Loss:  0.129865981533628\n",
            "Validation Accuracy: 78.05     Validation Loss:  0.8045465218115456\n",
            " \n"
          ]
        }
      ]
    },
    {
      "cell_type": "code",
      "source": [
        "# Plot results\n",
        "x = np.linspace(1, epochs, epochs)     \n",
        "plt.figure(figsize=(7,5))\n",
        "plt.title(\"VGG-11: Train Loss and Val Accuracy\")\n",
        "plt.plot(x, trainLosses, label=\"Train Loss\")\n",
        "plt.plot(x, valHist, label=\"Val Accuracy\")\n",
        "plt.plot(x, trainHist, label=\"Train Accuracy\")\n",
        "plt.xlabel(\"Epoch\")\n",
        "plt.ylabel(\"Value\")\n",
        "plt.legend()\n",
        "plt.xlim(0, epochs)\n",
        "plt.ylim(0, 1.5)\n",
        "plt.show()\n",
        "\n",
        "### Train time: ~100ish mins for 10 epochs w/A100 GPU"
      ],
      "metadata": {
        "colab": {
          "base_uri": "https://localhost:8080/",
          "height": 350
        },
        "id": "8x1FfJ8maGLF",
        "outputId": "34d32ec1-3cc1-4906-aaee-d729615377f0"
      },
      "execution_count": null,
      "outputs": [
        {
          "output_type": "display_data",
          "data": {
            "text/plain": [
              "<Figure size 504x360 with 1 Axes>"
            ],
            "image/png": "[encoded data removed]"
          },
          "metadata": {
            "needs_background": "light"
          }
        }
      ]
    },
    {
      "cell_type": "code",
      "source": [
        "macs, params = get_model_complexity_info(VGGEleven, (3, 64, 64), as_strings=True,\n",
        "                                           print_per_layer_stat=True, verbose=True)\n",
        "print('Computational complexity: ', macs)\n",
        "print('Number of parameters: ', params)"
      ],
      "metadata": {
        "id": "aD2UKkiLF7bE",
        "colab": {
          "base_uri": "https://localhost:8080/"
        },
        "outputId": "03c5eb8e-b57b-4670-e0ec-85ec17c9bec5"
      },
      "execution_count": null,
      "outputs": [
        {
          "output_type": "stream",
          "name": "stdout",
          "text": [
            "Warning: module Flatten is treated as a zero-op.\n",
            "Warning: module Dropout is treated as a zero-op.\n",
            "Sequential(\n",
            "  19.72 M, 100.000% Params, 624.48 MMac, 100.000% MACs, \n",
            "  (0): Sequential(\n",
            "    1.92 k, 0.010% Params, 8.39 MMac, 1.343% MACs, \n",
            "    (0): Conv2d(1.79 k, 0.009% Params, 7.34 MMac, 1.175% MACs, 3, 64, kernel_size=(3, 3), stride=(1, 1), padding=(1, 1))\n",
            "    (1): BatchNorm2d(128, 0.001% Params, 524.29 KMac, 0.084% MACs, 64, eps=1e-05, momentum=0.1, affine=True, track_running_stats=True)\n",
            "    (2): ReLU(0, 0.000% Params, 262.14 KMac, 0.042% MACs, )\n",
            "    (3): MaxPool2d(0, 0.000% Params, 262.14 KMac, 0.042% MACs, kernel_size=2, stride=2, padding=0, dilation=1, ceil_mode=False)\n",
            "  )\n",
            "  (1): Sequential(\n",
            "    74.11 k, 0.376% Params, 76.15 MMac, 12.195% MACs, \n",
            "    (0): Conv2d(73.86 k, 0.374% Params, 75.63 MMac, 12.111% MACs, 64, 128, kernel_size=(3, 3), stride=(1, 1), padding=(1, 1))\n",
            "    (1): BatchNorm2d(256, 0.001% Params, 262.14 KMac, 0.042% MACs, 128, eps=1e-05, momentum=0.1, affine=True, track_running_stats=True)\n",
            "    (2): ReLU(0, 0.000% Params, 131.07 KMac, 0.021% MACs, )\n",
            "    (3): MaxPool2d(0, 0.000% Params, 131.07 KMac, 0.021% MACs, kernel_size=2, stride=2, padding=0, dilation=1, ceil_mode=False)\n",
            "  )\n",
            "  (2): Sequential(\n",
            "    886.27 k, 4.494% Params, 227.08 MMac, 36.363% MACs, \n",
            "    (0): Conv2d(295.17 k, 1.497% Params, 75.56 MMac, 12.100% MACs, 128, 256, kernel_size=(3, 3), stride=(1, 1), padding=(1, 1))\n",
            "    (1): BatchNorm2d(512, 0.003% Params, 131.07 KMac, 0.021% MACs, 256, eps=1e-05, momentum=0.1, affine=True, track_running_stats=True)\n",
            "    (2): ReLU(0, 0.000% Params, 65.54 KMac, 0.010% MACs, )\n",
            "    (3): Conv2d(590.08 k, 2.992% Params, 151.06 MMac, 24.190% MACs, 256, 256, kernel_size=(3, 3), stride=(1, 1), padding=(1, 1))\n",
            "    (4): BatchNorm2d(512, 0.003% Params, 131.07 KMac, 0.021% MACs, 256, eps=1e-05, momentum=0.1, affine=True, track_running_stats=True)\n",
            "    (5): ReLU(0, 0.000% Params, 65.54 KMac, 0.010% MACs, )\n",
            "    (6): MaxPool2d(0, 0.000% Params, 65.54 KMac, 0.010% MACs, kernel_size=2, stride=2, padding=0, dilation=1, ceil_mode=False)\n",
            "  )\n",
            "  (3): Sequential(\n",
            "    3.54 M, 17.960% Params, 226.79 MMac, 36.316% MACs, \n",
            "    (0): Conv2d(1.18 M, 5.984% Params, 75.53 MMac, 12.095% MACs, 256, 512, kernel_size=(3, 3), stride=(1, 1), padding=(1, 1))\n",
            "    (1): BatchNorm2d(1.02 k, 0.005% Params, 65.54 KMac, 0.010% MACs, 512, eps=1e-05, momentum=0.1, affine=True, track_running_stats=True)\n",
            "    (2): ReLU(0, 0.000% Params, 32.77 KMac, 0.005% MACs, )\n",
            "    (3): Conv2d(2.36 M, 11.966% Params, 151.03 MMac, 24.184% MACs, 512, 512, kernel_size=(3, 3), stride=(1, 1), padding=(1, 1))\n",
            "    (4): BatchNorm2d(1.02 k, 0.005% Params, 65.54 KMac, 0.010% MACs, 512, eps=1e-05, momentum=0.1, affine=True, track_running_stats=True)\n",
            "    (5): ReLU(0, 0.000% Params, 32.77 KMac, 0.005% MACs, )\n",
            "    (6): MaxPool2d(0, 0.000% Params, 32.77 KMac, 0.005% MACs, kernel_size=2, stride=2, padding=0, dilation=1, ceil_mode=False)\n",
            "  )\n",
            "  (4): Sequential(\n",
            "    4.72 M, 23.942% Params, 75.57 MMac, 12.101% MACs, \n",
            "    (0): Conv2d(2.36 M, 11.966% Params, 37.76 MMac, 6.046% MACs, 512, 512, kernel_size=(3, 3), stride=(1, 1), padding=(1, 1))\n",
            "    (1): BatchNorm2d(1.02 k, 0.005% Params, 16.38 KMac, 0.003% MACs, 512, eps=1e-05, momentum=0.1, affine=True, track_running_stats=True)\n",
            "    (2): ReLU(0, 0.000% Params, 8.19 KMac, 0.001% MACs, )\n",
            "    (3): Conv2d(2.36 M, 11.966% Params, 37.76 MMac, 6.046% MACs, 512, 512, kernel_size=(3, 3), stride=(1, 1), padding=(1, 1))\n",
            "    (4): BatchNorm2d(1.02 k, 0.005% Params, 16.38 KMac, 0.003% MACs, 512, eps=1e-05, momentum=0.1, affine=True, track_running_stats=True)\n",
            "    (5): ReLU(0, 0.000% Params, 8.19 KMac, 0.001% MACs, )\n",
            "    (6): MaxPool2d(0, 0.000% Params, 8.19 KMac, 0.001% MACs, kernel_size=2, stride=2, padding=0, dilation=1, ceil_mode=False)\n",
            "  )\n",
            "  (5): Flatten(0, 0.000% Params, 0.0 Mac, 0.000% MACs, start_dim=1, end_dim=-1)\n",
            "  (6): Linear(8.39 M, 42.556% Params, 8.39 MMac, 1.344% MACs, in_features=2048, out_features=4096, bias=True)\n",
            "  (7): ReLU(0, 0.000% Params, 4.1 KMac, 0.001% MACs, )\n",
            "  (8): Dropout(0, 0.000% Params, 0.0 Mac, 0.000% MACs, p=0.5, inplace=False)\n",
            "  (9): Linear(2.1 M, 10.636% Params, 2.1 MMac, 0.336% MACs, in_features=4096, out_features=512, bias=True)\n",
            "  (10): ReLU(0, 0.000% Params, 512.0 Mac, 0.000% MACs, )\n",
            "  (11): Dropout(0, 0.000% Params, 0.0 Mac, 0.000% MACs, p=0.5, inplace=False)\n",
            "  (12): Linear(5.13 k, 0.026% Params, 5.13 KMac, 0.001% MACs, in_features=512, out_features=10, bias=True)\n",
            ")\n",
            "Computational complexity:  624.48 MMac\n",
            "Number of parameters:  19.72 M\n"
          ]
        }
      ]
    },
    {
      "cell_type": "markdown",
      "source": [
        "# 1b) VGG-16"
      ],
      "metadata": {
        "id": "2TvSWnTIF635"
      }
    },
    {
      "cell_type": "code",
      "source": [
        "VGGSixteen = BaseVGG(arch=((2, 64), (2, 128), (3, 256), (3, 512), (3, 512)))\n",
        "#summary(VGGSixteen, input_size = (3, 64, 64), batch_size = 128)"
      ],
      "metadata": {
        "id": "3HX29fTBCWAS",
        "colab": {
          "base_uri": "https://localhost:8080/"
        },
        "outputId": "add00ab2-0898-4a0a-864c-5668c47411d4"
      },
      "execution_count": null,
      "outputs": [
        {
          "output_type": "stream",
          "name": "stderr",
          "text": [
            "/usr/local/lib/python3.9/dist-packages/torch/nn/modules/lazy.py:180: UserWarning: Lazy modules are a new feature under heavy development so changes to the API or functionality can happen at any moment.\n",
            "  warnings.warn('Lazy modules are a new feature under heavy development '\n"
          ]
        }
      ]
    },
    {
      "cell_type": "code",
      "source": [
        "criterion = nn.CrossEntropyLoss()\n",
        "optimizer = optim.SGD(VGGSixteen.parameters(), lr=0.01)"
      ],
      "metadata": {
        "id": "d8CWC7qWo6mq"
      },
      "execution_count": null,
      "outputs": []
    },
    {
      "cell_type": "code",
      "source": [
        "# Begin training over 10 epochs\n",
        "epochs = 10\n",
        "valHist = []\n",
        "valLosses = []\n",
        "trainHist = []\n",
        "trainLosses = []\n",
        "interLosses = []\n",
        "avgLosses = []\n",
        "\n",
        "for t in range(epochs):\n",
        "    actualEpoch = t+1\n",
        "    print(\"Epoch\", actualEpoch)\n",
        "    trainLoop(training_loader, VGGSixteen, criterion, optimizer)\n",
        "    valLoop(validation_loader, VGGSixteen, criterion)"
      ],
      "metadata": {
        "colab": {
          "base_uri": "https://localhost:8080/"
        },
        "id": "sRDaYoNcpIF8",
        "outputId": "0074f15a-3369-408d-89d9-45823dfeb96e"
      },
      "execution_count": null,
      "outputs": [
        {
          "output_type": "stream",
          "name": "stdout",
          "text": [
            "Epoch 1\n",
            "loss: 2.3159642219543457\n",
            "loss: 1.7693490982055664\n",
            "loss: 1.4039890766143799\n",
            "loss: 1.376631498336792\n",
            "Training Accuracy:  51.286     Training Loss:  1.5964810982384645\n",
            "Validation Accuracy: 53.02     Validation Loss:  1.3110757688932781\n",
            " \n",
            "Epoch 2\n",
            "loss: 1.289994716644287\n",
            "loss: 1.1914608478546143\n",
            "loss: 1.2127760648727417\n",
            "loss: 0.9775689840316772\n",
            "Training Accuracy:  79.61399999999999     Training Loss:  1.0464261959275931\n",
            "Validation Accuracy: 67.67     Validation Loss:  0.9252960327305372\n",
            " \n",
            "Epoch 3\n",
            "loss: 0.8221198320388794\n",
            "loss: 0.9339970946311951\n",
            "loss: 0.5893039703369141\n",
            "loss: 0.7952086925506592\n",
            "Training Accuracy:  90.17399999999999     Training Loss:  0.771403071368137\n",
            "Validation Accuracy: 71.61     Validation Loss:  0.8031428788281694\n",
            " \n",
            "Epoch 4\n",
            "loss: 0.5304207801818848\n",
            "loss: 0.3293275237083435\n",
            "loss: 0.5665963888168335\n",
            "loss: 0.5413843989372253\n",
            "Training Accuracy:  95.468     Training Loss:  0.5896911217885858\n",
            "Validation Accuracy: 75.36     Validation Loss:  0.7284090673621697\n",
            " \n",
            "Epoch 5\n",
            "loss: 0.5566954612731934\n",
            "loss: 0.35142502188682556\n",
            "loss: 0.46066609025001526\n",
            "loss: 0.4674033224582672\n",
            "Training Accuracy:  98.044     Training Loss:  0.4524637028536833\n",
            "Validation Accuracy: 77.29     Validation Loss:  0.6810789225222189\n",
            " \n",
            "Epoch 6\n",
            "loss: 0.3067588806152344\n",
            "loss: 0.32145750522613525\n",
            "loss: 0.3884941637516022\n",
            "loss: 0.4495769739151001\n",
            "Training Accuracy:  99.104     Training Loss:  0.3434785594949332\n",
            "Validation Accuracy: 76.01     Validation Loss:  0.7775940551787992\n",
            " \n",
            "Epoch 7\n",
            "loss: 0.3063439428806305\n",
            "loss: 0.224542498588562\n",
            "loss: 0.21085478365421295\n",
            "loss: 0.30594658851623535\n",
            "Training Accuracy:  99.61     Training Loss:  0.2512144137678854\n",
            "Validation Accuracy: 78.97     Validation Loss:  0.689447547816023\n",
            " \n",
            "Epoch 8\n",
            "loss: 0.2563817501068115\n",
            "loss: 0.1132490485906601\n",
            "loss: 0.23413074016571045\n",
            "loss: 0.23023918271064758\n",
            "Training Accuracy:  99.752     Training Loss:  0.17632066239328945\n",
            "Validation Accuracy: 79.17     Validation Loss:  0.716099568182909\n",
            " \n",
            "Epoch 9\n",
            "loss: 0.20530660450458527\n",
            "loss: 0.1152021586894989\n",
            "loss: 0.13534468412399292\n",
            "loss: 0.12362498790025711\n",
            "Training Accuracy:  99.85000000000001     Training Loss:  0.12841168850126777\n",
            "Validation Accuracy: 80.69     Validation Loss:  0.720429743392558\n",
            " \n",
            "Epoch 10\n",
            "loss: 0.05386313423514366\n",
            "loss: 0.13676169514656067\n",
            "loss: 0.06648583710193634\n",
            "loss: 0.10550615936517715\n",
            "Training Accuracy:  99.866     Training Loss:  0.10345476229324975\n",
            "Validation Accuracy: 80.72     Validation Loss:  0.753635081686551\n",
            " \n"
          ]
        }
      ]
    },
    {
      "cell_type": "code",
      "source": [
        "# Plot results\n",
        "x = np.linspace(1, epochs, epochs)     \n",
        "plt.figure(figsize=(7,5))\n",
        "plt.title(\"VGG-16: Train Loss and Val Accuracy\")\n",
        "plt.plot(x, trainLosses, label=\"Train Loss\")\n",
        "plt.plot(x, valHist, label=\"Val Accuracy\")\n",
        "plt.plot(x, trainHist, label=\"Train Accuracy\")\n",
        "plt.xlabel(\"Epoch\")\n",
        "plt.ylabel(\"Value\")\n",
        "plt.legend()\n",
        "plt.xlim(0, epochs)\n",
        "plt.ylim(0, 1.5)\n",
        "plt.show()\n",
        "\n",
        "### Train time: ~3hrs 15mins for 10 epochs "
      ],
      "metadata": {
        "id": "fHfe7MllpRhw",
        "colab": {
          "base_uri": "https://localhost:8080/",
          "height": 350
        },
        "outputId": "6a5aa6f2-abed-44fa-8dd4-f2b9f779942b"
      },
      "execution_count": null,
      "outputs": [
        {
          "output_type": "display_data",
          "data": {
            "text/plain": [
              "<Figure size 504x360 with 1 Axes>"
            ],
            "image/png": "[encoded data removed]"
          },
          "metadata": {
            "needs_background": "light"
          }
        }
      ]
    },
    {
      "cell_type": "code",
      "source": [
        "macs, params = get_model_complexity_info(VGGSixteen, (3, 64, 64), as_strings=True,\n",
        "                                           print_per_layer_stat=True, verbose=True)\n",
        "print('Computational complexity: ', macs)\n",
        "print('Number of parameters: ', params)"
      ],
      "metadata": {
        "id": "W7vYzJK6pR2m",
        "colab": {
          "base_uri": "https://localhost:8080/"
        },
        "outputId": "d9eef182-d527-497d-d3de-3bafcff06684"
      },
      "execution_count": null,
      "outputs": [
        {
          "output_type": "stream",
          "name": "stdout",
          "text": [
            "Warning: module Flatten is treated as a zero-op.\n",
            "Warning: module Dropout is treated as a zero-op.\n",
            "Sequential(\n",
            "  25.22 M, 100.000% Params, 1.27 GMac, 100.000% MACs, \n",
            "  (0): Sequential(\n",
            "    38.98 k, 0.155% Params, 160.43 MMac, 12.650% MACs, \n",
            "    (0): Conv2d(1.79 k, 0.007% Params, 7.34 MMac, 0.579% MACs, 3, 64, kernel_size=(3, 3), stride=(1, 1), padding=(1, 1))\n",
            "    (1): BatchNorm2d(128, 0.001% Params, 524.29 KMac, 0.041% MACs, 64, eps=1e-05, momentum=0.1, affine=True, track_running_stats=True)\n",
            "    (2): ReLU(0, 0.000% Params, 262.14 KMac, 0.021% MACs, )\n",
            "    (3): Conv2d(36.93 k, 0.146% Params, 151.26 MMac, 11.927% MACs, 64, 64, kernel_size=(3, 3), stride=(1, 1), padding=(1, 1))\n",
            "    (4): BatchNorm2d(128, 0.001% Params, 524.29 KMac, 0.041% MACs, 64, eps=1e-05, momentum=0.1, affine=True, track_running_stats=True)\n",
            "    (5): ReLU(0, 0.000% Params, 262.14 KMac, 0.021% MACs, )\n",
            "    (6): MaxPool2d(0, 0.000% Params, 262.14 KMac, 0.021% MACs, kernel_size=2, stride=2, padding=0, dilation=1, ceil_mode=False)\n",
            "  )\n",
            "  (1): Sequential(\n",
            "    221.95 k, 0.880% Params, 227.67 MMac, 17.952% MACs, \n",
            "    (0): Conv2d(73.86 k, 0.293% Params, 75.63 MMac, 5.963% MACs, 64, 128, kernel_size=(3, 3), stride=(1, 1), padding=(1, 1))\n",
            "    (1): BatchNorm2d(256, 0.001% Params, 262.14 KMac, 0.021% MACs, 128, eps=1e-05, momentum=0.1, affine=True, track_running_stats=True)\n",
            "    (2): ReLU(0, 0.000% Params, 131.07 KMac, 0.010% MACs, )\n",
            "    (3): Conv2d(147.58 k, 0.585% Params, 151.13 MMac, 11.916% MACs, 128, 128, kernel_size=(3, 3), stride=(1, 1), padding=(1, 1))\n",
            "    (4): BatchNorm2d(256, 0.001% Params, 262.14 KMac, 0.021% MACs, 128, eps=1e-05, momentum=0.1, affine=True, track_running_stats=True)\n",
            "    (5): ReLU(0, 0.000% Params, 131.07 KMac, 0.010% MACs, )\n",
            "    (6): MaxPool2d(0, 0.000% Params, 131.07 KMac, 0.010% MACs, kernel_size=2, stride=2, padding=0, dilation=1, ceil_mode=False)\n",
            "  )\n",
            "  (2): Sequential(\n",
            "    1.48 M, 5.856% Params, 378.34 MMac, 29.833% MACs, \n",
            "    (0): Conv2d(295.17 k, 1.170% Params, 75.56 MMac, 5.958% MACs, 128, 256, kernel_size=(3, 3), stride=(1, 1), padding=(1, 1))\n",
            "    (1): BatchNorm2d(512, 0.002% Params, 131.07 KMac, 0.010% MACs, 256, eps=1e-05, momentum=0.1, affine=True, track_running_stats=True)\n",
            "    (2): ReLU(0, 0.000% Params, 65.54 KMac, 0.005% MACs, )\n",
            "    (3): Conv2d(590.08 k, 2.340% Params, 151.06 MMac, 11.911% MACs, 256, 256, kernel_size=(3, 3), stride=(1, 1), padding=(1, 1))\n",
            "    (4): BatchNorm2d(512, 0.002% Params, 131.07 KMac, 0.010% MACs, 256, eps=1e-05, momentum=0.1, affine=True, track_running_stats=True)\n",
            "    (5): ReLU(0, 0.000% Params, 65.54 KMac, 0.005% MACs, )\n",
            "    (6): Conv2d(590.08 k, 2.340% Params, 151.06 MMac, 11.911% MACs, 256, 256, kernel_size=(3, 3), stride=(1, 1), padding=(1, 1))\n",
            "    (7): BatchNorm2d(512, 0.002% Params, 131.07 KMac, 0.010% MACs, 256, eps=1e-05, momentum=0.1, affine=True, track_running_stats=True)\n",
            "    (8): ReLU(0, 0.000% Params, 65.54 KMac, 0.005% MACs, )\n",
            "    (9): MaxPool2d(0, 0.000% Params, 65.54 KMac, 0.005% MACs, kernel_size=2, stride=2, padding=0, dilation=1, ceil_mode=False)\n",
            "  )\n",
            "  (3): Sequential(\n",
            "    5.9 M, 23.407% Params, 377.91 MMac, 29.799% MACs, \n",
            "    (0): Conv2d(1.18 M, 4.680% Params, 75.53 MMac, 5.956% MACs, 256, 512, kernel_size=(3, 3), stride=(1, 1), padding=(1, 1))\n",
            "    (1): BatchNorm2d(1.02 k, 0.004% Params, 65.54 KMac, 0.005% MACs, 512, eps=1e-05, momentum=0.1, affine=True, track_running_stats=True)\n",
            "    (2): ReLU(0, 0.000% Params, 32.77 KMac, 0.003% MACs, )\n",
            "    (3): Conv2d(2.36 M, 9.357% Params, 151.03 MMac, 11.909% MACs, 512, 512, kernel_size=(3, 3), stride=(1, 1), padding=(1, 1))\n",
            "    (4): BatchNorm2d(1.02 k, 0.004% Params, 65.54 KMac, 0.005% MACs, 512, eps=1e-05, momentum=0.1, affine=True, track_running_stats=True)\n",
            "    (5): ReLU(0, 0.000% Params, 32.77 KMac, 0.003% MACs, )\n",
            "    (6): Conv2d(2.36 M, 9.357% Params, 151.03 MMac, 11.909% MACs, 512, 512, kernel_size=(3, 3), stride=(1, 1), padding=(1, 1))\n",
            "    (7): BatchNorm2d(1.02 k, 0.004% Params, 65.54 KMac, 0.005% MACs, 512, eps=1e-05, momentum=0.1, affine=True, track_running_stats=True)\n",
            "    (8): ReLU(0, 0.000% Params, 32.77 KMac, 0.003% MACs, )\n",
            "    (9): MaxPool2d(0, 0.000% Params, 32.77 KMac, 0.003% MACs, kernel_size=2, stride=2, padding=0, dilation=1, ceil_mode=False)\n",
            "  )\n",
            "  (4): Sequential(\n",
            "    7.08 M, 28.084% Params, 113.35 MMac, 8.938% MACs, \n",
            "    (0): Conv2d(2.36 M, 9.357% Params, 37.76 MMac, 2.977% MACs, 512, 512, kernel_size=(3, 3), stride=(1, 1), padding=(1, 1))\n",
            "    (1): BatchNorm2d(1.02 k, 0.004% Params, 16.38 KMac, 0.001% MACs, 512, eps=1e-05, momentum=0.1, affine=True, track_running_stats=True)\n",
            "    (2): ReLU(0, 0.000% Params, 8.19 KMac, 0.001% MACs, )\n",
            "    (3): Conv2d(2.36 M, 9.357% Params, 37.76 MMac, 2.977% MACs, 512, 512, kernel_size=(3, 3), stride=(1, 1), padding=(1, 1))\n",
            "    (4): BatchNorm2d(1.02 k, 0.004% Params, 16.38 KMac, 0.001% MACs, 512, eps=1e-05, momentum=0.1, affine=True, track_running_stats=True)\n",
            "    (5): ReLU(0, 0.000% Params, 8.19 KMac, 0.001% MACs, )\n",
            "    (6): Conv2d(2.36 M, 9.357% Params, 37.76 MMac, 2.977% MACs, 512, 512, kernel_size=(3, 3), stride=(1, 1), padding=(1, 1))\n",
            "    (7): BatchNorm2d(1.02 k, 0.004% Params, 16.38 KMac, 0.001% MACs, 512, eps=1e-05, momentum=0.1, affine=True, track_running_stats=True)\n",
            "    (8): ReLU(0, 0.000% Params, 8.19 KMac, 0.001% MACs, )\n",
            "    (9): MaxPool2d(0, 0.000% Params, 8.19 KMac, 0.001% MACs, kernel_size=2, stride=2, padding=0, dilation=1, ceil_mode=False)\n",
            "  )\n",
            "  (5): Flatten(0, 0.000% Params, 0.0 Mac, 0.000% MACs, start_dim=1, end_dim=-1)\n",
            "  (6): Linear(8.39 M, 33.280% Params, 8.39 MMac, 0.662% MACs, in_features=2048, out_features=4096, bias=True)\n",
            "  (7): ReLU(0, 0.000% Params, 4.1 KMac, 0.000% MACs, )\n",
            "  (8): Dropout(0, 0.000% Params, 0.0 Mac, 0.000% MACs, p=0.5, inplace=False)\n",
            "  (9): Linear(2.1 M, 8.318% Params, 2.1 MMac, 0.165% MACs, in_features=4096, out_features=512, bias=True)\n",
            "  (10): ReLU(0, 0.000% Params, 512.0 Mac, 0.000% MACs, )\n",
            "  (11): Dropout(0, 0.000% Params, 0.0 Mac, 0.000% MACs, p=0.5, inplace=False)\n",
            "  (12): Linear(5.13 k, 0.020% Params, 5.13 KMac, 0.000% MACs, in_features=512, out_features=10, bias=True)\n",
            ")\n",
            "Computational complexity:  1.27 GMac\n",
            "Number of parameters:  25.22 M\n"
          ]
        }
      ]
    },
    {
      "cell_type": "markdown",
      "source": [
        "# 1c) VGG-19"
      ],
      "metadata": {
        "id": "vqr2ViYNGAu7"
      }
    },
    {
      "cell_type": "code",
      "source": [
        "VGGNineteen = BaseVGG(arch=((2, 64), (2, 128), (4, 256), (4, 512), (4, 512)))\n",
        "#summary(VGGNineteen, input_size = (3, 64, 64), batch_size = 128)"
      ],
      "metadata": {
        "id": "8XfQwE6OGFWy",
        "colab": {
          "base_uri": "https://localhost:8080/"
        },
        "outputId": "6b55dd71-dff7-4ea4-f2ba-ce992540cfcd"
      },
      "execution_count": 9,
      "outputs": [
        {
          "output_type": "stream",
          "name": "stderr",
          "text": [
            "/usr/local/lib/python3.9/dist-packages/torch/nn/modules/lazy.py:180: UserWarning: Lazy modules are a new feature under heavy development so changes to the API or functionality can happen at any moment.\n",
            "  warnings.warn('Lazy modules are a new feature under heavy development '\n"
          ]
        }
      ]
    },
    {
      "cell_type": "code",
      "source": [
        "criterion = nn.CrossEntropyLoss()\n",
        "optimizer = optim.SGD(VGGNineteen.parameters(), lr=0.01)"
      ],
      "metadata": {
        "id": "AthjiMedrLy0"
      },
      "execution_count": 10,
      "outputs": []
    },
    {
      "cell_type": "code",
      "source": [
        "# Begin training over 10 epochs\n",
        "epochs = 10\n",
        "valHist = []\n",
        "valLosses = []\n",
        "trainHist = []\n",
        "trainLosses = []\n",
        "interLosses = []\n",
        "avgLosses = []\n",
        "\n",
        "for t in range(epochs):\n",
        "    actualEpoch = t+1\n",
        "    print(\"Epoch\", actualEpoch)\n",
        "    trainLoop(training_loader, VGGNineteen, criterion, optimizer)\n",
        "    valLoop(validation_loader, VGGNineteen, criterion)"
      ],
      "metadata": {
        "id": "CLBMFR-GrLJs",
        "colab": {
          "base_uri": "https://localhost:8080/",
          "height": 1000
        },
        "outputId": "8a361f28-3709-4d8c-c2a5-32b42eb5209f"
      },
      "execution_count": 11,
      "outputs": [
        {
          "output_type": "stream",
          "name": "stdout",
          "text": [
            "Epoch 1\n",
            "loss: 2.331387758255005\n",
            "loss: 1.7032594680786133\n",
            "loss: 1.526144027709961\n",
            "loss: 1.3765671253204346\n",
            "Training Accuracy:  52.334     Training Loss:  1.6046475733027739\n",
            "Validation Accuracy: 52.459999999999994     Validation Loss:  1.2993437293209606\n",
            " \n",
            "Epoch 2\n",
            "loss: 1.4717752933502197\n",
            "loss: 1.3382675647735596\n",
            "loss: 1.0125163793563843\n",
            "loss: 0.863140881061554\n",
            "Training Accuracy:  81.314     Training Loss:  1.050951664709984\n",
            "Validation Accuracy: 67.53     Validation Loss:  0.925742282143122\n",
            " \n",
            "Epoch 3\n",
            "loss: 0.9831904768943787\n",
            "loss: 0.7725498080253601\n",
            "loss: 0.6669642329216003\n",
            "loss: 0.8635208606719971\n",
            "Training Accuracy:  91.85600000000001     Training Loss:  0.76711285967961\n",
            "Validation Accuracy: 70.05     Validation Loss:  0.8731882028941866\n",
            " \n",
            "Epoch 4\n",
            "loss: 0.7225092053413391\n",
            "loss: 0.5570181608200073\n",
            "loss: 0.5194321274757385\n",
            "loss: 0.580623984336853\n",
            "Training Accuracy:  96.26400000000001     Training Loss:  0.5837884024738351\n",
            "Validation Accuracy: 77.17     Validation Loss:  0.6869940467273132\n",
            " \n",
            "Epoch 5\n",
            "loss: 0.4886320233345032\n",
            "loss: 0.514672040939331\n",
            "loss: 0.5179904699325562\n",
            "loss: 0.35854268074035645\n",
            "Training Accuracy:  98.25     Training Loss:  0.4488447916019908\n",
            "Validation Accuracy: 78.66     Validation Loss:  0.659045045511632\n",
            " \n",
            "Epoch 6\n",
            "loss: 0.35212236642837524\n",
            "loss: 0.19586272537708282\n",
            "loss: 0.259711354970932\n",
            "loss: 0.34487879276275635\n",
            "Training Accuracy:  99.21799999999999     Training Loss:  0.33521658315530517\n",
            "Validation Accuracy: 77.71000000000001     Validation Loss:  0.7025533322292038\n",
            " \n",
            "Epoch 7\n",
            "loss: 0.26394909620285034\n",
            "loss: 0.2867668867111206\n",
            "loss: 0.32079559564590454\n",
            "loss: 0.3416512906551361\n",
            "Training Accuracy:  99.58200000000001     Training Loss:  0.2542842682784476\n",
            "Validation Accuracy: 79.36999999999999     Validation Loss:  0.6789268756969066\n",
            " \n",
            "Epoch 8\n",
            "loss: 0.2204064577817917\n",
            "loss: 0.19845499098300934\n",
            "loss: 0.1552555412054062\n",
            "loss: 0.13485829532146454\n",
            "Training Accuracy:  99.798     Training Loss:  0.18023010173721996\n",
            "Validation Accuracy: 80.25999999999999     Validation Loss:  0.6903623685806612\n",
            " \n",
            "Epoch 9\n",
            "loss: 0.09689150005578995\n",
            "loss: 0.11360768973827362\n",
            "loss: 0.09631191194057465\n",
            "loss: 0.2283611297607422\n",
            "Training Accuracy:  99.878     Training Loss:  0.1361897181757652\n",
            "Validation Accuracy: 80.25     Validation Loss:  0.7412889343273791\n",
            " \n",
            "Epoch 10\n",
            "loss: 0.1488541066646576\n",
            "loss: 0.08853688091039658\n"
          ]
        },
        {
          "output_type": "error",
          "ename": "KeyboardInterrupt",
          "evalue": "ignored",
          "traceback": [
            "\u001b[0;31m---------------------------------------------------------------------------\u001b[0m",
            "\u001b[0;31mKeyboardInterrupt\u001b[0m                         Traceback (most recent call last)",
            "\u001b[0;32m<ipython-input-11-86238f9461a7>\u001b[0m in \u001b[0;36m<module>\u001b[0;34m\u001b[0m\n\u001b[1;32m     11\u001b[0m     \u001b[0mactualEpoch\u001b[0m \u001b[0;34m=\u001b[0m \u001b[0mt\u001b[0m\u001b[0;34m+\u001b[0m\u001b[0;36m1\u001b[0m\u001b[0;34m\u001b[0m\u001b[0;34m\u001b[0m\u001b[0m\n\u001b[1;32m     12\u001b[0m     \u001b[0mprint\u001b[0m\u001b[0;34m(\u001b[0m\u001b[0;34m\"Epoch\"\u001b[0m\u001b[0;34m,\u001b[0m \u001b[0mactualEpoch\u001b[0m\u001b[0;34m)\u001b[0m\u001b[0;34m\u001b[0m\u001b[0;34m\u001b[0m\u001b[0m\n\u001b[0;32m---> 13\u001b[0;31m     \u001b[0mtrainLoop\u001b[0m\u001b[0;34m(\u001b[0m\u001b[0mtraining_loader\u001b[0m\u001b[0;34m,\u001b[0m \u001b[0mVGGNineteen\u001b[0m\u001b[0;34m,\u001b[0m \u001b[0mcriterion\u001b[0m\u001b[0;34m,\u001b[0m \u001b[0moptimizer\u001b[0m\u001b[0;34m)\u001b[0m\u001b[0;34m\u001b[0m\u001b[0;34m\u001b[0m\u001b[0m\n\u001b[0m\u001b[1;32m     14\u001b[0m     \u001b[0mvalLoop\u001b[0m\u001b[0;34m(\u001b[0m\u001b[0mvalidation_loader\u001b[0m\u001b[0;34m,\u001b[0m \u001b[0mVGGNineteen\u001b[0m\u001b[0;34m,\u001b[0m \u001b[0mcriterion\u001b[0m\u001b[0;34m)\u001b[0m\u001b[0;34m\u001b[0m\u001b[0;34m\u001b[0m\u001b[0m\n",
            "\u001b[0;32m<ipython-input-5-b2fdf18b4b29>\u001b[0m in \u001b[0;36mtrainLoop\u001b[0;34m(dataloader, model, loss_fn, optimizer)\u001b[0m\n\u001b[1;32m     13\u001b[0m \u001b[0;34m\u001b[0m\u001b[0m\n\u001b[1;32m     14\u001b[0m         \u001b[0moptimizer\u001b[0m\u001b[0;34m.\u001b[0m\u001b[0mzero_grad\u001b[0m\u001b[0;34m(\u001b[0m\u001b[0;34m)\u001b[0m\u001b[0;34m\u001b[0m\u001b[0;34m\u001b[0m\u001b[0m\n\u001b[0;32m---> 15\u001b[0;31m         \u001b[0mloss\u001b[0m\u001b[0;34m.\u001b[0m\u001b[0mbackward\u001b[0m\u001b[0;34m(\u001b[0m\u001b[0;34m)\u001b[0m\u001b[0;34m\u001b[0m\u001b[0;34m\u001b[0m\u001b[0m\n\u001b[0m\u001b[1;32m     16\u001b[0m         \u001b[0moptimizer\u001b[0m\u001b[0;34m.\u001b[0m\u001b[0mstep\u001b[0m\u001b[0;34m(\u001b[0m\u001b[0;34m)\u001b[0m\u001b[0;34m\u001b[0m\u001b[0;34m\u001b[0m\u001b[0m\n\u001b[1;32m     17\u001b[0m \u001b[0;34m\u001b[0m\u001b[0m\n",
            "\u001b[0;32m/usr/local/lib/python3.9/dist-packages/torch/_tensor.py\u001b[0m in \u001b[0;36mbackward\u001b[0;34m(self, gradient, retain_graph, create_graph, inputs)\u001b[0m\n\u001b[1;32m    486\u001b[0m                 \u001b[0minputs\u001b[0m\u001b[0;34m=\u001b[0m\u001b[0minputs\u001b[0m\u001b[0;34m,\u001b[0m\u001b[0;34m\u001b[0m\u001b[0;34m\u001b[0m\u001b[0m\n\u001b[1;32m    487\u001b[0m             )\n\u001b[0;32m--> 488\u001b[0;31m         torch.autograd.backward(\n\u001b[0m\u001b[1;32m    489\u001b[0m             \u001b[0mself\u001b[0m\u001b[0;34m,\u001b[0m \u001b[0mgradient\u001b[0m\u001b[0;34m,\u001b[0m \u001b[0mretain_graph\u001b[0m\u001b[0;34m,\u001b[0m \u001b[0mcreate_graph\u001b[0m\u001b[0;34m,\u001b[0m \u001b[0minputs\u001b[0m\u001b[0;34m=\u001b[0m\u001b[0minputs\u001b[0m\u001b[0;34m\u001b[0m\u001b[0;34m\u001b[0m\u001b[0m\n\u001b[1;32m    490\u001b[0m         )\n",
            "\u001b[0;32m/usr/local/lib/python3.9/dist-packages/torch/autograd/__init__.py\u001b[0m in \u001b[0;36mbackward\u001b[0;34m(tensors, grad_tensors, retain_graph, create_graph, grad_variables, inputs)\u001b[0m\n\u001b[1;32m    195\u001b[0m     \u001b[0;31m# some Python versions print out the first line of a multi-line function\u001b[0m\u001b[0;34m\u001b[0m\u001b[0;34m\u001b[0m\u001b[0m\n\u001b[1;32m    196\u001b[0m     \u001b[0;31m# calls in the traceback and some print out the last line\u001b[0m\u001b[0;34m\u001b[0m\u001b[0;34m\u001b[0m\u001b[0m\n\u001b[0;32m--> 197\u001b[0;31m     Variable._execution_engine.run_backward(  # Calls into the C++ engine to run the backward pass\n\u001b[0m\u001b[1;32m    198\u001b[0m         \u001b[0mtensors\u001b[0m\u001b[0;34m,\u001b[0m \u001b[0mgrad_tensors_\u001b[0m\u001b[0;34m,\u001b[0m \u001b[0mretain_graph\u001b[0m\u001b[0;34m,\u001b[0m \u001b[0mcreate_graph\u001b[0m\u001b[0;34m,\u001b[0m \u001b[0minputs\u001b[0m\u001b[0;34m,\u001b[0m\u001b[0;34m\u001b[0m\u001b[0;34m\u001b[0m\u001b[0m\n\u001b[1;32m    199\u001b[0m         allow_unreachable=True, accumulate_grad=True)  # Calls into the C++ engine to run the backward pass\n",
            "\u001b[0;31mKeyboardInterrupt\u001b[0m: "
          ]
        }
      ]
    },
    {
      "cell_type": "code",
      "source": [
        "# Plot results\n",
        "x = np.linspace(1, epochs, epochs-1)     \n",
        "plt.figure(figsize=(7,5))\n",
        "plt.title(\"VGG-19: Train Loss and Val Accuracy\")\n",
        "plt.plot(x, trainLosses, label=\"Train Loss\")\n",
        "plt.plot(x, valHist, label=\"Val Accuracy\")\n",
        "plt.plot(x, trainHist, label=\"Train Accuracy\")\n",
        "plt.xlabel(\"Epoch\")\n",
        "plt.ylabel(\"Value\")\n",
        "plt.legend()\n",
        "plt.xlim(0, epochs)\n",
        "plt.ylim(0, 1.5)\n",
        "plt.show()\n",
        "\n",
        "### Train time: ~3hrs 30mins for 9 epochs "
      ],
      "metadata": {
        "colab": {
          "base_uri": "https://localhost:8080/",
          "height": 350
        },
        "id": "BwGPHXGY8rEz",
        "outputId": "604b3600-24fe-4c44-c210-74d71af821f9"
      },
      "execution_count": 13,
      "outputs": [
        {
          "output_type": "display_data",
          "data": {
            "text/plain": [
              "<Figure size 504x360 with 1 Axes>"
            ],
            "image/png": "[encoded data removed]"
          },
          "metadata": {
            "needs_background": "light"
          }
        }
      ]
    },
    {
      "cell_type": "code",
      "source": [
        "macs, params = get_model_complexity_info(VGGNineteen, (3, 64, 64), as_strings=True,\n",
        "                                           print_per_layer_stat=True, verbose=True)\n",
        "print('Computational complexity: ', macs)\n",
        "print('Number of parameters: ', params)"
      ],
      "metadata": {
        "colab": {
          "base_uri": "https://localhost:8080/"
        },
        "id": "7AqzNww98q64",
        "outputId": "6c50f4f5-09fc-4173-9cf1-531f86e06c98"
      },
      "execution_count": 14,
      "outputs": [
        {
          "output_type": "stream",
          "name": "stdout",
          "text": [
            "Warning: module Flatten is treated as a zero-op.\n",
            "Warning: module Dropout is treated as a zero-op.\n",
            "Sequential(\n",
            "  30.53 M, 100.000% Params, 1.61 GMac, 100.000% MACs, \n",
            "  (0): Sequential(\n",
            "    38.98 k, 0.128% Params, 160.43 MMac, 9.975% MACs, \n",
            "    (0): Conv2d(1.79 k, 0.006% Params, 7.34 MMac, 0.456% MACs, 3, 64, kernel_size=(3, 3), stride=(1, 1), padding=(1, 1))\n",
            "    (1): BatchNorm2d(128, 0.000% Params, 524.29 KMac, 0.033% MACs, 64, eps=1e-05, momentum=0.1, affine=True, track_running_stats=True)\n",
            "    (2): ReLU(0, 0.000% Params, 262.14 KMac, 0.016% MACs, )\n",
            "    (3): Conv2d(36.93 k, 0.121% Params, 151.26 MMac, 9.404% MACs, 64, 64, kernel_size=(3, 3), stride=(1, 1), padding=(1, 1))\n",
            "    (4): BatchNorm2d(128, 0.000% Params, 524.29 KMac, 0.033% MACs, 64, eps=1e-05, momentum=0.1, affine=True, track_running_stats=True)\n",
            "    (5): ReLU(0, 0.000% Params, 262.14 KMac, 0.016% MACs, )\n",
            "    (6): MaxPool2d(0, 0.000% Params, 262.14 KMac, 0.016% MACs, kernel_size=2, stride=2, padding=0, dilation=1, ceil_mode=False)\n",
            "  )\n",
            "  (1): Sequential(\n",
            "    221.95 k, 0.727% Params, 227.67 MMac, 14.155% MACs, \n",
            "    (0): Conv2d(73.86 k, 0.242% Params, 75.63 MMac, 4.702% MACs, 64, 128, kernel_size=(3, 3), stride=(1, 1), padding=(1, 1))\n",
            "    (1): BatchNorm2d(256, 0.001% Params, 262.14 KMac, 0.016% MACs, 128, eps=1e-05, momentum=0.1, affine=True, track_running_stats=True)\n",
            "    (2): ReLU(0, 0.000% Params, 131.07 KMac, 0.008% MACs, )\n",
            "    (3): Conv2d(147.58 k, 0.483% Params, 151.13 MMac, 9.396% MACs, 128, 128, kernel_size=(3, 3), stride=(1, 1), padding=(1, 1))\n",
            "    (4): BatchNorm2d(256, 0.001% Params, 262.14 KMac, 0.016% MACs, 128, eps=1e-05, momentum=0.1, affine=True, track_running_stats=True)\n",
            "    (5): ReLU(0, 0.000% Params, 131.07 KMac, 0.008% MACs, )\n",
            "    (6): MaxPool2d(0, 0.000% Params, 131.07 KMac, 0.008% MACs, kernel_size=2, stride=2, padding=0, dilation=1, ceil_mode=False)\n",
            "  )\n",
            "  (2): Sequential(\n",
            "    2.07 M, 6.772% Params, 529.6 MMac, 32.927% MACs, \n",
            "    (0): Conv2d(295.17 k, 0.967% Params, 75.56 MMac, 4.698% MACs, 128, 256, kernel_size=(3, 3), stride=(1, 1), padding=(1, 1))\n",
            "    (1): BatchNorm2d(512, 0.002% Params, 131.07 KMac, 0.008% MACs, 256, eps=1e-05, momentum=0.1, affine=True, track_running_stats=True)\n",
            "    (2): ReLU(0, 0.000% Params, 65.54 KMac, 0.004% MACs, )\n",
            "    (3): Conv2d(590.08 k, 1.933% Params, 151.06 MMac, 9.392% MACs, 256, 256, kernel_size=(3, 3), stride=(1, 1), padding=(1, 1))\n",
            "    (4): BatchNorm2d(512, 0.002% Params, 131.07 KMac, 0.008% MACs, 256, eps=1e-05, momentum=0.1, affine=True, track_running_stats=True)\n",
            "    (5): ReLU(0, 0.000% Params, 65.54 KMac, 0.004% MACs, )\n",
            "    (6): Conv2d(590.08 k, 1.933% Params, 151.06 MMac, 9.392% MACs, 256, 256, kernel_size=(3, 3), stride=(1, 1), padding=(1, 1))\n",
            "    (7): BatchNorm2d(512, 0.002% Params, 131.07 KMac, 0.008% MACs, 256, eps=1e-05, momentum=0.1, affine=True, track_running_stats=True)\n",
            "    (8): ReLU(0, 0.000% Params, 65.54 KMac, 0.004% MACs, )\n",
            "    (9): Conv2d(590.08 k, 1.933% Params, 151.06 MMac, 9.392% MACs, 256, 256, kernel_size=(3, 3), stride=(1, 1), padding=(1, 1))\n",
            "    (10): BatchNorm2d(512, 0.002% Params, 131.07 KMac, 0.008% MACs, 256, eps=1e-05, momentum=0.1, affine=True, track_running_stats=True)\n",
            "    (11): ReLU(0, 0.000% Params, 65.54 KMac, 0.004% MACs, )\n",
            "    (12): MaxPool2d(0, 0.000% Params, 65.54 KMac, 0.004% MACs, kernel_size=2, stride=2, padding=0, dilation=1, ceil_mode=False)\n",
            "  )\n",
            "  (3): Sequential(\n",
            "    8.26 M, 27.067% Params, 529.04 MMac, 32.893% MACs, \n",
            "    (0): Conv2d(1.18 M, 3.865% Params, 75.53 MMac, 4.696% MACs, 256, 512, kernel_size=(3, 3), stride=(1, 1), padding=(1, 1))\n",
            "    (1): BatchNorm2d(1.02 k, 0.003% Params, 65.54 KMac, 0.004% MACs, 512, eps=1e-05, momentum=0.1, affine=True, track_running_stats=True)\n",
            "    (2): ReLU(0, 0.000% Params, 32.77 KMac, 0.002% MACs, )\n",
            "    (3): Conv2d(2.36 M, 7.729% Params, 151.03 MMac, 9.390% MACs, 512, 512, kernel_size=(3, 3), stride=(1, 1), padding=(1, 1))\n",
            "    (4): BatchNorm2d(1.02 k, 0.003% Params, 65.54 KMac, 0.004% MACs, 512, eps=1e-05, momentum=0.1, affine=True, track_running_stats=True)\n",
            "    (5): ReLU(0, 0.000% Params, 32.77 KMac, 0.002% MACs, )\n",
            "    (6): Conv2d(2.36 M, 7.729% Params, 151.03 MMac, 9.390% MACs, 512, 512, kernel_size=(3, 3), stride=(1, 1), padding=(1, 1))\n",
            "    (7): BatchNorm2d(1.02 k, 0.003% Params, 65.54 KMac, 0.004% MACs, 512, eps=1e-05, momentum=0.1, affine=True, track_running_stats=True)\n",
            "    (8): ReLU(0, 0.000% Params, 32.77 KMac, 0.002% MACs, )\n",
            "    (9): Conv2d(2.36 M, 7.729% Params, 151.03 MMac, 9.390% MACs, 512, 512, kernel_size=(3, 3), stride=(1, 1), padding=(1, 1))\n",
            "    (10): BatchNorm2d(1.02 k, 0.003% Params, 65.54 KMac, 0.004% MACs, 512, eps=1e-05, momentum=0.1, affine=True, track_running_stats=True)\n",
            "    (11): ReLU(0, 0.000% Params, 32.77 KMac, 0.002% MACs, )\n",
            "    (12): MaxPool2d(0, 0.000% Params, 32.77 KMac, 0.002% MACs, kernel_size=2, stride=2, padding=0, dilation=1, ceil_mode=False)\n",
            "  )\n",
            "  (4): Sequential(\n",
            "    9.44 M, 30.930% Params, 151.13 MMac, 9.397% MACs, \n",
            "    (0): Conv2d(2.36 M, 7.729% Params, 37.76 MMac, 2.348% MACs, 512, 512, kernel_size=(3, 3), stride=(1, 1), padding=(1, 1))\n",
            "    (1): BatchNorm2d(1.02 k, 0.003% Params, 16.38 KMac, 0.001% MACs, 512, eps=1e-05, momentum=0.1, affine=True, track_running_stats=True)\n",
            "    (2): ReLU(0, 0.000% Params, 8.19 KMac, 0.001% MACs, )\n",
            "    (3): Conv2d(2.36 M, 7.729% Params, 37.76 MMac, 2.348% MACs, 512, 512, kernel_size=(3, 3), stride=(1, 1), padding=(1, 1))\n",
            "    (4): BatchNorm2d(1.02 k, 0.003% Params, 16.38 KMac, 0.001% MACs, 512, eps=1e-05, momentum=0.1, affine=True, track_running_stats=True)\n",
            "    (5): ReLU(0, 0.000% Params, 8.19 KMac, 0.001% MACs, )\n",
            "    (6): Conv2d(2.36 M, 7.729% Params, 37.76 MMac, 2.348% MACs, 512, 512, kernel_size=(3, 3), stride=(1, 1), padding=(1, 1))\n",
            "    (7): BatchNorm2d(1.02 k, 0.003% Params, 16.38 KMac, 0.001% MACs, 512, eps=1e-05, momentum=0.1, affine=True, track_running_stats=True)\n",
            "    (8): ReLU(0, 0.000% Params, 8.19 KMac, 0.001% MACs, )\n",
            "    (9): Conv2d(2.36 M, 7.729% Params, 37.76 MMac, 2.348% MACs, 512, 512, kernel_size=(3, 3), stride=(1, 1), padding=(1, 1))\n",
            "    (10): BatchNorm2d(1.02 k, 0.003% Params, 16.38 KMac, 0.001% MACs, 512, eps=1e-05, momentum=0.1, affine=True, track_running_stats=True)\n",
            "    (11): ReLU(0, 0.000% Params, 8.19 KMac, 0.001% MACs, )\n",
            "    (12): MaxPool2d(0, 0.000% Params, 8.19 KMac, 0.001% MACs, kernel_size=2, stride=2, padding=0, dilation=1, ceil_mode=False)\n",
            "  )\n",
            "  (5): Flatten(0, 0.000% Params, 0.0 Mac, 0.000% MACs, start_dim=1, end_dim=-1)\n",
            "  (6): Linear(8.39 M, 27.489% Params, 8.39 MMac, 0.522% MACs, in_features=2048, out_features=4096, bias=True)\n",
            "  (7): ReLU(0, 0.000% Params, 4.1 KMac, 0.000% MACs, )\n",
            "  (8): Dropout(0, 0.000% Params, 0.0 Mac, 0.000% MACs, p=0.5, inplace=False)\n",
            "  (9): Linear(2.1 M, 6.871% Params, 2.1 MMac, 0.130% MACs, in_features=4096, out_features=512, bias=True)\n",
            "  (10): ReLU(0, 0.000% Params, 512.0 Mac, 0.000% MACs, )\n",
            "  (11): Dropout(0, 0.000% Params, 0.0 Mac, 0.000% MACs, p=0.5, inplace=False)\n",
            "  (12): Linear(5.13 k, 0.017% Params, 5.13 KMac, 0.000% MACs, in_features=512, out_features=10, bias=True)\n",
            ")\n",
            "Computational complexity:  1.61 GMac\n",
            "Number of parameters:  30.53 M\n"
          ]
        }
      ]
    },
    {
      "cell_type": "markdown",
      "source": [
        "# 2a) Baseline GoogleNet "
      ],
      "metadata": {
        "id": "ohVTcsCJGNZN"
      }
    },
    {
      "cell_type": "code",
      "source": [
        "class Inception(nn.Module):\n",
        "\n",
        "    def __init__(self, c1, c2, c3, c4, **kwargs):\n",
        "        super(Inception, self).__init__(**kwargs)\n",
        "        # Branch 1\n",
        "        self.b1_1 = nn.LazyConv2d(c1, kernel_size=1)\n",
        "        # Branch 2\n",
        "        self.b2_1 = nn.LazyConv2d(c2[0], kernel_size=1)\n",
        "        self.b2_2 = nn.LazyConv2d(c2[1], kernel_size=3, padding=1)\n",
        "        # Branch 3\n",
        "        self.b3_1 = nn.LazyConv2d(c3[0], kernel_size=1)\n",
        "        self.b3_2 = nn.LazyConv2d(c3[1], kernel_size=5, padding=2)\n",
        "        # Branch 4\n",
        "        self.b4_1 = nn.MaxPool2d(kernel_size=3, stride=1, padding=1)\n",
        "        self.b4_2 = nn.LazyConv2d(c4, kernel_size=1)\n",
        "\n",
        "    def forward(self, x):\n",
        "        b1 = F.relu(self.b1_1(x))\n",
        "        b2 = F.relu(self.b2_2(F.relu(self.b2_1(x))))\n",
        "        b3 = F.relu(self.b3_2(F.relu(self.b3_1(x))))\n",
        "        b4 = F.relu(self.b4_2(self.b4_1(x)))\n",
        "        return torch.cat((b1, b2, b3, b4), dim=1)"
      ],
      "metadata": {
        "id": "50FKpqbJGXIs"
      },
      "execution_count": null,
      "outputs": []
    },
    {
      "cell_type": "code",
      "source": [
        "bigBlock1 = nn.Sequential(\n",
        "                   nn.LazyConv2d(64, kernel_size=7, stride=2, padding=3), nn.ReLU(), \n",
        "                   nn.MaxPool2d(kernel_size=3, stride=2, padding=1))"
      ],
      "metadata": {
        "id": "H6gMjrHc2EVZ",
        "colab": {
          "base_uri": "https://localhost:8080/"
        },
        "outputId": "5f8639d2-d20e-4b0a-cde4-8b9faf7ea617"
      },
      "execution_count": null,
      "outputs": [
        {
          "output_type": "stream",
          "name": "stderr",
          "text": [
            "/usr/local/lib/python3.8/dist-packages/torch/nn/modules/lazy.py:180: UserWarning: Lazy modules are a new feature under heavy development so changes to the API or functionality can happen at any moment.\n",
            "  warnings.warn('Lazy modules are a new feature under heavy development '\n"
          ]
        }
      ]
    },
    {
      "cell_type": "code",
      "source": [
        "bigBlock2 = nn.Sequential(\n",
        "                   nn.LazyConv2d(64, kernel_size=1), nn.ReLU(),\n",
        "                   nn.LazyConv2d(192, kernel_size=3, padding=1), nn.ReLU(),\n",
        "                   nn.MaxPool2d(kernel_size=3, stride=2, padding=1))"
      ],
      "metadata": {
        "id": "kZSwjU-o2Whg"
      },
      "execution_count": null,
      "outputs": []
    },
    {
      "cell_type": "code",
      "source": [
        "bigBlock3 = nn.Sequential(Inception(64, (96, 128), (16, 32), 32),\n",
        "                   Inception(128, (128, 192), (32, 96), 64),\n",
        "                   nn.MaxPool2d(kernel_size=3, stride=2, padding=1))"
      ],
      "metadata": {
        "id": "EcjxurLS3H0f"
      },
      "execution_count": null,
      "outputs": []
    },
    {
      "cell_type": "code",
      "source": [
        "bigBlock4 = nn.Sequential(Inception(192, (96, 208), (16, 48), 64),\n",
        "                   Inception(160, (112, 224), (24, 64), 64),\n",
        "                   Inception(128, (128, 256), (24, 64), 64),\n",
        "                   Inception(112, (144, 288), (32, 64), 64),\n",
        "                   Inception(256, (160, 320), (32, 128), 128),\n",
        "                   nn.MaxPool2d(kernel_size=3, stride=2, padding=1))"
      ],
      "metadata": {
        "id": "yoTxMs683ZAc"
      },
      "execution_count": null,
      "outputs": []
    },
    {
      "cell_type": "code",
      "source": [
        "bigBlock5 = nn.Sequential(Inception(256, (160, 320), (32, 128), 128),\n",
        "                   Inception(384, (192, 384), (48, 128), 128),\n",
        "                   nn.AdaptiveAvgPool2d((1,1)), \n",
        "                   nn.Flatten())"
      ],
      "metadata": {
        "id": "r_Et7g203ea3"
      },
      "execution_count": null,
      "outputs": []
    },
    {
      "cell_type": "code",
      "source": [
        "GoogleNet = nn.Sequential(\n",
        "    bigBlock1,\n",
        "    bigBlock2,\n",
        "    bigBlock3,\n",
        "    bigBlock4,\n",
        "    bigBlock5,\n",
        "    nn.LazyLinear(10)\n",
        ")"
      ],
      "metadata": {
        "id": "tUPfocvP2gOn"
      },
      "execution_count": null,
      "outputs": []
    },
    {
      "cell_type": "code",
      "source": [
        "summary(GoogleNet, input_size = (3, 64, 64), batch_size = 128)"
      ],
      "metadata": {
        "colab": {
          "base_uri": "https://localhost:8080/"
        },
        "id": "hYaoSEPK2pCP",
        "outputId": "d98f7917-b911-401a-c816-2b11b73dc59a"
      },
      "execution_count": null,
      "outputs": [
        {
          "output_type": "stream",
          "name": "stdout",
          "text": [
            "----------------------------------------------------------------\n",
            "        Layer (type)               Output Shape         Param #\n",
            "================================================================\n",
            "            Conv2d-1          [128, 64, 32, 32]           9,472\n",
            "              ReLU-2          [128, 64, 32, 32]               0\n",
            "         MaxPool2d-3          [128, 64, 16, 16]               0\n",
            "            Conv2d-4          [128, 64, 16, 16]           4,160\n",
            "              ReLU-5          [128, 64, 16, 16]               0\n",
            "            Conv2d-6         [128, 192, 16, 16]         110,784\n",
            "              ReLU-7         [128, 192, 16, 16]               0\n",
            "         MaxPool2d-8           [128, 192, 8, 8]               0\n",
            "            Conv2d-9            [128, 64, 8, 8]          12,352\n",
            "           Conv2d-10            [128, 96, 8, 8]          18,528\n",
            "           Conv2d-11           [128, 128, 8, 8]         110,720\n",
            "           Conv2d-12            [128, 16, 8, 8]           3,088\n",
            "           Conv2d-13            [128, 32, 8, 8]          12,832\n",
            "        MaxPool2d-14           [128, 192, 8, 8]               0\n",
            "           Conv2d-15            [128, 32, 8, 8]           6,176\n",
            "        Inception-16           [128, 256, 8, 8]               0\n",
            "           Conv2d-17           [128, 128, 8, 8]          32,896\n",
            "           Conv2d-18           [128, 128, 8, 8]          32,896\n",
            "           Conv2d-19           [128, 192, 8, 8]         221,376\n",
            "           Conv2d-20            [128, 32, 8, 8]           8,224\n",
            "           Conv2d-21            [128, 96, 8, 8]          76,896\n",
            "        MaxPool2d-22           [128, 256, 8, 8]               0\n",
            "           Conv2d-23            [128, 64, 8, 8]          16,448\n",
            "        Inception-24           [128, 480, 8, 8]               0\n",
            "        MaxPool2d-25           [128, 480, 4, 4]               0\n",
            "           Conv2d-26           [128, 192, 4, 4]          92,352\n",
            "           Conv2d-27            [128, 96, 4, 4]          46,176\n",
            "           Conv2d-28           [128, 208, 4, 4]         179,920\n",
            "           Conv2d-29            [128, 16, 4, 4]           7,696\n",
            "           Conv2d-30            [128, 48, 4, 4]          19,248\n",
            "        MaxPool2d-31           [128, 480, 4, 4]               0\n",
            "           Conv2d-32            [128, 64, 4, 4]          30,784\n",
            "        Inception-33           [128, 512, 4, 4]               0\n",
            "           Conv2d-34           [128, 160, 4, 4]          82,080\n",
            "           Conv2d-35           [128, 112, 4, 4]          57,456\n",
            "           Conv2d-36           [128, 224, 4, 4]         226,016\n",
            "           Conv2d-37            [128, 24, 4, 4]          12,312\n",
            "           Conv2d-38            [128, 64, 4, 4]          38,464\n",
            "        MaxPool2d-39           [128, 512, 4, 4]               0\n",
            "           Conv2d-40            [128, 64, 4, 4]          32,832\n",
            "        Inception-41           [128, 512, 4, 4]               0\n",
            "           Conv2d-42           [128, 128, 4, 4]          65,664\n",
            "           Conv2d-43           [128, 128, 4, 4]          65,664\n",
            "           Conv2d-44           [128, 256, 4, 4]         295,168\n",
            "           Conv2d-45            [128, 24, 4, 4]          12,312\n",
            "           Conv2d-46            [128, 64, 4, 4]          38,464\n",
            "        MaxPool2d-47           [128, 512, 4, 4]               0\n",
            "           Conv2d-48            [128, 64, 4, 4]          32,832\n",
            "        Inception-49           [128, 512, 4, 4]               0\n",
            "           Conv2d-50           [128, 112, 4, 4]          57,456\n",
            "           Conv2d-51           [128, 144, 4, 4]          73,872\n",
            "           Conv2d-52           [128, 288, 4, 4]         373,536\n",
            "           Conv2d-53            [128, 32, 4, 4]          16,416\n",
            "           Conv2d-54            [128, 64, 4, 4]          51,264\n",
            "        MaxPool2d-55           [128, 512, 4, 4]               0\n",
            "           Conv2d-56            [128, 64, 4, 4]          32,832\n",
            "        Inception-57           [128, 528, 4, 4]               0\n",
            "           Conv2d-58           [128, 256, 4, 4]         135,424\n",
            "           Conv2d-59           [128, 160, 4, 4]          84,640\n",
            "           Conv2d-60           [128, 320, 4, 4]         461,120\n",
            "           Conv2d-61            [128, 32, 4, 4]          16,928\n",
            "           Conv2d-62           [128, 128, 4, 4]         102,528\n",
            "        MaxPool2d-63           [128, 528, 4, 4]               0\n",
            "           Conv2d-64           [128, 128, 4, 4]          67,712\n",
            "        Inception-65           [128, 832, 4, 4]               0\n",
            "        MaxPool2d-66           [128, 832, 2, 2]               0\n",
            "           Conv2d-67           [128, 256, 2, 2]         213,248\n",
            "           Conv2d-68           [128, 160, 2, 2]         133,280\n",
            "           Conv2d-69           [128, 320, 2, 2]         461,120\n",
            "           Conv2d-70            [128, 32, 2, 2]          26,656\n",
            "           Conv2d-71           [128, 128, 2, 2]         102,528\n",
            "        MaxPool2d-72           [128, 832, 2, 2]               0\n",
            "           Conv2d-73           [128, 128, 2, 2]         106,624\n",
            "        Inception-74           [128, 832, 2, 2]               0\n",
            "           Conv2d-75           [128, 384, 2, 2]         319,872\n",
            "           Conv2d-76           [128, 192, 2, 2]         159,936\n",
            "           Conv2d-77           [128, 384, 2, 2]         663,936\n",
            "           Conv2d-78            [128, 48, 2, 2]          39,984\n",
            "           Conv2d-79           [128, 128, 2, 2]         153,728\n",
            "        MaxPool2d-80           [128, 832, 2, 2]               0\n",
            "           Conv2d-81           [128, 128, 2, 2]         106,624\n",
            "        Inception-82          [128, 1024, 2, 2]               0\n",
            "AdaptiveAvgPool2d-83          [128, 1024, 1, 1]               0\n",
            "          Flatten-84                [128, 1024]               0\n",
            "           Linear-85                  [128, 10]          10,250\n",
            "================================================================\n",
            "Total params: 5,983,802\n",
            "Trainable params: 5,983,802\n",
            "Non-trainable params: 0\n",
            "----------------------------------------------------------------\n",
            "Input size (MB): 6.00\n",
            "Forward/backward pass size (MB): 598.70\n",
            "Params size (MB): 22.83\n",
            "Estimated Total Size (MB): 627.52\n",
            "----------------------------------------------------------------\n"
          ]
        }
      ]
    },
    {
      "cell_type": "code",
      "source": [
        "criterion = nn.CrossEntropyLoss()\n",
        "optimizer = optim.SGD(GoogleNet.parameters(), lr=0.01)"
      ],
      "metadata": {
        "id": "5L0FWlAq2t8N"
      },
      "execution_count": null,
      "outputs": []
    },
    {
      "cell_type": "code",
      "source": [
        "# Begin training over 5 epochs\n",
        "epochs = 5\n",
        "valHist = []\n",
        "valLosses = []\n",
        "trainHist = []\n",
        "trainLosses = []\n",
        "interLosses = []\n",
        "avgLosses = []\n",
        "\n",
        "for t in range(epochs):\n",
        "    actualEpoch = t+1\n",
        "    print(\"Epoch\", actualEpoch)\n",
        "    trainLoop(training_loader, GoogleNet, criterion, optimizer)\n",
        "    valLoop(validation_loader, GoogleNet, criterion)"
      ],
      "metadata": {
        "colab": {
          "base_uri": "https://localhost:8080/"
        },
        "id": "iQbOsonQXZCb",
        "outputId": "318521cb-b7fe-476b-a4f6-05b9cdab4f5f"
      },
      "execution_count": null,
      "outputs": [
        {
          "output_type": "stream",
          "name": "stdout",
          "text": [
            "Epoch 1\n",
            "loss: 2.304359197616577\n",
            "loss: 2.302676200866699\n",
            "loss: 2.302182674407959\n",
            "loss: 2.302480936050415\n",
            "Training Accuracy:  10.0     Training Loss:  2.302677970408174\n",
            "Validation Accuracy: 10.0     Validation Loss:  2.302629262586183\n",
            " \n",
            "Epoch 2\n",
            "loss: 2.3016629219055176\n",
            "loss: 2.3033292293548584\n",
            "loss: 2.302647590637207\n",
            "loss: 2.302816152572632\n",
            "Training Accuracy:  10.07     Training Loss:  2.302648488213034\n",
            "Validation Accuracy: 10.0     Validation Loss:  2.3026042165635507\n",
            " \n",
            "Epoch 3\n",
            "loss: 2.302588939666748\n",
            "loss: 2.3023459911346436\n",
            "loss: 2.3028881549835205\n",
            "loss: 2.303091526031494\n",
            "Training Accuracy:  10.25     Training Loss:  2.3026394051359134\n",
            "Validation Accuracy: 10.0     Validation Loss:  2.302596753156638\n",
            " \n",
            "Epoch 4\n",
            "loss: 2.302618980407715\n",
            "loss: 2.3027374744415283\n",
            "loss: 2.3028383255004883\n",
            "loss: 2.302997350692749\n",
            "Training Accuracy:  10.209999999999999     Training Loss:  2.302632306847731\n",
            "Validation Accuracy: 10.0     Validation Loss:  2.3025873974908757\n",
            " \n",
            "Epoch 5\n",
            "loss: 2.3026015758514404\n",
            "loss: 2.3025219440460205\n",
            "loss: 2.3024256229400635\n",
            "loss: 2.302746295928955\n",
            "Training Accuracy:  10.198     Training Loss:  2.3026275384761488\n",
            "Validation Accuracy: 10.0     Validation Loss:  2.30258980582032\n",
            " \n"
          ]
        }
      ]
    },
    {
      "cell_type": "code",
      "source": [
        "# Plot results\n",
        "x = np.linspace(1, epochs, epochs)     \n",
        "plt.figure(figsize=(7,5))\n",
        "plt.title(\"GoogleNet: Train Loss and Val Accuracy\")\n",
        "plt.plot(x, trainLosses, label=\"Train Loss\")\n",
        "plt.plot(x, valHist, label=\"Val Accuracy\")\n",
        "plt.plot(x, trainHist, label=\"Train Accuracy\")\n",
        "plt.xlabel(\"Epoch\")\n",
        "plt.ylabel(\"Value\")\n",
        "plt.legend()\n",
        "plt.xlim(0, epochs)\n",
        "plt.ylim(0, 2.5)\n",
        "plt.show()\n",
        "\n",
        "### Train time: ~18ish minutes for 5 epochs "
      ],
      "metadata": {
        "colab": {
          "base_uri": "https://localhost:8080/",
          "height": 350
        },
        "id": "WL3_TVNdZtl3",
        "outputId": "66197eda-bdbb-4db2-8c86-dd3cf43725ae"
      },
      "execution_count": null,
      "outputs": [
        {
          "output_type": "display_data",
          "data": {
            "text/plain": [
              "<Figure size 504x360 with 1 Axes>"
            ],
            "image/png": "[encoded data removed]"
          },
          "metadata": {
            "needs_background": "light"
          }
        }
      ]
    },
    {
      "cell_type": "code",
      "source": [
        "macs, params = get_model_complexity_info(GoogleNet, (3, 64, 64), as_strings=True,\n",
        "                                           print_per_layer_stat=True, verbose=True)\n",
        "print('Computational complexity: ', macs)\n",
        "print('Number of parameters: ', params)"
      ],
      "metadata": {
        "colab": {
          "base_uri": "https://localhost:8080/"
        },
        "id": "_AYEkH4wZt7C",
        "outputId": "e1960037-766a-492f-c20d-5f09c3330c1d"
      },
      "execution_count": null,
      "outputs": [
        {
          "output_type": "stream",
          "name": "stdout",
          "text": [
            "Warning: module Inception is treated as a zero-op.\n",
            "Warning: module Flatten is treated as a zero-op.\n",
            "Sequential(\n",
            "  5.98 M, 100.000% Params, 129.76 MMac, 100.000% MACs, \n",
            "  (0): Sequential(\n",
            "    9.47 k, 0.158% Params, 9.83 MMac, 7.576% MACs, \n",
            "    (0): Conv2d(9.47 k, 0.158% Params, 9.7 MMac, 7.475% MACs, 3, 64, kernel_size=(7, 7), stride=(2, 2), padding=(3, 3))\n",
            "    (1): ReLU(0, 0.000% Params, 65.54 KMac, 0.051% MACs, )\n",
            "    (2): MaxPool2d(0, 0.000% Params, 65.54 KMac, 0.051% MACs, kernel_size=3, stride=2, padding=1, dilation=1, ceil_mode=False)\n",
            "  )\n",
            "  (1): Sequential(\n",
            "    114.94 k, 1.921% Params, 29.54 MMac, 22.766% MACs, \n",
            "    (0): Conv2d(4.16 k, 0.070% Params, 1.06 MMac, 0.821% MACs, 64, 64, kernel_size=(1, 1), stride=(1, 1))\n",
            "    (1): ReLU(0, 0.000% Params, 16.38 KMac, 0.013% MACs, )\n",
            "    (2): Conv2d(110.78 k, 1.851% Params, 28.36 MMac, 21.857% MACs, 64, 192, kernel_size=(3, 3), stride=(1, 1), padding=(1, 1))\n",
            "    (3): ReLU(0, 0.000% Params, 49.15 KMac, 0.038% MACs, )\n",
            "    (4): MaxPool2d(0, 0.000% Params, 49.15 KMac, 0.038% MACs, kernel_size=3, stride=2, padding=1, dilation=1, ceil_mode=False)\n",
            "  )\n",
            "  (2): Sequential(\n",
            "    552.43 k, 9.232% Params, 35.42 MMac, 27.293% MACs, \n",
            "    (0): Inception(\n",
            "      163.7 k, 2.736% Params, 10.49 MMac, 8.083% MACs, \n",
            "      (b1_1): Conv2d(12.35 k, 0.206% Params, 790.53 KMac, 0.609% MACs, 192, 64, kernel_size=(1, 1), stride=(1, 1))\n",
            "      (b2_1): Conv2d(18.53 k, 0.310% Params, 1.19 MMac, 0.914% MACs, 192, 96, kernel_size=(1, 1), stride=(1, 1))\n",
            "      (b2_2): Conv2d(110.72 k, 1.850% Params, 7.09 MMac, 5.461% MACs, 96, 128, kernel_size=(3, 3), stride=(1, 1), padding=(1, 1))\n",
            "      (b3_1): Conv2d(3.09 k, 0.052% Params, 197.63 KMac, 0.152% MACs, 192, 16, kernel_size=(1, 1), stride=(1, 1))\n",
            "      (b3_2): Conv2d(12.83 k, 0.214% Params, 821.25 KMac, 0.633% MACs, 16, 32, kernel_size=(5, 5), stride=(1, 1), padding=(2, 2))\n",
            "      (b4_1): MaxPool2d(0, 0.000% Params, 12.29 KMac, 0.009% MACs, kernel_size=3, stride=1, padding=1, dilation=1, ceil_mode=False)\n",
            "      (b4_2): Conv2d(6.18 k, 0.103% Params, 395.26 KMac, 0.305% MACs, 192, 32, kernel_size=(1, 1), stride=(1, 1))\n",
            "    )\n",
            "    (1): Inception(\n",
            "      388.74 k, 6.496% Params, 24.9 MMac, 19.186% MACs, \n",
            "      (b1_1): Conv2d(32.9 k, 0.550% Params, 2.11 MMac, 1.623% MACs, 256, 128, kernel_size=(1, 1), stride=(1, 1))\n",
            "      (b2_1): Conv2d(32.9 k, 0.550% Params, 2.11 MMac, 1.623% MACs, 256, 128, kernel_size=(1, 1), stride=(1, 1))\n",
            "      (b2_2): Conv2d(221.38 k, 3.700% Params, 14.17 MMac, 10.919% MACs, 128, 192, kernel_size=(3, 3), stride=(1, 1), padding=(1, 1))\n",
            "      (b3_1): Conv2d(8.22 k, 0.137% Params, 526.34 KMac, 0.406% MACs, 256, 32, kernel_size=(1, 1), stride=(1, 1))\n",
            "      (b3_2): Conv2d(76.9 k, 1.285% Params, 4.92 MMac, 3.793% MACs, 32, 96, kernel_size=(5, 5), stride=(1, 1), padding=(2, 2))\n",
            "      (b4_1): MaxPool2d(0, 0.000% Params, 16.38 KMac, 0.013% MACs, kernel_size=3, stride=1, padding=1, dilation=1, ceil_mode=False)\n",
            "      (b4_2): Conv2d(16.45 k, 0.275% Params, 1.05 MMac, 0.811% MACs, 256, 64, kernel_size=(1, 1), stride=(1, 1))\n",
            "    )\n",
            "    (2): MaxPool2d(0, 0.000% Params, 30.72 KMac, 0.024% MACs, kernel_size=3, stride=2, padding=1, dilation=1, ceil_mode=False)\n",
            "  )\n",
            "  (3): Sequential(\n",
            "    2.81 M, 46.946% Params, 45.0 MMac, 34.681% MACs, \n",
            "    (0): Inception(\n",
            "      376.18 k, 6.287% Params, 6.03 MMac, 4.644% MACs, \n",
            "      (b1_1): Conv2d(92.35 k, 1.543% Params, 1.48 MMac, 1.139% MACs, 480, 192, kernel_size=(1, 1), stride=(1, 1))\n",
            "      (b2_1): Conv2d(46.18 k, 0.772% Params, 738.82 KMac, 0.569% MACs, 480, 96, kernel_size=(1, 1), stride=(1, 1))\n",
            "      (b2_2): Conv2d(179.92 k, 3.007% Params, 2.88 MMac, 2.219% MACs, 96, 208, kernel_size=(3, 3), stride=(1, 1), padding=(1, 1))\n",
            "      (b3_1): Conv2d(7.7 k, 0.129% Params, 123.14 KMac, 0.095% MACs, 480, 16, kernel_size=(1, 1), stride=(1, 1))\n",
            "      (b3_2): Conv2d(19.25 k, 0.322% Params, 307.97 KMac, 0.237% MACs, 16, 48, kernel_size=(5, 5), stride=(1, 1), padding=(2, 2))\n",
            "      (b4_1): MaxPool2d(0, 0.000% Params, 7.68 KMac, 0.006% MACs, kernel_size=3, stride=1, padding=1, dilation=1, ceil_mode=False)\n",
            "      (b4_2): Conv2d(30.78 k, 0.514% Params, 492.54 KMac, 0.380% MACs, 480, 64, kernel_size=(1, 1), stride=(1, 1))\n",
            "    )\n",
            "    (1): Inception(\n",
            "      449.16 k, 7.506% Params, 7.19 MMac, 5.545% MACs, \n",
            "      (b1_1): Conv2d(82.08 k, 1.372% Params, 1.31 MMac, 1.012% MACs, 512, 160, kernel_size=(1, 1), stride=(1, 1))\n",
            "      (b2_1): Conv2d(57.46 k, 0.960% Params, 919.3 KMac, 0.708% MACs, 512, 112, kernel_size=(1, 1), stride=(1, 1))\n",
            "      (b2_2): Conv2d(226.02 k, 3.777% Params, 3.62 MMac, 2.787% MACs, 112, 224, kernel_size=(3, 3), stride=(1, 1), padding=(1, 1))\n",
            "      (b3_1): Conv2d(12.31 k, 0.206% Params, 196.99 KMac, 0.152% MACs, 512, 24, kernel_size=(1, 1), stride=(1, 1))\n",
            "      (b3_2): Conv2d(38.46 k, 0.643% Params, 615.42 KMac, 0.474% MACs, 24, 64, kernel_size=(5, 5), stride=(1, 1), padding=(2, 2))\n",
            "      (b4_1): MaxPool2d(0, 0.000% Params, 8.19 KMac, 0.006% MACs, kernel_size=3, stride=1, padding=1, dilation=1, ceil_mode=False)\n",
            "      (b4_2): Conv2d(32.83 k, 0.549% Params, 525.31 KMac, 0.405% MACs, 512, 64, kernel_size=(1, 1), stride=(1, 1))\n",
            "    )\n",
            "    (2): Inception(\n",
            "      510.1 k, 8.525% Params, 8.17 MMac, 6.296% MACs, \n",
            "      (b1_1): Conv2d(65.66 k, 1.097% Params, 1.05 MMac, 0.810% MACs, 512, 128, kernel_size=(1, 1), stride=(1, 1))\n",
            "      (b2_1): Conv2d(65.66 k, 1.097% Params, 1.05 MMac, 0.810% MACs, 512, 128, kernel_size=(1, 1), stride=(1, 1))\n",
            "      (b2_2): Conv2d(295.17 k, 4.933% Params, 4.72 MMac, 3.640% MACs, 128, 256, kernel_size=(3, 3), stride=(1, 1), padding=(1, 1))\n",
            "      (b3_1): Conv2d(12.31 k, 0.206% Params, 196.99 KMac, 0.152% MACs, 512, 24, kernel_size=(1, 1), stride=(1, 1))\n",
            "      (b3_2): Conv2d(38.46 k, 0.643% Params, 615.42 KMac, 0.474% MACs, 24, 64, kernel_size=(5, 5), stride=(1, 1), padding=(2, 2))\n",
            "      (b4_1): MaxPool2d(0, 0.000% Params, 8.19 KMac, 0.006% MACs, kernel_size=3, stride=1, padding=1, dilation=1, ceil_mode=False)\n",
            "      (b4_2): Conv2d(32.83 k, 0.549% Params, 525.31 KMac, 0.405% MACs, 512, 64, kernel_size=(1, 1), stride=(1, 1))\n",
            "    )\n",
            "    (3): Inception(\n",
            "      605.38 k, 10.117% Params, 9.69 MMac, 7.471% MACs, \n",
            "      (b1_1): Conv2d(57.46 k, 0.960% Params, 919.3 KMac, 0.708% MACs, 512, 112, kernel_size=(1, 1), stride=(1, 1))\n",
            "      (b2_1): Conv2d(73.87 k, 1.235% Params, 1.18 MMac, 0.911% MACs, 512, 144, kernel_size=(1, 1), stride=(1, 1))\n",
            "      (b2_2): Conv2d(373.54 k, 6.242% Params, 5.98 MMac, 4.606% MACs, 144, 288, kernel_size=(3, 3), stride=(1, 1), padding=(1, 1))\n",
            "      (b3_1): Conv2d(16.42 k, 0.274% Params, 262.66 KMac, 0.202% MACs, 512, 32, kernel_size=(1, 1), stride=(1, 1))\n",
            "      (b3_2): Conv2d(51.26 k, 0.857% Params, 820.22 KMac, 0.632% MACs, 32, 64, kernel_size=(5, 5), stride=(1, 1), padding=(2, 2))\n",
            "      (b4_1): MaxPool2d(0, 0.000% Params, 8.19 KMac, 0.006% MACs, kernel_size=3, stride=1, padding=1, dilation=1, ceil_mode=False)\n",
            "      (b4_2): Conv2d(32.83 k, 0.549% Params, 525.31 KMac, 0.405% MACs, 512, 64, kernel_size=(1, 1), stride=(1, 1))\n",
            "    )\n",
            "    (4): Inception(\n",
            "      868.35 k, 14.512% Params, 13.9 MMac, 10.714% MACs, \n",
            "      (b1_1): Conv2d(135.42 k, 2.263% Params, 2.17 MMac, 1.670% MACs, 528, 256, kernel_size=(1, 1), stride=(1, 1))\n",
            "      (b2_1): Conv2d(84.64 k, 1.414% Params, 1.35 MMac, 1.044% MACs, 528, 160, kernel_size=(1, 1), stride=(1, 1))\n",
            "      (b2_2): Conv2d(461.12 k, 7.706% Params, 7.38 MMac, 5.686% MACs, 160, 320, kernel_size=(3, 3), stride=(1, 1), padding=(1, 1))\n",
            "      (b3_1): Conv2d(16.93 k, 0.283% Params, 270.85 KMac, 0.209% MACs, 528, 32, kernel_size=(1, 1), stride=(1, 1))\n",
            "      (b3_2): Conv2d(102.53 k, 1.713% Params, 1.64 MMac, 1.264% MACs, 32, 128, kernel_size=(5, 5), stride=(1, 1), padding=(2, 2))\n",
            "      (b4_1): MaxPool2d(0, 0.000% Params, 8.45 KMac, 0.007% MACs, kernel_size=3, stride=1, padding=1, dilation=1, ceil_mode=False)\n",
            "      (b4_2): Conv2d(67.71 k, 1.132% Params, 1.08 MMac, 0.835% MACs, 528, 128, kernel_size=(1, 1), stride=(1, 1))\n",
            "    )\n",
            "    (5): MaxPool2d(0, 0.000% Params, 13.31 KMac, 0.010% MACs, kernel_size=3, stride=2, padding=1, dilation=1, ceil_mode=False)\n",
            "  )\n",
            "  (4): Sequential(\n",
            "    2.49 M, 41.571% Params, 9.96 MMac, 7.677% MACs, \n",
            "    (0): Inception(\n",
            "      1.04 M, 17.438% Params, 4.18 MMac, 3.219% MACs, \n",
            "      (b1_1): Conv2d(213.25 k, 3.564% Params, 852.99 KMac, 0.657% MACs, 832, 256, kernel_size=(1, 1), stride=(1, 1))\n",
            "      (b2_1): Conv2d(133.28 k, 2.227% Params, 533.12 KMac, 0.411% MACs, 832, 160, kernel_size=(1, 1), stride=(1, 1))\n",
            "      (b2_2): Conv2d(461.12 k, 7.706% Params, 1.84 MMac, 1.421% MACs, 160, 320, kernel_size=(3, 3), stride=(1, 1), padding=(1, 1))\n",
            "      (b3_1): Conv2d(26.66 k, 0.445% Params, 106.62 KMac, 0.082% MACs, 832, 32, kernel_size=(1, 1), stride=(1, 1))\n",
            "      (b3_2): Conv2d(102.53 k, 1.713% Params, 410.11 KMac, 0.316% MACs, 32, 128, kernel_size=(5, 5), stride=(1, 1), padding=(2, 2))\n",
            "      (b4_1): MaxPool2d(0, 0.000% Params, 3.33 KMac, 0.003% MACs, kernel_size=3, stride=1, padding=1, dilation=1, ceil_mode=False)\n",
            "      (b4_2): Conv2d(106.62 k, 1.782% Params, 426.5 KMac, 0.329% MACs, 832, 128, kernel_size=(1, 1), stride=(1, 1))\n",
            "    )\n",
            "    (1): Inception(\n",
            "      1.44 M, 24.133% Params, 5.78 MMac, 4.454% MACs, \n",
            "      (b1_1): Conv2d(319.87 k, 5.346% Params, 1.28 MMac, 0.986% MACs, 832, 384, kernel_size=(1, 1), stride=(1, 1))\n",
            "      (b2_1): Conv2d(159.94 k, 2.673% Params, 639.74 KMac, 0.493% MACs, 832, 192, kernel_size=(1, 1), stride=(1, 1))\n",
            "      (b2_2): Conv2d(663.94 k, 11.096% Params, 2.66 MMac, 2.047% MACs, 192, 384, kernel_size=(3, 3), stride=(1, 1), padding=(1, 1))\n",
            "      (b3_1): Conv2d(39.98 k, 0.668% Params, 159.94 KMac, 0.123% MACs, 832, 48, kernel_size=(1, 1), stride=(1, 1))\n",
            "      (b3_2): Conv2d(153.73 k, 2.569% Params, 614.91 KMac, 0.474% MACs, 48, 128, kernel_size=(5, 5), stride=(1, 1), padding=(2, 2))\n",
            "      (b4_1): MaxPool2d(0, 0.000% Params, 3.33 KMac, 0.003% MACs, kernel_size=3, stride=1, padding=1, dilation=1, ceil_mode=False)\n",
            "      (b4_2): Conv2d(106.62 k, 1.782% Params, 426.5 KMac, 0.329% MACs, 832, 128, kernel_size=(1, 1), stride=(1, 1))\n",
            "    )\n",
            "    (2): AdaptiveAvgPool2d(0, 0.000% Params, 4.1 KMac, 0.003% MACs, output_size=(1, 1))\n",
            "    (3): Flatten(0, 0.000% Params, 0.0 Mac, 0.000% MACs, start_dim=1, end_dim=-1)\n",
            "  )\n",
            "  (5): Linear(10.25 k, 0.171% Params, 10.25 KMac, 0.008% MACs, in_features=1024, out_features=10, bias=True)\n",
            ")\n",
            "Computational complexity:  129.76 MMac\n",
            "Number of parameters:  5.98 M\n"
          ]
        }
      ]
    },
    {
      "cell_type": "markdown",
      "source": [
        "# 2b) GoogleNet w/ Batchnorm"
      ],
      "metadata": {
        "id": "txO3dqJi82vU"
      }
    },
    {
      "cell_type": "code",
      "source": [
        "class BatchInception(nn.Module):\n",
        "\n",
        "    def __init__(self, c1, c2, c3, c4, **kwargs):\n",
        "        super(BatchInception, self).__init__(**kwargs)\n",
        "        # Branch 1\n",
        "        self.b1_1 = nn.LazyConv2d(c1, kernel_size=1)\n",
        "        self.b1_bn = nn.LazyBatchNorm2d()\n",
        "        # Branch 2\n",
        "        self.b2_1 = nn.LazyConv2d(c2[0], kernel_size=1)\n",
        "        self.b2_1_bn = nn.LazyBatchNorm2d()\n",
        "        self.b2_2 = nn.LazyConv2d(c2[1], kernel_size=3, padding=1)\n",
        "        self.b2_2_bn = nn.LazyBatchNorm2d()\n",
        "        # Branch 3\n",
        "        self.b3_1 = nn.LazyConv2d(c3[0], kernel_size=1)\n",
        "        self.b3_1_bn = nn.LazyBatchNorm2d()\n",
        "        self.b3_2 = nn.LazyConv2d(c3[1], kernel_size=5, padding=2)\n",
        "        self.b3_2_bn = nn.LazyBatchNorm2d()\n",
        "        # Branch 4\n",
        "        self.b4_1 = nn.MaxPool2d(kernel_size=3, stride=1, padding=1)\n",
        "        self.b4_2 = nn.LazyConv2d(c4, kernel_size=1)\n",
        "        self.b4_bn = nn.LazyBatchNorm2d()\n",
        "\n",
        "    def forward(self, x):\n",
        "        b1 = self.b1_bn( F.relu(self.b1_1(x)) )\n",
        "        b2 = F.relu(self.b2_2_bn( self.b2_2(F.relu(self.b2_1_bn( self.b2_1(x) ))) ))\n",
        "        b3 = F.relu(self.b3_2_bn( self.b3_2(F.relu(self.b3_1_bn( self.b3_1(x) ))) ))\n",
        "        b4 = F.relu(self.b4_bn( self.b4_2(self.b4_1(x)) ))\n",
        "        return torch.cat((b1, b2, b3, b4), dim=1)"
      ],
      "metadata": {
        "id": "QIaNoiTr87GO"
      },
      "execution_count": null,
      "outputs": []
    },
    {
      "cell_type": "code",
      "source": [
        "bigBlock1 = nn.Sequential(\n",
        "                          nn.LazyConv2d(64, kernel_size=7, stride=2, padding=3), nn.LazyBatchNorm2d(), nn.ReLU(), \n",
        "                          nn.MaxPool2d(kernel_size=3, stride=2, padding=1))"
      ],
      "metadata": {
        "id": "r0C6v2bpWk_X"
      },
      "execution_count": null,
      "outputs": []
    },
    {
      "cell_type": "code",
      "source": [
        "bigBlock2 = nn.Sequential(\n",
        "                          nn.LazyConv2d(64, kernel_size=1), nn.LazyBatchNorm2d(), nn.ReLU(),\n",
        "                          nn.LazyConv2d(192, kernel_size=3, padding=1), nn.LazyBatchNorm2d(), nn.ReLU(),\n",
        "                          nn.MaxPool2d(kernel_size=3, stride=2, padding=1))"
      ],
      "metadata": {
        "id": "7HyZHq2nWpEW"
      },
      "execution_count": null,
      "outputs": []
    },
    {
      "cell_type": "code",
      "source": [
        "bigBlock3 = nn.Sequential(BatchInception(64, (96, 128), (16, 32), 32),\n",
        "                          BatchInception(128, (128, 192), (32, 96), 64),\n",
        "                          nn.MaxPool2d(kernel_size=3, stride=2, padding=1))"
      ],
      "metadata": {
        "id": "PdHLZ5xlWsFW"
      },
      "execution_count": null,
      "outputs": []
    },
    {
      "cell_type": "code",
      "source": [
        "bigBlock4 = nn.Sequential(BatchInception(192, (96, 208), (16, 48), 64),\n",
        "                          BatchInception(160, (112, 224), (24, 64), 64),\n",
        "                          BatchInception(128, (128, 256), (24, 64), 64),\n",
        "                          BatchInception(112, (144, 288), (32, 64), 64),\n",
        "                          BatchInception(256, (160, 320), (32, 128), 128),\n",
        "                          nn.MaxPool2d(kernel_size=3, stride=2, padding=1))"
      ],
      "metadata": {
        "id": "uR-F6QBfWupt"
      },
      "execution_count": null,
      "outputs": []
    },
    {
      "cell_type": "code",
      "source": [
        "bigBlock5 = nn.Sequential(BatchInception(256, (160, 320), (32, 128), 128),\n",
        "                          BatchInception(384, (192, 384), (48, 128), 128),\n",
        "                          nn.AdaptiveAvgPool2d((1,1)), \n",
        "                          nn.Flatten())"
      ],
      "metadata": {
        "id": "69n-bDiQWxB2"
      },
      "execution_count": null,
      "outputs": []
    },
    {
      "cell_type": "code",
      "source": [
        "BatchGoogleNet = nn.Sequential(\n",
        "    bigBlock1,\n",
        "    bigBlock2,\n",
        "    bigBlock3,\n",
        "    bigBlock4,\n",
        "    bigBlock5,\n",
        "    nn.LazyLinear(10)\n",
        ")"
      ],
      "metadata": {
        "id": "HlBtPEBFWzUL"
      },
      "execution_count": null,
      "outputs": []
    },
    {
      "cell_type": "code",
      "source": [
        "summary(BatchGoogleNet, input_size = (3, 64, 64), batch_size = 128)"
      ],
      "metadata": {
        "id": "Zu7hTRSIW1o7"
      },
      "execution_count": null,
      "outputs": []
    },
    {
      "cell_type": "code",
      "source": [
        "criterion = nn.CrossEntropyLoss()\n",
        "optimizer = optim.SGD(BatchGoogleNet.parameters(), lr=0.01)"
      ],
      "metadata": {
        "id": "ZjSxpdd6c4-l"
      },
      "execution_count": null,
      "outputs": []
    },
    {
      "cell_type": "code",
      "source": [
        "# Begin training over 10 epochs\n",
        "epochs = 10\n",
        "valHist = []\n",
        "valLosses = []\n",
        "trainHist = []\n",
        "trainLosses = []\n",
        "interLosses = []\n",
        "avgLosses = []\n",
        "\n",
        "for t in range(epochs):\n",
        "    actualEpoch = t+1\n",
        "    print(\"Epoch\", actualEpoch)\n",
        "    trainLoop(training_loader, BatchGoogleNet, criterion, optimizer)\n",
        "    valLoop(validation_loader, BatchGoogleNet, criterion)"
      ],
      "metadata": {
        "colab": {
          "base_uri": "https://localhost:8080/"
        },
        "id": "6S4snlYvc-JG",
        "outputId": "5aae3cbd-af57-4fad-b854-2d52f869d2e5"
      },
      "execution_count": null,
      "outputs": [
        {
          "output_type": "stream",
          "name": "stdout",
          "text": [
            "Epoch 1\n",
            "loss: 2.4031636714935303\n",
            "loss: 1.5241669416427612\n",
            "loss: 1.5519462823867798\n",
            "loss: 1.412006139755249\n",
            "Training Accuracy:  72.332     Training Loss:  1.5833526383275571\n",
            "Validation Accuracy: 51.55     Validation Loss:  1.3400464057922363\n",
            " \n",
            "Epoch 2\n",
            "loss: 1.2369741201400757\n",
            "loss: 1.211909532546997\n",
            "loss: 1.2887994050979614\n",
            "loss: 1.0961852073669434\n",
            "Training Accuracy:  84.646     Training Loss:  1.1801138774818167\n",
            "Validation Accuracy: 59.78     Validation Loss:  1.1172009359432171\n",
            " \n",
            "Epoch 3\n",
            "loss: 0.9839455485343933\n",
            "loss: 1.060718297958374\n",
            "loss: 0.8656967282295227\n",
            "loss: 0.9972230792045593\n",
            "Training Accuracy:  89.446     Training Loss:  0.9750528414840893\n",
            "Validation Accuracy: 64.71000000000001     Validation Loss:  0.9899978622605529\n",
            " \n",
            "Epoch 4\n",
            "loss: 0.8221462368965149\n",
            "loss: 0.6781387329101562\n",
            "loss: 0.63700270652771\n",
            "loss: 0.7727214694023132\n",
            "Training Accuracy:  93.53200000000001     Training Loss:  0.8216175238799561\n",
            "Validation Accuracy: 66.81     Validation Loss:  0.9690882918200915\n",
            " \n",
            "Epoch 5\n",
            "loss: 0.8320279121398926\n",
            "loss: 0.4910655915737152\n",
            "loss: 0.6911700963973999\n",
            "loss: 0.7061962485313416\n",
            "Training Accuracy:  96.55799999999999     Training Loss:  0.6949193696384235\n",
            "Validation Accuracy: 69.34     Validation Loss:  0.8760639089572279\n",
            " \n",
            "Epoch 6\n",
            "loss: 0.6218411922454834\n",
            "loss: 0.6399492025375366\n",
            "loss: 0.6702315211296082\n",
            "loss: 0.5875455737113953\n",
            "Training Accuracy:  98.35000000000001     Training Loss:  0.58926835648544\n",
            "Validation Accuracy: 69.96     Validation Loss:  0.8721806414519684\n",
            " \n",
            "Epoch 7\n",
            "loss: 0.3940551280975342\n",
            "loss: 0.32410064339637756\n",
            "loss: 0.5813966393470764\n",
            "loss: 0.5567288398742676\n",
            "Training Accuracy:  99.278     Training Loss:  0.48764182044112164\n",
            "Validation Accuracy: 70.98     Validation Loss:  0.9099403778208962\n",
            " \n",
            "Epoch 8\n",
            "loss: 0.4223775863647461\n",
            "loss: 0.5032692551612854\n",
            "loss: 0.41108882427215576\n",
            "loss: 0.44687962532043457\n",
            "Training Accuracy:  99.664     Training Loss:  0.40428711218602215\n",
            "Validation Accuracy: 71.85000000000001     Validation Loss:  0.8919230737263644\n",
            " \n",
            "Epoch 9\n",
            "loss: 0.30680426955223083\n",
            "loss: 0.2765175700187683\n",
            "loss: 0.46522948145866394\n",
            "loss: 0.3755722641944885\n",
            "Training Accuracy:  99.856     Training Loss:  0.3300665570875568\n",
            "Validation Accuracy: 72.77     Validation Loss:  0.9000150500973568\n",
            " \n",
            "Epoch 10\n",
            "loss: 0.28192389011383057\n",
            "loss: 0.2751345932483673\n",
            "loss: 0.2120654284954071\n",
            "loss: 0.21147401630878448\n",
            "Training Accuracy:  99.9     Training Loss:  0.26910821962005954\n",
            "Validation Accuracy: 72.66     Validation Loss:  0.9544999976701374\n",
            " \n"
          ]
        }
      ]
    },
    {
      "cell_type": "code",
      "source": [
        "# Plot results\n",
        "x = np.linspace(1, epochs, epochs)     \n",
        "plt.figure(figsize=(7,5))\n",
        "plt.title(\"BatchGoogleNet: Train Loss and Val Accuracy\")\n",
        "plt.plot(x, trainLosses, label=\"Train Loss\")\n",
        "plt.plot(x, valHist, label=\"Val Accuracy\")\n",
        "plt.plot(x, trainHist, label=\"Train Accuracy\")\n",
        "plt.xlabel(\"Epoch\")\n",
        "plt.ylabel(\"Value\")\n",
        "plt.legend()\n",
        "plt.xlim(0, epochs)\n",
        "plt.ylim(0, 1.5)\n",
        "plt.show()\n",
        "\n",
        "### Train time: ~45ish minutes for 10 epochs "
      ],
      "metadata": {
        "colab": {
          "base_uri": "https://localhost:8080/",
          "height": 350
        },
        "id": "m4xy8Clldj1h",
        "outputId": "dd39ae8c-3e60-4435-bdd2-b1f0f13dace9"
      },
      "execution_count": null,
      "outputs": [
        {
          "output_type": "display_data",
          "data": {
            "text/plain": [
              "<Figure size 504x360 with 1 Axes>"
            ],
            "image/png": "[encoded data removed]"
          },
          "metadata": {
            "needs_background": "light"
          }
        }
      ]
    },
    {
      "cell_type": "code",
      "source": [
        "macs, params = get_model_complexity_info(BatchGoogleNet, (3, 64, 64), as_strings=True,\n",
        "                                           print_per_layer_stat=True, verbose=True)\n",
        "print('Computational complexity: ', macs)\n",
        "print('Number of parameters: ', params)"
      ],
      "metadata": {
        "colab": {
          "base_uri": "https://localhost:8080/"
        },
        "id": "SCkB8pUwejPS",
        "outputId": "845d3922-b70c-488b-8b4c-8bdcf6344a76"
      },
      "execution_count": null,
      "outputs": [
        {
          "output_type": "stream",
          "name": "stdout",
          "text": [
            "Warning: module BatchInception is treated as a zero-op.\n",
            "Warning: module Flatten is treated as a zero-op.\n",
            "Sequential(\n",
            "  6.0 M, 100.000% Params, 130.28 MMac, 100.000% MACs, \n",
            "  (0): Sequential(\n",
            "    9.6 k, 0.160% Params, 9.96 MMac, 7.646% MACs, \n",
            "    (0): Conv2d(9.47 k, 0.158% Params, 9.7 MMac, 7.445% MACs, 3, 64, kernel_size=(7, 7), stride=(2, 2), padding=(3, 3))\n",
            "    (1): BatchNorm2d(128, 0.002% Params, 131.07 KMac, 0.101% MACs, 64, eps=1e-05, momentum=0.1, affine=True, track_running_stats=True)\n",
            "    (2): ReLU(0, 0.000% Params, 65.54 KMac, 0.050% MACs, )\n",
            "    (3): MaxPool2d(0, 0.000% Params, 65.54 KMac, 0.050% MACs, kernel_size=3, stride=2, padding=1, dilation=1, ceil_mode=False)\n",
            "  )\n",
            "  (1): Sequential(\n",
            "    115.46 k, 1.925% Params, 29.67 MMac, 22.774% MACs, \n",
            "    (0): Conv2d(4.16 k, 0.069% Params, 1.06 MMac, 0.817% MACs, 64, 64, kernel_size=(1, 1), stride=(1, 1))\n",
            "    (1): BatchNorm2d(128, 0.002% Params, 32.77 KMac, 0.025% MACs, 64, eps=1e-05, momentum=0.1, affine=True, track_running_stats=True)\n",
            "    (2): ReLU(0, 0.000% Params, 16.38 KMac, 0.013% MACs, )\n",
            "    (3): Conv2d(110.78 k, 1.847% Params, 28.36 MMac, 21.768% MACs, 64, 192, kernel_size=(3, 3), stride=(1, 1), padding=(1, 1))\n",
            "    (4): BatchNorm2d(384, 0.006% Params, 98.3 KMac, 0.075% MACs, 192, eps=1e-05, momentum=0.1, affine=True, track_running_stats=True)\n",
            "    (5): ReLU(0, 0.000% Params, 49.15 KMac, 0.038% MACs, )\n",
            "    (6): MaxPool2d(0, 0.000% Params, 49.15 KMac, 0.038% MACs, kernel_size=3, stride=2, padding=1, dilation=1, ceil_mode=False)\n",
            "  )\n",
            "  (2): Sequential(\n",
            "    554.45 k, 9.243% Params, 35.54 MMac, 27.282% MACs, \n",
            "    (0): BatchInception(\n",
            "      164.43 k, 2.741% Params, 10.54 MMac, 8.087% MACs, \n",
            "      (b1_1): Conv2d(12.35 k, 0.206% Params, 790.53 KMac, 0.607% MACs, 192, 64, kernel_size=(1, 1), stride=(1, 1))\n",
            "      (b1_bn): BatchNorm2d(128, 0.002% Params, 8.19 KMac, 0.006% MACs, 64, eps=1e-05, momentum=0.1, affine=True, track_running_stats=True)\n",
            "      (b2_1): Conv2d(18.53 k, 0.309% Params, 1.19 MMac, 0.910% MACs, 192, 96, kernel_size=(1, 1), stride=(1, 1))\n",
            "      (b2_1_bn): BatchNorm2d(192, 0.003% Params, 12.29 KMac, 0.009% MACs, 96, eps=1e-05, momentum=0.1, affine=True, track_running_stats=True)\n",
            "      (b2_2): Conv2d(110.72 k, 1.846% Params, 7.09 MMac, 5.439% MACs, 96, 128, kernel_size=(3, 3), stride=(1, 1), padding=(1, 1))\n",
            "      (b2_2_bn): BatchNorm2d(256, 0.004% Params, 16.38 KMac, 0.013% MACs, 128, eps=1e-05, momentum=0.1, affine=True, track_running_stats=True)\n",
            "      (b3_1): Conv2d(3.09 k, 0.051% Params, 197.63 KMac, 0.152% MACs, 192, 16, kernel_size=(1, 1), stride=(1, 1))\n",
            "      (b3_1_bn): BatchNorm2d(32, 0.001% Params, 2.05 KMac, 0.002% MACs, 16, eps=1e-05, momentum=0.1, affine=True, track_running_stats=True)\n",
            "      (b3_2): Conv2d(12.83 k, 0.214% Params, 821.25 KMac, 0.630% MACs, 16, 32, kernel_size=(5, 5), stride=(1, 1), padding=(2, 2))\n",
            "      (b3_2_bn): BatchNorm2d(64, 0.001% Params, 4.1 KMac, 0.003% MACs, 32, eps=1e-05, momentum=0.1, affine=True, track_running_stats=True)\n",
            "      (b4_1): MaxPool2d(0, 0.000% Params, 12.29 KMac, 0.009% MACs, kernel_size=3, stride=1, padding=1, dilation=1, ceil_mode=False)\n",
            "      (b4_2): Conv2d(6.18 k, 0.103% Params, 395.26 KMac, 0.303% MACs, 192, 32, kernel_size=(1, 1), stride=(1, 1))\n",
            "      (b4_bn): BatchNorm2d(64, 0.001% Params, 4.1 KMac, 0.003% MACs, 32, eps=1e-05, momentum=0.1, affine=True, track_running_stats=True)\n",
            "    )\n",
            "    (1): BatchInception(\n",
            "      390.02 k, 6.502% Params, 24.98 MMac, 19.171% MACs, \n",
            "      (b1_1): Conv2d(32.9 k, 0.548% Params, 2.11 MMac, 1.616% MACs, 256, 128, kernel_size=(1, 1), stride=(1, 1))\n",
            "      (b1_bn): BatchNorm2d(256, 0.004% Params, 16.38 KMac, 0.013% MACs, 128, eps=1e-05, momentum=0.1, affine=True, track_running_stats=True)\n",
            "      (b2_1): Conv2d(32.9 k, 0.548% Params, 2.11 MMac, 1.616% MACs, 256, 128, kernel_size=(1, 1), stride=(1, 1))\n",
            "      (b2_1_bn): BatchNorm2d(256, 0.004% Params, 16.38 KMac, 0.013% MACs, 128, eps=1e-05, momentum=0.1, affine=True, track_running_stats=True)\n",
            "      (b2_2): Conv2d(221.38 k, 3.691% Params, 14.17 MMac, 10.875% MACs, 128, 192, kernel_size=(3, 3), stride=(1, 1), padding=(1, 1))\n",
            "      (b2_2_bn): BatchNorm2d(384, 0.006% Params, 24.58 KMac, 0.019% MACs, 192, eps=1e-05, momentum=0.1, affine=True, track_running_stats=True)\n",
            "      (b3_1): Conv2d(8.22 k, 0.137% Params, 526.34 KMac, 0.404% MACs, 256, 32, kernel_size=(1, 1), stride=(1, 1))\n",
            "      (b3_1_bn): BatchNorm2d(64, 0.001% Params, 4.1 KMac, 0.003% MACs, 32, eps=1e-05, momentum=0.1, affine=True, track_running_stats=True)\n",
            "      (b3_2): Conv2d(76.9 k, 1.282% Params, 4.92 MMac, 3.777% MACs, 32, 96, kernel_size=(5, 5), stride=(1, 1), padding=(2, 2))\n",
            "      (b3_2_bn): BatchNorm2d(192, 0.003% Params, 12.29 KMac, 0.009% MACs, 96, eps=1e-05, momentum=0.1, affine=True, track_running_stats=True)\n",
            "      (b4_1): MaxPool2d(0, 0.000% Params, 16.38 KMac, 0.013% MACs, kernel_size=3, stride=1, padding=1, dilation=1, ceil_mode=False)\n",
            "      (b4_2): Conv2d(16.45 k, 0.274% Params, 1.05 MMac, 0.808% MACs, 256, 64, kernel_size=(1, 1), stride=(1, 1))\n",
            "      (b4_bn): BatchNorm2d(128, 0.002% Params, 8.19 KMac, 0.006% MACs, 64, eps=1e-05, momentum=0.1, affine=True, track_running_stats=True)\n",
            "    )\n",
            "    (2): MaxPool2d(0, 0.000% Params, 30.72 KMac, 0.024% MACs, kernel_size=3, stride=2, padding=1, dilation=1, ceil_mode=False)\n",
            "  )\n",
            "  (3): Sequential(\n",
            "    2.82 M, 46.954% Params, 45.12 MMac, 34.630% MACs, \n",
            "    (0): BatchInception(\n",
            "      377.42 k, 6.292% Params, 6.05 MMac, 4.641% MACs, \n",
            "      (b1_1): Conv2d(92.35 k, 1.540% Params, 1.48 MMac, 1.134% MACs, 480, 192, kernel_size=(1, 1), stride=(1, 1))\n",
            "      (b1_bn): BatchNorm2d(384, 0.006% Params, 6.14 KMac, 0.005% MACs, 192, eps=1e-05, momentum=0.1, affine=True, track_running_stats=True)\n",
            "      (b2_1): Conv2d(46.18 k, 0.770% Params, 738.82 KMac, 0.567% MACs, 480, 96, kernel_size=(1, 1), stride=(1, 1))\n",
            "      (b2_1_bn): BatchNorm2d(192, 0.003% Params, 3.07 KMac, 0.002% MACs, 96, eps=1e-05, momentum=0.1, affine=True, track_running_stats=True)\n",
            "      (b2_2): Conv2d(179.92 k, 2.999% Params, 2.88 MMac, 2.210% MACs, 96, 208, kernel_size=(3, 3), stride=(1, 1), padding=(1, 1))\n",
            "      (b2_2_bn): BatchNorm2d(416, 0.007% Params, 6.66 KMac, 0.005% MACs, 208, eps=1e-05, momentum=0.1, affine=True, track_running_stats=True)\n",
            "      (b3_1): Conv2d(7.7 k, 0.128% Params, 123.14 KMac, 0.095% MACs, 480, 16, kernel_size=(1, 1), stride=(1, 1))\n",
            "      (b3_1_bn): BatchNorm2d(32, 0.001% Params, 512.0 Mac, 0.000% MACs, 16, eps=1e-05, momentum=0.1, affine=True, track_running_stats=True)\n",
            "      (b3_2): Conv2d(19.25 k, 0.321% Params, 307.97 KMac, 0.236% MACs, 16, 48, kernel_size=(5, 5), stride=(1, 1), padding=(2, 2))\n",
            "      (b3_2_bn): BatchNorm2d(96, 0.002% Params, 1.54 KMac, 0.001% MACs, 48, eps=1e-05, momentum=0.1, affine=True, track_running_stats=True)\n",
            "      (b4_1): MaxPool2d(0, 0.000% Params, 7.68 KMac, 0.006% MACs, kernel_size=3, stride=1, padding=1, dilation=1, ceil_mode=False)\n",
            "      (b4_2): Conv2d(30.78 k, 0.513% Params, 492.54 KMac, 0.378% MACs, 480, 64, kernel_size=(1, 1), stride=(1, 1))\n",
            "      (b4_bn): BatchNorm2d(128, 0.002% Params, 2.05 KMac, 0.002% MACs, 64, eps=1e-05, momentum=0.1, affine=True, track_running_stats=True)\n",
            "    )\n",
            "    (1): BatchInception(\n",
            "      450.46 k, 7.510% Params, 7.22 MMac, 5.538% MACs, \n",
            "      (b1_1): Conv2d(82.08 k, 1.368% Params, 1.31 MMac, 1.008% MACs, 512, 160, kernel_size=(1, 1), stride=(1, 1))\n",
            "      (b1_bn): BatchNorm2d(320, 0.005% Params, 5.12 KMac, 0.004% MACs, 160, eps=1e-05, momentum=0.1, affine=True, track_running_stats=True)\n",
            "      (b2_1): Conv2d(57.46 k, 0.958% Params, 919.3 KMac, 0.706% MACs, 512, 112, kernel_size=(1, 1), stride=(1, 1))\n",
            "      (b2_1_bn): BatchNorm2d(224, 0.004% Params, 3.58 KMac, 0.003% MACs, 112, eps=1e-05, momentum=0.1, affine=True, track_running_stats=True)\n",
            "      (b2_2): Conv2d(226.02 k, 3.768% Params, 3.62 MMac, 2.776% MACs, 112, 224, kernel_size=(3, 3), stride=(1, 1), padding=(1, 1))\n",
            "      (b2_2_bn): BatchNorm2d(448, 0.007% Params, 7.17 KMac, 0.006% MACs, 224, eps=1e-05, momentum=0.1, affine=True, track_running_stats=True)\n",
            "      (b3_1): Conv2d(12.31 k, 0.205% Params, 196.99 KMac, 0.151% MACs, 512, 24, kernel_size=(1, 1), stride=(1, 1))\n",
            "      (b3_1_bn): BatchNorm2d(48, 0.001% Params, 768.0 Mac, 0.001% MACs, 24, eps=1e-05, momentum=0.1, affine=True, track_running_stats=True)\n",
            "      (b3_2): Conv2d(38.46 k, 0.641% Params, 615.42 KMac, 0.472% MACs, 24, 64, kernel_size=(5, 5), stride=(1, 1), padding=(2, 2))\n",
            "      (b3_2_bn): BatchNorm2d(128, 0.002% Params, 2.05 KMac, 0.002% MACs, 64, eps=1e-05, momentum=0.1, affine=True, track_running_stats=True)\n",
            "      (b4_1): MaxPool2d(0, 0.000% Params, 8.19 KMac, 0.006% MACs, kernel_size=3, stride=1, padding=1, dilation=1, ceil_mode=False)\n",
            "      (b4_2): Conv2d(32.83 k, 0.547% Params, 525.31 KMac, 0.403% MACs, 512, 64, kernel_size=(1, 1), stride=(1, 1))\n",
            "      (b4_bn): BatchNorm2d(128, 0.002% Params, 2.05 KMac, 0.002% MACs, 64, eps=1e-05, momentum=0.1, affine=True, track_running_stats=True)\n",
            "    )\n",
            "    (2): BatchInception(\n",
            "      511.43 k, 8.526% Params, 8.19 MMac, 6.287% MACs, \n",
            "      (b1_1): Conv2d(65.66 k, 1.095% Params, 1.05 MMac, 0.806% MACs, 512, 128, kernel_size=(1, 1), stride=(1, 1))\n",
            "      (b1_bn): BatchNorm2d(256, 0.004% Params, 4.1 KMac, 0.003% MACs, 128, eps=1e-05, momentum=0.1, affine=True, track_running_stats=True)\n",
            "      (b2_1): Conv2d(65.66 k, 1.095% Params, 1.05 MMac, 0.806% MACs, 512, 128, kernel_size=(1, 1), stride=(1, 1))\n",
            "      (b2_1_bn): BatchNorm2d(256, 0.004% Params, 4.1 KMac, 0.003% MACs, 128, eps=1e-05, momentum=0.1, affine=True, track_running_stats=True)\n",
            "      (b2_2): Conv2d(295.17 k, 4.921% Params, 4.72 MMac, 3.625% MACs, 128, 256, kernel_size=(3, 3), stride=(1, 1), padding=(1, 1))\n",
            "      (b2_2_bn): BatchNorm2d(512, 0.009% Params, 8.19 KMac, 0.006% MACs, 256, eps=1e-05, momentum=0.1, affine=True, track_running_stats=True)\n",
            "      (b3_1): Conv2d(12.31 k, 0.205% Params, 196.99 KMac, 0.151% MACs, 512, 24, kernel_size=(1, 1), stride=(1, 1))\n",
            "      (b3_1_bn): BatchNorm2d(48, 0.001% Params, 768.0 Mac, 0.001% MACs, 24, eps=1e-05, momentum=0.1, affine=True, track_running_stats=True)\n",
            "      (b3_2): Conv2d(38.46 k, 0.641% Params, 615.42 KMac, 0.472% MACs, 24, 64, kernel_size=(5, 5), stride=(1, 1), padding=(2, 2))\n",
            "      (b3_2_bn): BatchNorm2d(128, 0.002% Params, 2.05 KMac, 0.002% MACs, 64, eps=1e-05, momentum=0.1, affine=True, track_running_stats=True)\n",
            "      (b4_1): MaxPool2d(0, 0.000% Params, 8.19 KMac, 0.006% MACs, kernel_size=3, stride=1, padding=1, dilation=1, ceil_mode=False)\n",
            "      (b4_2): Conv2d(32.83 k, 0.547% Params, 525.31 KMac, 0.403% MACs, 512, 64, kernel_size=(1, 1), stride=(1, 1))\n",
            "      (b4_bn): BatchNorm2d(128, 0.002% Params, 2.05 KMac, 0.002% MACs, 64, eps=1e-05, momentum=0.1, affine=True, track_running_stats=True)\n",
            "    )\n",
            "    (3): BatchInception(\n",
            "      606.78 k, 10.116% Params, 9.72 MMac, 7.458% MACs, \n",
            "      (b1_1): Conv2d(57.46 k, 0.958% Params, 919.3 KMac, 0.706% MACs, 512, 112, kernel_size=(1, 1), stride=(1, 1))\n",
            "      (b1_bn): BatchNorm2d(224, 0.004% Params, 3.58 KMac, 0.003% MACs, 112, eps=1e-05, momentum=0.1, affine=True, track_running_stats=True)\n",
            "      (b2_1): Conv2d(73.87 k, 1.232% Params, 1.18 MMac, 0.907% MACs, 512, 144, kernel_size=(1, 1), stride=(1, 1))\n",
            "      (b2_1_bn): BatchNorm2d(288, 0.005% Params, 4.61 KMac, 0.004% MACs, 144, eps=1e-05, momentum=0.1, affine=True, track_running_stats=True)\n",
            "      (b2_2): Conv2d(373.54 k, 6.227% Params, 5.98 MMac, 4.587% MACs, 144, 288, kernel_size=(3, 3), stride=(1, 1), padding=(1, 1))\n",
            "      (b2_2_bn): BatchNorm2d(576, 0.010% Params, 9.22 KMac, 0.007% MACs, 288, eps=1e-05, momentum=0.1, affine=True, track_running_stats=True)\n",
            "      (b3_1): Conv2d(16.42 k, 0.274% Params, 262.66 KMac, 0.202% MACs, 512, 32, kernel_size=(1, 1), stride=(1, 1))\n",
            "      (b3_1_bn): BatchNorm2d(64, 0.001% Params, 1.02 KMac, 0.001% MACs, 32, eps=1e-05, momentum=0.1, affine=True, track_running_stats=True)\n",
            "      (b3_2): Conv2d(51.26 k, 0.855% Params, 820.22 KMac, 0.630% MACs, 32, 64, kernel_size=(5, 5), stride=(1, 1), padding=(2, 2))\n",
            "      (b3_2_bn): BatchNorm2d(128, 0.002% Params, 2.05 KMac, 0.002% MACs, 64, eps=1e-05, momentum=0.1, affine=True, track_running_stats=True)\n",
            "      (b4_1): MaxPool2d(0, 0.000% Params, 8.19 KMac, 0.006% MACs, kernel_size=3, stride=1, padding=1, dilation=1, ceil_mode=False)\n",
            "      (b4_2): Conv2d(32.83 k, 0.547% Params, 525.31 KMac, 0.403% MACs, 512, 64, kernel_size=(1, 1), stride=(1, 1))\n",
            "      (b4_bn): BatchNorm2d(128, 0.002% Params, 2.05 KMac, 0.002% MACs, 64, eps=1e-05, momentum=0.1, affine=True, track_running_stats=True)\n",
            "    )\n",
            "    (4): BatchInception(\n",
            "      870.4 k, 14.511% Params, 13.93 MMac, 10.696% MACs, \n",
            "      (b1_1): Conv2d(135.42 k, 2.258% Params, 2.17 MMac, 1.663% MACs, 528, 256, kernel_size=(1, 1), stride=(1, 1))\n",
            "      (b1_bn): BatchNorm2d(512, 0.009% Params, 8.19 KMac, 0.006% MACs, 256, eps=1e-05, momentum=0.1, affine=True, track_running_stats=True)\n",
            "      (b2_1): Conv2d(84.64 k, 1.411% Params, 1.35 MMac, 1.039% MACs, 528, 160, kernel_size=(1, 1), stride=(1, 1))\n",
            "      (b2_1_bn): BatchNorm2d(320, 0.005% Params, 5.12 KMac, 0.004% MACs, 160, eps=1e-05, momentum=0.1, affine=True, track_running_stats=True)\n",
            "      (b2_2): Conv2d(461.12 k, 7.687% Params, 7.38 MMac, 5.663% MACs, 160, 320, kernel_size=(3, 3), stride=(1, 1), padding=(1, 1))\n",
            "      (b2_2_bn): BatchNorm2d(640, 0.011% Params, 10.24 KMac, 0.008% MACs, 320, eps=1e-05, momentum=0.1, affine=True, track_running_stats=True)\n",
            "      (b3_1): Conv2d(16.93 k, 0.282% Params, 270.85 KMac, 0.208% MACs, 528, 32, kernel_size=(1, 1), stride=(1, 1))\n",
            "      (b3_1_bn): BatchNorm2d(64, 0.001% Params, 1.02 KMac, 0.001% MACs, 32, eps=1e-05, momentum=0.1, affine=True, track_running_stats=True)\n",
            "      (b3_2): Conv2d(102.53 k, 1.709% Params, 1.64 MMac, 1.259% MACs, 32, 128, kernel_size=(5, 5), stride=(1, 1), padding=(2, 2))\n",
            "      (b3_2_bn): BatchNorm2d(256, 0.004% Params, 4.1 KMac, 0.003% MACs, 128, eps=1e-05, momentum=0.1, affine=True, track_running_stats=True)\n",
            "      (b4_1): MaxPool2d(0, 0.000% Params, 8.45 KMac, 0.006% MACs, kernel_size=3, stride=1, padding=1, dilation=1, ceil_mode=False)\n",
            "      (b4_2): Conv2d(67.71 k, 1.129% Params, 1.08 MMac, 0.832% MACs, 528, 128, kernel_size=(1, 1), stride=(1, 1))\n",
            "      (b4_bn): BatchNorm2d(256, 0.004% Params, 4.1 KMac, 0.003% MACs, 128, eps=1e-05, momentum=0.1, affine=True, track_running_stats=True)\n",
            "    )\n",
            "    (5): MaxPool2d(0, 0.000% Params, 13.31 KMac, 0.010% MACs, kernel_size=3, stride=2, padding=1, dilation=1, ceil_mode=False)\n",
            "  )\n",
            "  (4): Sequential(\n",
            "    2.49 M, 41.547% Params, 9.98 MMac, 7.660% MACs, \n",
            "    (0): BatchInception(\n",
            "      1.05 M, 17.430% Params, 4.19 MMac, 3.212% MACs, \n",
            "      (b1_1): Conv2d(213.25 k, 3.555% Params, 852.99 KMac, 0.655% MACs, 832, 256, kernel_size=(1, 1), stride=(1, 1))\n",
            "      (b1_bn): BatchNorm2d(512, 0.009% Params, 2.05 KMac, 0.002% MACs, 256, eps=1e-05, momentum=0.1, affine=True, track_running_stats=True)\n",
            "      (b2_1): Conv2d(133.28 k, 2.222% Params, 533.12 KMac, 0.409% MACs, 832, 160, kernel_size=(1, 1), stride=(1, 1))\n",
            "      (b2_1_bn): BatchNorm2d(320, 0.005% Params, 1.28 KMac, 0.001% MACs, 160, eps=1e-05, momentum=0.1, affine=True, track_running_stats=True)\n",
            "      (b2_2): Conv2d(461.12 k, 7.687% Params, 1.84 MMac, 1.416% MACs, 160, 320, kernel_size=(3, 3), stride=(1, 1), padding=(1, 1))\n",
            "      (b2_2_bn): BatchNorm2d(640, 0.011% Params, 2.56 KMac, 0.002% MACs, 320, eps=1e-05, momentum=0.1, affine=True, track_running_stats=True)\n",
            "      (b3_1): Conv2d(26.66 k, 0.444% Params, 106.62 KMac, 0.082% MACs, 832, 32, kernel_size=(1, 1), stride=(1, 1))\n",
            "      (b3_1_bn): BatchNorm2d(64, 0.001% Params, 256.0 Mac, 0.000% MACs, 32, eps=1e-05, momentum=0.1, affine=True, track_running_stats=True)\n",
            "      (b3_2): Conv2d(102.53 k, 1.709% Params, 410.11 KMac, 0.315% MACs, 32, 128, kernel_size=(5, 5), stride=(1, 1), padding=(2, 2))\n",
            "      (b3_2_bn): BatchNorm2d(256, 0.004% Params, 1.02 KMac, 0.001% MACs, 128, eps=1e-05, momentum=0.1, affine=True, track_running_stats=True)\n",
            "      (b4_1): MaxPool2d(0, 0.000% Params, 3.33 KMac, 0.003% MACs, kernel_size=3, stride=1, padding=1, dilation=1, ceil_mode=False)\n",
            "      (b4_2): Conv2d(106.62 k, 1.778% Params, 426.5 KMac, 0.327% MACs, 832, 128, kernel_size=(1, 1), stride=(1, 1))\n",
            "      (b4_bn): BatchNorm2d(256, 0.004% Params, 1.02 KMac, 0.001% MACs, 128, eps=1e-05, momentum=0.1, affine=True, track_running_stats=True)\n",
            "    )\n",
            "    (1): BatchInception(\n",
            "      1.45 M, 24.117% Params, 5.79 MMac, 4.444% MACs, \n",
            "      (b1_1): Conv2d(319.87 k, 5.333% Params, 1.28 MMac, 0.982% MACs, 832, 384, kernel_size=(1, 1), stride=(1, 1))\n",
            "      (b1_bn): BatchNorm2d(768, 0.013% Params, 3.07 KMac, 0.002% MACs, 384, eps=1e-05, momentum=0.1, affine=True, track_running_stats=True)\n",
            "      (b2_1): Conv2d(159.94 k, 2.666% Params, 639.74 KMac, 0.491% MACs, 832, 192, kernel_size=(1, 1), stride=(1, 1))\n",
            "      (b2_1_bn): BatchNorm2d(384, 0.006% Params, 1.54 KMac, 0.001% MACs, 192, eps=1e-05, momentum=0.1, affine=True, track_running_stats=True)\n",
            "      (b2_2): Conv2d(663.94 k, 11.069% Params, 2.66 MMac, 2.038% MACs, 192, 384, kernel_size=(3, 3), stride=(1, 1), padding=(1, 1))\n",
            "      (b2_2_bn): BatchNorm2d(768, 0.013% Params, 3.07 KMac, 0.002% MACs, 384, eps=1e-05, momentum=0.1, affine=True, track_running_stats=True)\n",
            "      (b3_1): Conv2d(39.98 k, 0.667% Params, 159.94 KMac, 0.123% MACs, 832, 48, kernel_size=(1, 1), stride=(1, 1))\n",
            "      (b3_1_bn): BatchNorm2d(96, 0.002% Params, 384.0 Mac, 0.000% MACs, 48, eps=1e-05, momentum=0.1, affine=True, track_running_stats=True)\n",
            "      (b3_2): Conv2d(153.73 k, 2.563% Params, 614.91 KMac, 0.472% MACs, 48, 128, kernel_size=(5, 5), stride=(1, 1), padding=(2, 2))\n",
            "      (b3_2_bn): BatchNorm2d(256, 0.004% Params, 1.02 KMac, 0.001% MACs, 128, eps=1e-05, momentum=0.1, affine=True, track_running_stats=True)\n",
            "      (b4_1): MaxPool2d(0, 0.000% Params, 3.33 KMac, 0.003% MACs, kernel_size=3, stride=1, padding=1, dilation=1, ceil_mode=False)\n",
            "      (b4_2): Conv2d(106.62 k, 1.778% Params, 426.5 KMac, 0.327% MACs, 832, 128, kernel_size=(1, 1), stride=(1, 1))\n",
            "      (b4_bn): BatchNorm2d(256, 0.004% Params, 1.02 KMac, 0.001% MACs, 128, eps=1e-05, momentum=0.1, affine=True, track_running_stats=True)\n",
            "    )\n",
            "    (2): AdaptiveAvgPool2d(0, 0.000% Params, 4.1 KMac, 0.003% MACs, output_size=(1, 1))\n",
            "    (3): Flatten(0, 0.000% Params, 0.0 Mac, 0.000% MACs, start_dim=1, end_dim=-1)\n",
            "  )\n",
            "  (5): Linear(10.25 k, 0.171% Params, 10.25 KMac, 0.008% MACs, in_features=1024, out_features=10, bias=True)\n",
            ")\n",
            "Computational complexity:  130.28 MMac\n",
            "Number of parameters:  6.0 M\n"
          ]
        }
      ]
    },
    {
      "cell_type": "markdown",
      "source": [
        "# 3a) Baseline ResNet-18"
      ],
      "metadata": {
        "id": "pv_APGg-9sW7"
      }
    },
    {
      "cell_type": "code",
      "source": [
        "class Residual(nn.Module): \n",
        "\n",
        "    def __init__(self, num_channels, use_1x1conv=False, strides=1):\n",
        "        super().__init__()\n",
        "        self.conv1 = nn.LazyConv2d(num_channels, kernel_size=3, padding=1,\n",
        "                                   stride=strides)\n",
        "        self.conv2 = nn.LazyConv2d(num_channels, kernel_size=3, padding=1)\n",
        "        if use_1x1conv:\n",
        "            self.conv3 = nn.LazyConv2d(num_channels, kernel_size=1,\n",
        "                                       stride=strides)\n",
        "        else:\n",
        "            self.conv3 = None\n",
        "        self.bn1 = nn.LazyBatchNorm2d()\n",
        "        self.bn2 = nn.LazyBatchNorm2d()\n",
        "\n",
        "    def forward(self, X):\n",
        "        Y = F.relu(self.bn1(self.conv1(X)))\n",
        "        Y = self.bn2(self.conv2(Y))\n",
        "        if self.conv3:\n",
        "            X = self.conv3(X)\n",
        "        Y += X\n",
        "        return F.relu(Y)"
      ],
      "metadata": {
        "id": "Z_Q02oZY9r1k"
      },
      "execution_count": null,
      "outputs": []
    },
    {
      "cell_type": "code",
      "source": [
        "def ResBlock(num_residuals, num_channels, first_block=False):\n",
        "    blk = []\n",
        "    for i in range(num_residuals):\n",
        "        if i == 0 and not first_block:\n",
        "            blk.append(Residual(num_channels, use_1x1conv=True, strides=2))\n",
        "        else:\n",
        "            blk.append(Residual(num_channels))\n",
        "    \n",
        "    return nn.Sequential(*blk)"
      ],
      "metadata": {
        "id": "mytRFlONA-nT"
      },
      "execution_count": null,
      "outputs": []
    },
    {
      "cell_type": "code",
      "source": [
        "def body(arch):\n",
        "    bodyBlocks = []\n",
        "    for i, b in enumerate(arch):\n",
        "        bodyBlocks.append(ResBlock(*b, first_block=(i==0)))\n",
        "    \n",
        "    return nn.Sequential(*bodyBlocks)"
      ],
      "metadata": {
        "id": "2JOxP6TGunwX"
      },
      "execution_count": null,
      "outputs": []
    },
    {
      "cell_type": "code",
      "source": [
        "resBigBlock1 = nn.Sequential(\n",
        "               nn.LazyConv2d(64, kernel_size=7, stride=2, padding=3),\n",
        "               nn.LazyBatchNorm2d(), nn.ReLU(),\n",
        "               nn.MaxPool2d(kernel_size=3, stride=2, padding=1))"
      ],
      "metadata": {
        "colab": {
          "base_uri": "https://localhost:8080/"
        },
        "id": "xE7dW1_aAAzi",
        "outputId": "555748db-f585-4b6b-a370-eeeb908e7ca4"
      },
      "execution_count": null,
      "outputs": [
        {
          "output_type": "stream",
          "name": "stderr",
          "text": [
            "/usr/local/lib/python3.8/dist-packages/torch/nn/modules/lazy.py:180: UserWarning: Lazy modules are a new feature under heavy development so changes to the API or functionality can happen at any moment.\n",
            "  warnings.warn('Lazy modules are a new feature under heavy development '\n"
          ]
        }
      ]
    },
    {
      "cell_type": "code",
      "source": [
        "resBigBlock2 = body(((2, 64), (2, 128), (2, 256), (2, 512)))"
      ],
      "metadata": {
        "id": "iu5WsW4AuAar"
      },
      "execution_count": null,
      "outputs": []
    },
    {
      "cell_type": "code",
      "source": [
        "resBigBlock3 = nn.Sequential(\n",
        "               nn.AdaptiveAvgPool2d((1, 1)), \n",
        "               nn.Flatten(),\n",
        "               nn.LazyLinear(10))"
      ],
      "metadata": {
        "id": "EPMOF5zUAqwC"
      },
      "execution_count": null,
      "outputs": []
    },
    {
      "cell_type": "code",
      "source": [
        "ResNet18 = nn.Sequential(\n",
        "    resBigBlock1,\n",
        "    resBigBlock2,\n",
        "    resBigBlock3\n",
        ")"
      ],
      "metadata": {
        "id": "LuQRnQIpwFNV"
      },
      "execution_count": null,
      "outputs": []
    },
    {
      "cell_type": "code",
      "source": [
        "summary(ResNet18, input_size = (3, 64, 64), batch_size = 128)"
      ],
      "metadata": {
        "colab": {
          "base_uri": "https://localhost:8080/"
        },
        "id": "RcARaUprwe4T",
        "outputId": "e8863cf7-2f03-4807-cca4-3f8434db9ec8"
      },
      "execution_count": null,
      "outputs": [
        {
          "output_type": "stream",
          "name": "stdout",
          "text": [
            "----------------------------------------------------------------\n",
            "        Layer (type)               Output Shape         Param #\n",
            "================================================================\n",
            "            Conv2d-1          [128, 64, 32, 32]           9,472\n",
            "       BatchNorm2d-2          [128, 64, 32, 32]             128\n",
            "              ReLU-3          [128, 64, 32, 32]               0\n",
            "         MaxPool2d-4          [128, 64, 16, 16]               0\n",
            "            Conv2d-5          [128, 64, 16, 16]          36,928\n",
            "       BatchNorm2d-6          [128, 64, 16, 16]             128\n",
            "            Conv2d-7          [128, 64, 16, 16]          36,928\n",
            "       BatchNorm2d-8          [128, 64, 16, 16]             128\n",
            "          Residual-9          [128, 64, 16, 16]               0\n",
            "           Conv2d-10          [128, 64, 16, 16]          36,928\n",
            "      BatchNorm2d-11          [128, 64, 16, 16]             128\n",
            "           Conv2d-12          [128, 64, 16, 16]          36,928\n",
            "      BatchNorm2d-13          [128, 64, 16, 16]             128\n",
            "         Residual-14          [128, 64, 16, 16]               0\n",
            "           Conv2d-15           [128, 128, 8, 8]          73,856\n",
            "      BatchNorm2d-16           [128, 128, 8, 8]             256\n",
            "           Conv2d-17           [128, 128, 8, 8]         147,584\n",
            "      BatchNorm2d-18           [128, 128, 8, 8]             256\n",
            "           Conv2d-19           [128, 128, 8, 8]           8,320\n",
            "         Residual-20           [128, 128, 8, 8]               0\n",
            "           Conv2d-21           [128, 128, 8, 8]         147,584\n",
            "      BatchNorm2d-22           [128, 128, 8, 8]             256\n",
            "           Conv2d-23           [128, 128, 8, 8]         147,584\n",
            "      BatchNorm2d-24           [128, 128, 8, 8]             256\n",
            "         Residual-25           [128, 128, 8, 8]               0\n",
            "           Conv2d-26           [128, 256, 4, 4]         295,168\n",
            "      BatchNorm2d-27           [128, 256, 4, 4]             512\n",
            "           Conv2d-28           [128, 256, 4, 4]         590,080\n",
            "      BatchNorm2d-29           [128, 256, 4, 4]             512\n",
            "           Conv2d-30           [128, 256, 4, 4]          33,024\n",
            "         Residual-31           [128, 256, 4, 4]               0\n",
            "           Conv2d-32           [128, 256, 4, 4]         590,080\n",
            "      BatchNorm2d-33           [128, 256, 4, 4]             512\n",
            "           Conv2d-34           [128, 256, 4, 4]         590,080\n",
            "      BatchNorm2d-35           [128, 256, 4, 4]             512\n",
            "         Residual-36           [128, 256, 4, 4]               0\n",
            "           Conv2d-37           [128, 512, 2, 2]       1,180,160\n",
            "      BatchNorm2d-38           [128, 512, 2, 2]           1,024\n",
            "           Conv2d-39           [128, 512, 2, 2]       2,359,808\n",
            "      BatchNorm2d-40           [128, 512, 2, 2]           1,024\n",
            "           Conv2d-41           [128, 512, 2, 2]         131,584\n",
            "         Residual-42           [128, 512, 2, 2]               0\n",
            "           Conv2d-43           [128, 512, 2, 2]       2,359,808\n",
            "      BatchNorm2d-44           [128, 512, 2, 2]           1,024\n",
            "           Conv2d-45           [128, 512, 2, 2]       2,359,808\n",
            "      BatchNorm2d-46           [128, 512, 2, 2]           1,024\n",
            "         Residual-47           [128, 512, 2, 2]               0\n",
            "AdaptiveAvgPool2d-48           [128, 512, 1, 1]               0\n",
            "          Flatten-49                 [128, 512]               0\n",
            "           Linear-50                  [128, 10]           5,130\n",
            "================================================================\n",
            "Total params: 11,184,650\n",
            "Trainable params: 11,184,650\n",
            "Non-trainable params: 0\n",
            "----------------------------------------------------------------\n",
            "Input size (MB): 6.00\n",
            "Forward/backward pass size (MB): 523.01\n",
            "Params size (MB): 42.67\n",
            "Estimated Total Size (MB): 571.68\n",
            "----------------------------------------------------------------\n"
          ]
        }
      ]
    },
    {
      "cell_type": "code",
      "source": [
        "criterion = nn.CrossEntropyLoss()\n",
        "optimizer = optim.SGD(ResNet18.parameters(), lr=0.01)"
      ],
      "metadata": {
        "id": "cPDmdZLkwirz"
      },
      "execution_count": null,
      "outputs": []
    },
    {
      "cell_type": "code",
      "source": [
        "# Begin training over 10 epochs\n",
        "epochs = 10\n",
        "valHist = []\n",
        "valLosses = []\n",
        "trainHist = []\n",
        "trainLosses = []\n",
        "interLosses = []\n",
        "avgLosses = []\n",
        "\n",
        "for t in range(epochs):\n",
        "    actualEpoch = t+1\n",
        "    print(\"Epoch\", actualEpoch)\n",
        "    trainLoop(training_loader, ResNet18, criterion, optimizer)\n",
        "    valLoop(validation_loader, ResNet18, criterion)"
      ],
      "metadata": {
        "colab": {
          "base_uri": "https://localhost:8080/"
        },
        "id": "QS6wXZ7W-zTP",
        "outputId": "389b4922-f55a-4069-e0a4-c92f9a3d3e9b"
      },
      "execution_count": null,
      "outputs": [
        {
          "output_type": "stream",
          "name": "stdout",
          "text": [
            "Epoch 1\n",
            "loss: 2.462340831756592\n",
            "loss: 1.4582386016845703\n",
            "loss: 1.2948322296142578\n",
            "loss: 1.19211745262146\n",
            "Training Accuracy:  78.89     Training Loss:  1.373415850160067\n",
            "Validation Accuracy: 59.18     Validation Loss:  1.1354249217842198\n",
            " \n",
            "Epoch 2\n",
            "loss: 0.8900984525680542\n",
            "loss: 0.8996784090995789\n",
            "loss: 1.100325584411621\n",
            "loss: 0.9876412153244019\n",
            "Training Accuracy:  90.736     Training Loss:  0.9518261593016212\n",
            "Validation Accuracy: 64.22     Validation Loss:  1.0047412620315068\n",
            " \n",
            "Epoch 3\n",
            "loss: 0.9186182618141174\n",
            "loss: 0.7010466456413269\n",
            "loss: 0.7943851351737976\n",
            "loss: 0.7852962017059326\n",
            "Training Accuracy:  96.352     Training Loss:  0.7352850441737553\n",
            "Validation Accuracy: 68.28     Validation Loss:  0.9230640470227108\n",
            " \n",
            "Epoch 4\n",
            "loss: 0.5784720182418823\n",
            "loss: 0.5407695770263672\n",
            "loss: 0.555677592754364\n",
            "loss: 0.4433528780937195\n",
            "Training Accuracy:  98.976     Training Loss:  0.570110267842822\n",
            "Validation Accuracy: 69.77     Validation Loss:  0.8741352377058584\n",
            " \n",
            "Epoch 5\n",
            "loss: 0.588233232498169\n",
            "loss: 0.3058212995529175\n",
            "loss: 0.4595407247543335\n",
            "loss: 0.4960896074771881\n",
            "Training Accuracy:  99.714     Training Loss:  0.42578436159874167\n",
            "Validation Accuracy: 70.19     Validation Loss:  0.9387022875532319\n",
            " \n",
            "Epoch 6\n",
            "loss: 0.3579128086566925\n",
            "loss: 0.2689177095890045\n",
            "loss: 0.3291059732437134\n",
            "loss: 0.3779588043689728\n",
            "Training Accuracy:  99.894     Training Loss:  0.3149978412539148\n",
            "Validation Accuracy: 70.92     Validation Loss:  0.9325100636180443\n",
            " \n",
            "Epoch 7\n",
            "loss: 0.13786502182483673\n",
            "loss: 0.2778322994709015\n",
            "loss: 0.20755711197853088\n",
            "loss: 0.27415210008621216\n",
            "Training Accuracy:  99.96000000000001     Training Loss:  0.21426948436233392\n",
            "Validation Accuracy: 71.86     Validation Loss:  1.0094171053246608\n",
            " \n",
            "Epoch 8\n",
            "loss: 0.18470793962478638\n",
            "loss: 0.12318746000528336\n",
            "loss: 0.19871483743190765\n",
            "loss: 0.18515336513519287\n",
            "Training Accuracy:  99.97399999999999     Training Loss:  0.13010384603534514\n",
            "Validation Accuracy: 72.00999999999999     Validation Loss:  1.0689714105823371\n",
            " \n",
            "Epoch 9\n",
            "loss: 0.1592712253332138\n",
            "loss: 0.05907793343067169\n",
            "loss: 0.14718875288963318\n",
            "loss: 0.10887660831212997\n",
            "Training Accuracy:  99.976     Training Loss:  0.09785724740446833\n",
            "Validation Accuracy: 70.93     Validation Loss:  1.1867564562000805\n",
            " \n",
            "Epoch 10\n",
            "loss: 0.21967542171478271\n",
            "loss: 0.07099102437496185\n",
            "loss: 0.08001641184091568\n",
            "loss: 0.03691113740205765\n",
            "Training Accuracy:  99.98599999999999     Training Loss:  0.06972898281110293\n",
            "Validation Accuracy: 71.81     Validation Loss:  1.2231912348843827\n",
            " \n"
          ]
        }
      ]
    },
    {
      "cell_type": "code",
      "source": [
        "# Plot results\n",
        "x = np.linspace(1, epochs, epochs)     \n",
        "plt.figure(figsize=(7,5))\n",
        "plt.title(\"ResNet-18: Train Loss and Val Accuracy\")\n",
        "plt.plot(x, trainLosses, label=\"Train Loss\")\n",
        "plt.plot(x, valHist, label=\"Val Accuracy\")\n",
        "plt.plot(x, trainHist, label=\"Train Accuracy\")\n",
        "plt.xlabel(\"Epoch\")\n",
        "plt.ylabel(\"Value\")\n",
        "plt.legend()\n",
        "plt.xlim(0, epochs)\n",
        "plt.ylim(0, 1.5)\n",
        "plt.show()\n",
        "\n",
        "### Train time: ~32ish minutes for 10 epochs "
      ],
      "metadata": {
        "colab": {
          "base_uri": "https://localhost:8080/",
          "height": 350
        },
        "id": "i2CCcbZmADsW",
        "outputId": "e8f9d4db-79fb-4026-bf84-d5dd2d423f37"
      },
      "execution_count": null,
      "outputs": [
        {
          "output_type": "display_data",
          "data": {
            "text/plain": [
              "<Figure size 504x360 with 1 Axes>"
            ],
            "image/png": "[encoded data removed]"
          },
          "metadata": {
            "needs_background": "light"
          }
        }
      ]
    },
    {
      "cell_type": "code",
      "source": [
        "macs, params = get_model_complexity_info(ResNet18, (3, 64, 64), as_strings=True,\n",
        "                                           print_per_layer_stat=True, verbose=True)\n",
        "print('Computational complexity: ', macs)\n",
        "print('Number of parameters: ', params)"
      ],
      "metadata": {
        "colab": {
          "base_uri": "https://localhost:8080/"
        },
        "id": "xG5VU8vBHT_k",
        "outputId": "2a941425-7e9d-4b3d-f233-800004bdf7be"
      },
      "execution_count": null,
      "outputs": [
        {
          "output_type": "stream",
          "name": "stdout",
          "text": [
            "Warning: module Residual is treated as a zero-op.\n",
            "Warning: module Flatten is treated as a zero-op.\n",
            "Sequential(\n",
            "  11.18 M, 100.000% Params, 148.76 MMac, 100.000% MACs, \n",
            "  (0): Sequential(\n",
            "    9.6 k, 0.086% Params, 9.96 MMac, 6.696% MACs, \n",
            "    (0): Conv2d(9.47 k, 0.085% Params, 9.7 MMac, 6.520% MACs, 3, 64, kernel_size=(7, 7), stride=(2, 2), padding=(3, 3))\n",
            "    (1): BatchNorm2d(128, 0.001% Params, 131.07 KMac, 0.088% MACs, 64, eps=1e-05, momentum=0.1, affine=True, track_running_stats=True)\n",
            "    (2): ReLU(0, 0.000% Params, 65.54 KMac, 0.044% MACs, )\n",
            "    (3): MaxPool2d(0, 0.000% Params, 65.54 KMac, 0.044% MACs, kernel_size=3, stride=2, padding=1, dilation=1, ceil_mode=False)\n",
            "  )\n",
            "  (1): Sequential(\n",
            "    11.17 M, 99.868% Params, 138.8 MMac, 93.299% MACs, \n",
            "    (0): Sequential(\n",
            "      148.22 k, 1.325% Params, 37.95 MMac, 25.507% MACs, \n",
            "      (0): Residual(\n",
            "        74.11 k, 0.663% Params, 18.97 MMac, 12.754% MACs, \n",
            "        (conv1): Conv2d(36.93 k, 0.330% Params, 9.45 MMac, 6.355% MACs, 64, 64, kernel_size=(3, 3), stride=(1, 1), padding=(1, 1))\n",
            "        (conv2): Conv2d(36.93 k, 0.330% Params, 9.45 MMac, 6.355% MACs, 64, 64, kernel_size=(3, 3), stride=(1, 1), padding=(1, 1))\n",
            "        (bn1): BatchNorm2d(128, 0.001% Params, 32.77 KMac, 0.022% MACs, 64, eps=1e-05, momentum=0.1, affine=True, track_running_stats=True)\n",
            "        (bn2): BatchNorm2d(128, 0.001% Params, 32.77 KMac, 0.022% MACs, 64, eps=1e-05, momentum=0.1, affine=True, track_running_stats=True)\n",
            "      )\n",
            "      (1): Residual(\n",
            "        74.11 k, 0.663% Params, 18.97 MMac, 12.754% MACs, \n",
            "        (conv1): Conv2d(36.93 k, 0.330% Params, 9.45 MMac, 6.355% MACs, 64, 64, kernel_size=(3, 3), stride=(1, 1), padding=(1, 1))\n",
            "        (conv2): Conv2d(36.93 k, 0.330% Params, 9.45 MMac, 6.355% MACs, 64, 64, kernel_size=(3, 3), stride=(1, 1), padding=(1, 1))\n",
            "        (bn1): BatchNorm2d(128, 0.001% Params, 32.77 KMac, 0.022% MACs, 64, eps=1e-05, momentum=0.1, affine=True, track_running_stats=True)\n",
            "        (bn2): BatchNorm2d(128, 0.001% Params, 32.77 KMac, 0.022% MACs, 64, eps=1e-05, momentum=0.1, affine=True, track_running_stats=True)\n",
            "      )\n",
            "    )\n",
            "    (1): Sequential(\n",
            "      525.95 k, 4.702% Params, 33.66 MMac, 22.627% MACs, \n",
            "      (0): Residual(\n",
            "        230.27 k, 2.059% Params, 14.74 MMac, 9.907% MACs, \n",
            "        (conv1): Conv2d(73.86 k, 0.660% Params, 4.73 MMac, 3.177% MACs, 64, 128, kernel_size=(3, 3), stride=(2, 2), padding=(1, 1))\n",
            "        (conv2): Conv2d(147.58 k, 1.320% Params, 9.45 MMac, 6.349% MACs, 128, 128, kernel_size=(3, 3), stride=(1, 1), padding=(1, 1))\n",
            "        (conv3): Conv2d(8.32 k, 0.074% Params, 532.48 KMac, 0.358% MACs, 64, 128, kernel_size=(1, 1), stride=(2, 2))\n",
            "        (bn1): BatchNorm2d(256, 0.002% Params, 16.38 KMac, 0.011% MACs, 128, eps=1e-05, momentum=0.1, affine=True, track_running_stats=True)\n",
            "        (bn2): BatchNorm2d(256, 0.002% Params, 16.38 KMac, 0.011% MACs, 128, eps=1e-05, momentum=0.1, affine=True, track_running_stats=True)\n",
            "      )\n",
            "      (1): Residual(\n",
            "        295.68 k, 2.644% Params, 18.92 MMac, 12.721% MACs, \n",
            "        (conv1): Conv2d(147.58 k, 1.320% Params, 9.45 MMac, 6.349% MACs, 128, 128, kernel_size=(3, 3), stride=(1, 1), padding=(1, 1))\n",
            "        (conv2): Conv2d(147.58 k, 1.320% Params, 9.45 MMac, 6.349% MACs, 128, 128, kernel_size=(3, 3), stride=(1, 1), padding=(1, 1))\n",
            "        (bn1): BatchNorm2d(256, 0.002% Params, 16.38 KMac, 0.011% MACs, 128, eps=1e-05, momentum=0.1, affine=True, track_running_stats=True)\n",
            "        (bn2): BatchNorm2d(256, 0.002% Params, 16.38 KMac, 0.011% MACs, 128, eps=1e-05, momentum=0.1, affine=True, track_running_stats=True)\n",
            "      )\n",
            "    )\n",
            "    (2): Sequential(\n",
            "      2.1 M, 18.780% Params, 33.61 MMac, 22.591% MACs, \n",
            "      (0): Residual(\n",
            "        919.3 k, 8.219% Params, 14.71 MMac, 9.887% MACs, \n",
            "        (conv1): Conv2d(295.17 k, 2.639% Params, 4.72 MMac, 3.175% MACs, 128, 256, kernel_size=(3, 3), stride=(2, 2), padding=(1, 1))\n",
            "        (conv2): Conv2d(590.08 k, 5.276% Params, 9.44 MMac, 6.346% MACs, 256, 256, kernel_size=(3, 3), stride=(1, 1), padding=(1, 1))\n",
            "        (conv3): Conv2d(33.02 k, 0.295% Params, 528.38 KMac, 0.355% MACs, 128, 256, kernel_size=(1, 1), stride=(2, 2))\n",
            "        (bn1): BatchNorm2d(512, 0.005% Params, 8.19 KMac, 0.006% MACs, 256, eps=1e-05, momentum=0.1, affine=True, track_running_stats=True)\n",
            "        (bn2): BatchNorm2d(512, 0.005% Params, 8.19 KMac, 0.006% MACs, 256, eps=1e-05, momentum=0.1, affine=True, track_running_stats=True)\n",
            "      )\n",
            "      (1): Residual(\n",
            "        1.18 M, 10.561% Params, 18.9 MMac, 12.704% MACs, \n",
            "        (conv1): Conv2d(590.08 k, 5.276% Params, 9.44 MMac, 6.346% MACs, 256, 256, kernel_size=(3, 3), stride=(1, 1), padding=(1, 1))\n",
            "        (conv2): Conv2d(590.08 k, 5.276% Params, 9.44 MMac, 6.346% MACs, 256, 256, kernel_size=(3, 3), stride=(1, 1), padding=(1, 1))\n",
            "        (bn1): BatchNorm2d(512, 0.005% Params, 8.19 KMac, 0.006% MACs, 256, eps=1e-05, momentum=0.1, affine=True, track_running_stats=True)\n",
            "        (bn2): BatchNorm2d(512, 0.005% Params, 8.19 KMac, 0.006% MACs, 256, eps=1e-05, momentum=0.1, affine=True, track_running_stats=True)\n",
            "      )\n",
            "    )\n",
            "    (3): Sequential(\n",
            "      8.4 M, 75.061% Params, 33.58 MMac, 22.573% MACs, \n",
            "      (0): Residual(\n",
            "        3.67 M, 32.845% Params, 14.69 MMac, 9.878% MACs, \n",
            "        (conv1): Conv2d(1.18 M, 10.552% Params, 4.72 MMac, 3.173% MACs, 256, 512, kernel_size=(3, 3), stride=(2, 2), padding=(1, 1))\n",
            "        (conv2): Conv2d(2.36 M, 21.099% Params, 9.44 MMac, 6.345% MACs, 512, 512, kernel_size=(3, 3), stride=(1, 1), padding=(1, 1))\n",
            "        (conv3): Conv2d(131.58 k, 1.176% Params, 526.34 KMac, 0.354% MACs, 256, 512, kernel_size=(1, 1), stride=(2, 2))\n",
            "        (bn1): BatchNorm2d(1.02 k, 0.009% Params, 4.1 KMac, 0.003% MACs, 512, eps=1e-05, momentum=0.1, affine=True, track_running_stats=True)\n",
            "        (bn2): BatchNorm2d(1.02 k, 0.009% Params, 4.1 KMac, 0.003% MACs, 512, eps=1e-05, momentum=0.1, affine=True, track_running_stats=True)\n",
            "      )\n",
            "      (1): Residual(\n",
            "        4.72 M, 42.216% Params, 18.89 MMac, 12.696% MACs, \n",
            "        (conv1): Conv2d(2.36 M, 21.099% Params, 9.44 MMac, 6.345% MACs, 512, 512, kernel_size=(3, 3), stride=(1, 1), padding=(1, 1))\n",
            "        (conv2): Conv2d(2.36 M, 21.099% Params, 9.44 MMac, 6.345% MACs, 512, 512, kernel_size=(3, 3), stride=(1, 1), padding=(1, 1))\n",
            "        (bn1): BatchNorm2d(1.02 k, 0.009% Params, 4.1 KMac, 0.003% MACs, 512, eps=1e-05, momentum=0.1, affine=True, track_running_stats=True)\n",
            "        (bn2): BatchNorm2d(1.02 k, 0.009% Params, 4.1 KMac, 0.003% MACs, 512, eps=1e-05, momentum=0.1, affine=True, track_running_stats=True)\n",
            "      )\n",
            "    )\n",
            "  )\n",
            "  (2): Sequential(\n",
            "    5.13 k, 0.046% Params, 7.18 KMac, 0.005% MACs, \n",
            "    (0): AdaptiveAvgPool2d(0, 0.000% Params, 2.05 KMac, 0.001% MACs, output_size=(1, 1))\n",
            "    (1): Flatten(0, 0.000% Params, 0.0 Mac, 0.000% MACs, start_dim=1, end_dim=-1)\n",
            "    (2): Linear(5.13 k, 0.046% Params, 5.13 KMac, 0.003% MACs, in_features=512, out_features=10, bias=True)\n",
            "  )\n",
            ")\n",
            "Computational complexity:  148.76 MMac\n",
            "Number of parameters:  11.18 M\n"
          ]
        }
      ]
    },
    {
      "cell_type": "markdown",
      "source": [
        "# 3b) ResNet-26"
      ],
      "metadata": {
        "id": "6vSsqdL_JJpo"
      }
    },
    {
      "cell_type": "code",
      "source": [
        "res26BigBlock1 = nn.Sequential(\n",
        "                 nn.LazyConv2d(64, kernel_size=7, stride=2, padding=3),\n",
        "                 nn.LazyBatchNorm2d(), nn.ReLU(),\n",
        "                 nn.MaxPool2d(kernel_size=3, stride=2, padding=1))"
      ],
      "metadata": {
        "id": "fbHYgs-oHmuq"
      },
      "execution_count": null,
      "outputs": []
    },
    {
      "cell_type": "code",
      "source": [
        "res26BigBlock2 = body(((2, 64), (3, 128), (4, 256), (2, 512)))"
      ],
      "metadata": {
        "id": "_zNZJEe7QzZx"
      },
      "execution_count": null,
      "outputs": []
    },
    {
      "cell_type": "code",
      "source": [
        "res26BigBlock3 = nn.Sequential(\n",
        "                 nn.AdaptiveAvgPool2d((1, 1)), \n",
        "                 nn.Flatten(),\n",
        "                 nn.LazyLinear(10))"
      ],
      "metadata": {
        "id": "ogpXrqpfQ1fn"
      },
      "execution_count": null,
      "outputs": []
    },
    {
      "cell_type": "code",
      "source": [
        "ResNet26 = nn.Sequential(\n",
        "    res26BigBlock1,\n",
        "    res26BigBlock2,\n",
        "    res26BigBlock3\n",
        ")"
      ],
      "metadata": {
        "id": "y1jIaPLBQ4GF"
      },
      "execution_count": null,
      "outputs": []
    },
    {
      "cell_type": "markdown",
      "source": [
        "# 3c) ResNet-32"
      ],
      "metadata": {
        "id": "FCBjzeO7Q659"
      }
    },
    {
      "cell_type": "code",
      "source": [
        "res32BigBlock1 = nn.Sequential(\n",
        "                 nn.LazyConv2d(64, kernel_size=7, stride=2, padding=3),\n",
        "                 nn.LazyBatchNorm2d(), nn.ReLU(),\n",
        "                 nn.MaxPool2d(kernel_size=3, stride=2, padding=1))"
      ],
      "metadata": {
        "colab": {
          "base_uri": "https://localhost:8080/"
        },
        "id": "AmA8yOvLQ-ec",
        "outputId": "57b0ae19-c336-48cf-d85a-14bc389bd9a9"
      },
      "execution_count": null,
      "outputs": [
        {
          "output_type": "stream",
          "name": "stderr",
          "text": [
            "/usr/local/lib/python3.8/dist-packages/torch/nn/modules/lazy.py:180: UserWarning: Lazy modules are a new feature under heavy development so changes to the API or functionality can happen at any moment.\n",
            "  warnings.warn('Lazy modules are a new feature under heavy development '\n"
          ]
        }
      ]
    },
    {
      "cell_type": "code",
      "source": [
        "res32BigBlock2 = body(((3, 64), (4, 128), (6, 256), (3, 512)))"
      ],
      "metadata": {
        "id": "6iqf1QOhRDGE"
      },
      "execution_count": null,
      "outputs": []
    },
    {
      "cell_type": "code",
      "source": [
        "res32BigBlock3 = nn.Sequential(\n",
        "                 nn.AdaptiveAvgPool2d((1, 1)), \n",
        "                 nn.Flatten(),\n",
        "                 nn.LazyLinear(10))"
      ],
      "metadata": {
        "id": "8AvRuc4ZRFw6"
      },
      "execution_count": null,
      "outputs": []
    },
    {
      "cell_type": "code",
      "source": [
        "ResNet32 = nn.Sequential(\n",
        "    res32BigBlock1,\n",
        "    res32BigBlock2,\n",
        "    res32BigBlock3\n",
        ")"
      ],
      "metadata": {
        "id": "J_S9jl7DRH8k"
      },
      "execution_count": null,
      "outputs": []
    },
    {
      "cell_type": "code",
      "source": [
        "criterion = nn.CrossEntropyLoss()\n",
        "optimizer = optim.SGD(ResNet32.parameters(), lr=0.01)"
      ],
      "metadata": {
        "id": "0dk58jnTSxu4"
      },
      "execution_count": null,
      "outputs": []
    },
    {
      "cell_type": "code",
      "source": [
        "# Begin training over 10 epochs\n",
        "epochs = 10\n",
        "valHist = []\n",
        "valLosses = []\n",
        "trainHist = []\n",
        "trainLosses = []\n",
        "interLosses = []\n",
        "avgLosses = []\n",
        "\n",
        "for t in range(epochs):\n",
        "    actualEpoch = t+1\n",
        "    print(\"Epoch\", actualEpoch)\n",
        "    trainLoop(training_loader, ResNet32, criterion, optimizer)\n",
        "    valLoop(validation_loader, ResNet32, criterion)"
      ],
      "metadata": {
        "colab": {
          "base_uri": "https://localhost:8080/"
        },
        "id": "DwW_LpCHSnI3",
        "outputId": "d57b88e1-d0be-49d2-9258-12a401871f52"
      },
      "execution_count": null,
      "outputs": [
        {
          "output_type": "stream",
          "name": "stdout",
          "text": [
            "Epoch 1\n",
            "loss: 2.511591911315918\n",
            "loss: 1.5542881488800049\n",
            "loss: 1.4366211891174316\n",
            "loss: 1.3692954778671265\n",
            "Training Accuracy:  80.294     Training Loss:  1.4604977520225604\n",
            "Validation Accuracy: 57.28     Validation Loss:  1.1836518237862406\n",
            " \n",
            "Epoch 2\n",
            "loss: 0.9406509399414062\n",
            "loss: 1.0219050645828247\n",
            "loss: 0.9520958065986633\n",
            "loss: 1.0801548957824707\n",
            "Training Accuracy:  90.53999999999999     Training Loss:  1.0455130475866214\n",
            "Validation Accuracy: 63.9     Validation Loss:  1.0262688322912288\n",
            " \n",
            "Epoch 3\n",
            "loss: 0.9648037552833557\n",
            "loss: 1.0323445796966553\n",
            "loss: 0.870963454246521\n",
            "loss: 0.7506881952285767\n",
            "Training Accuracy:  96.11     Training Loss:  0.8135033060827523\n",
            "Validation Accuracy: 67.92     Validation Loss:  0.926001138324979\n",
            " \n",
            "Epoch 4\n",
            "loss: 0.6214495897293091\n",
            "loss: 0.5398983359336853\n",
            "loss: 0.7081708312034607\n",
            "loss: 0.6848787069320679\n",
            "Training Accuracy:  98.556     Training Loss:  0.6495592630732699\n",
            "Validation Accuracy: 68.30000000000001     Validation Loss:  0.9299038437348378\n",
            " \n",
            "Epoch 5\n",
            "loss: 0.5414183735847473\n",
            "loss: 0.4739900827407837\n",
            "loss: 0.45866838097572327\n",
            "loss: 0.5279505848884583\n",
            "Training Accuracy:  99.492     Training Loss:  0.507748502523393\n",
            "Validation Accuracy: 70.64     Validation Loss:  0.9080400036860116\n",
            " \n",
            "Epoch 6\n",
            "loss: 0.5411632061004639\n",
            "loss: 0.451568603515625\n",
            "loss: 0.36261674761772156\n",
            "loss: 0.37999582290649414\n",
            "Training Accuracy:  99.78399999999999     Training Loss:  0.3921046669754531\n",
            "Validation Accuracy: 69.55     Validation Loss:  0.9883706252786177\n",
            " \n",
            "Epoch 7\n",
            "loss: 0.43339353799819946\n",
            "loss: 0.19347110390663147\n",
            "loss: 0.2977222204208374\n",
            "loss: 0.4343850016593933\n",
            "Training Accuracy:  99.90599999999999     Training Loss:  0.2905266760179149\n",
            "Validation Accuracy: 71.86     Validation Loss:  0.9686806730077236\n",
            " \n",
            "Epoch 8\n",
            "loss: 0.17181630432605743\n",
            "loss: 0.1988162398338318\n",
            "loss: 0.17788703739643097\n",
            "loss: 0.30840954184532166\n",
            "Training Accuracy:  99.94800000000001     Training Loss:  0.21237409197727738\n",
            "Validation Accuracy: 71.44     Validation Loss:  1.0706723626655867\n",
            " \n",
            "Epoch 9\n",
            "loss: 0.24500755965709686\n",
            "loss: 0.20261642336845398\n",
            "loss: 0.1468559056520462\n",
            "loss: 0.18641404807567596\n",
            "Training Accuracy:  99.94800000000001     Training Loss:  0.17761448602123028\n",
            "Validation Accuracy: 73.11999999999999     Validation Loss:  1.0381930334658562\n",
            " \n",
            "Epoch 10\n",
            "loss: 0.09995867311954498\n",
            "loss: 0.12257780879735947\n",
            "loss: 0.15950791537761688\n",
            "loss: 0.1627320647239685\n",
            "Training Accuracy:  99.97200000000001     Training Loss:  0.13097810363182633\n",
            "Validation Accuracy: 71.13000000000001     Validation Loss:  1.1898945917057087\n",
            " \n"
          ]
        }
      ]
    },
    {
      "cell_type": "code",
      "source": [
        "# Plot results\n",
        "x = np.linspace(1, epochs, epochs)     \n",
        "plt.figure(figsize=(7,5))\n",
        "plt.title(\"ResNet-32: Train Loss and Val Accuracy\")\n",
        "plt.plot(x, trainLosses, label=\"Train Loss\")\n",
        "plt.plot(x, valHist, label=\"Val Accuracy\")\n",
        "plt.plot(x, trainHist, label=\"Train Accuracy\")\n",
        "plt.xlabel(\"Epoch\")\n",
        "plt.ylabel(\"Value\")\n",
        "plt.legend()\n",
        "plt.xlim(0, epochs)\n",
        "plt.ylim(0, 1.5)\n",
        "plt.show()\n",
        "\n",
        "### Train time: 60 minutes for 10 epochs "
      ],
      "metadata": {
        "colab": {
          "base_uri": "https://localhost:8080/",
          "height": 350
        },
        "id": "vf88naH9Sw5-",
        "outputId": "d4e24668-5a01-43d3-fc8e-c32acb628e99"
      },
      "execution_count": null,
      "outputs": [
        {
          "output_type": "display_data",
          "data": {
            "text/plain": [
              "<Figure size 504x360 with 1 Axes>"
            ],
            "image/png": "[encoded data removed]"
          },
          "metadata": {
            "needs_background": "light"
          }
        }
      ]
    },
    {
      "cell_type": "code",
      "source": [
        "macs, params = get_model_complexity_info(ResNet32, (3, 64, 64), as_strings=True,\n",
        "                                           print_per_layer_stat=True, verbose=True)\n",
        "print('Computational complexity: ', macs)\n",
        "print('Number of parameters: ', params)"
      ],
      "metadata": {
        "colab": {
          "base_uri": "https://localhost:8080/"
        },
        "id": "b9K9YC2vgT1z",
        "outputId": "8f90f314-0410-49c7-c7eb-acb598d97d64"
      },
      "execution_count": null,
      "outputs": [
        {
          "output_type": "stream",
          "name": "stdout",
          "text": [
            "Warning: module Residual is treated as a zero-op.\n",
            "Warning: module Flatten is treated as a zero-op.\n",
            "Sequential(\n",
            "  21.3 M, 100.000% Params, 300.07 MMac, 100.000% MACs, \n",
            "  (0): Sequential(\n",
            "    9.6 k, 0.045% Params, 9.96 MMac, 3.320% MACs, \n",
            "    (0): Conv2d(9.47 k, 0.044% Params, 9.7 MMac, 3.232% MACs, 3, 64, kernel_size=(7, 7), stride=(2, 2), padding=(3, 3))\n",
            "    (1): BatchNorm2d(128, 0.001% Params, 131.07 KMac, 0.044% MACs, 64, eps=1e-05, momentum=0.1, affine=True, track_running_stats=True)\n",
            "    (2): ReLU(0, 0.000% Params, 65.54 KMac, 0.022% MACs, )\n",
            "    (3): MaxPool2d(0, 0.000% Params, 65.54 KMac, 0.022% MACs, kernel_size=3, stride=2, padding=1, dilation=1, ceil_mode=False)\n",
            "  )\n",
            "  (1): Sequential(\n",
            "    21.28 M, 99.931% Params, 290.1 MMac, 96.678% MACs, \n",
            "    (0): Sequential(\n",
            "      222.34 k, 1.044% Params, 56.92 MMac, 18.969% MACs, \n",
            "      (0): Residual(\n",
            "        74.11 k, 0.348% Params, 18.97 MMac, 6.323% MACs, \n",
            "        (conv1): Conv2d(36.93 k, 0.173% Params, 9.45 MMac, 3.150% MACs, 64, 64, kernel_size=(3, 3), stride=(1, 1), padding=(1, 1))\n",
            "        (conv2): Conv2d(36.93 k, 0.173% Params, 9.45 MMac, 3.150% MACs, 64, 64, kernel_size=(3, 3), stride=(1, 1), padding=(1, 1))\n",
            "        (bn1): BatchNorm2d(128, 0.001% Params, 32.77 KMac, 0.011% MACs, 64, eps=1e-05, momentum=0.1, affine=True, track_running_stats=True)\n",
            "        (bn2): BatchNorm2d(128, 0.001% Params, 32.77 KMac, 0.011% MACs, 64, eps=1e-05, momentum=0.1, affine=True, track_running_stats=True)\n",
            "      )\n",
            "      (1): Residual(\n",
            "        74.11 k, 0.348% Params, 18.97 MMac, 6.323% MACs, \n",
            "        (conv1): Conv2d(36.93 k, 0.173% Params, 9.45 MMac, 3.150% MACs, 64, 64, kernel_size=(3, 3), stride=(1, 1), padding=(1, 1))\n",
            "        (conv2): Conv2d(36.93 k, 0.173% Params, 9.45 MMac, 3.150% MACs, 64, 64, kernel_size=(3, 3), stride=(1, 1), padding=(1, 1))\n",
            "        (bn1): BatchNorm2d(128, 0.001% Params, 32.77 KMac, 0.011% MACs, 64, eps=1e-05, momentum=0.1, affine=True, track_running_stats=True)\n",
            "        (bn2): BatchNorm2d(128, 0.001% Params, 32.77 KMac, 0.011% MACs, 64, eps=1e-05, momentum=0.1, affine=True, track_running_stats=True)\n",
            "      )\n",
            "      (2): Residual(\n",
            "        74.11 k, 0.348% Params, 18.97 MMac, 6.323% MACs, \n",
            "        (conv1): Conv2d(36.93 k, 0.173% Params, 9.45 MMac, 3.150% MACs, 64, 64, kernel_size=(3, 3), stride=(1, 1), padding=(1, 1))\n",
            "        (conv2): Conv2d(36.93 k, 0.173% Params, 9.45 MMac, 3.150% MACs, 64, 64, kernel_size=(3, 3), stride=(1, 1), padding=(1, 1))\n",
            "        (bn1): BatchNorm2d(128, 0.001% Params, 32.77 KMac, 0.011% MACs, 64, eps=1e-05, momentum=0.1, affine=True, track_running_stats=True)\n",
            "        (bn2): BatchNorm2d(128, 0.001% Params, 32.77 KMac, 0.011% MACs, 64, eps=1e-05, momentum=0.1, affine=True, track_running_stats=True)\n",
            "      )\n",
            "    )\n",
            "    (1): Sequential(\n",
            "      1.12 M, 5.246% Params, 71.51 MMac, 23.831% MACs, \n",
            "      (0): Residual(\n",
            "        230.27 k, 1.081% Params, 14.74 MMac, 4.911% MACs, \n",
            "        (conv1): Conv2d(73.86 k, 0.347% Params, 4.73 MMac, 1.575% MACs, 64, 128, kernel_size=(3, 3), stride=(2, 2), padding=(1, 1))\n",
            "        (conv2): Conv2d(147.58 k, 0.693% Params, 9.45 MMac, 3.148% MACs, 128, 128, kernel_size=(3, 3), stride=(1, 1), padding=(1, 1))\n",
            "        (conv3): Conv2d(8.32 k, 0.039% Params, 532.48 KMac, 0.177% MACs, 64, 128, kernel_size=(1, 1), stride=(2, 2))\n",
            "        (bn1): BatchNorm2d(256, 0.001% Params, 16.38 KMac, 0.005% MACs, 128, eps=1e-05, momentum=0.1, affine=True, track_running_stats=True)\n",
            "        (bn2): BatchNorm2d(256, 0.001% Params, 16.38 KMac, 0.005% MACs, 128, eps=1e-05, momentum=0.1, affine=True, track_running_stats=True)\n",
            "      )\n",
            "      (1): Residual(\n",
            "        295.68 k, 1.388% Params, 18.92 MMac, 6.306% MACs, \n",
            "        (conv1): Conv2d(147.58 k, 0.693% Params, 9.45 MMac, 3.148% MACs, 128, 128, kernel_size=(3, 3), stride=(1, 1), padding=(1, 1))\n",
            "        (conv2): Conv2d(147.58 k, 0.693% Params, 9.45 MMac, 3.148% MACs, 128, 128, kernel_size=(3, 3), stride=(1, 1), padding=(1, 1))\n",
            "        (bn1): BatchNorm2d(256, 0.001% Params, 16.38 KMac, 0.005% MACs, 128, eps=1e-05, momentum=0.1, affine=True, track_running_stats=True)\n",
            "        (bn2): BatchNorm2d(256, 0.001% Params, 16.38 KMac, 0.005% MACs, 128, eps=1e-05, momentum=0.1, affine=True, track_running_stats=True)\n",
            "      )\n",
            "      (2): Residual(\n",
            "        295.68 k, 1.388% Params, 18.92 MMac, 6.306% MACs, \n",
            "        (conv1): Conv2d(147.58 k, 0.693% Params, 9.45 MMac, 3.148% MACs, 128, 128, kernel_size=(3, 3), stride=(1, 1), padding=(1, 1))\n",
            "        (conv2): Conv2d(147.58 k, 0.693% Params, 9.45 MMac, 3.148% MACs, 128, 128, kernel_size=(3, 3), stride=(1, 1), padding=(1, 1))\n",
            "        (bn1): BatchNorm2d(256, 0.001% Params, 16.38 KMac, 0.005% MACs, 128, eps=1e-05, momentum=0.1, affine=True, track_running_stats=True)\n",
            "        (bn2): BatchNorm2d(256, 0.001% Params, 16.38 KMac, 0.005% MACs, 128, eps=1e-05, momentum=0.1, affine=True, track_running_stats=True)\n",
            "      )\n",
            "      (3): Residual(\n",
            "        295.68 k, 1.388% Params, 18.92 MMac, 6.306% MACs, \n",
            "        (conv1): Conv2d(147.58 k, 0.693% Params, 9.45 MMac, 3.148% MACs, 128, 128, kernel_size=(3, 3), stride=(1, 1), padding=(1, 1))\n",
            "        (conv2): Conv2d(147.58 k, 0.693% Params, 9.45 MMac, 3.148% MACs, 128, 128, kernel_size=(3, 3), stride=(1, 1), padding=(1, 1))\n",
            "        (bn1): BatchNorm2d(256, 0.001% Params, 16.38 KMac, 0.005% MACs, 128, eps=1e-05, momentum=0.1, affine=True, track_running_stats=True)\n",
            "        (bn2): BatchNorm2d(256, 0.001% Params, 16.38 KMac, 0.005% MACs, 128, eps=1e-05, momentum=0.1, affine=True, track_running_stats=True)\n",
            "      )\n",
            "    )\n",
            "    (2): Sequential(\n",
            "      6.83 M, 32.049% Params, 109.2 MMac, 36.393% MACs, \n",
            "      (0): Residual(\n",
            "        919.3 k, 4.317% Params, 14.71 MMac, 4.902% MACs, \n",
            "        (conv1): Conv2d(295.17 k, 1.386% Params, 4.72 MMac, 1.574% MACs, 128, 256, kernel_size=(3, 3), stride=(2, 2), padding=(1, 1))\n",
            "        (conv2): Conv2d(590.08 k, 2.771% Params, 9.44 MMac, 3.146% MACs, 256, 256, kernel_size=(3, 3), stride=(1, 1), padding=(1, 1))\n",
            "        (conv3): Conv2d(33.02 k, 0.155% Params, 528.38 KMac, 0.176% MACs, 128, 256, kernel_size=(1, 1), stride=(2, 2))\n",
            "        (bn1): BatchNorm2d(512, 0.002% Params, 8.19 KMac, 0.003% MACs, 256, eps=1e-05, momentum=0.1, affine=True, track_running_stats=True)\n",
            "        (bn2): BatchNorm2d(512, 0.002% Params, 8.19 KMac, 0.003% MACs, 256, eps=1e-05, momentum=0.1, affine=True, track_running_stats=True)\n",
            "      )\n",
            "      (1): Residual(\n",
            "        1.18 M, 5.546% Params, 18.9 MMac, 6.298% MACs, \n",
            "        (conv1): Conv2d(590.08 k, 2.771% Params, 9.44 MMac, 3.146% MACs, 256, 256, kernel_size=(3, 3), stride=(1, 1), padding=(1, 1))\n",
            "        (conv2): Conv2d(590.08 k, 2.771% Params, 9.44 MMac, 3.146% MACs, 256, 256, kernel_size=(3, 3), stride=(1, 1), padding=(1, 1))\n",
            "        (bn1): BatchNorm2d(512, 0.002% Params, 8.19 KMac, 0.003% MACs, 256, eps=1e-05, momentum=0.1, affine=True, track_running_stats=True)\n",
            "        (bn2): BatchNorm2d(512, 0.002% Params, 8.19 KMac, 0.003% MACs, 256, eps=1e-05, momentum=0.1, affine=True, track_running_stats=True)\n",
            "      )\n",
            "      (2): Residual(\n",
            "        1.18 M, 5.546% Params, 18.9 MMac, 6.298% MACs, \n",
            "        (conv1): Conv2d(590.08 k, 2.771% Params, 9.44 MMac, 3.146% MACs, 256, 256, kernel_size=(3, 3), stride=(1, 1), padding=(1, 1))\n",
            "        (conv2): Conv2d(590.08 k, 2.771% Params, 9.44 MMac, 3.146% MACs, 256, 256, kernel_size=(3, 3), stride=(1, 1), padding=(1, 1))\n",
            "        (bn1): BatchNorm2d(512, 0.002% Params, 8.19 KMac, 0.003% MACs, 256, eps=1e-05, momentum=0.1, affine=True, track_running_stats=True)\n",
            "        (bn2): BatchNorm2d(512, 0.002% Params, 8.19 KMac, 0.003% MACs, 256, eps=1e-05, momentum=0.1, affine=True, track_running_stats=True)\n",
            "      )\n",
            "      (3): Residual(\n",
            "        1.18 M, 5.546% Params, 18.9 MMac, 6.298% MACs, \n",
            "        (conv1): Conv2d(590.08 k, 2.771% Params, 9.44 MMac, 3.146% MACs, 256, 256, kernel_size=(3, 3), stride=(1, 1), padding=(1, 1))\n",
            "        (conv2): Conv2d(590.08 k, 2.771% Params, 9.44 MMac, 3.146% MACs, 256, 256, kernel_size=(3, 3), stride=(1, 1), padding=(1, 1))\n",
            "        (bn1): BatchNorm2d(512, 0.002% Params, 8.19 KMac, 0.003% MACs, 256, eps=1e-05, momentum=0.1, affine=True, track_running_stats=True)\n",
            "        (bn2): BatchNorm2d(512, 0.002% Params, 8.19 KMac, 0.003% MACs, 256, eps=1e-05, momentum=0.1, affine=True, track_running_stats=True)\n",
            "      )\n",
            "      (4): Residual(\n",
            "        1.18 M, 5.546% Params, 18.9 MMac, 6.298% MACs, \n",
            "        (conv1): Conv2d(590.08 k, 2.771% Params, 9.44 MMac, 3.146% MACs, 256, 256, kernel_size=(3, 3), stride=(1, 1), padding=(1, 1))\n",
            "        (conv2): Conv2d(590.08 k, 2.771% Params, 9.44 MMac, 3.146% MACs, 256, 256, kernel_size=(3, 3), stride=(1, 1), padding=(1, 1))\n",
            "        (bn1): BatchNorm2d(512, 0.002% Params, 8.19 KMac, 0.003% MACs, 256, eps=1e-05, momentum=0.1, affine=True, track_running_stats=True)\n",
            "        (bn2): BatchNorm2d(512, 0.002% Params, 8.19 KMac, 0.003% MACs, 256, eps=1e-05, momentum=0.1, affine=True, track_running_stats=True)\n",
            "      )\n",
            "      (5): Residual(\n",
            "        1.18 M, 5.546% Params, 18.9 MMac, 6.298% MACs, \n",
            "        (conv1): Conv2d(590.08 k, 2.771% Params, 9.44 MMac, 3.146% MACs, 256, 256, kernel_size=(3, 3), stride=(1, 1), padding=(1, 1))\n",
            "        (conv2): Conv2d(590.08 k, 2.771% Params, 9.44 MMac, 3.146% MACs, 256, 256, kernel_size=(3, 3), stride=(1, 1), padding=(1, 1))\n",
            "        (bn1): BatchNorm2d(512, 0.002% Params, 8.19 KMac, 0.003% MACs, 256, eps=1e-05, momentum=0.1, affine=True, track_running_stats=True)\n",
            "        (bn2): BatchNorm2d(512, 0.002% Params, 8.19 KMac, 0.003% MACs, 256, eps=1e-05, momentum=0.1, affine=True, track_running_stats=True)\n",
            "      )\n",
            "    )\n",
            "    (3): Sequential(\n",
            "      13.12 M, 61.592% Params, 52.47 MMac, 17.485% MACs, \n",
            "      (0): Residual(\n",
            "        3.67 M, 17.250% Params, 14.69 MMac, 4.897% MACs, \n",
            "        (conv1): Conv2d(1.18 M, 5.542% Params, 4.72 MMac, 1.573% MACs, 256, 512, kernel_size=(3, 3), stride=(2, 2), padding=(1, 1))\n",
            "        (conv2): Conv2d(2.36 M, 11.081% Params, 9.44 MMac, 3.146% MACs, 512, 512, kernel_size=(3, 3), stride=(1, 1), padding=(1, 1))\n",
            "        (conv3): Conv2d(131.58 k, 0.618% Params, 526.34 KMac, 0.175% MACs, 256, 512, kernel_size=(1, 1), stride=(2, 2))\n",
            "        (bn1): BatchNorm2d(1.02 k, 0.005% Params, 4.1 KMac, 0.001% MACs, 512, eps=1e-05, momentum=0.1, affine=True, track_running_stats=True)\n",
            "        (bn2): BatchNorm2d(1.02 k, 0.005% Params, 4.1 KMac, 0.001% MACs, 512, eps=1e-05, momentum=0.1, affine=True, track_running_stats=True)\n",
            "      )\n",
            "      (1): Residual(\n",
            "        4.72 M, 22.171% Params, 18.89 MMac, 6.294% MACs, \n",
            "        (conv1): Conv2d(2.36 M, 11.081% Params, 9.44 MMac, 3.146% MACs, 512, 512, kernel_size=(3, 3), stride=(1, 1), padding=(1, 1))\n",
            "        (conv2): Conv2d(2.36 M, 11.081% Params, 9.44 MMac, 3.146% MACs, 512, 512, kernel_size=(3, 3), stride=(1, 1), padding=(1, 1))\n",
            "        (bn1): BatchNorm2d(1.02 k, 0.005% Params, 4.1 KMac, 0.001% MACs, 512, eps=1e-05, momentum=0.1, affine=True, track_running_stats=True)\n",
            "        (bn2): BatchNorm2d(1.02 k, 0.005% Params, 4.1 KMac, 0.001% MACs, 512, eps=1e-05, momentum=0.1, affine=True, track_running_stats=True)\n",
            "      )\n",
            "      (2): Residual(\n",
            "        4.72 M, 22.171% Params, 18.89 MMac, 6.294% MACs, \n",
            "        (conv1): Conv2d(2.36 M, 11.081% Params, 9.44 MMac, 3.146% MACs, 512, 512, kernel_size=(3, 3), stride=(1, 1), padding=(1, 1))\n",
            "        (conv2): Conv2d(2.36 M, 11.081% Params, 9.44 MMac, 3.146% MACs, 512, 512, kernel_size=(3, 3), stride=(1, 1), padding=(1, 1))\n",
            "        (bn1): BatchNorm2d(1.02 k, 0.005% Params, 4.1 KMac, 0.001% MACs, 512, eps=1e-05, momentum=0.1, affine=True, track_running_stats=True)\n",
            "        (bn2): BatchNorm2d(1.02 k, 0.005% Params, 4.1 KMac, 0.001% MACs, 512, eps=1e-05, momentum=0.1, affine=True, track_running_stats=True)\n",
            "      )\n",
            "    )\n",
            "  )\n",
            "  (2): Sequential(\n",
            "    5.13 k, 0.024% Params, 7.18 KMac, 0.002% MACs, \n",
            "    (0): AdaptiveAvgPool2d(0, 0.000% Params, 2.05 KMac, 0.001% MACs, output_size=(1, 1))\n",
            "    (1): Flatten(0, 0.000% Params, 0.0 Mac, 0.000% MACs, start_dim=1, end_dim=-1)\n",
            "    (2): Linear(5.13 k, 0.024% Params, 5.13 KMac, 0.002% MACs, in_features=512, out_features=10, bias=True)\n",
            "  )\n",
            ")\n",
            "Computational complexity:  300.07 MMac\n",
            "Number of parameters:  21.3 M\n"
          ]
        }
      ]
    },
    {
      "cell_type": "markdown",
      "source": [
        "# Extra) DenseNet vs. ResNet"
      ],
      "metadata": {
        "id": "es03FPkpr5F4"
      }
    },
    {
      "cell_type": "code",
      "source": [
        "def convBlockDense(num_channels):\n",
        "    return nn.Sequential(\n",
        "        nn.LazyBatchNorm2d(), nn.ReLU(),\n",
        "        nn.LazyConv2d(num_channels, kernel_size=3, padding=1))"
      ],
      "metadata": {
        "id": "H9Hgdj2qgYDg"
      },
      "execution_count": null,
      "outputs": []
    },
    {
      "cell_type": "code",
      "source": [
        "class DenseBlock(nn.Module):\n",
        "    def __init__(self, num_convs, num_channels):\n",
        "        super(DenseBlock, self).__init__()\n",
        "        layer = []\n",
        "        for i in range(num_convs):\n",
        "            layer.append(convBlockDense(num_channels))\n",
        "        self.net = nn.Sequential(*layer)\n",
        "\n",
        "    def forward(self, X):\n",
        "        for blk in self.net:\n",
        "            Y = blk(X)\n",
        "            # Concatenate input and output of each block along the channels\n",
        "            X = torch.cat((X, Y), dim=1)\n",
        "        return X"
      ],
      "metadata": {
        "id": "Vw4jO1rFsMxB"
      },
      "execution_count": null,
      "outputs": []
    },
    {
      "cell_type": "code",
      "source": [
        "def transitionBlock(num_channels):\n",
        "    return nn.Sequential(\n",
        "                        nn.LazyBatchNorm2d(), nn.ReLU(),\n",
        "                        nn.LazyConv2d(num_channels, kernel_size=1),\n",
        "                        nn.AvgPool2d(kernel_size=2, stride=2)\n",
        "                 )"
      ],
      "metadata": {
        "id": "ZrZxOcnAsOmF"
      },
      "execution_count": null,
      "outputs": []
    },
    {
      "cell_type": "code",
      "source": [
        "def denseBody(arch):\n",
        "    growthRate = 32\n",
        "    bodyBlocks = []\n",
        "    numChannels = 64\n",
        "\n",
        "    for i, numConvs in enumerate(arch):\n",
        "        bodyBlocks.append(DenseBlock(numConvs, growthRate))\n",
        "        numChannels += numConvs * growthRate\n",
        "\n",
        "        if i != len(arch) - 1:\n",
        "            numChannels //= 2\n",
        "            bodyBlocks.append(transitionBlock(numChannels))\n",
        "    \n",
        "    return nn.Sequential(*bodyBlocks)"
      ],
      "metadata": {
        "id": "Zz3ZaEBhsQce"
      },
      "execution_count": null,
      "outputs": []
    },
    {
      "cell_type": "code",
      "source": [
        "denseBigBlock1 = nn.Sequential(\n",
        "                        nn.LazyConv2d(64, kernel_size=7, stride=2, padding=3),\n",
        "                        nn.LazyBatchNorm2d(), nn.ReLU(),\n",
        "                        nn.MaxPool2d(kernel_size=3, stride=2, padding=1)\n",
        "                 )"
      ],
      "metadata": {
        "colab": {
          "base_uri": "https://localhost:8080/"
        },
        "id": "Ha091C-tsSaO",
        "outputId": "64632463-a508-44ce-b594-1b3f767770dd"
      },
      "execution_count": null,
      "outputs": [
        {
          "output_type": "stream",
          "name": "stderr",
          "text": [
            "/usr/local/lib/python3.9/dist-packages/torch/nn/modules/lazy.py:180: UserWarning: Lazy modules are a new feature under heavy development so changes to the API or functionality can happen at any moment.\n",
            "  warnings.warn('Lazy modules are a new feature under heavy development '\n"
          ]
        }
      ]
    },
    {
      "cell_type": "code",
      "source": [
        "denseBigBlock2 = denseBody((4,16,9,18,21))"
      ],
      "metadata": {
        "id": "Us9BqZQ0sU6e"
      },
      "execution_count": null,
      "outputs": []
    },
    {
      "cell_type": "code",
      "source": [
        "denseBigBlock3 = nn.Sequential(\n",
        "                        nn.AdaptiveAvgPool2d((1, 1)), nn.Flatten(),\n",
        "                        nn.LazyLinear(10)\n",
        ")"
      ],
      "metadata": {
        "id": "FPlqMY71sZRP"
      },
      "execution_count": null,
      "outputs": []
    },
    {
      "cell_type": "code",
      "source": [
        "denseNet = nn.Sequential(\n",
        "                        denseBigBlock1,\n",
        "                        denseBigBlock2,\n",
        "                        denseBigBlock3\n",
        ")"
      ],
      "metadata": {
        "id": "U3nKRI3Zsbfe"
      },
      "execution_count": null,
      "outputs": []
    },
    {
      "cell_type": "code",
      "source": [
        "criterion = nn.CrossEntropyLoss()\n",
        "optimizer = optim.SGD(denseNet.parameters(), lr=0.01)"
      ],
      "metadata": {
        "id": "pj_03TfYseVP"
      },
      "execution_count": null,
      "outputs": []
    },
    {
      "cell_type": "code",
      "source": [
        "# Begin training over 10 epochs\n",
        "epochs = 10\n",
        "valHist = []\n",
        "valLosses = []\n",
        "trainHist = []\n",
        "trainLosses = []\n",
        "interLosses = []\n",
        "avgLosses = []\n",
        "\n",
        "for t in range(epochs):\n",
        "    actualEpoch = t+1\n",
        "    print(\"Epoch\", actualEpoch)\n",
        "    trainLoop(training_loader, denseNet, criterion, optimizer)\n",
        "    valLoop(validation_loader, denseNet, criterion)"
      ],
      "metadata": {
        "colab": {
          "base_uri": "https://localhost:8080/"
        },
        "id": "h1VhtDXashE2",
        "outputId": "a96cecb8-bd19-4634-aa0e-00d4c5e01f0c"
      },
      "execution_count": null,
      "outputs": [
        {
          "output_type": "stream",
          "name": "stdout",
          "text": [
            "Epoch 1\n",
            "loss: 2.305583953857422\n",
            "loss: 1.5611282587051392\n",
            "loss: 1.2717264890670776\n",
            "loss: 1.160510540008545\n",
            "Training Accuracy:  60.132     Training Loss:  1.4740133767237749\n",
            "Validation Accuracy: 58.209999999999994     Validation Loss:  1.1806575874739056\n",
            " \n",
            "Epoch 2\n",
            "loss: 1.1500059366226196\n",
            "loss: 1.0796420574188232\n",
            "loss: 1.113866925239563\n",
            "loss: 0.9303102493286133\n",
            "Training Accuracy:  83.016     Training Loss:  1.0109011655878228\n",
            "Validation Accuracy: 66.69     Validation Loss:  0.9380505990378464\n",
            " \n",
            "Epoch 3\n",
            "loss: 0.7960896492004395\n",
            "loss: 0.725610613822937\n",
            "loss: 0.8983271718025208\n",
            "loss: 0.9390447735786438\n",
            "Training Accuracy:  91.4     Training Loss:  0.7970694048935191\n",
            "Validation Accuracy: 70.63000000000001     Validation Loss:  0.8357654304444035\n",
            " \n",
            "Epoch 4\n",
            "loss: 0.6795663833618164\n",
            "loss: 0.499089777469635\n",
            "loss: 0.7130162119865417\n",
            "loss: 0.5280178189277649\n",
            "Training Accuracy:  95.44200000000001     Training Loss:  0.6470762312869587\n",
            "Validation Accuracy: 72.67     Validation Loss:  0.7892459238631816\n",
            " \n",
            "Epoch 5\n",
            "loss: 0.6986221075057983\n",
            "loss: 0.4100870192050934\n",
            "loss: 0.6042727828025818\n",
            "loss: 0.45775923132896423\n",
            "Training Accuracy:  97.548     Training Loss:  0.5366347064752408\n",
            "Validation Accuracy: 74.24     Validation Loss:  0.7567275023158593\n",
            " \n",
            "Epoch 6\n",
            "loss: 0.47053924202919006\n",
            "loss: 0.3864079713821411\n",
            "loss: 0.4116270840167999\n",
            "loss: 0.37730154395103455\n",
            "Training Accuracy:  98.664     Training Loss:  0.4440811030242754\n",
            "Validation Accuracy: 73.61999999999999     Validation Loss:  0.7830685724185992\n",
            " \n",
            "Epoch 7\n",
            "loss: 0.3975030183792114\n",
            "loss: 0.3060373067855835\n",
            "loss: 0.3046684265136719\n",
            "loss: 0.4185643494129181\n",
            "Training Accuracy:  99.28200000000001     Training Loss:  0.3589277767464328\n",
            "Validation Accuracy: 76.06     Validation Loss:  0.7428525852251656\n",
            " \n",
            "Epoch 8\n",
            "loss: 0.3421012759208679\n",
            "loss: 0.24105846881866455\n",
            "loss: 0.23136299848556519\n",
            "loss: 0.27629151940345764\n",
            "Training Accuracy:  99.646     Training Loss:  0.28623457489263676\n",
            "Validation Accuracy: 76.98     Validation Loss:  0.7413115429727337\n",
            " \n",
            "Epoch 9\n",
            "loss: 0.23472537100315094\n",
            "loss: 0.18735474348068237\n",
            "loss: 0.2592465877532959\n",
            "loss: 0.27361223101615906\n",
            "Training Accuracy:  99.822     Training Loss:  0.2387881857697921\n",
            "Validation Accuracy: 75.21     Validation Loss:  0.8242324326611772\n",
            " \n",
            "Epoch 10\n",
            "loss: 0.17829659581184387\n",
            "loss: 0.12568531930446625\n",
            "loss: 0.15204043686389923\n",
            "loss: 0.25462886691093445\n",
            "Training Accuracy:  99.864     Training Loss:  0.1846945375261252\n",
            "Validation Accuracy: 73.6     Validation Loss:  0.9259455939636955\n",
            " \n"
          ]
        }
      ]
    },
    {
      "cell_type": "code",
      "source": [
        "# Plot results\n",
        "x = np.linspace(1, epochs, epochs)     \n",
        "plt.figure(figsize=(7,5))\n",
        "plt.title(\"DenseNet: Train Loss and Val Accuracy\")\n",
        "plt.plot(x, trainLosses, label=\"Train Loss\")\n",
        "plt.plot(x, valHist, label=\"Val Accuracy\")\n",
        "plt.plot(x, trainHist, label=\"Train Accuracy\")\n",
        "plt.xlabel(\"Epoch\")\n",
        "plt.ylabel(\"Value\")\n",
        "plt.legend()\n",
        "plt.xlim(0, epochs)\n",
        "plt.ylim(0, 1.5)\n",
        "plt.show()\n",
        "\n",
        "### Train time: ~60 minutes for 10 epochs "
      ],
      "metadata": {
        "colab": {
          "base_uri": "https://localhost:8080/",
          "height": 350
        },
        "id": "t_8eUif4smUR",
        "outputId": "d82dabe4-930b-4b49-de55-23a07b0f338b"
      },
      "execution_count": null,
      "outputs": [
        {
          "output_type": "display_data",
          "data": {
            "text/plain": [
              "<Figure size 504x360 with 1 Axes>"
            ],
            "image/png": "[encoded data removed]"
          },
          "metadata": {
            "needs_background": "light"
          }
        }
      ]
    },
    {
      "cell_type": "code",
      "source": [
        "macs, params = get_model_complexity_info(denseNet, (3, 64, 64), as_strings=True,\n",
        "                                           print_per_layer_stat=True, verbose=True)\n",
        "print('Computational complexity: ', macs)\n",
        "print('Number of parameters: ', params)"
      ],
      "metadata": {
        "colab": {
          "base_uri": "https://localhost:8080/"
        },
        "id": "waTnQmyP7WrQ",
        "outputId": "f11561b6-b423-4f8b-f34b-a30cedc92363"
      },
      "execution_count": null,
      "outputs": [
        {
          "output_type": "stream",
          "name": "stdout",
          "text": [
            "Warning: module DenseBlock is treated as a zero-op.\n",
            "Warning: module Flatten is treated as a zero-op.\n",
            "Sequential(\n",
            "  11.17 M, 100.000% Params, 199.44 MMac, 100.000% MACs, \n",
            "  (0): Sequential(\n",
            "    9.6 k, 0.086% Params, 9.96 MMac, 4.995% MACs, \n",
            "    (0): Conv2d(9.47 k, 0.085% Params, 9.7 MMac, 4.863% MACs, 3, 64, kernel_size=(7, 7), stride=(2, 2), padding=(3, 3))\n",
            "    (1): BatchNorm2d(128, 0.001% Params, 131.07 KMac, 0.066% MACs, 64, eps=1e-05, momentum=0.1, affine=True, track_running_stats=True)\n",
            "    (2): ReLU(0, 0.000% Params, 65.54 KMac, 0.033% MACs, )\n",
            "    (3): MaxPool2d(0, 0.000% Params, 65.54 KMac, 0.033% MACs, kernel_size=3, stride=2, padding=1, dilation=1, ceil_mode=False)\n",
            "  )\n",
            "  (1): Sequential(\n",
            "    11.15 M, 99.815% Params, 189.47 MMac, 94.999% MACs, \n",
            "    (0): DenseBlock(\n",
            "      130.05 k, 1.164% Params, 33.41 MMac, 16.750% MACs, \n",
            "      (net): Sequential(\n",
            "        130.05 k, 1.164% Params, 33.41 MMac, 16.750% MACs, \n",
            "        (0): Sequential(\n",
            "          18.59 k, 0.166% Params, 4.78 MMac, 2.395% MACs, \n",
            "          (0): BatchNorm2d(128, 0.001% Params, 32.77 KMac, 0.016% MACs, 64, eps=1e-05, momentum=0.1, affine=True, track_running_stats=True)\n",
            "          (1): ReLU(0, 0.000% Params, 16.38 KMac, 0.008% MACs, )\n",
            "          (2): Conv2d(18.46 k, 0.165% Params, 4.73 MMac, 2.370% MACs, 64, 32, kernel_size=(3, 3), stride=(1, 1), padding=(1, 1))\n",
            "        )\n",
            "        (1): Sequential(\n",
            "          27.87 k, 0.249% Params, 7.16 MMac, 3.590% MACs, \n",
            "          (0): BatchNorm2d(192, 0.002% Params, 49.15 KMac, 0.025% MACs, 96, eps=1e-05, momentum=0.1, affine=True, track_running_stats=True)\n",
            "          (1): ReLU(0, 0.000% Params, 24.58 KMac, 0.012% MACs, )\n",
            "          (2): Conv2d(27.68 k, 0.248% Params, 7.09 MMac, 3.553% MACs, 96, 32, kernel_size=(3, 3), stride=(1, 1), padding=(1, 1))\n",
            "        )\n",
            "        (2): Sequential(\n",
            "          37.15 k, 0.333% Params, 9.54 MMac, 4.785% MACs, \n",
            "          (0): BatchNorm2d(256, 0.002% Params, 65.54 KMac, 0.033% MACs, 128, eps=1e-05, momentum=0.1, affine=True, track_running_stats=True)\n",
            "          (1): ReLU(0, 0.000% Params, 32.77 KMac, 0.016% MACs, )\n",
            "          (2): Conv2d(36.9 k, 0.330% Params, 9.45 MMac, 4.736% MACs, 128, 32, kernel_size=(3, 3), stride=(1, 1), padding=(1, 1))\n",
            "        )\n",
            "        (3): Sequential(\n",
            "          46.43 k, 0.416% Params, 11.93 MMac, 5.980% MACs, \n",
            "          (0): BatchNorm2d(320, 0.003% Params, 81.92 KMac, 0.041% MACs, 160, eps=1e-05, momentum=0.1, affine=True, track_running_stats=True)\n",
            "          (1): ReLU(0, 0.000% Params, 40.96 KMac, 0.021% MACs, )\n",
            "          (2): Conv2d(46.11 k, 0.413% Params, 11.8 MMac, 5.919% MACs, 160, 32, kernel_size=(3, 3), stride=(1, 1), padding=(1, 1))\n",
            "        )\n",
            "      )\n",
            "    )\n",
            "    (1): Sequential(\n",
            "      18.91 k, 0.169% Params, 4.92 MMac, 2.464% MACs, \n",
            "      (0): BatchNorm2d(384, 0.003% Params, 98.3 KMac, 0.049% MACs, 192, eps=1e-05, momentum=0.1, affine=True, track_running_stats=True)\n",
            "      (1): ReLU(0, 0.000% Params, 49.15 KMac, 0.025% MACs, )\n",
            "      (2): Conv2d(18.53 k, 0.166% Params, 4.74 MMac, 2.378% MACs, 192, 96, kernel_size=(1, 1), stride=(1, 1))\n",
            "      (3): AvgPool2d(0, 0.000% Params, 24.58 KMac, 0.012% MACs, kernel_size=2, stride=2, padding=0)\n",
            "    )\n",
            "    (2): DenseBlock(\n",
            "      1.56 M, 13.959% Params, 100.16 MMac, 50.217% MACs, \n",
            "      (net): Sequential(\n",
            "        1.56 M, 13.959% Params, 100.16 MMac, 50.217% MACs, \n",
            "        (0): Sequential(\n",
            "          27.87 k, 0.249% Params, 1.79 MMac, 0.897% MACs, \n",
            "          (0): BatchNorm2d(192, 0.002% Params, 12.29 KMac, 0.006% MACs, 96, eps=1e-05, momentum=0.1, affine=True, track_running_stats=True)\n",
            "          (1): ReLU(0, 0.000% Params, 6.14 KMac, 0.003% MACs, )\n",
            "          (2): Conv2d(27.68 k, 0.248% Params, 1.77 MMac, 0.888% MACs, 96, 32, kernel_size=(3, 3), stride=(1, 1), padding=(1, 1))\n",
            "        )\n",
            "        (1): Sequential(\n",
            "          37.15 k, 0.333% Params, 2.39 MMac, 1.196% MACs, \n",
            "          (0): BatchNorm2d(256, 0.002% Params, 16.38 KMac, 0.008% MACs, 128, eps=1e-05, momentum=0.1, affine=True, track_running_stats=True)\n",
            "          (1): ReLU(0, 0.000% Params, 8.19 KMac, 0.004% MACs, )\n",
            "          (2): Conv2d(36.9 k, 0.330% Params, 2.36 MMac, 1.184% MACs, 128, 32, kernel_size=(3, 3), stride=(1, 1), padding=(1, 1))\n",
            "        )\n",
            "        (2): Sequential(\n",
            "          46.43 k, 0.416% Params, 2.98 MMac, 1.495% MACs, \n",
            "          (0): BatchNorm2d(320, 0.003% Params, 20.48 KMac, 0.010% MACs, 160, eps=1e-05, momentum=0.1, affine=True, track_running_stats=True)\n",
            "          (1): ReLU(0, 0.000% Params, 10.24 KMac, 0.005% MACs, )\n",
            "          (2): Conv2d(46.11 k, 0.413% Params, 2.95 MMac, 1.480% MACs, 160, 32, kernel_size=(3, 3), stride=(1, 1), padding=(1, 1))\n",
            "        )\n",
            "        (3): Sequential(\n",
            "          55.71 k, 0.499% Params, 3.58 MMac, 1.794% MACs, \n",
            "          (0): BatchNorm2d(384, 0.003% Params, 24.58 KMac, 0.012% MACs, 192, eps=1e-05, momentum=0.1, affine=True, track_running_stats=True)\n",
            "          (1): ReLU(0, 0.000% Params, 12.29 KMac, 0.006% MACs, )\n",
            "          (2): Conv2d(55.33 k, 0.495% Params, 3.54 MMac, 1.775% MACs, 192, 32, kernel_size=(3, 3), stride=(1, 1), padding=(1, 1))\n",
            "        )\n",
            "        (4): Sequential(\n",
            "          64.99 k, 0.582% Params, 4.17 MMac, 2.093% MACs, \n",
            "          (0): BatchNorm2d(448, 0.004% Params, 28.67 KMac, 0.014% MACs, 224, eps=1e-05, momentum=0.1, affine=True, track_running_stats=True)\n",
            "          (1): ReLU(0, 0.000% Params, 14.34 KMac, 0.007% MACs, )\n",
            "          (2): Conv2d(64.54 k, 0.578% Params, 4.13 MMac, 2.071% MACs, 224, 32, kernel_size=(3, 3), stride=(1, 1), padding=(1, 1))\n",
            "        )\n",
            "        (5): Sequential(\n",
            "          74.27 k, 0.665% Params, 4.77 MMac, 2.392% MACs, \n",
            "          (0): BatchNorm2d(512, 0.005% Params, 32.77 KMac, 0.016% MACs, 256, eps=1e-05, momentum=0.1, affine=True, track_running_stats=True)\n",
            "          (1): ReLU(0, 0.000% Params, 16.38 KMac, 0.008% MACs, )\n",
            "          (2): Conv2d(73.76 k, 0.660% Params, 4.72 MMac, 2.367% MACs, 256, 32, kernel_size=(3, 3), stride=(1, 1), padding=(1, 1))\n",
            "        )\n",
            "        (6): Sequential(\n",
            "          83.55 k, 0.748% Params, 5.37 MMac, 2.690% MACs, \n",
            "          (0): BatchNorm2d(576, 0.005% Params, 36.86 KMac, 0.018% MACs, 288, eps=1e-05, momentum=0.1, affine=True, track_running_stats=True)\n",
            "          (1): ReLU(0, 0.000% Params, 18.43 KMac, 0.009% MACs, )\n",
            "          (2): Conv2d(82.98 k, 0.743% Params, 5.31 MMac, 2.663% MACs, 288, 32, kernel_size=(3, 3), stride=(1, 1), padding=(1, 1))\n",
            "        )\n",
            "        (7): Sequential(\n",
            "          92.83 k, 0.831% Params, 5.96 MMac, 2.989% MACs, \n",
            "          (0): BatchNorm2d(640, 0.006% Params, 40.96 KMac, 0.021% MACs, 320, eps=1e-05, momentum=0.1, affine=True, track_running_stats=True)\n",
            "          (1): ReLU(0, 0.000% Params, 20.48 KMac, 0.010% MACs, )\n",
            "          (2): Conv2d(92.19 k, 0.825% Params, 5.9 MMac, 2.958% MACs, 320, 32, kernel_size=(3, 3), stride=(1, 1), padding=(1, 1))\n",
            "        )\n",
            "        (8): Sequential(\n",
            "          102.11 k, 0.914% Params, 6.56 MMac, 3.288% MACs, \n",
            "          (0): BatchNorm2d(704, 0.006% Params, 45.06 KMac, 0.023% MACs, 352, eps=1e-05, momentum=0.1, affine=True, track_running_stats=True)\n",
            "          (1): ReLU(0, 0.000% Params, 22.53 KMac, 0.011% MACs, )\n",
            "          (2): Conv2d(101.41 k, 0.908% Params, 6.49 MMac, 3.254% MACs, 352, 32, kernel_size=(3, 3), stride=(1, 1), padding=(1, 1))\n",
            "        )\n",
            "        (9): Sequential(\n",
            "          111.39 k, 0.997% Params, 7.15 MMac, 3.587% MACs, \n",
            "          (0): BatchNorm2d(768, 0.007% Params, 49.15 KMac, 0.025% MACs, 384, eps=1e-05, momentum=0.1, affine=True, track_running_stats=True)\n",
            "          (1): ReLU(0, 0.000% Params, 24.58 KMac, 0.012% MACs, )\n",
            "          (2): Conv2d(110.62 k, 0.990% Params, 7.08 MMac, 3.550% MACs, 384, 32, kernel_size=(3, 3), stride=(1, 1), padding=(1, 1))\n",
            "        )\n",
            "        (10): Sequential(\n",
            "          120.67 k, 1.080% Params, 7.75 MMac, 3.886% MACs, \n",
            "          (0): BatchNorm2d(832, 0.007% Params, 53.25 KMac, 0.027% MACs, 416, eps=1e-05, momentum=0.1, affine=True, track_running_stats=True)\n",
            "          (1): ReLU(0, 0.000% Params, 26.62 KMac, 0.013% MACs, )\n",
            "          (2): Conv2d(119.84 k, 1.073% Params, 7.67 MMac, 3.846% MACs, 416, 32, kernel_size=(3, 3), stride=(1, 1), padding=(1, 1))\n",
            "        )\n",
            "        (11): Sequential(\n",
            "          129.95 k, 1.163% Params, 8.35 MMac, 4.184% MACs, \n",
            "          (0): BatchNorm2d(896, 0.008% Params, 57.34 KMac, 0.029% MACs, 448, eps=1e-05, momentum=0.1, affine=True, track_running_stats=True)\n",
            "          (1): ReLU(0, 0.000% Params, 28.67 KMac, 0.014% MACs, )\n",
            "          (2): Conv2d(129.06 k, 1.155% Params, 8.26 MMac, 4.141% MACs, 448, 32, kernel_size=(3, 3), stride=(1, 1), padding=(1, 1))\n",
            "        )\n",
            "        (12): Sequential(\n",
            "          139.23 k, 1.246% Params, 8.94 MMac, 4.483% MACs, \n",
            "          (0): BatchNorm2d(960, 0.009% Params, 61.44 KMac, 0.031% MACs, 480, eps=1e-05, momentum=0.1, affine=True, track_running_stats=True)\n",
            "          (1): ReLU(0, 0.000% Params, 30.72 KMac, 0.015% MACs, )\n",
            "          (2): Conv2d(138.27 k, 1.238% Params, 8.85 MMac, 4.437% MACs, 480, 32, kernel_size=(3, 3), stride=(1, 1), padding=(1, 1))\n",
            "        )\n",
            "        (13): Sequential(\n",
            "          148.51 k, 1.329% Params, 9.54 MMac, 4.782% MACs, \n",
            "          (0): BatchNorm2d(1.02 k, 0.009% Params, 65.54 KMac, 0.033% MACs, 512, eps=1e-05, momentum=0.1, affine=True, track_running_stats=True)\n",
            "          (1): ReLU(0, 0.000% Params, 32.77 KMac, 0.016% MACs, )\n",
            "          (2): Conv2d(147.49 k, 1.320% Params, 9.44 MMac, 4.733% MACs, 512, 32, kernel_size=(3, 3), stride=(1, 1), padding=(1, 1))\n",
            "        )\n",
            "        (14): Sequential(\n",
            "          157.79 k, 1.412% Params, 10.13 MMac, 5.081% MACs, \n",
            "          (0): BatchNorm2d(1.09 k, 0.010% Params, 69.63 KMac, 0.035% MACs, 544, eps=1e-05, momentum=0.1, affine=True, track_running_stats=True)\n",
            "          (1): ReLU(0, 0.000% Params, 34.82 KMac, 0.017% MACs, )\n",
            "          (2): Conv2d(156.7 k, 1.403% Params, 10.03 MMac, 5.029% MACs, 544, 32, kernel_size=(3, 3), stride=(1, 1), padding=(1, 1))\n",
            "        )\n",
            "        (15): Sequential(\n",
            "          167.07 k, 1.495% Params, 10.73 MMac, 5.380% MACs, \n",
            "          (0): BatchNorm2d(1.15 k, 0.010% Params, 73.73 KMac, 0.037% MACs, 576, eps=1e-05, momentum=0.1, affine=True, track_running_stats=True)\n",
            "          (1): ReLU(0, 0.000% Params, 36.86 KMac, 0.018% MACs, )\n",
            "          (2): Conv2d(165.92 k, 1.485% Params, 10.62 MMac, 5.324% MACs, 576, 32, kernel_size=(3, 3), stride=(1, 1), padding=(1, 1))\n",
            "        )\n",
            "      )\n",
            "    )\n",
            "    (3): Sequential(\n",
            "      186.35 k, 1.668% Params, 11.98 MMac, 6.009% MACs, \n",
            "      (0): BatchNorm2d(1.22 k, 0.011% Params, 77.82 KMac, 0.039% MACs, 608, eps=1e-05, momentum=0.1, affine=True, track_running_stats=True)\n",
            "      (1): ReLU(0, 0.000% Params, 38.91 KMac, 0.020% MACs, )\n",
            "      (2): Conv2d(185.14 k, 1.657% Params, 11.85 MMac, 5.941% MACs, 608, 304, kernel_size=(1, 1), stride=(1, 1))\n",
            "      (3): AvgPool2d(0, 0.000% Params, 19.46 KMac, 0.010% MACs, kernel_size=2, stride=2, padding=0)\n",
            "    )\n",
            "    (4): DenseBlock(\n",
            "      1.13 M, 10.094% Params, 18.11 MMac, 9.079% MACs, \n",
            "      (net): Sequential(\n",
            "        1.13 M, 10.094% Params, 18.11 MMac, 9.079% MACs, \n",
            "        (0): Sequential(\n",
            "          88.19 k, 0.789% Params, 1.42 MMac, 0.710% MACs, \n",
            "          (0): BatchNorm2d(608, 0.005% Params, 9.73 KMac, 0.005% MACs, 304, eps=1e-05, momentum=0.1, affine=True, track_running_stats=True)\n",
            "          (1): ReLU(0, 0.000% Params, 4.86 KMac, 0.002% MACs, )\n",
            "          (2): Conv2d(87.58 k, 0.784% Params, 1.4 MMac, 0.703% MACs, 304, 32, kernel_size=(3, 3), stride=(1, 1), padding=(1, 1))\n",
            "        )\n",
            "        (1): Sequential(\n",
            "          97.47 k, 0.872% Params, 1.56 MMac, 0.785% MACs, \n",
            "          (0): BatchNorm2d(672, 0.006% Params, 10.75 KMac, 0.005% MACs, 336, eps=1e-05, momentum=0.1, affine=True, track_running_stats=True)\n",
            "          (1): ReLU(0, 0.000% Params, 5.38 KMac, 0.003% MACs, )\n",
            "          (2): Conv2d(96.8 k, 0.866% Params, 1.55 MMac, 0.777% MACs, 336, 32, kernel_size=(3, 3), stride=(1, 1), padding=(1, 1))\n",
            "        )\n",
            "        (2): Sequential(\n",
            "          106.75 k, 0.955% Params, 1.71 MMac, 0.859% MACs, \n",
            "          (0): BatchNorm2d(736, 0.007% Params, 11.78 KMac, 0.006% MACs, 368, eps=1e-05, momentum=0.1, affine=True, track_running_stats=True)\n",
            "          (1): ReLU(0, 0.000% Params, 5.89 KMac, 0.003% MACs, )\n",
            "          (2): Conv2d(106.02 k, 0.949% Params, 1.7 MMac, 0.850% MACs, 368, 32, kernel_size=(3, 3), stride=(1, 1), padding=(1, 1))\n",
            "        )\n",
            "        (3): Sequential(\n",
            "          116.03 k, 1.039% Params, 1.86 MMac, 0.934% MACs, \n",
            "          (0): BatchNorm2d(800, 0.007% Params, 12.8 KMac, 0.006% MACs, 400, eps=1e-05, momentum=0.1, affine=True, track_running_stats=True)\n",
            "          (1): ReLU(0, 0.000% Params, 6.4 KMac, 0.003% MACs, )\n",
            "          (2): Conv2d(115.23 k, 1.031% Params, 1.84 MMac, 0.924% MACs, 400, 32, kernel_size=(3, 3), stride=(1, 1), padding=(1, 1))\n",
            "        )\n",
            "        (4): Sequential(\n",
            "          125.31 k, 1.122% Params, 2.01 MMac, 1.009% MACs, \n",
            "          (0): BatchNorm2d(864, 0.008% Params, 13.82 KMac, 0.007% MACs, 432, eps=1e-05, momentum=0.1, affine=True, track_running_stats=True)\n",
            "          (1): ReLU(0, 0.000% Params, 6.91 KMac, 0.003% MACs, )\n",
            "          (2): Conv2d(124.45 k, 1.114% Params, 1.99 MMac, 0.998% MACs, 432, 32, kernel_size=(3, 3), stride=(1, 1), padding=(1, 1))\n",
            "        )\n",
            "        (5): Sequential(\n",
            "          134.59 k, 1.205% Params, 2.16 MMac, 1.083% MACs, \n",
            "          (0): BatchNorm2d(928, 0.008% Params, 14.85 KMac, 0.007% MACs, 464, eps=1e-05, momentum=0.1, affine=True, track_running_stats=True)\n",
            "          (1): ReLU(0, 0.000% Params, 7.42 KMac, 0.004% MACs, )\n",
            "          (2): Conv2d(133.66 k, 1.196% Params, 2.14 MMac, 1.072% MACs, 464, 32, kernel_size=(3, 3), stride=(1, 1), padding=(1, 1))\n",
            "        )\n",
            "        (6): Sequential(\n",
            "          143.87 k, 1.288% Params, 2.31 MMac, 1.158% MACs, \n",
            "          (0): BatchNorm2d(992, 0.009% Params, 15.87 KMac, 0.008% MACs, 496, eps=1e-05, momentum=0.1, affine=True, track_running_stats=True)\n",
            "          (1): ReLU(0, 0.000% Params, 7.94 KMac, 0.004% MACs, )\n",
            "          (2): Conv2d(142.88 k, 1.279% Params, 2.29 MMac, 1.146% MACs, 496, 32, kernel_size=(3, 3), stride=(1, 1), padding=(1, 1))\n",
            "        )\n",
            "        (7): Sequential(\n",
            "          153.15 k, 1.371% Params, 2.46 MMac, 1.233% MACs, \n",
            "          (0): BatchNorm2d(1.06 k, 0.009% Params, 16.9 KMac, 0.008% MACs, 528, eps=1e-05, momentum=0.1, affine=True, track_running_stats=True)\n",
            "          (1): ReLU(0, 0.000% Params, 8.45 KMac, 0.004% MACs, )\n",
            "          (2): Conv2d(152.1 k, 1.361% Params, 2.43 MMac, 1.220% MACs, 528, 32, kernel_size=(3, 3), stride=(1, 1), padding=(1, 1))\n",
            "        )\n",
            "        (8): Sequential(\n",
            "          162.43 k, 1.454% Params, 2.61 MMac, 1.308% MACs, \n",
            "          (0): BatchNorm2d(1.12 k, 0.010% Params, 17.92 KMac, 0.009% MACs, 560, eps=1e-05, momentum=0.1, affine=True, track_running_stats=True)\n",
            "          (1): ReLU(0, 0.000% Params, 8.96 KMac, 0.004% MACs, )\n",
            "          (2): Conv2d(161.31 k, 1.444% Params, 2.58 MMac, 1.294% MACs, 560, 32, kernel_size=(3, 3), stride=(1, 1), padding=(1, 1))\n",
            "        )\n",
            "      )\n",
            "    )\n",
            "    (5): Sequential(\n",
            "      176.71 k, 1.582% Params, 2.84 MMac, 1.425% MACs, \n",
            "      (0): BatchNorm2d(1.18 k, 0.011% Params, 18.94 KMac, 0.009% MACs, 592, eps=1e-05, momentum=0.1, affine=True, track_running_stats=True)\n",
            "      (1): ReLU(0, 0.000% Params, 9.47 KMac, 0.005% MACs, )\n",
            "      (2): Conv2d(175.53 k, 1.571% Params, 2.81 MMac, 1.408% MACs, 592, 296, kernel_size=(1, 1), stride=(1, 1))\n",
            "      (3): AvgPool2d(0, 0.000% Params, 4.74 KMac, 0.002% MACs, kernel_size=2, stride=2, padding=0)\n",
            "    )\n",
            "    (6): DenseBlock(\n",
            "      2.97 M, 26.543% Params, 11.9 MMac, 5.968% MACs, \n",
            "      (net): Sequential(\n",
            "        2.97 M, 26.543% Params, 11.9 MMac, 5.968% MACs, \n",
            "        (0): Sequential(\n",
            "          85.87 k, 0.769% Params, 344.67 KMac, 0.173% MACs, \n",
            "          (0): BatchNorm2d(592, 0.005% Params, 2.37 KMac, 0.001% MACs, 296, eps=1e-05, momentum=0.1, affine=True, track_running_stats=True)\n",
            "          (1): ReLU(0, 0.000% Params, 1.18 KMac, 0.001% MACs, )\n",
            "          (2): Conv2d(85.28 k, 0.763% Params, 341.12 KMac, 0.171% MACs, 296, 32, kernel_size=(3, 3), stride=(1, 1), padding=(1, 1))\n",
            "        )\n",
            "        (1): Sequential(\n",
            "          95.15 k, 0.852% Params, 381.92 KMac, 0.191% MACs, \n",
            "          (0): BatchNorm2d(656, 0.006% Params, 2.62 KMac, 0.001% MACs, 328, eps=1e-05, momentum=0.1, affine=True, track_running_stats=True)\n",
            "          (1): ReLU(0, 0.000% Params, 1.31 KMac, 0.001% MACs, )\n",
            "          (2): Conv2d(94.5 k, 0.846% Params, 377.98 KMac, 0.190% MACs, 328, 32, kernel_size=(3, 3), stride=(1, 1), padding=(1, 1))\n",
            "        )\n",
            "        (2): Sequential(\n",
            "          104.43 k, 0.935% Params, 419.17 KMac, 0.210% MACs, \n",
            "          (0): BatchNorm2d(720, 0.006% Params, 2.88 KMac, 0.001% MACs, 360, eps=1e-05, momentum=0.1, affine=True, track_running_stats=True)\n",
            "          (1): ReLU(0, 0.000% Params, 1.44 KMac, 0.001% MACs, )\n",
            "          (2): Conv2d(103.71 k, 0.928% Params, 414.85 KMac, 0.208% MACs, 360, 32, kernel_size=(3, 3), stride=(1, 1), padding=(1, 1))\n",
            "        )\n",
            "        (3): Sequential(\n",
            "          113.71 k, 1.018% Params, 456.42 KMac, 0.229% MACs, \n",
            "          (0): BatchNorm2d(784, 0.007% Params, 3.14 KMac, 0.002% MACs, 392, eps=1e-05, momentum=0.1, affine=True, track_running_stats=True)\n",
            "          (1): ReLU(0, 0.000% Params, 1.57 KMac, 0.001% MACs, )\n",
            "          (2): Conv2d(112.93 k, 1.011% Params, 451.71 KMac, 0.226% MACs, 392, 32, kernel_size=(3, 3), stride=(1, 1), padding=(1, 1))\n",
            "        )\n",
            "        (4): Sequential(\n",
            "          122.99 k, 1.101% Params, 493.66 KMac, 0.248% MACs, \n",
            "          (0): BatchNorm2d(848, 0.008% Params, 3.39 KMac, 0.002% MACs, 424, eps=1e-05, momentum=0.1, affine=True, track_running_stats=True)\n",
            "          (1): ReLU(0, 0.000% Params, 1.7 KMac, 0.001% MACs, )\n",
            "          (2): Conv2d(122.14 k, 1.093% Params, 488.58 KMac, 0.245% MACs, 424, 32, kernel_size=(3, 3), stride=(1, 1), padding=(1, 1))\n",
            "        )\n",
            "        (5): Sequential(\n",
            "          132.27 k, 1.184% Params, 530.91 KMac, 0.266% MACs, \n",
            "          (0): BatchNorm2d(912, 0.008% Params, 3.65 KMac, 0.002% MACs, 456, eps=1e-05, momentum=0.1, affine=True, track_running_stats=True)\n",
            "          (1): ReLU(0, 0.000% Params, 1.82 KMac, 0.001% MACs, )\n",
            "          (2): Conv2d(131.36 k, 1.176% Params, 525.44 KMac, 0.263% MACs, 456, 32, kernel_size=(3, 3), stride=(1, 1), padding=(1, 1))\n",
            "        )\n",
            "        (6): Sequential(\n",
            "          141.55 k, 1.267% Params, 568.16 KMac, 0.285% MACs, \n",
            "          (0): BatchNorm2d(976, 0.009% Params, 3.9 KMac, 0.002% MACs, 488, eps=1e-05, momentum=0.1, affine=True, track_running_stats=True)\n",
            "          (1): ReLU(0, 0.000% Params, 1.95 KMac, 0.001% MACs, )\n",
            "          (2): Conv2d(140.58 k, 1.258% Params, 562.3 KMac, 0.282% MACs, 488, 32, kernel_size=(3, 3), stride=(1, 1), padding=(1, 1))\n",
            "        )\n",
            "        (7): Sequential(\n",
            "          150.83 k, 1.350% Params, 605.41 KMac, 0.304% MACs, \n",
            "          (0): BatchNorm2d(1.04 k, 0.009% Params, 4.16 KMac, 0.002% MACs, 520, eps=1e-05, momentum=0.1, affine=True, track_running_stats=True)\n",
            "          (1): ReLU(0, 0.000% Params, 2.08 KMac, 0.001% MACs, )\n",
            "          (2): Conv2d(149.79 k, 1.341% Params, 599.17 KMac, 0.300% MACs, 520, 32, kernel_size=(3, 3), stride=(1, 1), padding=(1, 1))\n",
            "        )\n",
            "        (8): Sequential(\n",
            "          160.11 k, 1.433% Params, 642.66 KMac, 0.322% MACs, \n",
            "          (0): BatchNorm2d(1.1 k, 0.010% Params, 4.42 KMac, 0.002% MACs, 552, eps=1e-05, momentum=0.1, affine=True, track_running_stats=True)\n",
            "          (1): ReLU(0, 0.000% Params, 2.21 KMac, 0.001% MACs, )\n",
            "          (2): Conv2d(159.01 k, 1.423% Params, 636.03 KMac, 0.319% MACs, 552, 32, kernel_size=(3, 3), stride=(1, 1), padding=(1, 1))\n",
            "        )\n",
            "        (9): Sequential(\n",
            "          169.39 k, 1.516% Params, 679.9 KMac, 0.341% MACs, \n",
            "          (0): BatchNorm2d(1.17 k, 0.010% Params, 4.67 KMac, 0.002% MACs, 584, eps=1e-05, momentum=0.1, affine=True, track_running_stats=True)\n",
            "          (1): ReLU(0, 0.000% Params, 2.34 KMac, 0.001% MACs, )\n",
            "          (2): Conv2d(168.22 k, 1.506% Params, 672.9 KMac, 0.337% MACs, 584, 32, kernel_size=(3, 3), stride=(1, 1), padding=(1, 1))\n",
            "        )\n",
            "        (10): Sequential(\n",
            "          178.67 k, 1.599% Params, 717.15 KMac, 0.360% MACs, \n",
            "          (0): BatchNorm2d(1.23 k, 0.011% Params, 4.93 KMac, 0.002% MACs, 616, eps=1e-05, momentum=0.1, affine=True, track_running_stats=True)\n",
            "          (1): ReLU(0, 0.000% Params, 2.46 KMac, 0.001% MACs, )\n",
            "          (2): Conv2d(177.44 k, 1.588% Params, 709.76 KMac, 0.356% MACs, 616, 32, kernel_size=(3, 3), stride=(1, 1), padding=(1, 1))\n",
            "        )\n",
            "        (11): Sequential(\n",
            "          187.95 k, 1.682% Params, 754.4 KMac, 0.378% MACs, \n",
            "          (0): BatchNorm2d(1.3 k, 0.012% Params, 5.18 KMac, 0.003% MACs, 648, eps=1e-05, momentum=0.1, affine=True, track_running_stats=True)\n",
            "          (1): ReLU(0, 0.000% Params, 2.59 KMac, 0.001% MACs, )\n",
            "          (2): Conv2d(186.66 k, 1.671% Params, 746.62 KMac, 0.374% MACs, 648, 32, kernel_size=(3, 3), stride=(1, 1), padding=(1, 1))\n",
            "        )\n",
            "        (12): Sequential(\n",
            "          197.23 k, 1.765% Params, 791.65 KMac, 0.397% MACs, \n",
            "          (0): BatchNorm2d(1.36 k, 0.012% Params, 5.44 KMac, 0.003% MACs, 680, eps=1e-05, momentum=0.1, affine=True, track_running_stats=True)\n",
            "          (1): ReLU(0, 0.000% Params, 2.72 KMac, 0.001% MACs, )\n",
            "          (2): Conv2d(195.87 k, 1.753% Params, 783.49 KMac, 0.393% MACs, 680, 32, kernel_size=(3, 3), stride=(1, 1), padding=(1, 1))\n",
            "        )\n",
            "        (13): Sequential(\n",
            "          206.51 k, 1.848% Params, 828.9 KMac, 0.416% MACs, \n",
            "          (0): BatchNorm2d(1.42 k, 0.013% Params, 5.7 KMac, 0.003% MACs, 712, eps=1e-05, momentum=0.1, affine=True, track_running_stats=True)\n",
            "          (1): ReLU(0, 0.000% Params, 2.85 KMac, 0.001% MACs, )\n",
            "          (2): Conv2d(205.09 k, 1.836% Params, 820.35 KMac, 0.411% MACs, 712, 32, kernel_size=(3, 3), stride=(1, 1), padding=(1, 1))\n",
            "        )\n",
            "        (14): Sequential(\n",
            "          215.79 k, 1.931% Params, 866.14 KMac, 0.434% MACs, \n",
            "          (0): BatchNorm2d(1.49 k, 0.013% Params, 5.95 KMac, 0.003% MACs, 744, eps=1e-05, momentum=0.1, affine=True, track_running_stats=True)\n",
            "          (1): ReLU(0, 0.000% Params, 2.98 KMac, 0.001% MACs, )\n",
            "          (2): Conv2d(214.3 k, 1.918% Params, 857.22 KMac, 0.430% MACs, 744, 32, kernel_size=(3, 3), stride=(1, 1), padding=(1, 1))\n",
            "        )\n",
            "        (15): Sequential(\n",
            "          225.07 k, 2.014% Params, 903.39 KMac, 0.453% MACs, \n",
            "          (0): BatchNorm2d(1.55 k, 0.014% Params, 6.21 KMac, 0.003% MACs, 776, eps=1e-05, momentum=0.1, affine=True, track_running_stats=True)\n",
            "          (1): ReLU(0, 0.000% Params, 3.1 KMac, 0.002% MACs, )\n",
            "          (2): Conv2d(223.52 k, 2.001% Params, 894.08 KMac, 0.448% MACs, 776, 32, kernel_size=(3, 3), stride=(1, 1), padding=(1, 1))\n",
            "        )\n",
            "        (16): Sequential(\n",
            "          234.35 k, 2.098% Params, 940.64 KMac, 0.472% MACs, \n",
            "          (0): BatchNorm2d(1.62 k, 0.014% Params, 6.46 KMac, 0.003% MACs, 808, eps=1e-05, momentum=0.1, affine=True, track_running_stats=True)\n",
            "          (1): ReLU(0, 0.000% Params, 3.23 KMac, 0.002% MACs, )\n",
            "          (2): Conv2d(232.74 k, 2.083% Params, 930.94 KMac, 0.467% MACs, 808, 32, kernel_size=(3, 3), stride=(1, 1), padding=(1, 1))\n",
            "        )\n",
            "        (17): Sequential(\n",
            "          243.63 k, 2.181% Params, 977.89 KMac, 0.490% MACs, \n",
            "          (0): BatchNorm2d(1.68 k, 0.015% Params, 6.72 KMac, 0.003% MACs, 840, eps=1e-05, momentum=0.1, affine=True, track_running_stats=True)\n",
            "          (1): ReLU(0, 0.000% Params, 3.36 KMac, 0.002% MACs, )\n",
            "          (2): Conv2d(241.95 k, 2.166% Params, 967.81 KMac, 0.485% MACs, 840, 32, kernel_size=(3, 3), stride=(1, 1), padding=(1, 1))\n",
            "        )\n",
            "      )\n",
            "    )\n",
            "    (7): Sequential(\n",
            "      382.37 k, 3.422% Params, 1.53 MMac, 0.770% MACs, \n",
            "      (0): BatchNorm2d(1.74 k, 0.016% Params, 6.98 KMac, 0.003% MACs, 872, eps=1e-05, momentum=0.1, affine=True, track_running_stats=True)\n",
            "      (1): ReLU(0, 0.000% Params, 3.49 KMac, 0.002% MACs, )\n",
            "      (2): Conv2d(380.63 k, 3.407% Params, 1.52 MMac, 0.763% MACs, 872, 436, kernel_size=(1, 1), stride=(1, 1))\n",
            "      (3): AvgPool2d(0, 0.000% Params, 1.74 KMac, 0.001% MACs, kernel_size=2, stride=2, padding=0)\n",
            "    )\n",
            "    (8): DenseBlock(\n",
            "      4.6 M, 41.214% Params, 4.62 MMac, 2.317% MACs, \n",
            "      (net): Sequential(\n",
            "        4.6 M, 41.214% Params, 4.62 MMac, 2.317% MACs, \n",
            "        (0): Sequential(\n",
            "          126.47 k, 1.132% Params, 126.91 KMac, 0.064% MACs, \n",
            "          (0): BatchNorm2d(872, 0.008% Params, 872.0 Mac, 0.000% MACs, 436, eps=1e-05, momentum=0.1, affine=True, track_running_stats=True)\n",
            "          (1): ReLU(0, 0.000% Params, 436.0 Mac, 0.000% MACs, )\n",
            "          (2): Conv2d(125.6 k, 1.124% Params, 125.6 KMac, 0.063% MACs, 436, 32, kernel_size=(3, 3), stride=(1, 1), padding=(1, 1))\n",
            "        )\n",
            "        (1): Sequential(\n",
            "          135.75 k, 1.215% Params, 136.22 KMac, 0.068% MACs, \n",
            "          (0): BatchNorm2d(936, 0.008% Params, 936.0 Mac, 0.000% MACs, 468, eps=1e-05, momentum=0.1, affine=True, track_running_stats=True)\n",
            "          (1): ReLU(0, 0.000% Params, 468.0 Mac, 0.000% MACs, )\n",
            "          (2): Conv2d(134.82 k, 1.207% Params, 134.82 KMac, 0.068% MACs, 468, 32, kernel_size=(3, 3), stride=(1, 1), padding=(1, 1))\n",
            "        )\n",
            "        (2): Sequential(\n",
            "          145.03 k, 1.298% Params, 145.53 KMac, 0.073% MACs, \n",
            "          (0): BatchNorm2d(1.0 k, 0.009% Params, 1.0 KMac, 0.001% MACs, 500, eps=1e-05, momentum=0.1, affine=True, track_running_stats=True)\n",
            "          (1): ReLU(0, 0.000% Params, 500.0 Mac, 0.000% MACs, )\n",
            "          (2): Conv2d(144.03 k, 1.289% Params, 144.03 KMac, 0.072% MACs, 500, 32, kernel_size=(3, 3), stride=(1, 1), padding=(1, 1))\n",
            "        )\n",
            "        (3): Sequential(\n",
            "          154.31 k, 1.381% Params, 154.84 KMac, 0.078% MACs, \n",
            "          (0): BatchNorm2d(1.06 k, 0.010% Params, 1.06 KMac, 0.001% MACs, 532, eps=1e-05, momentum=0.1, affine=True, track_running_stats=True)\n",
            "          (1): ReLU(0, 0.000% Params, 532.0 Mac, 0.000% MACs, )\n",
            "          (2): Conv2d(153.25 k, 1.372% Params, 153.25 KMac, 0.077% MACs, 532, 32, kernel_size=(3, 3), stride=(1, 1), padding=(1, 1))\n",
            "        )\n",
            "        (4): Sequential(\n",
            "          163.59 k, 1.464% Params, 164.16 KMac, 0.082% MACs, \n",
            "          (0): BatchNorm2d(1.13 k, 0.010% Params, 1.13 KMac, 0.001% MACs, 564, eps=1e-05, momentum=0.1, affine=True, track_running_stats=True)\n",
            "          (1): ReLU(0, 0.000% Params, 564.0 Mac, 0.000% MACs, )\n",
            "          (2): Conv2d(162.46 k, 1.454% Params, 162.46 KMac, 0.081% MACs, 564, 32, kernel_size=(3, 3), stride=(1, 1), padding=(1, 1))\n",
            "        )\n",
            "        (5): Sequential(\n",
            "          172.87 k, 1.547% Params, 173.47 KMac, 0.087% MACs, \n",
            "          (0): BatchNorm2d(1.19 k, 0.011% Params, 1.19 KMac, 0.001% MACs, 596, eps=1e-05, momentum=0.1, affine=True, track_running_stats=True)\n",
            "          (1): ReLU(0, 0.000% Params, 596.0 Mac, 0.000% MACs, )\n",
            "          (2): Conv2d(171.68 k, 1.537% Params, 171.68 KMac, 0.086% MACs, 596, 32, kernel_size=(3, 3), stride=(1, 1), padding=(1, 1))\n",
            "        )\n",
            "        (6): Sequential(\n",
            "          182.15 k, 1.630% Params, 182.78 KMac, 0.092% MACs, \n",
            "          (0): BatchNorm2d(1.26 k, 0.011% Params, 1.26 KMac, 0.001% MACs, 628, eps=1e-05, momentum=0.1, affine=True, track_running_stats=True)\n",
            "          (1): ReLU(0, 0.000% Params, 628.0 Mac, 0.000% MACs, )\n",
            "          (2): Conv2d(180.9 k, 1.619% Params, 180.9 KMac, 0.091% MACs, 628, 32, kernel_size=(3, 3), stride=(1, 1), padding=(1, 1))\n",
            "        )\n",
            "        (7): Sequential(\n",
            "          191.43 k, 1.713% Params, 192.09 KMac, 0.096% MACs, \n",
            "          (0): BatchNorm2d(1.32 k, 0.012% Params, 1.32 KMac, 0.001% MACs, 660, eps=1e-05, momentum=0.1, affine=True, track_running_stats=True)\n",
            "          (1): ReLU(0, 0.000% Params, 660.0 Mac, 0.000% MACs, )\n",
            "          (2): Conv2d(190.11 k, 1.702% Params, 190.11 KMac, 0.095% MACs, 660, 32, kernel_size=(3, 3), stride=(1, 1), padding=(1, 1))\n",
            "        )\n",
            "        (8): Sequential(\n",
            "          200.71 k, 1.796% Params, 201.4 KMac, 0.101% MACs, \n",
            "          (0): BatchNorm2d(1.38 k, 0.012% Params, 1.38 KMac, 0.001% MACs, 692, eps=1e-05, momentum=0.1, affine=True, track_running_stats=True)\n",
            "          (1): ReLU(0, 0.000% Params, 692.0 Mac, 0.000% MACs, )\n",
            "          (2): Conv2d(199.33 k, 1.784% Params, 199.33 KMac, 0.100% MACs, 692, 32, kernel_size=(3, 3), stride=(1, 1), padding=(1, 1))\n",
            "        )\n",
            "        (9): Sequential(\n",
            "          209.99 k, 1.880% Params, 210.72 KMac, 0.106% MACs, \n",
            "          (0): BatchNorm2d(1.45 k, 0.013% Params, 1.45 KMac, 0.001% MACs, 724, eps=1e-05, momentum=0.1, affine=True, track_running_stats=True)\n",
            "          (1): ReLU(0, 0.000% Params, 724.0 Mac, 0.000% MACs, )\n",
            "          (2): Conv2d(208.54 k, 1.867% Params, 208.54 KMac, 0.105% MACs, 724, 32, kernel_size=(3, 3), stride=(1, 1), padding=(1, 1))\n",
            "        )\n",
            "        (10): Sequential(\n",
            "          219.27 k, 1.963% Params, 220.03 KMac, 0.110% MACs, \n",
            "          (0): BatchNorm2d(1.51 k, 0.014% Params, 1.51 KMac, 0.001% MACs, 756, eps=1e-05, momentum=0.1, affine=True, track_running_stats=True)\n",
            "          (1): ReLU(0, 0.000% Params, 756.0 Mac, 0.000% MACs, )\n",
            "          (2): Conv2d(217.76 k, 1.949% Params, 217.76 KMac, 0.109% MACs, 756, 32, kernel_size=(3, 3), stride=(1, 1), padding=(1, 1))\n",
            "        )\n",
            "        (11): Sequential(\n",
            "          228.55 k, 2.046% Params, 229.34 KMac, 0.115% MACs, \n",
            "          (0): BatchNorm2d(1.58 k, 0.014% Params, 1.58 KMac, 0.001% MACs, 788, eps=1e-05, momentum=0.1, affine=True, track_running_stats=True)\n",
            "          (1): ReLU(0, 0.000% Params, 788.0 Mac, 0.000% MACs, )\n",
            "          (2): Conv2d(226.98 k, 2.032% Params, 226.98 KMac, 0.114% MACs, 788, 32, kernel_size=(3, 3), stride=(1, 1), padding=(1, 1))\n",
            "        )\n",
            "        (12): Sequential(\n",
            "          237.83 k, 2.129% Params, 238.65 KMac, 0.120% MACs, \n",
            "          (0): BatchNorm2d(1.64 k, 0.015% Params, 1.64 KMac, 0.001% MACs, 820, eps=1e-05, momentum=0.1, affine=True, track_running_stats=True)\n",
            "          (1): ReLU(0, 0.000% Params, 820.0 Mac, 0.000% MACs, )\n",
            "          (2): Conv2d(236.19 k, 2.114% Params, 236.19 KMac, 0.118% MACs, 820, 32, kernel_size=(3, 3), stride=(1, 1), padding=(1, 1))\n",
            "        )\n",
            "        (13): Sequential(\n",
            "          247.11 k, 2.212% Params, 247.96 KMac, 0.124% MACs, \n",
            "          (0): BatchNorm2d(1.7 k, 0.015% Params, 1.7 KMac, 0.001% MACs, 852, eps=1e-05, momentum=0.1, affine=True, track_running_stats=True)\n",
            "          (1): ReLU(0, 0.000% Params, 852.0 Mac, 0.000% MACs, )\n",
            "          (2): Conv2d(245.41 k, 2.196% Params, 245.41 KMac, 0.123% MACs, 852, 32, kernel_size=(3, 3), stride=(1, 1), padding=(1, 1))\n",
            "        )\n",
            "        (14): Sequential(\n",
            "          256.39 k, 2.295% Params, 257.28 KMac, 0.129% MACs, \n",
            "          (0): BatchNorm2d(1.77 k, 0.016% Params, 1.77 KMac, 0.001% MACs, 884, eps=1e-05, momentum=0.1, affine=True, track_running_stats=True)\n",
            "          (1): ReLU(0, 0.000% Params, 884.0 Mac, 0.000% MACs, )\n",
            "          (2): Conv2d(254.62 k, 2.279% Params, 254.62 KMac, 0.128% MACs, 884, 32, kernel_size=(3, 3), stride=(1, 1), padding=(1, 1))\n",
            "        )\n",
            "        (15): Sequential(\n",
            "          265.67 k, 2.378% Params, 266.59 KMac, 0.134% MACs, \n",
            "          (0): BatchNorm2d(1.83 k, 0.016% Params, 1.83 KMac, 0.001% MACs, 916, eps=1e-05, momentum=0.1, affine=True, track_running_stats=True)\n",
            "          (1): ReLU(0, 0.000% Params, 916.0 Mac, 0.000% MACs, )\n",
            "          (2): Conv2d(263.84 k, 2.361% Params, 263.84 KMac, 0.132% MACs, 916, 32, kernel_size=(3, 3), stride=(1, 1), padding=(1, 1))\n",
            "        )\n",
            "        (16): Sequential(\n",
            "          274.95 k, 2.461% Params, 275.9 KMac, 0.138% MACs, \n",
            "          (0): BatchNorm2d(1.9 k, 0.017% Params, 1.9 KMac, 0.001% MACs, 948, eps=1e-05, momentum=0.1, affine=True, track_running_stats=True)\n",
            "          (1): ReLU(0, 0.000% Params, 948.0 Mac, 0.000% MACs, )\n",
            "          (2): Conv2d(273.06 k, 2.444% Params, 273.06 KMac, 0.137% MACs, 948, 32, kernel_size=(3, 3), stride=(1, 1), padding=(1, 1))\n",
            "        )\n",
            "        (17): Sequential(\n",
            "          284.23 k, 2.544% Params, 285.21 KMac, 0.143% MACs, \n",
            "          (0): BatchNorm2d(1.96 k, 0.018% Params, 1.96 KMac, 0.001% MACs, 980, eps=1e-05, momentum=0.1, affine=True, track_running_stats=True)\n",
            "          (1): ReLU(0, 0.000% Params, 980.0 Mac, 0.000% MACs, )\n",
            "          (2): Conv2d(282.27 k, 2.526% Params, 282.27 KMac, 0.142% MACs, 980, 32, kernel_size=(3, 3), stride=(1, 1), padding=(1, 1))\n",
            "        )\n",
            "        (18): Sequential(\n",
            "          293.51 k, 2.627% Params, 294.52 KMac, 0.148% MACs, \n",
            "          (0): BatchNorm2d(2.02 k, 0.018% Params, 2.02 KMac, 0.001% MACs, 1012, eps=1e-05, momentum=0.1, affine=True, track_running_stats=True)\n",
            "          (1): ReLU(0, 0.000% Params, 1.01 KMac, 0.001% MACs, )\n",
            "          (2): Conv2d(291.49 k, 2.609% Params, 291.49 KMac, 0.146% MACs, 1012, 32, kernel_size=(3, 3), stride=(1, 1), padding=(1, 1))\n",
            "        )\n",
            "        (19): Sequential(\n",
            "          302.79 k, 2.710% Params, 303.84 KMac, 0.152% MACs, \n",
            "          (0): BatchNorm2d(2.09 k, 0.019% Params, 2.09 KMac, 0.001% MACs, 1044, eps=1e-05, momentum=0.1, affine=True, track_running_stats=True)\n",
            "          (1): ReLU(0, 0.000% Params, 1.04 KMac, 0.001% MACs, )\n",
            "          (2): Conv2d(300.7 k, 2.691% Params, 300.7 KMac, 0.151% MACs, 1044, 32, kernel_size=(3, 3), stride=(1, 1), padding=(1, 1))\n",
            "        )\n",
            "        (20): Sequential(\n",
            "          312.07 k, 2.793% Params, 313.15 KMac, 0.157% MACs, \n",
            "          (0): BatchNorm2d(2.15 k, 0.019% Params, 2.15 KMac, 0.001% MACs, 1076, eps=1e-05, momentum=0.1, affine=True, track_running_stats=True)\n",
            "          (1): ReLU(0, 0.000% Params, 1.08 KMac, 0.001% MACs, )\n",
            "          (2): Conv2d(309.92 k, 2.774% Params, 309.92 KMac, 0.155% MACs, 1076, 32, kernel_size=(3, 3), stride=(1, 1), padding=(1, 1))\n",
            "        )\n",
            "      )\n",
            "    )\n",
            "  )\n",
            "  (2): Sequential(\n",
            "    11.09 k, 0.099% Params, 12.2 KMac, 0.006% MACs, \n",
            "    (0): AdaptiveAvgPool2d(0, 0.000% Params, 1.11 KMac, 0.001% MACs, output_size=(1, 1))\n",
            "    (1): Flatten(0, 0.000% Params, 0.0 Mac, 0.000% MACs, start_dim=1, end_dim=-1)\n",
            "    (2): Linear(11.09 k, 0.099% Params, 11.09 KMac, 0.006% MACs, in_features=1108, out_features=10, bias=True)\n",
            "  )\n",
            ")\n",
            "Computational complexity:  199.44 MMac\n",
            "Number of parameters:  11.17 M\n"
          ]
        }
      ]
    },
    {
      "cell_type": "code",
      "source": [],
      "metadata": {
        "id": "SFUjKdWo7fT3"
      },
      "execution_count": null,
      "outputs": []
    }
  ]
}